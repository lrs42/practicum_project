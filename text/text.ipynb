{
 "cells": [
  {
   "cell_type": "markdown",
   "metadata": {
    "toc": true
   },
   "source": [
    "<h1>Содержание<span class=\"tocSkip\"></span></h1>\n",
    "<div class=\"toc\"><ul class=\"toc-item\"><li><span><a href=\"#Подготовка\" data-toc-modified-id=\"Подготовка-1\"><span class=\"toc-item-num\">1&nbsp;&nbsp;</span>Подготовка</a></span></li><li><span><a href=\"#Обучение\" data-toc-modified-id=\"Обучение-2\"><span class=\"toc-item-num\">2&nbsp;&nbsp;</span>Обучение</a></span><ul class=\"toc-item\"><li><span><a href=\"#Логистическая-регрессия\" data-toc-modified-id=\"Логистическая-регрессия-2.1\"><span class=\"toc-item-num\">2.1&nbsp;&nbsp;</span>Логистическая регрессия</a></span></li><li><span><a href=\"#Дерево-решений\" data-toc-modified-id=\"Дерево-решений-2.2\"><span class=\"toc-item-num\">2.2&nbsp;&nbsp;</span>Дерево решений</a></span></li><li><span><a href=\"#Случайный-лес\" data-toc-modified-id=\"Случайный-лес-2.3\"><span class=\"toc-item-num\">2.3&nbsp;&nbsp;</span>Случайный лес</a></span></li></ul></li><li><span><a href=\"#Тестирование-модели\" data-toc-modified-id=\"Тестирование-модели-3\"><span class=\"toc-item-num\">3&nbsp;&nbsp;</span>Тестирование модели</a></span></li><li><span><a href=\"#Выводы\" data-toc-modified-id=\"Выводы-4\"><span class=\"toc-item-num\">4&nbsp;&nbsp;</span>Выводы</a></span></li><li><span><a href=\"#Чек-лист-проверки\" data-toc-modified-id=\"Чек-лист-проверки-5\"><span class=\"toc-item-num\">5&nbsp;&nbsp;</span>Чек-лист проверки</a></span></li></ul></div>"
   ]
  },
  {
   "cell_type": "markdown",
   "metadata": {},
   "source": [
    "# Проект для «Викишоп»"
   ]
  },
  {
   "cell_type": "markdown",
   "metadata": {},
   "source": [
    "Интернет-магазин «Викишоп» запускает новый сервис. Теперь пользователи могут редактировать и дополнять описания товаров, как в вики-сообществах. То есть клиенты предлагают свои правки и комментируют изменения других. Магазину нужен инструмент, который будет искать токсичные комментарии и отправлять их на модерацию. \n",
    "\n",
    "Необходимо обучить модель классифицировать комментарии на позитивные и негативные. В нашем распоряжении набор данных с разметкой о токсичности правок.\n",
    "\n",
    "Надо построить модель со значением метрики качества *F1* не меньше 0.75. \n",
    "\n",
    "План работы:\n",
    "\n",
    "1. Загрузим и подготовим данные:\n",
    " - лемматизация текста \n",
    " - очистка текста\n",
    " - разобьем данные на обучающую , валидационную и  тестовую выборки.\n",
    "2. Обучим разные модели:\n",
    " - логистическая регрессия\n",
    " - дерево решений\n",
    " - случайный лес\n",
    "3. Выводы\n",
    "\n",
    "\n",
    "Данные находятся в файле `toxic_comments.csv`. Столбец *text* в нём содержит текст комментария, а *toxic* — целевой признак."
   ]
  },
  {
   "cell_type": "markdown",
   "metadata": {},
   "source": [
    "## Подготовка"
   ]
  },
  {
   "cell_type": "code",
   "execution_count": 1,
   "metadata": {},
   "outputs": [],
   "source": [
    "# загрузка библиотек\n",
    "\n",
    "import pandas as pd\n",
    "import numpy as np\n",
    "import nltk\n",
    "import re \n",
    "\n",
    "from nltk.tokenize import word_tokenize\n",
    "from nltk.corpus import stopwords as nltk_stopwords\n",
    "from nltk.stem import WordNetLemmatizer\n",
    "from nltk.featstruct import Feature\n",
    "from nltk.corpus.reader.reviews import FEATURES\n",
    "from nltk.corpus import wordnet\n",
    "from nltk.tag import pos_tag\n",
    "\n",
    "from sklearn.feature_extraction.text import TfidfVectorizer\n",
    "from sklearn.linear_model import LogisticRegression\n",
    "from sklearn.tree import DecisionTreeClassifier\n",
    "from sklearn.ensemble import RandomForestClassifier\n",
    "from sklearn.model_selection import train_test_split, GridSearchCV, cross_val_score\n",
    "from sklearn.metrics import f1_score"
   ]
  },
  {
   "cell_type": "code",
   "execution_count": 2,
   "metadata": {
    "scrolled": false
   },
   "outputs": [
    {
     "data": {
      "text/html": [
       "<div>\n",
       "<style scoped>\n",
       "    .dataframe tbody tr th:only-of-type {\n",
       "        vertical-align: middle;\n",
       "    }\n",
       "\n",
       "    .dataframe tbody tr th {\n",
       "        vertical-align: top;\n",
       "    }\n",
       "\n",
       "    .dataframe thead th {\n",
       "        text-align: right;\n",
       "    }\n",
       "</style>\n",
       "<table border=\"1\" class=\"dataframe\">\n",
       "  <thead>\n",
       "    <tr style=\"text-align: right;\">\n",
       "      <th></th>\n",
       "      <th>text</th>\n",
       "      <th>toxic</th>\n",
       "    </tr>\n",
       "  </thead>\n",
       "  <tbody>\n",
       "    <tr>\n",
       "      <th>0</th>\n",
       "      <td>Explanation\\nWhy the edits made under my usern...</td>\n",
       "      <td>0</td>\n",
       "    </tr>\n",
       "    <tr>\n",
       "      <th>1</th>\n",
       "      <td>D'aww! He matches this background colour I'm s...</td>\n",
       "      <td>0</td>\n",
       "    </tr>\n",
       "    <tr>\n",
       "      <th>2</th>\n",
       "      <td>Hey man, I'm really not trying to edit war. It...</td>\n",
       "      <td>0</td>\n",
       "    </tr>\n",
       "    <tr>\n",
       "      <th>3</th>\n",
       "      <td>\"\\nMore\\nI can't make any real suggestions on ...</td>\n",
       "      <td>0</td>\n",
       "    </tr>\n",
       "    <tr>\n",
       "      <th>4</th>\n",
       "      <td>You, sir, are my hero. Any chance you remember...</td>\n",
       "      <td>0</td>\n",
       "    </tr>\n",
       "  </tbody>\n",
       "</table>\n",
       "</div>"
      ],
      "text/plain": [
       "                                                text  toxic\n",
       "0  Explanation\\nWhy the edits made under my usern...      0\n",
       "1  D'aww! He matches this background colour I'm s...      0\n",
       "2  Hey man, I'm really not trying to edit war. It...      0\n",
       "3  \"\\nMore\\nI can't make any real suggestions on ...      0\n",
       "4  You, sir, are my hero. Any chance you remember...      0"
      ]
     },
     "metadata": {},
     "output_type": "display_data"
    },
    {
     "name": "stdout",
     "output_type": "stream",
     "text": [
      "<class 'pandas.core.frame.DataFrame'>\n",
      "RangeIndex: 159571 entries, 0 to 159570\n",
      "Data columns (total 2 columns):\n",
      " #   Column  Non-Null Count   Dtype \n",
      "---  ------  --------------   ----- \n",
      " 0   text    159571 non-null  object\n",
      " 1   toxic   159571 non-null  int64 \n",
      "dtypes: int64(1), object(1)\n",
      "memory usage: 2.4+ MB\n"
     ]
    },
    {
     "data": {
      "text/plain": [
       "None"
      ]
     },
     "metadata": {},
     "output_type": "display_data"
    }
   ],
   "source": [
    "# загрузка данных\n",
    "data = pd.read_csv('/datasets/toxic_comments.csv')\n",
    "data.duplicated().sum()\n",
    "display(data.head())\n",
    "display(data.info())"
   ]
  },
  {
   "cell_type": "code",
   "execution_count": 4,
   "metadata": {
    "scrolled": true
   },
   "outputs": [
    {
     "name": "stderr",
     "output_type": "stream",
     "text": [
      "[nltk_data] Downloading package wordnet to /home/jovyan/nltk_data...\n",
      "[nltk_data]   Package wordnet is already up-to-date!\n",
      "[nltk_data] Downloading package averaged_perceptron_tagger to\n",
      "[nltk_data]     /home/jovyan/nltk_data...\n",
      "[nltk_data]   Package averaged_perceptron_tagger is already up-to-\n",
      "[nltk_data]       date!\n"
     ]
    }
   ],
   "source": [
    "nltk.download('wordnet')\n",
    "nltk.download('averaged_perceptron_tagger')\n",
    "corpus = list(data['text'])\n",
    "\n",
    "# функция для лемматизации текста\n",
    "\n",
    "def get_wordnet_pos(word):\n",
    "\n",
    "    tag = nltk.pos_tag([word])[0][1][0].upper()\n",
    "    tag_dict = {\"J\": wordnet.ADJ,\n",
    "                \"N\": wordnet.NOUN,\n",
    "                \"V\": wordnet.VERB,\n",
    "                \"R\": wordnet.ADV}\n",
    "    \n",
    "    return tag_dict.get(tag, wordnet.NOUN)\n",
    "\n",
    "def lemmatize(text):\n",
    "    \n",
    "    m = WordNetLemmatizer()\n",
    "    lemm_list = nltk.word_tokenize(text)\n",
    "    lemm_list = [m.lemmatize(word, get_wordnet_pos(word)) for word in lemm_list]\n",
    "    lemm_text = \" \".join(lemm_list)\n",
    "        \n",
    "    return lemm_text\n",
    "\n",
    "# функция для очистки текста\n",
    "\n",
    "def clear_text(text):\n",
    "    text = text.lower()\n",
    "    clear_list = re.sub(r'[^a-zA-Z ]', ' ', text) \n",
    "    clear_text = clear_list.split()\n",
    "    clear_text = \" \".join(clear_text)\n",
    "    \n",
    "    return clear_text\n",
    "\n"
   ]
  },
  {
   "cell_type": "code",
   "execution_count": 5,
   "metadata": {
    "scrolled": true
   },
   "outputs": [
    {
     "data": {
      "text/plain": [
       "array(['explanation why the edits make under my username hardcore metallica fan be revert they weren t vandalism just closure on some gas after i vote at new york doll fac and please don t remove the template from the talk page since i m retire now',\n",
       "       'd aww he match this background colour i m seemingly stuck with thanks talk january utc'],\n",
       "      dtype=object)"
      ]
     },
     "execution_count": 5,
     "metadata": {},
     "output_type": "execute_result"
    }
   ],
   "source": [
    "text_lemm = data['text'].apply(lambda x: lemmatize(clear_text(x))).values\n",
    "\n",
    "text_lemm[:2]"
   ]
  },
  {
   "cell_type": "code",
   "execution_count": 6,
   "metadata": {},
   "outputs": [
    {
     "data": {
      "text/html": [
       "<div>\n",
       "<style scoped>\n",
       "    .dataframe tbody tr th:only-of-type {\n",
       "        vertical-align: middle;\n",
       "    }\n",
       "\n",
       "    .dataframe tbody tr th {\n",
       "        vertical-align: top;\n",
       "    }\n",
       "\n",
       "    .dataframe thead th {\n",
       "        text-align: right;\n",
       "    }\n",
       "</style>\n",
       "<table border=\"1\" class=\"dataframe\">\n",
       "  <thead>\n",
       "    <tr style=\"text-align: right;\">\n",
       "      <th></th>\n",
       "      <th>text</th>\n",
       "      <th>toxic</th>\n",
       "      <th>text_lemm</th>\n",
       "    </tr>\n",
       "  </thead>\n",
       "  <tbody>\n",
       "    <tr>\n",
       "      <th>0</th>\n",
       "      <td>Explanation\\nWhy the edits made under my usern...</td>\n",
       "      <td>0</td>\n",
       "      <td>explanation why the edits make under my userna...</td>\n",
       "    </tr>\n",
       "    <tr>\n",
       "      <th>1</th>\n",
       "      <td>D'aww! He matches this background colour I'm s...</td>\n",
       "      <td>0</td>\n",
       "      <td>d aww he match this background colour i m seem...</td>\n",
       "    </tr>\n",
       "    <tr>\n",
       "      <th>2</th>\n",
       "      <td>Hey man, I'm really not trying to edit war. It...</td>\n",
       "      <td>0</td>\n",
       "      <td>hey man i m really not try to edit war it s ju...</td>\n",
       "    </tr>\n",
       "    <tr>\n",
       "      <th>3</th>\n",
       "      <td>\"\\nMore\\nI can't make any real suggestions on ...</td>\n",
       "      <td>0</td>\n",
       "      <td>more i can t make any real suggestion on impro...</td>\n",
       "    </tr>\n",
       "    <tr>\n",
       "      <th>4</th>\n",
       "      <td>You, sir, are my hero. Any chance you remember...</td>\n",
       "      <td>0</td>\n",
       "      <td>you sir be my hero any chance you remember wha...</td>\n",
       "    </tr>\n",
       "  </tbody>\n",
       "</table>\n",
       "</div>"
      ],
      "text/plain": [
       "                                                text  toxic  \\\n",
       "0  Explanation\\nWhy the edits made under my usern...      0   \n",
       "1  D'aww! He matches this background colour I'm s...      0   \n",
       "2  Hey man, I'm really not trying to edit war. It...      0   \n",
       "3  \"\\nMore\\nI can't make any real suggestions on ...      0   \n",
       "4  You, sir, are my hero. Any chance you remember...      0   \n",
       "\n",
       "                                           text_lemm  \n",
       "0  explanation why the edits make under my userna...  \n",
       "1  d aww he match this background colour i m seem...  \n",
       "2  hey man i m really not try to edit war it s ju...  \n",
       "3  more i can t make any real suggestion on impro...  \n",
       "4  you sir be my hero any chance you remember wha...  "
      ]
     },
     "execution_count": 6,
     "metadata": {},
     "output_type": "execute_result"
    }
   ],
   "source": [
    "data['text_lemm'] = text_lemm\n",
    "data.head()"
   ]
  },
  {
   "cell_type": "code",
   "execution_count": 7,
   "metadata": {},
   "outputs": [
    {
     "name": "stderr",
     "output_type": "stream",
     "text": [
      "[nltk_data] Downloading package stopwords to /home/jovyan/nltk_data...\n",
      "[nltk_data]   Package stopwords is already up-to-date!\n"
     ]
    }
   ],
   "source": [
    "# загрузка множества стоп-слов английского языка\n",
    "nltk.download('stopwords')\n",
    "stopwords = set(nltk_stopwords.words('english'))"
   ]
  },
  {
   "cell_type": "code",
   "execution_count": 8,
   "metadata": {},
   "outputs": [
    {
     "data": {
      "text/plain": [
       "0    143346\n",
       "1     16225\n",
       "Name: toxic, dtype: int64"
      ]
     },
     "execution_count": 8,
     "metadata": {},
     "output_type": "execute_result"
    }
   ],
   "source": [
    "data['toxic'].value_counts()"
   ]
  },
  {
   "cell_type": "markdown",
   "metadata": {},
   "source": [
    "## Обучение"
   ]
  },
  {
   "cell_type": "code",
   "execution_count": 9,
   "metadata": {
    "scrolled": true
   },
   "outputs": [
    {
     "name": "stdout",
     "output_type": "stream",
     "text": [
      "(95742, 3)\n",
      "(31914, 3)\n",
      "(31915, 3)\n"
     ]
    }
   ],
   "source": [
    "# разделим данные на обучающую, валидационную и тестовую выборки\n",
    "\n",
    "train, test = train_test_split(data, test_size=0.2, random_state=12345)\n",
    "train, valid = train_test_split(train, test_size=0.25, random_state=12345)\n",
    "\n",
    "print(train.shape)\n",
    "print(valid.shape)\n",
    "print(test.shape)"
   ]
  },
  {
   "cell_type": "code",
   "execution_count": 10,
   "metadata": {},
   "outputs": [
    {
     "data": {
      "text/html": [
       "<div>\n",
       "<style scoped>\n",
       "    .dataframe tbody tr th:only-of-type {\n",
       "        vertical-align: middle;\n",
       "    }\n",
       "\n",
       "    .dataframe tbody tr th {\n",
       "        vertical-align: top;\n",
       "    }\n",
       "\n",
       "    .dataframe thead th {\n",
       "        text-align: right;\n",
       "    }\n",
       "</style>\n",
       "<table border=\"1\" class=\"dataframe\">\n",
       "  <thead>\n",
       "    <tr style=\"text-align: right;\">\n",
       "      <th></th>\n",
       "      <th>text</th>\n",
       "      <th>toxic</th>\n",
       "      <th>text_lemm</th>\n",
       "    </tr>\n",
       "  </thead>\n",
       "  <tbody>\n",
       "    <tr>\n",
       "      <th>3180</th>\n",
       "      <td>This person needs reporting to the Administrat...</td>\n",
       "      <td>0</td>\n",
       "      <td>this person need reporting to the administrato...</td>\n",
       "    </tr>\n",
       "    <tr>\n",
       "      <th>134113</th>\n",
       "      <td>Issues addressed \\n\\nI'm just going to outline...</td>\n",
       "      <td>0</td>\n",
       "      <td>issue address i m just go to outline the issue...</td>\n",
       "    </tr>\n",
       "    <tr>\n",
       "      <th>54472</th>\n",
       "      <td>Red Pepper Cases \\n\\nRed Pepper Cases\\n\\nRed P...</td>\n",
       "      <td>0</td>\n",
       "      <td>red pepper case red pepper case red pepper wat...</td>\n",
       "    </tr>\n",
       "    <tr>\n",
       "      <th>29333</th>\n",
       "      <td>Alpha-Bits are back in 2008, They are being so...</td>\n",
       "      <td>0</td>\n",
       "      <td>alpha bit be back in they be be sell a of july...</td>\n",
       "    </tr>\n",
       "    <tr>\n",
       "      <th>13869</th>\n",
       "      <td>YOU DUMB ASS!!\\nWhy the fuck would you delete ...</td>\n",
       "      <td>1</td>\n",
       "      <td>you dumb as why the fuck would you delete the ...</td>\n",
       "    </tr>\n",
       "  </tbody>\n",
       "</table>\n",
       "</div>"
      ],
      "text/plain": [
       "                                                     text  toxic  \\\n",
       "3180    This person needs reporting to the Administrat...      0   \n",
       "134113  Issues addressed \\n\\nI'm just going to outline...      0   \n",
       "54472   Red Pepper Cases \\n\\nRed Pepper Cases\\n\\nRed P...      0   \n",
       "29333   Alpha-Bits are back in 2008, They are being so...      0   \n",
       "13869   YOU DUMB ASS!!\\nWhy the fuck would you delete ...      1   \n",
       "\n",
       "                                                text_lemm  \n",
       "3180    this person need reporting to the administrato...  \n",
       "134113  issue address i m just go to outline the issue...  \n",
       "54472   red pepper case red pepper case red pepper wat...  \n",
       "29333   alpha bit be back in they be be sell a of july...  \n",
       "13869   you dumb as why the fuck would you delete the ...  "
      ]
     },
     "execution_count": 10,
     "metadata": {},
     "output_type": "execute_result"
    }
   ],
   "source": [
    "train.head()"
   ]
  },
  {
   "cell_type": "markdown",
   "metadata": {},
   "source": [
    "Создадим матрицу признаков для обучающей выборки cо значениями TF-IDF."
   ]
  },
  {
   "cell_type": "code",
   "execution_count": 11,
   "metadata": {
    "scrolled": true
   },
   "outputs": [],
   "source": [
    "corpus_train = list(train['text_lemm'])\n",
    "\n",
    "count_tf_idf = TfidfVectorizer(ngram_range=(1,2), stop_words=stopwords) \n",
    "tf_idf = count_tf_idf.fit_transform(corpus_train) \n",
    "\n",
    "target_train  = train['toxic']\n",
    "features_train = tf_idf"
   ]
  },
  {
   "cell_type": "code",
   "execution_count": 12,
   "metadata": {},
   "outputs": [
    {
     "data": {
      "text/plain": [
       "0    86075\n",
       "1     9667\n",
       "Name: toxic, dtype: int64"
      ]
     },
     "execution_count": 12,
     "metadata": {},
     "output_type": "execute_result"
    }
   ],
   "source": [
    "target_train.value_counts()"
   ]
  },
  {
   "cell_type": "markdown",
   "metadata": {},
   "source": [
    "В нашей задаче наблюдается сильный дисбаланс классов (9:1), что плохо сказывается на обучении модели. Классы не сбалансированны, когда их соотношение далеко от 1:1. Баланс классов наблюдается, если их количество примерно равно. Сбалансируем веса установив class_weight='balanced'.\n",
    "Оценим качество моделей метрикой F1. \n",
    "F1 = 1  означает, что соотношение полноты и точности равно 1:1. "
   ]
  },
  {
   "cell_type": "markdown",
   "metadata": {},
   "source": [
    "### Логистическая регрессия"
   ]
  },
  {
   "cell_type": "code",
   "execution_count": 13,
   "metadata": {},
   "outputs": [],
   "source": [
    "model = LogisticRegression(random_state=12345, solver='liblinear', class_weight='balanced')\n",
    "model.fit(features_train, target_train)\n",
    "predicted = model.predict(features_train)\n"
   ]
  },
  {
   "cell_type": "code",
   "execution_count": 14,
   "metadata": {},
   "outputs": [],
   "source": [
    "corpus_valid = list(valid['text_lemm'])\n",
    "\n",
    "tf_idf_valid = count_tf_idf.transform(corpus_valid) \n",
    "features_valid = tf_idf_valid\n",
    "predicted_valid = model.predict(features_valid)\n",
    "target_valid = valid['toxic']"
   ]
  },
  {
   "cell_type": "code",
   "execution_count": 15,
   "metadata": {},
   "outputs": [
    {
     "data": {
      "text/plain": [
       "0.7478945938603642"
      ]
     },
     "execution_count": 15,
     "metadata": {},
     "output_type": "execute_result"
    }
   ],
   "source": [
    "# значение метрики F1\n",
    "f1 = f1_score(target_valid, predicted_valid)\n",
    "f1"
   ]
  },
  {
   "cell_type": "markdown",
   "metadata": {},
   "source": [
    "### Дерево решений"
   ]
  },
  {
   "cell_type": "code",
   "execution_count": 16,
   "metadata": {},
   "outputs": [],
   "source": [
    "model_tree = DecisionTreeClassifier(random_state=12345, class_weight='balanced')\n",
    "model_tree.fit(features_train, target_train)\n",
    "\n",
    "predicted_valid = model_tree.predict(features_valid)\n",
    "f1_tree = f1_score(target_valid, predicted_valid)\n"
   ]
  },
  {
   "cell_type": "code",
   "execution_count": 17,
   "metadata": {
    "scrolled": true
   },
   "outputs": [
    {
     "data": {
      "text/plain": [
       "0.6494464944649447"
      ]
     },
     "execution_count": 17,
     "metadata": {},
     "output_type": "execute_result"
    }
   ],
   "source": [
    "f1_tree"
   ]
  },
  {
   "cell_type": "markdown",
   "metadata": {},
   "source": [
    "### Случайный лес"
   ]
  },
  {
   "cell_type": "code",
   "execution_count": 18,
   "metadata": {},
   "outputs": [],
   "source": [
    "model_random = RandomForestClassifier(random_state=12345, class_weight='balanced')\n",
    "model_random.fit(features_train, target_train) \n",
    "predicted_valid = model_random.predict(features_valid)\n",
    "f1_random = f1_score(target_valid, predicted_valid)"
   ]
  },
  {
   "cell_type": "code",
   "execution_count": 19,
   "metadata": {},
   "outputs": [
    {
     "data": {
      "text/plain": [
       "0.5525075010715816"
      ]
     },
     "execution_count": 19,
     "metadata": {},
     "output_type": "execute_result"
    }
   ],
   "source": [
    "f1_random"
   ]
  },
  {
   "cell_type": "markdown",
   "metadata": {},
   "source": [
    "Представим полученные значения метрики F1 на разных моделях в виде таблицы"
   ]
  },
  {
   "cell_type": "code",
   "execution_count": 20,
   "metadata": {
    "scrolled": true
   },
   "outputs": [
    {
     "data": {
      "text/html": [
       "<div>\n",
       "<style scoped>\n",
       "    .dataframe tbody tr th:only-of-type {\n",
       "        vertical-align: middle;\n",
       "    }\n",
       "\n",
       "    .dataframe tbody tr th {\n",
       "        vertical-align: top;\n",
       "    }\n",
       "\n",
       "    .dataframe thead th {\n",
       "        text-align: right;\n",
       "    }\n",
       "</style>\n",
       "<table border=\"1\" class=\"dataframe\">\n",
       "  <thead>\n",
       "    <tr style=\"text-align: right;\">\n",
       "      <th></th>\n",
       "      <th>Модель</th>\n",
       "      <th>F1</th>\n",
       "    </tr>\n",
       "  </thead>\n",
       "  <tbody>\n",
       "    <tr>\n",
       "      <th>0</th>\n",
       "      <td>Решающее дерево</td>\n",
       "      <td>0.649446</td>\n",
       "    </tr>\n",
       "    <tr>\n",
       "      <th>1</th>\n",
       "      <td>Случайный лес</td>\n",
       "      <td>0.552508</td>\n",
       "    </tr>\n",
       "    <tr>\n",
       "      <th>2</th>\n",
       "      <td>Логистическая регрессия</td>\n",
       "      <td>0.747895</td>\n",
       "    </tr>\n",
       "  </tbody>\n",
       "</table>\n",
       "</div>"
      ],
      "text/plain": [
       "                    Модель       F1 \n",
       "0          Решающее дерево  0.649446\n",
       "1            Случайный лес  0.552508\n",
       "2  Логистическая регрессия  0.747895"
      ]
     },
     "execution_count": 20,
     "metadata": {},
     "output_type": "execute_result"
    }
   ],
   "source": [
    "table = {'Модель' : ['Решающее дерево', 'Случайный лес', 'Логистическая регрессия'], \n",
    "    'F1 ' : [f1_tree, f1_random, f1]\n",
    "        }\n",
    "        \n",
    "frame = pd.DataFrame(table)\n",
    "frame"
   ]
  },
  {
   "cell_type": "markdown",
   "metadata": {},
   "source": [
    "Лучший результат получили на модели логистичекой регрессии, подберем для неё гиперпараметры"
   ]
  },
  {
   "cell_type": "markdown",
   "metadata": {},
   "source": [
    "```parameters = {'C': np.linspace(10, 15),\n",
    "             'max_iter': [1000]}```\n",
    "\n",
    "```clf = GridSearchCV(model, parameters,\n",
    "                  cv=5,\n",
    "                  scoring='f1',\n",
    "                  n_jobs=-1,\n",
    "                  verbose=2)\n",
    "clf.fit(features_train, target_train)```\n",
    "\n",
    "```print(f\"Наилучший показатель f1 на кросс-валидации : {clf.best_score_:.3f}\")\n",
    "print(f\"Параметр регуляризации для лучшей модели: {clf.best_params_}\")```"
   ]
  },
  {
   "cell_type": "markdown",
   "metadata": {},
   "source": [
    "Наилучший показатель f1 на кросс-валидации : 0.761\n",
    "Параметр регуляризации для лучшей модели: {'C': 11.73469387755102, 'max_iter': 1000}"
   ]
  },
  {
   "cell_type": "markdown",
   "metadata": {},
   "source": [
    "Необходимое значние метрики получили на модели логистической регрессии F1 = 0.761 при следующих параметрах: {'C': 11.73469387755102, 'max_iter': 1000}"
   ]
  },
  {
   "cell_type": "markdown",
   "metadata": {},
   "source": [
    "## Тестирование модели"
   ]
  },
  {
   "cell_type": "code",
   "execution_count": 21,
   "metadata": {},
   "outputs": [
    {
     "data": {
      "text/plain": [
       "0.7827017114914426"
      ]
     },
     "execution_count": 21,
     "metadata": {},
     "output_type": "execute_result"
    }
   ],
   "source": [
    "# тестирование модели логистической регресии\n",
    "corpus_test = list(test['text_lemm'])\n",
    " \n",
    "tf_idf_test = count_tf_idf.transform(corpus_test) \n",
    "features_test = tf_idf_test\n",
    "target_test = test['toxic']\n",
    "\n",
    "model_best = LogisticRegression(random_state=12345, solver='liblinear', class_weight='balanced', C=11.73469387755102, max_iter=1000)\n",
    "model_best.fit(features_train, target_train)\n",
    "predicted = model_best.predict(features_test)\n",
    "f1_lr = f1_score(target_test, predicted)\n",
    "f1_lr"
   ]
  },
  {
   "cell_type": "markdown",
   "metadata": {},
   "source": [
    "## Выводы"
   ]
  },
  {
   "cell_type": "markdown",
   "metadata": {},
   "source": [
    "Для того, чтобы предложить интернет-магазину инструмент, который будет искать токсичные комментарии и отправлять их на модерацию, решали задачу бинарной классификации на наборе данных с разметкой о токсичности правок.  \n",
    " Для того проведены следующие этапы:\n",
    "  \n",
    "  - Загрузили и подготовили данные:\n",
    "      - лемматизировали текст\n",
    "      - очистили текст\n",
    "      - создали  матрицу признаков cо значениями TF-IDFпризнаки \n",
    "      - разбили данные на обучающую , валидационную и тестовую выборки.\n",
    "  - Обучили разные модели:\n",
    "      - логистическую регрессию\n",
    "      - дерево решений\n",
    "      - случайный лес\n",
    "\n",
    "Необходимое значение метрики качества F1 получили на модели линейной регрессии 0,782.  \n",
    "Интернет-магазину «Викишоп» рекомендуется использовать для класификации комментариев модель логистической регресии."
   ]
  }
 ],
 "metadata": {
  "ExecuteTimeLog": [
   {
    "duration": 385,
    "start_time": "2022-07-27T04:16:16.793Z"
   },
   {
    "duration": 65,
    "start_time": "2022-07-27T04:17:34.360Z"
   },
   {
    "duration": 2318,
    "start_time": "2022-07-27T04:17:43.536Z"
   },
   {
    "duration": 743,
    "start_time": "2022-07-27T04:17:59.574Z"
   },
   {
    "duration": 2383,
    "start_time": "2022-07-27T04:18:53.699Z"
   },
   {
    "duration": 8,
    "start_time": "2022-07-27T04:19:34.762Z"
   },
   {
    "duration": 785,
    "start_time": "2022-07-27T04:19:44.393Z"
   },
   {
    "duration": 10625,
    "start_time": "2022-07-27T04:19:46.746Z"
   },
   {
    "duration": 8748,
    "start_time": "2022-07-27T04:26:20.653Z"
   },
   {
    "duration": 42,
    "start_time": "2022-07-27T04:27:44.818Z"
   },
   {
    "duration": 1210,
    "start_time": "2022-07-27T04:27:52.470Z"
   },
   {
    "duration": 3920,
    "start_time": "2022-07-27T04:27:53.682Z"
   },
   {
    "duration": 8827,
    "start_time": "2022-07-27T04:27:57.604Z"
   },
   {
    "duration": 3,
    "start_time": "2022-07-27T04:36:09.000Z"
   },
   {
    "duration": 203,
    "start_time": "2022-07-27T04:43:50.712Z"
   },
   {
    "duration": 194,
    "start_time": "2022-07-27T04:44:00.414Z"
   },
   {
    "duration": 920,
    "start_time": "2022-07-27T04:44:53.145Z"
   },
   {
    "duration": 102,
    "start_time": "2022-07-27T04:56:13.403Z"
   },
   {
    "duration": 14,
    "start_time": "2022-07-27T04:56:18.793Z"
   },
   {
    "duration": 4,
    "start_time": "2022-07-27T04:57:45.838Z"
   },
   {
    "duration": 1225,
    "start_time": "2022-07-27T05:35:28.967Z"
   },
   {
    "duration": 2532,
    "start_time": "2022-07-27T05:35:30.194Z"
   },
   {
    "duration": 2041,
    "start_time": "2022-07-27T05:35:32.728Z"
   },
   {
    "duration": 1205,
    "start_time": "2022-07-27T05:36:18.559Z"
   },
   {
    "duration": 2427,
    "start_time": "2022-07-27T05:36:19.766Z"
   },
   {
    "duration": 1882,
    "start_time": "2022-07-27T05:36:22.195Z"
   },
   {
    "duration": 1148,
    "start_time": "2022-07-27T06:55:36.526Z"
   },
   {
    "duration": 2476,
    "start_time": "2022-07-27T06:55:37.676Z"
   },
   {
    "duration": 2898,
    "start_time": "2022-07-27T06:55:40.153Z"
   },
   {
    "duration": 230,
    "start_time": "2022-07-27T06:55:43.054Z"
   },
   {
    "duration": 1198,
    "start_time": "2022-07-27T07:01:20.225Z"
   },
   {
    "duration": 2509,
    "start_time": "2022-07-27T07:01:21.424Z"
   },
   {
    "duration": 2892,
    "start_time": "2022-07-27T07:01:23.935Z"
   },
   {
    "duration": 174,
    "start_time": "2022-07-27T07:01:26.829Z"
   },
   {
    "duration": 4962,
    "start_time": "2022-07-27T08:53:46.280Z"
   },
   {
    "duration": 5051,
    "start_time": "2022-07-27T08:59:18.059Z"
   },
   {
    "duration": 5282,
    "start_time": "2022-07-27T08:59:37.850Z"
   },
   {
    "duration": 5119,
    "start_time": "2022-07-27T09:00:43.136Z"
   },
   {
    "duration": 4902,
    "start_time": "2022-07-27T09:00:56.679Z"
   },
   {
    "duration": 5072,
    "start_time": "2022-07-27T09:03:41.372Z"
   },
   {
    "duration": 79,
    "start_time": "2022-07-27T09:55:16.392Z"
   },
   {
    "duration": 4850,
    "start_time": "2022-07-27T09:55:24.756Z"
   },
   {
    "duration": 4838,
    "start_time": "2022-07-27T09:55:43.189Z"
   },
   {
    "duration": 142,
    "start_time": "2022-07-27T09:56:31.020Z"
   },
   {
    "duration": 1346,
    "start_time": "2022-07-27T09:56:43.256Z"
   },
   {
    "duration": 1029,
    "start_time": "2022-07-27T09:56:44.604Z"
   },
   {
    "duration": 3009,
    "start_time": "2022-07-27T09:56:45.635Z"
   },
   {
    "duration": 5199,
    "start_time": "2022-07-27T09:56:48.647Z"
   },
   {
    "duration": 124,
    "start_time": "2022-07-27T09:56:53.847Z"
   },
   {
    "duration": 4,
    "start_time": "2022-07-27T10:01:02.327Z"
   },
   {
    "duration": 102,
    "start_time": "2022-07-27T10:07:02.024Z"
   },
   {
    "duration": 3,
    "start_time": "2022-07-27T10:07:40.772Z"
   },
   {
    "duration": 1257,
    "start_time": "2022-07-28T09:50:44.940Z"
   },
   {
    "duration": 2553,
    "start_time": "2022-07-28T09:50:46.200Z"
   },
   {
    "duration": 2992,
    "start_time": "2022-07-28T09:50:48.754Z"
   },
   {
    "duration": 5869,
    "start_time": "2022-07-28T09:50:51.748Z"
   },
   {
    "duration": 365,
    "start_time": "2022-07-28T09:50:57.618Z"
   },
   {
    "duration": 46,
    "start_time": "2022-07-28T13:49:56.613Z"
   },
   {
    "duration": 1259,
    "start_time": "2022-07-28T13:50:03.998Z"
   },
   {
    "duration": 3570,
    "start_time": "2022-07-28T13:50:05.259Z"
   },
   {
    "duration": 2848,
    "start_time": "2022-07-28T13:50:08.831Z"
   },
   {
    "duration": 5067,
    "start_time": "2022-07-28T13:50:11.681Z"
   },
   {
    "duration": 350,
    "start_time": "2022-07-28T13:50:16.751Z"
   },
   {
    "duration": 22,
    "start_time": "2022-07-28T14:10:04.581Z"
   },
   {
    "duration": 29,
    "start_time": "2022-07-28T14:10:13.341Z"
   },
   {
    "duration": 93,
    "start_time": "2022-07-28T14:14:41.732Z"
   },
   {
    "duration": 52,
    "start_time": "2022-07-28T14:40:46.382Z"
   },
   {
    "duration": 101,
    "start_time": "2022-07-28T14:42:07.208Z"
   },
   {
    "duration": 182,
    "start_time": "2022-07-28T14:44:46.348Z"
   },
   {
    "duration": 85,
    "start_time": "2022-07-28T14:49:39.655Z"
   },
   {
    "duration": 90,
    "start_time": "2022-07-28T14:49:50.380Z"
   },
   {
    "duration": 88,
    "start_time": "2022-07-28T15:06:38.848Z"
   },
   {
    "duration": 62,
    "start_time": "2022-07-28T15:06:51.068Z"
   },
   {
    "duration": 68,
    "start_time": "2022-07-28T15:06:59.433Z"
   },
   {
    "duration": 1190,
    "start_time": "2022-07-28T15:14:57.550Z"
   },
   {
    "duration": 3883,
    "start_time": "2022-07-28T15:15:21.554Z"
   },
   {
    "duration": 3,
    "start_time": "2022-07-28T15:18:27.783Z"
   },
   {
    "duration": 44,
    "start_time": "2022-07-28T15:19:15.439Z"
   },
   {
    "duration": 32,
    "start_time": "2022-07-28T15:19:28.945Z"
   },
   {
    "duration": 1229,
    "start_time": "2022-07-28T15:21:09.525Z"
   },
   {
    "duration": 974,
    "start_time": "2022-07-28T15:21:10.755Z"
   },
   {
    "duration": 2836,
    "start_time": "2022-07-28T15:21:11.731Z"
   },
   {
    "duration": 5038,
    "start_time": "2022-07-28T15:21:14.570Z"
   },
   {
    "duration": 230,
    "start_time": "2022-07-28T15:21:19.610Z"
   },
   {
    "duration": 28,
    "start_time": "2022-07-28T15:21:19.842Z"
   },
   {
    "duration": 84,
    "start_time": "2022-07-28T15:21:19.873Z"
   },
   {
    "duration": 4115,
    "start_time": "2022-07-28T15:21:19.959Z"
   },
   {
    "duration": 4188,
    "start_time": "2022-07-28T15:23:32.001Z"
   },
   {
    "duration": 3,
    "start_time": "2022-07-28T15:24:19.707Z"
   },
   {
    "duration": 13,
    "start_time": "2022-07-28T15:25:29.482Z"
   },
   {
    "duration": 42567,
    "start_time": "2022-07-28T15:25:43.536Z"
   },
   {
    "duration": 9,
    "start_time": "2022-07-28T16:10:49.395Z"
   },
   {
    "duration": 1273,
    "start_time": "2022-07-28T16:10:58.704Z"
   },
   {
    "duration": 1378,
    "start_time": "2022-07-28T16:11:06.874Z"
   },
   {
    "duration": 1283,
    "start_time": "2022-07-28T16:11:23.895Z"
   },
   {
    "duration": 1340,
    "start_time": "2022-07-28T16:17:35.075Z"
   },
   {
    "duration": 41308,
    "start_time": "2022-07-28T16:18:02.296Z"
   },
   {
    "duration": 34,
    "start_time": "2022-07-28T16:23:22.293Z"
   },
   {
    "duration": 4,
    "start_time": "2022-07-28T16:31:33.957Z"
   },
   {
    "duration": 5,
    "start_time": "2022-07-28T16:39:25.357Z"
   },
   {
    "duration": 9,
    "start_time": "2022-07-28T16:40:16.028Z"
   },
   {
    "duration": 8,
    "start_time": "2022-07-28T16:40:55.992Z"
   },
   {
    "duration": 1232,
    "start_time": "2022-07-28T16:40:58.052Z"
   },
   {
    "duration": 11,
    "start_time": "2022-07-28T16:41:02.048Z"
   },
   {
    "duration": 11,
    "start_time": "2022-07-28T16:41:10.313Z"
   },
   {
    "duration": 7,
    "start_time": "2022-07-28T16:41:56.288Z"
   },
   {
    "duration": 10,
    "start_time": "2022-07-28T16:42:07.227Z"
   },
   {
    "duration": 28,
    "start_time": "2022-07-28T16:43:01.053Z"
   },
   {
    "duration": 201852,
    "start_time": "2022-07-28T16:43:58.073Z"
   },
   {
    "duration": 4,
    "start_time": "2022-07-28T16:47:19.927Z"
   },
   {
    "duration": 299158,
    "start_time": "2022-07-28T16:47:19.932Z"
   },
   {
    "duration": 1299,
    "start_time": "2022-07-29T09:46:24.366Z"
   },
   {
    "duration": 2761,
    "start_time": "2022-07-29T09:46:25.667Z"
   },
   {
    "duration": 3230,
    "start_time": "2022-07-29T09:46:28.430Z"
   },
   {
    "duration": 5533,
    "start_time": "2022-07-29T09:46:31.662Z"
   },
   {
    "duration": 316,
    "start_time": "2022-07-29T09:46:37.196Z"
   },
   {
    "duration": 29,
    "start_time": "2022-07-29T09:46:37.514Z"
   },
   {
    "duration": 93,
    "start_time": "2022-07-29T09:46:37.545Z"
   },
   {
    "duration": 4474,
    "start_time": "2022-07-29T09:46:37.640Z"
   },
   {
    "duration": 38226,
    "start_time": "2022-07-29T09:46:42.116Z"
   },
   {
    "duration": 1382,
    "start_time": "2022-07-29T09:47:20.346Z"
   },
   {
    "duration": 13,
    "start_time": "2022-07-29T09:47:21.729Z"
   },
   {
    "duration": 10,
    "start_time": "2022-07-29T09:47:21.744Z"
   },
   {
    "duration": 242233,
    "start_time": "2022-07-29T09:47:21.756Z"
   },
   {
    "duration": 3,
    "start_time": "2022-07-29T09:51:23.991Z"
   },
   {
    "duration": 368034,
    "start_time": "2022-07-29T09:51:23.996Z"
   },
   {
    "duration": 5,
    "start_time": "2022-07-29T09:57:32.032Z"
   },
   {
    "duration": 10188,
    "start_time": "2022-07-29T10:26:32.162Z"
   },
   {
    "duration": 1477,
    "start_time": "2022-07-29T10:26:59.897Z"
   },
   {
    "duration": 15,
    "start_time": "2022-07-29T10:27:08.215Z"
   },
   {
    "duration": 4483,
    "start_time": "2022-07-29T10:28:31.487Z"
   },
   {
    "duration": 6,
    "start_time": "2022-07-29T10:28:56.406Z"
   },
   {
    "duration": 99845,
    "start_time": "2022-07-29T10:30:35.802Z"
   },
   {
    "duration": 491830,
    "start_time": "2022-07-29T10:32:15.650Z"
   },
   {
    "duration": 4,
    "start_time": "2022-07-29T10:40:27.482Z"
   },
   {
    "duration": 6,
    "start_time": "2022-07-29T10:40:27.487Z"
   },
   {
    "duration": 10,
    "start_time": "2022-07-29T10:40:27.495Z"
   },
   {
    "duration": 4,
    "start_time": "2022-07-29T10:52:26.654Z"
   },
   {
    "duration": 4,
    "start_time": "2022-07-29T10:52:45.209Z"
   },
   {
    "duration": 81,
    "start_time": "2022-07-29T11:20:15.095Z"
   },
   {
    "duration": 7,
    "start_time": "2022-07-29T11:43:46.703Z"
   },
   {
    "duration": 75,
    "start_time": "2022-07-29T11:45:11.587Z"
   },
   {
    "duration": 2,
    "start_time": "2022-07-29T11:46:35.967Z"
   },
   {
    "duration": 1692,
    "start_time": "2022-07-29T11:57:46.412Z"
   },
   {
    "duration": 1488,
    "start_time": "2022-07-29T11:58:06.310Z"
   },
   {
    "duration": 4114,
    "start_time": "2022-07-29T11:58:07.801Z"
   },
   {
    "duration": 3590,
    "start_time": "2022-07-29T11:58:11.917Z"
   },
   {
    "duration": 6389,
    "start_time": "2022-07-29T11:58:15.509Z"
   },
   {
    "duration": 264,
    "start_time": "2022-07-29T11:58:21.900Z"
   },
   {
    "duration": 31,
    "start_time": "2022-07-29T11:58:22.166Z"
   },
   {
    "duration": 94,
    "start_time": "2022-07-29T11:58:22.198Z"
   },
   {
    "duration": 5388,
    "start_time": "2022-07-29T11:58:22.293Z"
   },
   {
    "duration": 7,
    "start_time": "2022-07-29T11:58:27.683Z"
   },
   {
    "duration": 10605,
    "start_time": "2022-07-29T11:58:27.693Z"
   },
   {
    "duration": 0,
    "start_time": "2022-07-29T11:58:38.300Z"
   },
   {
    "duration": 0,
    "start_time": "2022-07-29T11:58:38.301Z"
   },
   {
    "duration": 0,
    "start_time": "2022-07-29T11:58:38.303Z"
   },
   {
    "duration": 0,
    "start_time": "2022-07-29T11:58:38.304Z"
   },
   {
    "duration": 0,
    "start_time": "2022-07-29T11:58:38.305Z"
   },
   {
    "duration": 0,
    "start_time": "2022-07-29T11:58:38.307Z"
   },
   {
    "duration": 0,
    "start_time": "2022-07-29T11:58:38.308Z"
   },
   {
    "duration": 0,
    "start_time": "2022-07-29T11:58:38.309Z"
   },
   {
    "duration": 0,
    "start_time": "2022-07-29T11:58:38.311Z"
   },
   {
    "duration": 9994,
    "start_time": "2022-07-29T12:02:32.762Z"
   },
   {
    "duration": 1661,
    "start_time": "2022-07-29T12:02:42.758Z"
   },
   {
    "duration": 28,
    "start_time": "2022-07-29T12:02:44.421Z"
   },
   {
    "duration": 10569,
    "start_time": "2022-07-29T12:02:48.585Z"
   },
   {
    "duration": 0,
    "start_time": "2022-07-29T12:02:59.156Z"
   },
   {
    "duration": 0,
    "start_time": "2022-07-29T12:02:59.158Z"
   },
   {
    "duration": 0,
    "start_time": "2022-07-29T12:02:59.159Z"
   },
   {
    "duration": 0,
    "start_time": "2022-07-29T12:02:59.160Z"
   },
   {
    "duration": 107476,
    "start_time": "2022-07-29T12:03:25.060Z"
   },
   {
    "duration": 5,
    "start_time": "2022-07-29T12:05:12.538Z"
   },
   {
    "duration": 504527,
    "start_time": "2022-07-29T12:05:12.545Z"
   },
   {
    "duration": 4,
    "start_time": "2022-07-29T12:13:37.075Z"
   },
   {
    "duration": 21,
    "start_time": "2022-07-29T12:13:37.081Z"
   },
   {
    "duration": 1890,
    "start_time": "2022-07-29T12:13:38.797Z"
   },
   {
    "duration": 77,
    "start_time": "2022-07-29T12:13:40.689Z"
   },
   {
    "duration": 1657,
    "start_time": "2022-07-29T12:14:29.761Z"
   },
   {
    "duration": 1700,
    "start_time": "2022-07-29T12:15:18.522Z"
   },
   {
    "duration": 1487,
    "start_time": "2022-07-29T12:22:02.840Z"
   },
   {
    "duration": 2940,
    "start_time": "2022-07-29T12:22:04.333Z"
   },
   {
    "duration": 3473,
    "start_time": "2022-07-29T12:22:07.275Z"
   },
   {
    "duration": 6265,
    "start_time": "2022-07-29T12:22:10.750Z"
   },
   {
    "duration": 141,
    "start_time": "2022-07-29T12:22:17.018Z"
   },
   {
    "duration": 45,
    "start_time": "2022-07-29T12:22:17.162Z"
   },
   {
    "duration": 99,
    "start_time": "2022-07-29T12:22:17.209Z"
   },
   {
    "duration": 5005,
    "start_time": "2022-07-29T12:22:17.310Z"
   },
   {
    "duration": 10,
    "start_time": "2022-07-29T12:22:22.317Z"
   },
   {
    "duration": 10707,
    "start_time": "2022-07-29T12:22:22.329Z"
   },
   {
    "duration": 1622,
    "start_time": "2022-07-29T12:22:33.038Z"
   },
   {
    "duration": 12,
    "start_time": "2022-07-29T12:22:34.662Z"
   },
   {
    "duration": 107164,
    "start_time": "2022-07-29T12:22:34.676Z"
   },
   {
    "duration": 5,
    "start_time": "2022-07-29T12:24:21.842Z"
   },
   {
    "duration": 490085,
    "start_time": "2022-07-29T12:24:21.849Z"
   },
   {
    "duration": 8,
    "start_time": "2022-07-29T12:32:31.940Z"
   },
   {
    "duration": 13,
    "start_time": "2022-07-29T12:32:31.950Z"
   },
   {
    "duration": 1540,
    "start_time": "2022-07-29T12:32:31.965Z"
   },
   {
    "duration": 2854,
    "start_time": "2022-07-29T13:11:41.140Z"
   },
   {
    "duration": 2746,
    "start_time": "2022-07-29T13:11:43.996Z"
   },
   {
    "duration": 3002,
    "start_time": "2022-07-29T13:11:46.744Z"
   },
   {
    "duration": 5657,
    "start_time": "2022-07-29T13:11:49.748Z"
   },
   {
    "duration": 324,
    "start_time": "2022-07-29T13:11:55.407Z"
   },
   {
    "duration": 26,
    "start_time": "2022-07-29T13:11:55.733Z"
   },
   {
    "duration": 80,
    "start_time": "2022-07-29T13:11:55.761Z"
   },
   {
    "duration": 4273,
    "start_time": "2022-07-29T13:11:55.843Z"
   },
   {
    "duration": 6,
    "start_time": "2022-07-29T13:12:00.118Z"
   },
   {
    "duration": 11275,
    "start_time": "2022-07-29T13:12:00.126Z"
   },
   {
    "duration": 1386,
    "start_time": "2022-07-29T13:12:11.403Z"
   },
   {
    "duration": 13,
    "start_time": "2022-07-29T13:15:01.552Z"
   },
   {
    "duration": 1347,
    "start_time": "2022-07-29T13:16:21.528Z"
   },
   {
    "duration": 46,
    "start_time": "2022-07-29T15:32:52.602Z"
   },
   {
    "duration": 1341,
    "start_time": "2022-07-29T15:33:24.919Z"
   },
   {
    "duration": 2565,
    "start_time": "2022-07-29T15:33:26.261Z"
   },
   {
    "duration": 4,
    "start_time": "2022-07-29T15:33:28.827Z"
   },
   {
    "duration": 150,
    "start_time": "2022-07-29T15:33:28.833Z"
   },
   {
    "duration": 0,
    "start_time": "2022-07-29T15:33:28.986Z"
   },
   {
    "duration": 0,
    "start_time": "2022-07-29T15:33:28.992Z"
   },
   {
    "duration": 0,
    "start_time": "2022-07-29T15:33:28.994Z"
   },
   {
    "duration": 0,
    "start_time": "2022-07-29T15:33:28.995Z"
   },
   {
    "duration": 0,
    "start_time": "2022-07-29T15:33:28.996Z"
   },
   {
    "duration": 0,
    "start_time": "2022-07-29T15:33:28.998Z"
   },
   {
    "duration": 0,
    "start_time": "2022-07-29T15:33:28.999Z"
   },
   {
    "duration": 0,
    "start_time": "2022-07-29T15:33:29.000Z"
   },
   {
    "duration": 0,
    "start_time": "2022-07-29T15:33:29.002Z"
   },
   {
    "duration": 0,
    "start_time": "2022-07-29T15:33:29.003Z"
   },
   {
    "duration": 0,
    "start_time": "2022-07-29T15:33:29.004Z"
   },
   {
    "duration": 0,
    "start_time": "2022-07-29T15:33:29.005Z"
   },
   {
    "duration": 0,
    "start_time": "2022-07-29T15:33:29.006Z"
   },
   {
    "duration": 0,
    "start_time": "2022-07-29T15:33:29.006Z"
   },
   {
    "duration": 0,
    "start_time": "2022-07-29T15:33:29.007Z"
   },
   {
    "duration": 1164,
    "start_time": "2022-07-29T15:41:53.326Z"
   },
   {
    "duration": 35,
    "start_time": "2022-07-29T15:42:47.775Z"
   },
   {
    "duration": 37,
    "start_time": "2022-07-29T15:42:55.355Z"
   },
   {
    "duration": 38,
    "start_time": "2022-07-29T15:42:59.660Z"
   },
   {
    "duration": 35,
    "start_time": "2022-07-29T15:43:20.724Z"
   },
   {
    "duration": 52,
    "start_time": "2022-07-29T15:46:00.530Z"
   },
   {
    "duration": 47,
    "start_time": "2022-07-29T15:47:27.380Z"
   },
   {
    "duration": 35,
    "start_time": "2022-07-29T15:48:33.455Z"
   },
   {
    "duration": 76357,
    "start_time": "2022-07-29T15:49:08.034Z"
   },
   {
    "duration": 351,
    "start_time": "2022-07-29T15:51:30.750Z"
   },
   {
    "duration": 30,
    "start_time": "2022-07-29T15:51:32.844Z"
   },
   {
    "duration": 77,
    "start_time": "2022-07-29T15:51:36.974Z"
   },
   {
    "duration": 3741,
    "start_time": "2022-07-29T15:51:40.230Z"
   },
   {
    "duration": 6,
    "start_time": "2022-07-29T15:51:48.930Z"
   },
   {
    "duration": 13912,
    "start_time": "2022-07-29T15:51:52.075Z"
   },
   {
    "duration": 1244,
    "start_time": "2022-07-29T15:52:08.535Z"
   },
   {
    "duration": 12,
    "start_time": "2022-07-29T15:52:16.614Z"
   },
   {
    "duration": 1205,
    "start_time": "2022-07-29T15:52:53.317Z"
   },
   {
    "duration": 1100,
    "start_time": "2022-07-29T15:52:54.525Z"
   },
   {
    "duration": 1311,
    "start_time": "2022-07-29T15:52:55.627Z"
   },
   {
    "duration": 78105,
    "start_time": "2022-07-29T15:52:56.940Z"
   },
   {
    "duration": 125,
    "start_time": "2022-07-29T15:54:15.048Z"
   },
   {
    "duration": 31,
    "start_time": "2022-07-29T15:54:15.174Z"
   },
   {
    "duration": 108,
    "start_time": "2022-07-29T15:54:15.207Z"
   },
   {
    "duration": 4053,
    "start_time": "2022-07-29T15:54:15.317Z"
   },
   {
    "duration": 5,
    "start_time": "2022-07-29T15:54:19.372Z"
   },
   {
    "duration": 13800,
    "start_time": "2022-07-29T15:54:19.380Z"
   },
   {
    "duration": 1194,
    "start_time": "2022-07-29T15:54:33.181Z"
   },
   {
    "duration": 11,
    "start_time": "2022-07-29T15:54:34.377Z"
   },
   {
    "duration": 81225,
    "start_time": "2022-07-29T15:54:34.390Z"
   },
   {
    "duration": 3,
    "start_time": "2022-07-29T15:55:55.617Z"
   },
   {
    "duration": 421932,
    "start_time": "2022-07-29T15:55:55.622Z"
   },
   {
    "duration": 3,
    "start_time": "2022-07-29T16:02:57.556Z"
   },
   {
    "duration": 18,
    "start_time": "2022-07-29T16:02:57.561Z"
   },
   {
    "duration": 1433,
    "start_time": "2022-07-29T16:02:57.581Z"
   },
   {
    "duration": 38,
    "start_time": "2022-07-29T16:06:35.812Z"
   },
   {
    "duration": 168,
    "start_time": "2022-07-29T16:07:59.547Z"
   },
   {
    "duration": 76699,
    "start_time": "2022-07-29T16:08:10.586Z"
   },
   {
    "duration": 4,
    "start_time": "2022-07-29T16:09:27.287Z"
   },
   {
    "duration": 79,
    "start_time": "2022-07-29T16:09:27.292Z"
   },
   {
    "duration": 3927,
    "start_time": "2022-07-29T16:09:27.373Z"
   },
   {
    "duration": 6,
    "start_time": "2022-07-29T16:09:31.301Z"
   },
   {
    "duration": 13669,
    "start_time": "2022-07-29T16:09:31.308Z"
   },
   {
    "duration": 1257,
    "start_time": "2022-07-29T16:09:44.979Z"
   },
   {
    "duration": 2298,
    "start_time": "2022-07-29T16:16:26.452Z"
   },
   {
    "duration": 83198,
    "start_time": "2022-07-29T16:16:29.747Z"
   },
   {
    "duration": 3,
    "start_time": "2022-07-29T16:17:52.947Z"
   },
   {
    "duration": 42,
    "start_time": "2022-07-29T16:17:52.961Z"
   },
   {
    "duration": 85,
    "start_time": "2022-07-29T16:17:53.005Z"
   },
   {
    "duration": 3915,
    "start_time": "2022-07-29T16:17:53.092Z"
   },
   {
    "duration": 7,
    "start_time": "2022-07-29T16:17:57.009Z"
   },
   {
    "duration": 13756,
    "start_time": "2022-07-29T16:17:57.018Z"
   },
   {
    "duration": 1257,
    "start_time": "2022-07-29T16:18:10.775Z"
   },
   {
    "duration": 12,
    "start_time": "2022-07-29T16:18:12.033Z"
   },
   {
    "duration": 5,
    "start_time": "2022-07-29T16:26:08.437Z"
   },
   {
    "duration": 1343,
    "start_time": "2022-07-29T16:27:59.792Z"
   },
   {
    "duration": 2853,
    "start_time": "2022-07-29T16:28:01.137Z"
   },
   {
    "duration": 2665,
    "start_time": "2022-07-29T16:28:03.992Z"
   },
   {
    "duration": 0,
    "start_time": "2022-07-29T16:28:06.660Z"
   },
   {
    "duration": 0,
    "start_time": "2022-07-29T16:28:06.667Z"
   },
   {
    "duration": 0,
    "start_time": "2022-07-29T16:28:06.669Z"
   },
   {
    "duration": 1,
    "start_time": "2022-07-29T16:28:06.669Z"
   },
   {
    "duration": 0,
    "start_time": "2022-07-29T16:28:06.671Z"
   },
   {
    "duration": 0,
    "start_time": "2022-07-29T16:28:06.672Z"
   },
   {
    "duration": 0,
    "start_time": "2022-07-29T16:28:06.673Z"
   },
   {
    "duration": 0,
    "start_time": "2022-07-29T16:28:06.675Z"
   },
   {
    "duration": 0,
    "start_time": "2022-07-29T16:28:06.679Z"
   },
   {
    "duration": 0,
    "start_time": "2022-07-29T16:28:06.679Z"
   },
   {
    "duration": 0,
    "start_time": "2022-07-29T16:28:06.680Z"
   },
   {
    "duration": 0,
    "start_time": "2022-07-29T16:28:06.681Z"
   },
   {
    "duration": 0,
    "start_time": "2022-07-29T16:28:06.682Z"
   },
   {
    "duration": 0,
    "start_time": "2022-07-29T16:28:06.683Z"
   },
   {
    "duration": 0,
    "start_time": "2022-07-29T16:28:06.687Z"
   },
   {
    "duration": 50,
    "start_time": "2022-07-29T16:32:29.712Z"
   },
   {
    "duration": 1226,
    "start_time": "2022-07-29T16:32:37.717Z"
   },
   {
    "duration": 2655,
    "start_time": "2022-07-29T16:32:40.376Z"
   },
   {
    "duration": 2482,
    "start_time": "2022-07-29T16:32:49.149Z"
   },
   {
    "duration": 50,
    "start_time": "2022-07-29T16:36:10.392Z"
   },
   {
    "duration": 1341,
    "start_time": "2022-07-29T16:36:19.175Z"
   },
   {
    "duration": 2961,
    "start_time": "2022-07-29T16:36:20.518Z"
   },
   {
    "duration": 2657,
    "start_time": "2022-07-29T16:36:23.480Z"
   },
   {
    "duration": 0,
    "start_time": "2022-07-29T16:36:26.139Z"
   },
   {
    "duration": 0,
    "start_time": "2022-07-29T16:36:26.140Z"
   },
   {
    "duration": 0,
    "start_time": "2022-07-29T16:36:26.141Z"
   },
   {
    "duration": 0,
    "start_time": "2022-07-29T16:36:26.143Z"
   },
   {
    "duration": 0,
    "start_time": "2022-07-29T16:36:26.144Z"
   },
   {
    "duration": 0,
    "start_time": "2022-07-29T16:36:26.145Z"
   },
   {
    "duration": 0,
    "start_time": "2022-07-29T16:36:26.147Z"
   },
   {
    "duration": 0,
    "start_time": "2022-07-29T16:36:26.161Z"
   },
   {
    "duration": 0,
    "start_time": "2022-07-29T16:36:26.163Z"
   },
   {
    "duration": 0,
    "start_time": "2022-07-29T16:36:26.164Z"
   },
   {
    "duration": 0,
    "start_time": "2022-07-29T16:36:26.166Z"
   },
   {
    "duration": 0,
    "start_time": "2022-07-29T16:36:26.167Z"
   },
   {
    "duration": 0,
    "start_time": "2022-07-29T16:36:26.171Z"
   },
   {
    "duration": 0,
    "start_time": "2022-07-29T16:36:26.172Z"
   },
   {
    "duration": 0,
    "start_time": "2022-07-29T16:36:26.174Z"
   },
   {
    "duration": 1447,
    "start_time": "2022-07-29T18:05:54.578Z"
   },
   {
    "duration": 2834,
    "start_time": "2022-07-29T18:05:56.027Z"
   },
   {
    "duration": 3919,
    "start_time": "2022-07-29T18:05:58.863Z"
   },
   {
    "duration": 89240,
    "start_time": "2022-07-29T18:06:02.784Z"
   },
   {
    "duration": 15,
    "start_time": "2022-07-29T18:07:32.027Z"
   },
   {
    "duration": 37,
    "start_time": "2022-07-29T18:07:32.044Z"
   },
   {
    "duration": 102,
    "start_time": "2022-07-29T18:07:32.082Z"
   },
   {
    "duration": 3839,
    "start_time": "2022-07-29T18:07:32.185Z"
   },
   {
    "duration": 5,
    "start_time": "2022-07-29T18:07:36.026Z"
   },
   {
    "duration": 12942,
    "start_time": "2022-07-29T18:07:36.033Z"
   },
   {
    "duration": 1195,
    "start_time": "2022-07-29T18:07:48.977Z"
   },
   {
    "duration": 11,
    "start_time": "2022-07-29T18:07:50.173Z"
   },
   {
    "duration": 83432,
    "start_time": "2022-07-29T18:07:50.186Z"
   },
   {
    "duration": 4,
    "start_time": "2022-07-29T18:09:13.620Z"
   },
   {
    "duration": 1305,
    "start_time": "2022-07-29T18:15:53.673Z"
   },
   {
    "duration": 1148,
    "start_time": "2022-07-29T18:15:54.980Z"
   },
   {
    "duration": 3421,
    "start_time": "2022-07-29T18:15:56.130Z"
   },
   {
    "duration": 399084,
    "start_time": "2022-07-29T18:15:59.553Z"
   },
   {
    "duration": 5,
    "start_time": "2022-07-29T18:22:38.638Z"
   },
   {
    "duration": 42,
    "start_time": "2022-07-29T18:22:38.644Z"
   },
   {
    "duration": 100,
    "start_time": "2022-07-29T18:22:38.688Z"
   },
   {
    "duration": 797,
    "start_time": "2022-07-29T18:22:38.789Z"
   },
   {
    "duration": 5,
    "start_time": "2022-07-29T18:22:39.588Z"
   },
   {
    "duration": 1176,
    "start_time": "2022-07-29T18:22:39.595Z"
   },
   {
    "duration": 248,
    "start_time": "2022-07-29T18:22:40.773Z"
   },
   {
    "duration": 10,
    "start_time": "2022-07-29T18:22:41.023Z"
   },
   {
    "duration": 174157,
    "start_time": "2022-07-29T18:22:41.034Z"
   },
   {
    "duration": 3,
    "start_time": "2022-07-29T18:25:35.193Z"
   },
   {
    "duration": 459815,
    "start_time": "2022-07-29T18:25:35.197Z"
   },
   {
    "duration": 4,
    "start_time": "2022-07-29T18:33:15.014Z"
   },
   {
    "duration": 12,
    "start_time": "2022-07-29T18:33:15.020Z"
   },
   {
    "duration": 194,
    "start_time": "2022-07-29T18:33:15.033Z"
   },
   {
    "duration": 1252,
    "start_time": "2022-07-29T18:40:57.915Z"
   },
   {
    "duration": 1116,
    "start_time": "2022-07-29T18:40:59.169Z"
   },
   {
    "duration": 3374,
    "start_time": "2022-07-29T18:41:00.287Z"
   },
   {
    "duration": 78838,
    "start_time": "2022-07-29T18:41:03.663Z"
   },
   {
    "duration": 11,
    "start_time": "2022-07-29T18:42:22.503Z"
   },
   {
    "duration": 34,
    "start_time": "2022-07-29T18:42:22.516Z"
   },
   {
    "duration": 83,
    "start_time": "2022-07-29T18:42:22.561Z"
   },
   {
    "duration": 3904,
    "start_time": "2022-07-29T18:42:22.646Z"
   },
   {
    "duration": 10,
    "start_time": "2022-07-29T18:42:26.552Z"
   },
   {
    "duration": 13820,
    "start_time": "2022-07-29T18:42:26.563Z"
   },
   {
    "duration": 1198,
    "start_time": "2022-07-29T18:42:40.385Z"
   },
   {
    "duration": 11,
    "start_time": "2022-07-29T18:42:41.584Z"
   },
   {
    "duration": 81019,
    "start_time": "2022-07-29T18:42:41.597Z"
   },
   {
    "duration": 4,
    "start_time": "2022-07-29T18:44:02.618Z"
   },
   {
    "duration": 393742,
    "start_time": "2022-07-29T18:44:02.623Z"
   },
   {
    "duration": 5,
    "start_time": "2022-07-29T18:50:36.367Z"
   },
   {
    "duration": 35,
    "start_time": "2022-07-29T18:50:36.374Z"
   },
   {
    "duration": 1263,
    "start_time": "2022-07-29T18:50:36.412Z"
   },
   {
    "duration": 1255,
    "start_time": "2022-08-02T07:01:17.455Z"
   },
   {
    "duration": 3455,
    "start_time": "2022-08-02T07:01:18.712Z"
   },
   {
    "duration": 3003,
    "start_time": "2022-08-02T07:01:22.169Z"
   },
   {
    "duration": 72800,
    "start_time": "2022-08-02T07:01:25.174Z"
   },
   {
    "duration": 192,
    "start_time": "2022-08-02T07:02:37.975Z"
   },
   {
    "duration": 27,
    "start_time": "2022-08-02T07:02:38.169Z"
   },
   {
    "duration": 84,
    "start_time": "2022-08-02T07:02:38.198Z"
   },
   {
    "duration": 3591,
    "start_time": "2022-08-02T07:02:38.284Z"
   },
   {
    "duration": 6,
    "start_time": "2022-08-02T07:02:41.877Z"
   },
   {
    "duration": 13777,
    "start_time": "2022-08-02T07:02:41.885Z"
   },
   {
    "duration": 1285,
    "start_time": "2022-08-02T07:02:55.664Z"
   },
   {
    "duration": 11,
    "start_time": "2022-08-02T07:02:56.951Z"
   },
   {
    "duration": 72410,
    "start_time": "2022-08-02T07:02:56.964Z"
   },
   {
    "duration": 3,
    "start_time": "2022-08-02T07:04:09.376Z"
   },
   {
    "duration": 364223,
    "start_time": "2022-08-02T07:04:09.381Z"
   },
   {
    "duration": 4,
    "start_time": "2022-08-02T07:10:13.605Z"
   },
   {
    "duration": 12,
    "start_time": "2022-08-02T07:10:13.610Z"
   },
   {
    "duration": 1115,
    "start_time": "2022-08-02T07:10:13.623Z"
   },
   {
    "duration": 1247,
    "start_time": "2022-08-02T07:21:36.154Z"
   },
   {
    "duration": 3542,
    "start_time": "2022-08-02T07:21:37.403Z"
   },
   {
    "duration": 3190,
    "start_time": "2022-08-02T07:21:40.947Z"
   },
   {
    "duration": 75172,
    "start_time": "2022-08-02T07:21:44.140Z"
   },
   {
    "duration": 10,
    "start_time": "2022-08-02T07:22:59.314Z"
   },
   {
    "duration": 33,
    "start_time": "2022-08-02T07:22:59.325Z"
   },
   {
    "duration": 78,
    "start_time": "2022-08-02T07:22:59.359Z"
   },
   {
    "duration": 1285,
    "start_time": "2022-08-02T07:23:46.326Z"
   },
   {
    "duration": 3436,
    "start_time": "2022-08-02T07:23:47.613Z"
   },
   {
    "duration": 3091,
    "start_time": "2022-08-02T07:23:51.052Z"
   },
   {
    "duration": 75128,
    "start_time": "2022-08-02T07:23:54.144Z"
   },
   {
    "duration": 16,
    "start_time": "2022-08-02T07:25:09.274Z"
   },
   {
    "duration": 27,
    "start_time": "2022-08-02T07:25:09.292Z"
   },
   {
    "duration": 93,
    "start_time": "2022-08-02T07:25:09.320Z"
   },
   {
    "duration": 43,
    "start_time": "2022-08-02T07:34:15.385Z"
   },
   {
    "duration": 1336,
    "start_time": "2022-08-02T07:34:41.542Z"
   },
   {
    "duration": 3533,
    "start_time": "2022-08-02T07:34:43.697Z"
   },
   {
    "duration": 3014,
    "start_time": "2022-08-02T07:34:51.969Z"
   },
   {
    "duration": 73852,
    "start_time": "2022-08-02T07:35:00.856Z"
   },
   {
    "duration": 10,
    "start_time": "2022-08-02T07:37:27.445Z"
   },
   {
    "duration": 36,
    "start_time": "2022-08-02T07:37:32.526Z"
   },
   {
    "duration": 84,
    "start_time": "2022-08-02T07:37:36.595Z"
   },
   {
    "duration": 43,
    "start_time": "2022-08-02T07:38:01.541Z"
   },
   {
    "duration": 7,
    "start_time": "2022-08-02T07:38:56.674Z"
   },
   {
    "duration": 6,
    "start_time": "2022-08-02T07:39:22.257Z"
   },
   {
    "duration": 7,
    "start_time": "2022-08-02T07:39:27.143Z"
   },
   {
    "duration": 1271,
    "start_time": "2022-08-02T07:39:49.538Z"
   },
   {
    "duration": 3453,
    "start_time": "2022-08-02T07:39:50.811Z"
   },
   {
    "duration": 2987,
    "start_time": "2022-08-02T07:39:54.265Z"
   },
   {
    "duration": 73443,
    "start_time": "2022-08-02T07:39:57.254Z"
   },
   {
    "duration": 14,
    "start_time": "2022-08-02T07:41:10.699Z"
   },
   {
    "duration": 26,
    "start_time": "2022-08-02T07:41:10.714Z"
   },
   {
    "duration": 73,
    "start_time": "2022-08-02T07:41:10.752Z"
   },
   {
    "duration": 7,
    "start_time": "2022-08-02T07:41:10.827Z"
   },
   {
    "duration": 3597,
    "start_time": "2022-08-02T07:41:10.835Z"
   },
   {
    "duration": 5,
    "start_time": "2022-08-02T07:41:14.433Z"
   },
   {
    "duration": 13222,
    "start_time": "2022-08-02T07:41:14.439Z"
   },
   {
    "duration": 1273,
    "start_time": "2022-08-02T07:41:27.663Z"
   },
   {
    "duration": 15,
    "start_time": "2022-08-02T07:41:28.938Z"
   },
   {
    "duration": 77490,
    "start_time": "2022-08-02T07:41:28.955Z"
   },
   {
    "duration": 6,
    "start_time": "2022-08-02T07:42:46.447Z"
   },
   {
    "duration": 367849,
    "start_time": "2022-08-02T07:42:46.454Z"
   },
   {
    "duration": 3,
    "start_time": "2022-08-02T07:48:54.305Z"
   },
   {
    "duration": 17,
    "start_time": "2022-08-02T07:48:54.310Z"
   },
   {
    "duration": 1242,
    "start_time": "2022-08-02T07:48:54.328Z"
   },
   {
    "duration": 42,
    "start_time": "2022-08-02T08:03:12.528Z"
   },
   {
    "duration": 6,
    "start_time": "2022-08-02T08:03:23.679Z"
   },
   {
    "duration": 6,
    "start_time": "2022-08-02T08:03:28.487Z"
   },
   {
    "duration": 8,
    "start_time": "2022-08-02T08:03:30.599Z"
   },
   {
    "duration": 6,
    "start_time": "2022-08-02T08:03:35.138Z"
   },
   {
    "duration": 1243,
    "start_time": "2022-08-02T08:04:07.040Z"
   },
   {
    "duration": 3482,
    "start_time": "2022-08-02T08:04:08.285Z"
   },
   {
    "duration": 1380,
    "start_time": "2022-08-02T08:04:11.769Z"
   },
   {
    "duration": 71507,
    "start_time": "2022-08-02T08:04:13.152Z"
   },
   {
    "duration": 15,
    "start_time": "2022-08-02T08:05:24.661Z"
   },
   {
    "duration": 34,
    "start_time": "2022-08-02T08:05:24.677Z"
   },
   {
    "duration": 111,
    "start_time": "2022-08-02T08:05:24.713Z"
   },
   {
    "duration": 8,
    "start_time": "2022-08-02T08:05:24.826Z"
   },
   {
    "duration": 14510,
    "start_time": "2022-08-02T08:05:24.835Z"
   },
   {
    "duration": 7,
    "start_time": "2022-08-02T08:05:39.347Z"
   },
   {
    "duration": 17555,
    "start_time": "2022-08-02T08:05:39.355Z"
   },
   {
    "duration": 2683,
    "start_time": "2022-08-02T08:05:56.912Z"
   },
   {
    "duration": 11,
    "start_time": "2022-08-02T08:05:59.596Z"
   },
   {
    "duration": 610242,
    "start_time": "2022-08-02T08:05:59.610Z"
   },
   {
    "duration": 3,
    "start_time": "2022-08-02T08:16:09.854Z"
   },
   {
    "duration": 1254,
    "start_time": "2022-08-02T08:18:25.952Z"
   },
   {
    "duration": 1023,
    "start_time": "2022-08-02T08:18:27.208Z"
   },
   {
    "duration": 1416,
    "start_time": "2022-08-02T08:18:28.234Z"
   },
   {
    "duration": 71668,
    "start_time": "2022-08-02T08:18:29.653Z"
   },
   {
    "duration": 11,
    "start_time": "2022-08-02T08:19:41.323Z"
   },
   {
    "duration": 44,
    "start_time": "2022-08-02T08:19:41.335Z"
   },
   {
    "duration": 96,
    "start_time": "2022-08-02T08:19:41.381Z"
   },
   {
    "duration": 8,
    "start_time": "2022-08-02T08:19:41.478Z"
   },
   {
    "duration": 12057,
    "start_time": "2022-08-02T08:19:41.488Z"
   },
   {
    "duration": 7,
    "start_time": "2022-08-02T08:19:53.547Z"
   },
   {
    "duration": 10084,
    "start_time": "2022-08-02T08:19:53.556Z"
   },
   {
    "duration": 1943,
    "start_time": "2022-08-02T08:20:03.641Z"
   },
   {
    "duration": 11,
    "start_time": "2022-08-02T08:20:05.585Z"
   },
   {
    "duration": 1218,
    "start_time": "2022-08-02T08:21:00.265Z"
   },
   {
    "duration": 1004,
    "start_time": "2022-08-02T08:21:01.485Z"
   },
   {
    "duration": 1471,
    "start_time": "2022-08-02T08:21:02.491Z"
   },
   {
    "duration": 70092,
    "start_time": "2022-08-02T08:21:03.964Z"
   },
   {
    "duration": 11,
    "start_time": "2022-08-02T08:22:14.058Z"
   },
   {
    "duration": 41,
    "start_time": "2022-08-02T08:22:14.071Z"
   },
   {
    "duration": 94,
    "start_time": "2022-08-02T08:22:14.113Z"
   },
   {
    "duration": 7,
    "start_time": "2022-08-02T08:22:14.208Z"
   },
   {
    "duration": 3758,
    "start_time": "2022-08-02T08:22:14.217Z"
   },
   {
    "duration": 5,
    "start_time": "2022-08-02T08:22:17.977Z"
   },
   {
    "duration": 14077,
    "start_time": "2022-08-02T08:22:17.984Z"
   },
   {
    "duration": 1185,
    "start_time": "2022-08-02T08:22:32.063Z"
   },
   {
    "duration": 10,
    "start_time": "2022-08-02T08:22:33.250Z"
   },
   {
    "duration": 73467,
    "start_time": "2022-08-02T08:22:33.263Z"
   },
   {
    "duration": 4,
    "start_time": "2022-08-02T08:23:46.731Z"
   },
   {
    "duration": 368325,
    "start_time": "2022-08-02T08:23:46.736Z"
   },
   {
    "duration": 4,
    "start_time": "2022-08-02T08:29:55.063Z"
   },
   {
    "duration": 14,
    "start_time": "2022-08-02T08:29:55.069Z"
   },
   {
    "duration": 1327,
    "start_time": "2022-08-02T08:29:55.085Z"
   },
   {
    "duration": 4,
    "start_time": "2022-08-02T08:46:47.180Z"
   },
   {
    "duration": 4,
    "start_time": "2022-08-02T08:46:54.470Z"
   },
   {
    "duration": 40,
    "start_time": "2022-08-02T08:47:22.493Z"
   },
   {
    "duration": 82,
    "start_time": "2022-08-02T08:52:57.608Z"
   },
   {
    "duration": 143,
    "start_time": "2022-08-02T08:54:40.036Z"
   },
   {
    "duration": 51,
    "start_time": "2022-08-02T08:55:11.716Z"
   },
   {
    "duration": 1227,
    "start_time": "2022-08-02T08:58:16.676Z"
   },
   {
    "duration": 1021,
    "start_time": "2022-08-02T08:58:17.905Z"
   },
   {
    "duration": 1509,
    "start_time": "2022-08-02T08:58:18.928Z"
   },
   {
    "duration": 0,
    "start_time": "2022-08-02T08:58:20.438Z"
   },
   {
    "duration": 0,
    "start_time": "2022-08-02T08:58:20.440Z"
   },
   {
    "duration": 0,
    "start_time": "2022-08-02T08:58:20.441Z"
   },
   {
    "duration": 0,
    "start_time": "2022-08-02T08:58:20.453Z"
   },
   {
    "duration": 0,
    "start_time": "2022-08-02T08:58:20.454Z"
   },
   {
    "duration": 0,
    "start_time": "2022-08-02T08:58:20.455Z"
   },
   {
    "duration": 0,
    "start_time": "2022-08-02T08:58:20.456Z"
   },
   {
    "duration": 0,
    "start_time": "2022-08-02T08:58:20.457Z"
   },
   {
    "duration": 0,
    "start_time": "2022-08-02T08:58:20.458Z"
   },
   {
    "duration": 0,
    "start_time": "2022-08-02T08:58:20.459Z"
   },
   {
    "duration": 0,
    "start_time": "2022-08-02T08:58:20.461Z"
   },
   {
    "duration": 0,
    "start_time": "2022-08-02T08:58:20.462Z"
   },
   {
    "duration": 0,
    "start_time": "2022-08-02T08:58:20.463Z"
   },
   {
    "duration": 0,
    "start_time": "2022-08-02T08:58:20.463Z"
   },
   {
    "duration": 0,
    "start_time": "2022-08-02T08:58:20.464Z"
   },
   {
    "duration": 0,
    "start_time": "2022-08-02T08:58:20.465Z"
   },
   {
    "duration": 0,
    "start_time": "2022-08-02T08:58:20.466Z"
   },
   {
    "duration": 452,
    "start_time": "2022-08-02T09:07:50.363Z"
   },
   {
    "duration": 1325,
    "start_time": "2022-08-02T15:48:00.967Z"
   },
   {
    "duration": 2506,
    "start_time": "2022-08-02T15:48:02.294Z"
   },
   {
    "duration": 2258,
    "start_time": "2022-08-02T15:48:04.802Z"
   },
   {
    "duration": 0,
    "start_time": "2022-08-02T15:48:07.063Z"
   },
   {
    "duration": 0,
    "start_time": "2022-08-02T15:48:07.064Z"
   },
   {
    "duration": 0,
    "start_time": "2022-08-02T15:48:07.065Z"
   },
   {
    "duration": 0,
    "start_time": "2022-08-02T15:48:07.066Z"
   },
   {
    "duration": 0,
    "start_time": "2022-08-02T15:48:07.067Z"
   },
   {
    "duration": 0,
    "start_time": "2022-08-02T15:48:07.068Z"
   },
   {
    "duration": 0,
    "start_time": "2022-08-02T15:48:07.069Z"
   },
   {
    "duration": 0,
    "start_time": "2022-08-02T15:48:07.070Z"
   },
   {
    "duration": 0,
    "start_time": "2022-08-02T15:48:07.071Z"
   },
   {
    "duration": 0,
    "start_time": "2022-08-02T15:48:07.072Z"
   },
   {
    "duration": 0,
    "start_time": "2022-08-02T15:48:07.073Z"
   },
   {
    "duration": 0,
    "start_time": "2022-08-02T15:48:07.087Z"
   },
   {
    "duration": 0,
    "start_time": "2022-08-02T15:48:07.089Z"
   },
   {
    "duration": 0,
    "start_time": "2022-08-02T15:48:07.090Z"
   },
   {
    "duration": 0,
    "start_time": "2022-08-02T15:48:07.091Z"
   },
   {
    "duration": 0,
    "start_time": "2022-08-02T15:48:07.093Z"
   },
   {
    "duration": 0,
    "start_time": "2022-08-02T15:48:07.094Z"
   },
   {
    "duration": 83,
    "start_time": "2022-08-02T15:51:13.354Z"
   },
   {
    "duration": 6,
    "start_time": "2022-08-02T15:51:23.945Z"
   },
   {
    "duration": 56,
    "start_time": "2022-08-02T15:51:38.364Z"
   },
   {
    "duration": 55,
    "start_time": "2022-08-02T15:51:57.194Z"
   },
   {
    "duration": 1297,
    "start_time": "2022-08-02T15:52:39.437Z"
   },
   {
    "duration": 1169,
    "start_time": "2022-08-02T15:52:40.735Z"
   },
   {
    "duration": 1702,
    "start_time": "2022-08-02T15:52:41.906Z"
   },
   {
    "duration": 39,
    "start_time": "2022-08-02T15:52:43.610Z"
   },
   {
    "duration": 1328,
    "start_time": "2022-08-02T16:11:07.758Z"
   },
   {
    "duration": 1160,
    "start_time": "2022-08-02T16:11:09.094Z"
   },
   {
    "duration": 57,
    "start_time": "2022-08-02T16:11:10.255Z"
   },
   {
    "duration": 1742,
    "start_time": "2022-08-02T16:11:10.314Z"
   },
   {
    "duration": 1385,
    "start_time": "2022-08-02T16:17:06.427Z"
   },
   {
    "duration": 1240,
    "start_time": "2022-08-02T16:17:07.815Z"
   },
   {
    "duration": 54,
    "start_time": "2022-08-02T16:17:09.058Z"
   },
   {
    "duration": 1918,
    "start_time": "2022-08-02T16:17:09.114Z"
   },
   {
    "duration": 0,
    "start_time": "2022-08-02T16:17:11.034Z"
   },
   {
    "duration": 0,
    "start_time": "2022-08-02T16:17:11.036Z"
   },
   {
    "duration": 0,
    "start_time": "2022-08-02T16:17:11.037Z"
   },
   {
    "duration": 0,
    "start_time": "2022-08-02T16:17:11.039Z"
   },
   {
    "duration": 0,
    "start_time": "2022-08-02T16:17:11.040Z"
   },
   {
    "duration": 0,
    "start_time": "2022-08-02T16:17:11.041Z"
   },
   {
    "duration": 0,
    "start_time": "2022-08-02T16:17:11.042Z"
   },
   {
    "duration": 0,
    "start_time": "2022-08-02T16:17:11.043Z"
   },
   {
    "duration": 0,
    "start_time": "2022-08-02T16:17:11.044Z"
   },
   {
    "duration": 0,
    "start_time": "2022-08-02T16:17:11.045Z"
   },
   {
    "duration": 0,
    "start_time": "2022-08-02T16:17:11.046Z"
   },
   {
    "duration": 0,
    "start_time": "2022-08-02T16:17:11.047Z"
   },
   {
    "duration": 0,
    "start_time": "2022-08-02T16:17:11.048Z"
   },
   {
    "duration": 0,
    "start_time": "2022-08-02T16:17:11.049Z"
   },
   {
    "duration": 0,
    "start_time": "2022-08-02T16:17:11.051Z"
   },
   {
    "duration": 0,
    "start_time": "2022-08-02T16:17:11.052Z"
   },
   {
    "duration": 0,
    "start_time": "2022-08-02T16:17:11.054Z"
   },
   {
    "duration": 1419,
    "start_time": "2022-08-02T16:18:56.207Z"
   },
   {
    "duration": 1164,
    "start_time": "2022-08-02T16:18:57.629Z"
   },
   {
    "duration": 43,
    "start_time": "2022-08-02T16:18:58.797Z"
   },
   {
    "duration": 1661,
    "start_time": "2022-08-02T16:18:58.842Z"
   },
   {
    "duration": 1117937,
    "start_time": "2022-08-02T16:19:00.505Z"
   },
   {
    "duration": 158,
    "start_time": "2022-08-02T16:37:38.444Z"
   },
   {
    "duration": 32,
    "start_time": "2022-08-02T16:37:38.604Z"
   },
   {
    "duration": 110,
    "start_time": "2022-08-02T16:37:38.638Z"
   },
   {
    "duration": 11,
    "start_time": "2022-08-02T16:37:38.750Z"
   },
   {
    "duration": 3803,
    "start_time": "2022-08-02T16:37:38.763Z"
   },
   {
    "duration": 5,
    "start_time": "2022-08-02T16:37:42.568Z"
   },
   {
    "duration": 12542,
    "start_time": "2022-08-02T16:37:42.575Z"
   },
   {
    "duration": 1237,
    "start_time": "2022-08-02T16:37:55.119Z"
   },
   {
    "duration": 16,
    "start_time": "2022-08-02T16:37:56.358Z"
   },
   {
    "duration": 76895,
    "start_time": "2022-08-02T16:37:56.376Z"
   },
   {
    "duration": 7,
    "start_time": "2022-08-02T16:39:13.274Z"
   },
   {
    "duration": 385010,
    "start_time": "2022-08-02T16:39:13.283Z"
   },
   {
    "duration": 3,
    "start_time": "2022-08-02T16:45:38.295Z"
   },
   {
    "duration": 11,
    "start_time": "2022-08-02T16:45:38.300Z"
   },
   {
    "duration": 1166,
    "start_time": "2022-08-02T16:45:38.312Z"
   },
   {
    "duration": 54,
    "start_time": "2022-08-02T16:45:39.479Z"
   },
   {
    "duration": 3712,
    "start_time": "2022-08-02T17:07:53.463Z"
   },
   {
    "duration": 6,
    "start_time": "2022-08-02T17:08:01.143Z"
   },
   {
    "duration": 13329,
    "start_time": "2022-08-02T17:08:04.583Z"
   },
   {
    "duration": 1218,
    "start_time": "2022-08-02T17:08:20.663Z"
   },
   {
    "duration": 12,
    "start_time": "2022-08-02T17:08:24.278Z"
   },
   {
    "duration": 4,
    "start_time": "2022-08-02T17:11:36.619Z"
   },
   {
    "duration": 13186,
    "start_time": "2022-08-02T17:11:43.033Z"
   },
   {
    "duration": 13586,
    "start_time": "2022-08-02T17:12:35.918Z"
   },
   {
    "duration": 5,
    "start_time": "2022-08-02T17:14:08.877Z"
   },
   {
    "duration": 13444,
    "start_time": "2022-08-02T17:14:17.162Z"
   },
   {
    "duration": 13268,
    "start_time": "2022-08-02T17:15:13.639Z"
   },
   {
    "duration": 0,
    "start_time": "2022-08-02T17:16:44.409Z"
   },
   {
    "duration": 1265,
    "start_time": "2022-08-02T17:31:32.954Z"
   },
   {
    "duration": 1079,
    "start_time": "2022-08-02T17:31:34.221Z"
   },
   {
    "duration": 38,
    "start_time": "2022-08-02T17:31:35.302Z"
   },
   {
    "duration": 1729,
    "start_time": "2022-08-02T17:31:35.343Z"
   },
   {
    "duration": 1067622,
    "start_time": "2022-08-02T17:31:37.074Z"
   },
   {
    "duration": 5,
    "start_time": "2022-08-02T17:49:24.697Z"
   },
   {
    "duration": 33,
    "start_time": "2022-08-02T17:49:24.703Z"
   },
   {
    "duration": 105,
    "start_time": "2022-08-02T17:49:24.737Z"
   },
   {
    "duration": 7,
    "start_time": "2022-08-02T17:49:24.844Z"
   },
   {
    "duration": 3888,
    "start_time": "2022-08-02T17:49:24.854Z"
   },
   {
    "duration": 6,
    "start_time": "2022-08-02T17:49:28.745Z"
   },
   {
    "duration": 13654,
    "start_time": "2022-08-02T17:49:28.753Z"
   },
   {
    "duration": 1176,
    "start_time": "2022-08-02T17:49:42.409Z"
   },
   {
    "duration": 12,
    "start_time": "2022-08-02T17:49:43.586Z"
   },
   {
    "duration": 5564294,
    "start_time": "2022-08-02T17:49:43.600Z"
   },
   {
    "duration": 56,
    "start_time": "2022-08-02T19:22:27.896Z"
   },
   {
    "duration": 0,
    "start_time": "2022-08-02T19:22:27.953Z"
   },
   {
    "duration": 0,
    "start_time": "2022-08-02T19:22:27.955Z"
   },
   {
    "duration": 0,
    "start_time": "2022-08-02T19:22:27.957Z"
   },
   {
    "duration": 0,
    "start_time": "2022-08-02T19:22:27.958Z"
   },
   {
    "duration": 0,
    "start_time": "2022-08-02T19:22:27.960Z"
   },
   {
    "duration": 0,
    "start_time": "2022-08-02T19:22:27.961Z"
   },
   {
    "duration": 72,
    "start_time": "2022-08-03T10:36:08.759Z"
   },
   {
    "duration": 4,
    "start_time": "2022-08-03T10:39:08.318Z"
   },
   {
    "duration": 1355,
    "start_time": "2022-08-03T11:08:29.636Z"
   },
   {
    "duration": 2628,
    "start_time": "2022-08-03T11:08:30.993Z"
   },
   {
    "duration": 34,
    "start_time": "2022-08-03T11:08:33.623Z"
   },
   {
    "duration": 2101,
    "start_time": "2022-08-03T11:08:33.659Z"
   },
   {
    "duration": 1204,
    "start_time": "2022-08-03T11:21:36.140Z"
   },
   {
    "duration": 1022,
    "start_time": "2022-08-03T11:21:37.347Z"
   },
   {
    "duration": 39,
    "start_time": "2022-08-03T11:21:38.370Z"
   },
   {
    "duration": 1554,
    "start_time": "2022-08-03T11:21:38.411Z"
   },
   {
    "duration": 1189,
    "start_time": "2022-08-03T13:52:16.111Z"
   },
   {
    "duration": 2401,
    "start_time": "2022-08-03T13:52:17.303Z"
   },
   {
    "duration": 2,
    "start_time": "2022-08-03T13:52:19.705Z"
   },
   {
    "duration": 2133,
    "start_time": "2022-08-03T13:52:19.709Z"
   },
   {
    "duration": 1263,
    "start_time": "2022-08-03T13:56:29.366Z"
   },
   {
    "duration": 985,
    "start_time": "2022-08-03T13:56:30.631Z"
   },
   {
    "duration": 2,
    "start_time": "2022-08-03T13:56:31.618Z"
   },
   {
    "duration": 1559,
    "start_time": "2022-08-03T13:56:31.622Z"
   },
   {
    "duration": 1347,
    "start_time": "2022-08-03T14:07:24.550Z"
   },
   {
    "duration": 980,
    "start_time": "2022-08-03T14:07:25.899Z"
   },
   {
    "duration": 2,
    "start_time": "2022-08-03T14:07:26.881Z"
   },
   {
    "duration": 1608,
    "start_time": "2022-08-03T14:07:26.885Z"
   },
   {
    "duration": 1218,
    "start_time": "2022-08-03T14:20:05.664Z"
   },
   {
    "duration": 958,
    "start_time": "2022-08-03T14:20:06.884Z"
   },
   {
    "duration": 2,
    "start_time": "2022-08-03T14:20:07.843Z"
   },
   {
    "duration": 1593,
    "start_time": "2022-08-03T14:20:07.847Z"
   },
   {
    "duration": 1049416,
    "start_time": "2022-08-03T14:20:09.441Z"
   },
   {
    "duration": 167,
    "start_time": "2022-08-03T14:37:38.858Z"
   },
   {
    "duration": 29,
    "start_time": "2022-08-03T14:37:39.027Z"
   },
   {
    "duration": 83,
    "start_time": "2022-08-03T14:37:39.058Z"
   },
   {
    "duration": 16,
    "start_time": "2022-08-03T14:37:39.142Z"
   },
   {
    "duration": 3727,
    "start_time": "2022-08-03T14:37:39.160Z"
   },
   {
    "duration": 11,
    "start_time": "2022-08-03T14:37:42.888Z"
   },
   {
    "duration": 12276,
    "start_time": "2022-08-03T14:37:42.902Z"
   },
   {
    "duration": 1204,
    "start_time": "2022-08-03T14:37:55.180Z"
   },
   {
    "duration": 11,
    "start_time": "2022-08-03T14:37:56.386Z"
   },
   {
    "duration": 71982,
    "start_time": "2022-08-03T14:37:56.399Z"
   },
   {
    "duration": 4,
    "start_time": "2022-08-03T14:39:08.383Z"
   },
   {
    "duration": 359940,
    "start_time": "2022-08-03T14:39:08.389Z"
   },
   {
    "duration": 4,
    "start_time": "2022-08-03T14:45:08.331Z"
   },
   {
    "duration": 21,
    "start_time": "2022-08-03T14:45:08.337Z"
   },
   {
    "duration": 1155,
    "start_time": "2022-08-03T14:45:08.360Z"
   },
   {
    "duration": 87743,
    "start_time": "2022-08-03T14:45:09.517Z"
   },
   {
    "duration": 175,
    "start_time": "2022-08-03T15:24:28.235Z"
   },
   {
    "duration": 61,
    "start_time": "2022-08-03T15:30:48.237Z"
   },
   {
    "duration": 43,
    "start_time": "2022-08-03T15:31:01.436Z"
   },
   {
    "duration": 150,
    "start_time": "2022-08-03T15:31:38.101Z"
   },
   {
    "duration": 36,
    "start_time": "2022-08-03T15:32:27.666Z"
   },
   {
    "duration": 9,
    "start_time": "2022-08-03T15:35:04.240Z"
   },
   {
    "duration": 106090,
    "start_time": "2022-08-03T15:35:13.364Z"
   },
   {
    "duration": 3,
    "start_time": "2022-08-03T15:36:59.456Z"
   },
   {
    "duration": 14,
    "start_time": "2022-08-03T15:42:35.507Z"
   },
   {
    "duration": 14,
    "start_time": "2022-08-03T15:45:59.252Z"
   },
   {
    "duration": 1216,
    "start_time": "2022-08-03T15:46:26.883Z"
   },
   {
    "duration": 984,
    "start_time": "2022-08-03T15:46:28.101Z"
   },
   {
    "duration": 2,
    "start_time": "2022-08-03T15:46:29.087Z"
   },
   {
    "duration": 291,
    "start_time": "2022-08-03T15:46:29.091Z"
   },
   {
    "duration": 0,
    "start_time": "2022-08-03T15:46:29.384Z"
   },
   {
    "duration": 0,
    "start_time": "2022-08-03T15:46:29.385Z"
   },
   {
    "duration": 0,
    "start_time": "2022-08-03T15:46:29.386Z"
   },
   {
    "duration": 0,
    "start_time": "2022-08-03T15:46:29.387Z"
   },
   {
    "duration": 0,
    "start_time": "2022-08-03T15:46:29.388Z"
   },
   {
    "duration": 0,
    "start_time": "2022-08-03T15:46:29.396Z"
   },
   {
    "duration": 0,
    "start_time": "2022-08-03T15:46:29.397Z"
   },
   {
    "duration": 0,
    "start_time": "2022-08-03T15:46:29.398Z"
   },
   {
    "duration": 0,
    "start_time": "2022-08-03T15:46:29.399Z"
   },
   {
    "duration": 0,
    "start_time": "2022-08-03T15:46:29.400Z"
   },
   {
    "duration": 0,
    "start_time": "2022-08-03T15:46:29.401Z"
   },
   {
    "duration": 0,
    "start_time": "2022-08-03T15:46:29.402Z"
   },
   {
    "duration": 0,
    "start_time": "2022-08-03T15:46:29.403Z"
   },
   {
    "duration": 0,
    "start_time": "2022-08-03T15:46:29.404Z"
   },
   {
    "duration": 0,
    "start_time": "2022-08-03T15:46:29.405Z"
   },
   {
    "duration": 0,
    "start_time": "2022-08-03T15:46:29.405Z"
   },
   {
    "duration": 0,
    "start_time": "2022-08-03T15:46:29.406Z"
   },
   {
    "duration": 0,
    "start_time": "2022-08-03T15:46:29.407Z"
   },
   {
    "duration": 0,
    "start_time": "2022-08-03T15:46:29.408Z"
   },
   {
    "duration": 0,
    "start_time": "2022-08-03T15:46:29.409Z"
   },
   {
    "duration": 53,
    "start_time": "2022-08-03T15:47:13.746Z"
   },
   {
    "duration": 45,
    "start_time": "2022-08-03T15:47:56.973Z"
   },
   {
    "duration": 1402,
    "start_time": "2022-08-03T15:49:17.764Z"
   },
   {
    "duration": 54,
    "start_time": "2022-08-03T15:50:48.560Z"
   },
   {
    "duration": 37,
    "start_time": "2022-08-03T15:51:16.414Z"
   },
   {
    "duration": 237,
    "start_time": "2022-08-03T15:53:14.495Z"
   },
   {
    "duration": 104933,
    "start_time": "2022-08-03T15:53:49.705Z"
   },
   {
    "duration": 4,
    "start_time": "2022-08-03T15:55:34.639Z"
   },
   {
    "duration": 9,
    "start_time": "2022-08-03T15:59:44.440Z"
   },
   {
    "duration": 13,
    "start_time": "2022-08-03T16:00:56.843Z"
   },
   {
    "duration": 12,
    "start_time": "2022-08-03T16:04:42.923Z"
   },
   {
    "duration": 13,
    "start_time": "2022-08-03T16:05:00.460Z"
   },
   {
    "duration": 1197,
    "start_time": "2022-08-03T16:05:12.617Z"
   },
   {
    "duration": 1023,
    "start_time": "2022-08-03T16:05:13.816Z"
   },
   {
    "duration": 2,
    "start_time": "2022-08-03T16:05:14.841Z"
   },
   {
    "duration": 250,
    "start_time": "2022-08-03T16:05:14.857Z"
   },
   {
    "duration": 176,
    "start_time": "2022-08-03T16:05:15.109Z"
   },
   {
    "duration": 0,
    "start_time": "2022-08-03T16:05:15.287Z"
   },
   {
    "duration": 0,
    "start_time": "2022-08-03T16:05:15.289Z"
   },
   {
    "duration": 0,
    "start_time": "2022-08-03T16:05:15.290Z"
   },
   {
    "duration": 0,
    "start_time": "2022-08-03T16:05:15.292Z"
   },
   {
    "duration": 0,
    "start_time": "2022-08-03T16:05:15.293Z"
   },
   {
    "duration": 0,
    "start_time": "2022-08-03T16:05:15.294Z"
   },
   {
    "duration": 0,
    "start_time": "2022-08-03T16:05:15.296Z"
   },
   {
    "duration": 0,
    "start_time": "2022-08-03T16:05:15.297Z"
   },
   {
    "duration": 0,
    "start_time": "2022-08-03T16:05:15.308Z"
   },
   {
    "duration": 0,
    "start_time": "2022-08-03T16:05:15.310Z"
   },
   {
    "duration": 0,
    "start_time": "2022-08-03T16:05:15.311Z"
   },
   {
    "duration": 0,
    "start_time": "2022-08-03T16:05:15.312Z"
   },
   {
    "duration": 0,
    "start_time": "2022-08-03T16:05:15.313Z"
   },
   {
    "duration": 0,
    "start_time": "2022-08-03T16:05:15.314Z"
   },
   {
    "duration": 0,
    "start_time": "2022-08-03T16:05:15.315Z"
   },
   {
    "duration": 0,
    "start_time": "2022-08-03T16:05:15.357Z"
   },
   {
    "duration": 0,
    "start_time": "2022-08-03T16:05:15.359Z"
   },
   {
    "duration": 0,
    "start_time": "2022-08-03T16:05:15.360Z"
   },
   {
    "duration": 0,
    "start_time": "2022-08-03T16:05:15.361Z"
   },
   {
    "duration": 0,
    "start_time": "2022-08-03T16:05:15.362Z"
   },
   {
    "duration": 0,
    "start_time": "2022-08-03T16:05:15.363Z"
   },
   {
    "duration": 37,
    "start_time": "2022-08-03T16:06:19.666Z"
   },
   {
    "duration": 37,
    "start_time": "2022-08-03T16:06:57.036Z"
   },
   {
    "duration": 45,
    "start_time": "2022-08-03T16:07:58.909Z"
   },
   {
    "duration": 1251,
    "start_time": "2022-08-03T16:08:04.998Z"
   },
   {
    "duration": 106511,
    "start_time": "2022-08-03T16:08:35.401Z"
   },
   {
    "duration": 4,
    "start_time": "2022-08-03T16:10:21.914Z"
   },
   {
    "duration": 15,
    "start_time": "2022-08-03T16:10:21.920Z"
   },
   {
    "duration": 1264,
    "start_time": "2022-08-03T16:19:30.835Z"
   },
   {
    "duration": 982,
    "start_time": "2022-08-03T16:19:32.100Z"
   },
   {
    "duration": 3,
    "start_time": "2022-08-03T16:19:33.084Z"
   },
   {
    "duration": 268,
    "start_time": "2022-08-03T16:19:33.089Z"
   },
   {
    "duration": 1177,
    "start_time": "2022-08-03T16:19:33.359Z"
   },
   {
    "duration": 104241,
    "start_time": "2022-08-03T16:19:34.538Z"
   },
   {
    "duration": 4,
    "start_time": "2022-08-03T16:21:18.781Z"
   },
   {
    "duration": 14,
    "start_time": "2022-08-03T16:21:18.786Z"
   },
   {
    "duration": 3,
    "start_time": "2022-08-03T16:21:18.801Z"
   },
   {
    "duration": 11,
    "start_time": "2022-08-03T16:21:18.806Z"
   },
   {
    "duration": 103,
    "start_time": "2022-08-03T16:21:18.818Z"
   },
   {
    "duration": 7,
    "start_time": "2022-08-03T16:21:18.922Z"
   },
   {
    "duration": 2840,
    "start_time": "2022-08-03T16:21:18.931Z"
   },
   {
    "duration": 5,
    "start_time": "2022-08-03T16:21:21.773Z"
   },
   {
    "duration": 12498,
    "start_time": "2022-08-03T16:21:21.779Z"
   },
   {
    "duration": 837,
    "start_time": "2022-08-03T16:21:34.278Z"
   },
   {
    "duration": 11,
    "start_time": "2022-08-03T16:21:35.117Z"
   },
   {
    "duration": 1201,
    "start_time": "2022-08-03T16:31:31.696Z"
   },
   {
    "duration": 988,
    "start_time": "2022-08-03T16:31:32.899Z"
   },
   {
    "duration": 3,
    "start_time": "2022-08-03T16:31:33.889Z"
   },
   {
    "duration": 170,
    "start_time": "2022-08-03T16:31:33.894Z"
   },
   {
    "duration": 1187,
    "start_time": "2022-08-03T16:31:34.066Z"
   },
   {
    "duration": 102911,
    "start_time": "2022-08-03T16:31:35.256Z"
   },
   {
    "duration": 4,
    "start_time": "2022-08-03T16:33:18.168Z"
   },
   {
    "duration": 13,
    "start_time": "2022-08-03T16:33:18.173Z"
   },
   {
    "duration": 4,
    "start_time": "2022-08-03T16:33:18.187Z"
   },
   {
    "duration": 12,
    "start_time": "2022-08-03T16:33:18.193Z"
   },
   {
    "duration": 101,
    "start_time": "2022-08-03T16:33:18.206Z"
   },
   {
    "duration": 7,
    "start_time": "2022-08-03T16:33:18.309Z"
   },
   {
    "duration": 2755,
    "start_time": "2022-08-03T16:33:18.318Z"
   },
   {
    "duration": 5,
    "start_time": "2022-08-03T16:33:21.074Z"
   },
   {
    "duration": 12496,
    "start_time": "2022-08-03T16:33:21.081Z"
   },
   {
    "duration": 845,
    "start_time": "2022-08-03T16:33:33.578Z"
   },
   {
    "duration": 11,
    "start_time": "2022-08-03T16:33:34.425Z"
   },
   {
    "duration": 5091632,
    "start_time": "2022-08-03T16:33:34.437Z"
   },
   {
    "duration": 82968,
    "start_time": "2022-08-03T17:58:26.071Z"
   },
   {
    "duration": 4,
    "start_time": "2022-08-03T17:59:49.040Z"
   },
   {
    "duration": 406694,
    "start_time": "2022-08-03T17:59:49.045Z"
   },
   {
    "duration": 4,
    "start_time": "2022-08-03T18:06:35.741Z"
   },
   {
    "duration": 18,
    "start_time": "2022-08-03T18:06:35.747Z"
   },
   {
    "duration": 832,
    "start_time": "2022-08-03T18:06:35.766Z"
   },
   {
    "duration": 106968,
    "start_time": "2022-08-03T18:06:36.600Z"
   },
   {
    "duration": 51,
    "start_time": "2022-08-04T03:56:40.899Z"
   },
   {
    "duration": 1392,
    "start_time": "2022-08-04T03:57:16.866Z"
   },
   {
    "duration": 3758,
    "start_time": "2022-08-04T03:57:18.260Z"
   },
   {
    "duration": 2,
    "start_time": "2022-08-04T03:57:22.020Z"
   },
   {
    "duration": 618,
    "start_time": "2022-08-04T03:57:22.024Z"
   },
   {
    "duration": 1372,
    "start_time": "2022-08-04T03:57:22.644Z"
   },
   {
    "duration": 125201,
    "start_time": "2022-08-04T03:57:24.018Z"
   },
   {
    "duration": 4,
    "start_time": "2022-08-04T03:59:29.220Z"
   },
   {
    "duration": 27,
    "start_time": "2022-08-04T03:59:29.225Z"
   },
   {
    "duration": 12,
    "start_time": "2022-08-04T03:59:29.254Z"
   },
   {
    "duration": 12,
    "start_time": "2022-08-04T03:59:29.268Z"
   },
   {
    "duration": 110,
    "start_time": "2022-08-04T03:59:29.282Z"
   },
   {
    "duration": 9,
    "start_time": "2022-08-04T03:59:29.394Z"
   },
   {
    "duration": 3381,
    "start_time": "2022-08-04T03:59:29.404Z"
   },
   {
    "duration": 6,
    "start_time": "2022-08-04T03:59:32.787Z"
   },
   {
    "duration": 12116,
    "start_time": "2022-08-04T03:59:32.794Z"
   },
   {
    "duration": 1118,
    "start_time": "2022-08-04T03:59:44.912Z"
   },
   {
    "duration": 13,
    "start_time": "2022-08-04T03:59:46.032Z"
   },
   {
    "duration": 5462271,
    "start_time": "2022-08-04T03:59:46.047Z"
   },
   {
    "duration": 114995,
    "start_time": "2022-08-04T05:30:48.321Z"
   },
   {
    "duration": 4,
    "start_time": "2022-08-04T05:32:43.318Z"
   },
   {
    "duration": 568798,
    "start_time": "2022-08-04T05:32:43.324Z"
   },
   {
    "duration": 5,
    "start_time": "2022-08-04T05:42:12.124Z"
   },
   {
    "duration": 22,
    "start_time": "2022-08-04T05:42:12.131Z"
   },
   {
    "duration": 1158,
    "start_time": "2022-08-04T05:42:12.155Z"
   },
   {
    "duration": 106101,
    "start_time": "2022-08-04T05:42:13.315Z"
   },
   {
    "duration": 14642,
    "start_time": "2022-08-04T07:59:31.716Z"
   },
   {
    "duration": 13456,
    "start_time": "2022-08-04T07:59:46.360Z"
   },
   {
    "duration": 2075,
    "start_time": "2022-08-04T07:59:59.820Z"
   },
   {
    "duration": 33,
    "start_time": "2022-08-04T08:00:01.898Z"
   },
   {
    "duration": 16976,
    "start_time": "2022-08-04T08:00:19.069Z"
   },
   {
    "duration": 16421,
    "start_time": "2022-08-04T08:04:13.655Z"
   },
   {
    "duration": 3189,
    "start_time": "2022-08-04T08:04:30.078Z"
   },
   {
    "duration": 14,
    "start_time": "2022-08-04T08:04:35.158Z"
   },
   {
    "duration": 1249,
    "start_time": "2022-08-05T08:55:59.521Z"
   },
   {
    "duration": 2621,
    "start_time": "2022-08-05T08:56:00.772Z"
   },
   {
    "duration": 2,
    "start_time": "2022-08-05T08:56:03.395Z"
   },
   {
    "duration": 682,
    "start_time": "2022-08-05T08:56:03.399Z"
   },
   {
    "duration": 1250,
    "start_time": "2022-08-05T08:56:04.082Z"
   },
   {
    "duration": 112692,
    "start_time": "2022-08-05T08:56:05.333Z"
   },
   {
    "duration": 4,
    "start_time": "2022-08-05T08:57:58.026Z"
   },
   {
    "duration": 16,
    "start_time": "2022-08-05T08:57:58.031Z"
   },
   {
    "duration": 7,
    "start_time": "2022-08-05T08:57:58.048Z"
   },
   {
    "duration": 7,
    "start_time": "2022-08-05T08:57:58.058Z"
   },
   {
    "duration": 77,
    "start_time": "2022-08-05T08:57:58.066Z"
   },
   {
    "duration": 7,
    "start_time": "2022-08-05T08:57:58.144Z"
   },
   {
    "duration": 12840,
    "start_time": "2022-08-05T08:57:58.153Z"
   },
   {
    "duration": 5,
    "start_time": "2022-08-05T08:58:10.994Z"
   },
   {
    "duration": 14302,
    "start_time": "2022-08-05T08:58:11.001Z"
   },
   {
    "duration": 2206,
    "start_time": "2022-08-05T08:58:25.305Z"
   },
   {
    "duration": 13,
    "start_time": "2022-08-05T08:58:27.512Z"
   },
   {
    "duration": 434458,
    "start_time": "2022-08-05T08:58:27.526Z"
   },
   {
    "duration": 4,
    "start_time": "2022-08-05T09:05:41.985Z"
   },
   {
    "duration": 1266,
    "start_time": "2022-08-05T10:01:39.530Z"
   },
   {
    "duration": 1143,
    "start_time": "2022-08-05T10:01:40.798Z"
   },
   {
    "duration": 3,
    "start_time": "2022-08-05T10:01:41.942Z"
   },
   {
    "duration": 253,
    "start_time": "2022-08-05T10:01:41.947Z"
   },
   {
    "duration": 1299,
    "start_time": "2022-08-05T10:01:42.201Z"
   },
   {
    "duration": 114335,
    "start_time": "2022-08-05T10:01:43.502Z"
   },
   {
    "duration": 3,
    "start_time": "2022-08-05T10:03:37.839Z"
   },
   {
    "duration": 13,
    "start_time": "2022-08-05T10:03:37.843Z"
   },
   {
    "duration": 8,
    "start_time": "2022-08-05T10:03:37.858Z"
   },
   {
    "duration": 7,
    "start_time": "2022-08-05T10:03:37.868Z"
   },
   {
    "duration": 82,
    "start_time": "2022-08-05T10:03:37.877Z"
   },
   {
    "duration": 7,
    "start_time": "2022-08-05T10:03:37.960Z"
   },
   {
    "duration": 13119,
    "start_time": "2022-08-05T10:03:37.969Z"
   },
   {
    "duration": 5,
    "start_time": "2022-08-05T10:03:51.090Z"
   },
   {
    "duration": 14222,
    "start_time": "2022-08-05T10:03:51.096Z"
   },
   {
    "duration": 2191,
    "start_time": "2022-08-05T10:04:05.320Z"
   },
   {
    "duration": 12,
    "start_time": "2022-08-05T10:04:07.512Z"
   },
   {
    "duration": 420427,
    "start_time": "2022-08-05T10:04:07.525Z"
   },
   {
    "duration": 3,
    "start_time": "2022-08-05T10:11:07.954Z"
   },
   {
    "duration": 3672427,
    "start_time": "2022-08-05T10:11:07.958Z"
   },
   {
    "duration": 5,
    "start_time": "2022-08-05T11:12:20.386Z"
   },
   {
    "duration": 24,
    "start_time": "2022-08-05T11:12:20.392Z"
   },
   {
    "duration": 29106,
    "start_time": "2022-08-05T11:12:20.417Z"
   },
   {
    "duration": 1996,
    "start_time": "2022-08-05T13:13:28.895Z"
   },
   {
    "duration": 3600,
    "start_time": "2022-08-05T13:13:30.893Z"
   },
   {
    "duration": 3,
    "start_time": "2022-08-05T13:13:34.495Z"
   },
   {
    "duration": 2278,
    "start_time": "2022-08-05T13:13:34.507Z"
   },
   {
    "duration": 55,
    "start_time": "2022-08-05T16:07:01.245Z"
   },
   {
    "duration": 1394,
    "start_time": "2022-08-05T16:07:10.684Z"
   },
   {
    "duration": 2635,
    "start_time": "2022-08-05T16:07:14.270Z"
   },
   {
    "duration": 2048,
    "start_time": "2022-08-05T16:50:05.129Z"
   },
   {
    "duration": 2039,
    "start_time": "2022-08-05T16:56:11.104Z"
   },
   {
    "duration": 2046,
    "start_time": "2022-08-05T16:56:26.889Z"
   },
   {
    "duration": 13,
    "start_time": "2022-08-05T16:56:57.729Z"
   },
   {
    "duration": 2120,
    "start_time": "2022-08-05T16:57:54.460Z"
   },
   {
    "duration": 24,
    "start_time": "2022-08-05T16:58:04.469Z"
   },
   {
    "duration": 44,
    "start_time": "2022-08-05T16:59:46.630Z"
   },
   {
    "duration": 49,
    "start_time": "2022-08-05T17:00:10.395Z"
   },
   {
    "duration": 1102979,
    "start_time": "2022-08-05T17:19:09.764Z"
   },
   {
    "duration": 12,
    "start_time": "2022-08-06T00:23:04.159Z"
   },
   {
    "duration": 305,
    "start_time": "2022-08-06T00:23:36.979Z"
   },
   {
    "duration": 80,
    "start_time": "2022-08-06T00:23:42.119Z"
   },
   {
    "duration": 15571,
    "start_time": "2022-08-06T00:23:59.984Z"
   },
   {
    "duration": 14764,
    "start_time": "2022-08-06T00:24:24.384Z"
   },
   {
    "duration": 2938,
    "start_time": "2022-08-06T00:24:43.614Z"
   },
   {
    "duration": 13,
    "start_time": "2022-08-06T00:24:48.704Z"
   },
   {
    "duration": 29756,
    "start_time": "2022-08-06T00:25:01.684Z"
   },
   {
    "duration": 1981,
    "start_time": "2022-08-06T00:55:29.834Z"
   },
   {
    "duration": 19,
    "start_time": "2022-08-06T00:57:07.329Z"
   },
   {
    "duration": 2026,
    "start_time": "2022-08-06T00:58:09.048Z"
   },
   {
    "duration": 19,
    "start_time": "2022-08-06T00:58:13.049Z"
   },
   {
    "duration": 16,
    "start_time": "2022-08-06T01:00:13.389Z"
   },
   {
    "duration": 17,
    "start_time": "2022-08-06T01:00:42.049Z"
   },
   {
    "duration": 68,
    "start_time": "2022-08-06T01:02:02.323Z"
   },
   {
    "duration": 1093503,
    "start_time": "2022-08-06T01:02:13.319Z"
   },
   {
    "duration": 125501,
    "start_time": "2022-08-06T01:23:04.840Z"
   },
   {
    "duration": 1263,
    "start_time": "2022-08-06T01:30:16.504Z"
   },
   {
    "duration": 1049,
    "start_time": "2022-08-06T01:30:17.769Z"
   },
   {
    "duration": 3,
    "start_time": "2022-08-06T01:30:18.820Z"
   },
   {
    "duration": 214,
    "start_time": "2022-08-06T01:30:18.826Z"
   },
   {
    "duration": 1066531,
    "start_time": "2022-08-06T01:30:19.042Z"
   },
   {
    "duration": 124210,
    "start_time": "2022-08-06T01:48:05.575Z"
   },
   {
    "duration": 4,
    "start_time": "2022-08-06T01:50:09.787Z"
   },
   {
    "duration": 19,
    "start_time": "2022-08-06T01:50:09.792Z"
   },
   {
    "duration": 7,
    "start_time": "2022-08-06T01:50:09.813Z"
   },
   {
    "duration": 6,
    "start_time": "2022-08-06T01:50:09.823Z"
   },
   {
    "duration": 105,
    "start_time": "2022-08-06T01:50:09.830Z"
   },
   {
    "duration": 7,
    "start_time": "2022-08-06T01:50:09.937Z"
   },
   {
    "duration": 15139,
    "start_time": "2022-08-06T01:50:09.945Z"
   },
   {
    "duration": 5,
    "start_time": "2022-08-06T01:50:25.086Z"
   },
   {
    "duration": 15762,
    "start_time": "2022-08-06T01:50:25.093Z"
   },
   {
    "duration": 2594,
    "start_time": "2022-08-06T01:50:40.857Z"
   },
   {
    "duration": 13,
    "start_time": "2022-08-06T01:50:43.453Z"
   },
   {
    "duration": 684082,
    "start_time": "2022-08-06T01:50:43.468Z"
   },
   {
    "duration": 3,
    "start_time": "2022-08-06T02:02:07.552Z"
   },
   {
    "duration": 1275,
    "start_time": "2022-08-06T03:23:05.721Z"
   },
   {
    "duration": 1126,
    "start_time": "2022-08-06T03:23:06.998Z"
   },
   {
    "duration": 3,
    "start_time": "2022-08-06T03:23:08.126Z"
   },
   {
    "duration": 180,
    "start_time": "2022-08-06T03:23:08.131Z"
   },
   {
    "duration": 17,
    "start_time": "2022-08-06T03:41:06.392Z"
   },
   {
    "duration": 8,
    "start_time": "2022-08-06T03:41:06.410Z"
   },
   {
    "duration": 8,
    "start_time": "2022-08-06T03:41:06.420Z"
   },
   {
    "duration": 102,
    "start_time": "2022-08-06T03:41:06.430Z"
   },
   {
    "duration": 7,
    "start_time": "2022-08-06T03:41:06.534Z"
   },
   {
    "duration": 15151,
    "start_time": "2022-08-06T03:41:06.542Z"
   },
   {
    "duration": 8,
    "start_time": "2022-08-06T03:41:21.695Z"
   },
   {
    "duration": 14727,
    "start_time": "2022-08-06T03:41:21.705Z"
   },
   {
    "duration": 2830,
    "start_time": "2022-08-06T03:41:36.434Z"
   },
   {
    "duration": 12,
    "start_time": "2022-08-06T03:41:39.266Z"
   },
   {
    "duration": 603917,
    "start_time": "2022-08-06T03:41:39.280Z"
   },
   {
    "duration": 5,
    "start_time": "2022-08-06T03:51:43.198Z"
   },
   {
    "duration": 4555612,
    "start_time": "2022-08-06T03:51:43.205Z"
   },
   {
    "duration": 4,
    "start_time": "2022-08-06T05:07:38.818Z"
   },
   {
    "duration": 11,
    "start_time": "2022-08-06T05:07:38.824Z"
   },
   {
    "duration": 29999,
    "start_time": "2022-08-06T05:07:38.837Z"
   },
   {
    "duration": 2171,
    "start_time": "2022-08-06T05:08:08.838Z"
   },
   {
    "duration": 1264,
    "start_time": "2022-08-06T05:10:57.827Z"
   },
   {
    "duration": 1062,
    "start_time": "2022-08-06T05:10:59.093Z"
   },
   {
    "duration": 2,
    "start_time": "2022-08-06T05:11:00.157Z"
   },
   {
    "duration": 272,
    "start_time": "2022-08-06T05:11:00.161Z"
   },
   {
    "duration": 56,
    "start_time": "2022-08-06T05:11:00.434Z"
   },
   {
    "duration": 1,
    "start_time": "2022-08-06T05:11:00.491Z"
   },
   {
    "duration": 0,
    "start_time": "2022-08-06T05:11:00.492Z"
   },
   {
    "duration": 0,
    "start_time": "2022-08-06T05:11:00.493Z"
   },
   {
    "duration": 0,
    "start_time": "2022-08-06T05:11:00.494Z"
   },
   {
    "duration": 0,
    "start_time": "2022-08-06T05:11:00.495Z"
   },
   {
    "duration": 0,
    "start_time": "2022-08-06T05:11:00.496Z"
   },
   {
    "duration": 0,
    "start_time": "2022-08-06T05:11:00.497Z"
   },
   {
    "duration": 0,
    "start_time": "2022-08-06T05:11:00.498Z"
   },
   {
    "duration": 0,
    "start_time": "2022-08-06T05:11:00.499Z"
   },
   {
    "duration": 0,
    "start_time": "2022-08-06T05:11:00.500Z"
   },
   {
    "duration": 0,
    "start_time": "2022-08-06T05:11:00.501Z"
   },
   {
    "duration": 0,
    "start_time": "2022-08-06T05:11:00.502Z"
   },
   {
    "duration": 0,
    "start_time": "2022-08-06T05:11:00.503Z"
   },
   {
    "duration": 0,
    "start_time": "2022-08-06T05:11:00.511Z"
   },
   {
    "duration": 0,
    "start_time": "2022-08-06T05:11:00.512Z"
   },
   {
    "duration": 0,
    "start_time": "2022-08-06T05:11:00.513Z"
   },
   {
    "duration": 1299,
    "start_time": "2022-08-06T05:13:31.727Z"
   },
   {
    "duration": 1083,
    "start_time": "2022-08-06T05:13:33.028Z"
   },
   {
    "duration": 2,
    "start_time": "2022-08-06T05:13:34.113Z"
   },
   {
    "duration": 277,
    "start_time": "2022-08-06T05:13:34.117Z"
   },
   {
    "duration": 75,
    "start_time": "2022-08-06T05:13:34.396Z"
   },
   {
    "duration": 0,
    "start_time": "2022-08-06T05:13:34.473Z"
   },
   {
    "duration": 0,
    "start_time": "2022-08-06T05:13:34.474Z"
   },
   {
    "duration": 0,
    "start_time": "2022-08-06T05:13:34.475Z"
   },
   {
    "duration": 0,
    "start_time": "2022-08-06T05:13:34.476Z"
   },
   {
    "duration": 0,
    "start_time": "2022-08-06T05:13:34.476Z"
   },
   {
    "duration": 0,
    "start_time": "2022-08-06T05:13:34.478Z"
   },
   {
    "duration": 0,
    "start_time": "2022-08-06T05:13:34.479Z"
   },
   {
    "duration": 0,
    "start_time": "2022-08-06T05:13:34.480Z"
   },
   {
    "duration": 0,
    "start_time": "2022-08-06T05:13:34.481Z"
   },
   {
    "duration": 0,
    "start_time": "2022-08-06T05:13:34.482Z"
   },
   {
    "duration": 0,
    "start_time": "2022-08-06T05:13:34.483Z"
   },
   {
    "duration": 0,
    "start_time": "2022-08-06T05:13:34.484Z"
   },
   {
    "duration": 0,
    "start_time": "2022-08-06T05:13:34.485Z"
   },
   {
    "duration": 0,
    "start_time": "2022-08-06T05:13:34.494Z"
   },
   {
    "duration": 0,
    "start_time": "2022-08-06T05:13:34.495Z"
   },
   {
    "duration": 0,
    "start_time": "2022-08-06T05:13:34.496Z"
   },
   {
    "duration": 1314,
    "start_time": "2022-08-06T05:14:20.757Z"
   },
   {
    "duration": 1096,
    "start_time": "2022-08-06T05:14:22.073Z"
   },
   {
    "duration": 2,
    "start_time": "2022-08-06T05:14:23.171Z"
   },
   {
    "duration": 261,
    "start_time": "2022-08-06T05:14:23.175Z"
   },
   {
    "duration": 57,
    "start_time": "2022-08-06T05:14:23.438Z"
   },
   {
    "duration": 0,
    "start_time": "2022-08-06T05:14:23.496Z"
   },
   {
    "duration": 0,
    "start_time": "2022-08-06T05:14:23.498Z"
   },
   {
    "duration": 0,
    "start_time": "2022-08-06T05:14:23.499Z"
   },
   {
    "duration": 0,
    "start_time": "2022-08-06T05:14:23.500Z"
   },
   {
    "duration": 0,
    "start_time": "2022-08-06T05:14:23.501Z"
   },
   {
    "duration": 0,
    "start_time": "2022-08-06T05:14:23.503Z"
   },
   {
    "duration": 0,
    "start_time": "2022-08-06T05:14:23.504Z"
   },
   {
    "duration": 0,
    "start_time": "2022-08-06T05:14:23.505Z"
   },
   {
    "duration": 0,
    "start_time": "2022-08-06T05:14:23.506Z"
   },
   {
    "duration": 0,
    "start_time": "2022-08-06T05:14:23.507Z"
   },
   {
    "duration": 0,
    "start_time": "2022-08-06T05:14:23.508Z"
   },
   {
    "duration": 0,
    "start_time": "2022-08-06T05:14:23.509Z"
   },
   {
    "duration": 0,
    "start_time": "2022-08-06T05:14:23.510Z"
   },
   {
    "duration": 0,
    "start_time": "2022-08-06T05:14:23.518Z"
   },
   {
    "duration": 0,
    "start_time": "2022-08-06T05:14:23.518Z"
   },
   {
    "duration": 0,
    "start_time": "2022-08-06T05:14:23.520Z"
   },
   {
    "duration": 66,
    "start_time": "2022-08-06T05:15:28.817Z"
   },
   {
    "duration": 70,
    "start_time": "2022-08-06T05:16:01.242Z"
   },
   {
    "duration": 1229,
    "start_time": "2022-08-06T05:16:24.641Z"
   },
   {
    "duration": 1059,
    "start_time": "2022-08-06T05:16:25.872Z"
   },
   {
    "duration": 3,
    "start_time": "2022-08-06T05:16:26.933Z"
   },
   {
    "duration": 178,
    "start_time": "2022-08-06T05:16:26.938Z"
   },
   {
    "duration": 1093896,
    "start_time": "2022-08-06T05:16:27.118Z"
   },
   {
    "duration": 12,
    "start_time": "2022-08-06T05:34:41.015Z"
   },
   {
    "duration": 9,
    "start_time": "2022-08-06T05:34:41.029Z"
   },
   {
    "duration": 9,
    "start_time": "2022-08-06T05:34:41.039Z"
   },
   {
    "duration": 110,
    "start_time": "2022-08-06T05:34:41.050Z"
   },
   {
    "duration": 8,
    "start_time": "2022-08-06T05:34:41.162Z"
   },
   {
    "duration": 15296,
    "start_time": "2022-08-06T05:34:41.171Z"
   },
   {
    "duration": 6,
    "start_time": "2022-08-06T05:34:56.468Z"
   },
   {
    "duration": 14739,
    "start_time": "2022-08-06T05:34:56.475Z"
   },
   {
    "duration": 3003,
    "start_time": "2022-08-06T05:35:11.215Z"
   },
   {
    "duration": 13,
    "start_time": "2022-08-06T05:35:14.220Z"
   },
   {
    "duration": 604506,
    "start_time": "2022-08-06T05:35:14.235Z"
   },
   {
    "duration": 4,
    "start_time": "2022-08-06T05:45:18.742Z"
   },
   {
    "duration": 4701613,
    "start_time": "2022-08-06T05:45:18.748Z"
   },
   {
    "duration": 5,
    "start_time": "2022-08-06T07:03:40.363Z"
   },
   {
    "duration": 13,
    "start_time": "2022-08-06T07:03:40.369Z"
   },
   {
    "duration": 30154,
    "start_time": "2022-08-06T07:03:40.384Z"
   }
  ],
  "kernelspec": {
   "display_name": "Python 3 (ipykernel)",
   "language": "python",
   "name": "python3"
  },
  "language_info": {
   "codemirror_mode": {
    "name": "ipython",
    "version": 3
   },
   "file_extension": ".py",
   "mimetype": "text/x-python",
   "name": "python",
   "nbconvert_exporter": "python",
   "pygments_lexer": "ipython3",
   "version": "3.9.7"
  },
  "toc": {
   "base_numbering": 1,
   "nav_menu": {},
   "number_sections": true,
   "sideBar": true,
   "skip_h1_title": true,
   "title_cell": "Содержание",
   "title_sidebar": "Contents",
   "toc_cell": true,
   "toc_position": {
    "height": "calc(100% - 180px)",
    "left": "10px",
    "top": "150px",
    "width": "184.37px"
   },
   "toc_section_display": true,
   "toc_window_display": true
  }
 },
 "nbformat": 4,
 "nbformat_minor": 2
}
