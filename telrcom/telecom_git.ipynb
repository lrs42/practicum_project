{
 "cells": [
  {
   "cell_type": "markdown",
   "id": "3de53f86",
   "metadata": {
    "toc": true
   },
   "source": [
    "<h1>Table of Contents<span class=\"tocSkip\"></span></h1>\n",
    "<div class=\"toc\"><ul class=\"toc-item\"><li><span><a href=\"#Описание-данных\" data-toc-modified-id=\"Описание-данных-1\"><span class=\"toc-item-num\">1&nbsp;&nbsp;</span>Описание данных</a></span></li><li><span><a href=\"#Загрузка-данных\" data-toc-modified-id=\"Загрузка-данных-2\"><span class=\"toc-item-num\">2&nbsp;&nbsp;</span>Загрузка данных</a></span></li><li><span><a href=\"#Подготовка-данных\" data-toc-modified-id=\"Подготовка-данных-3\"><span class=\"toc-item-num\">3&nbsp;&nbsp;</span>Подготовка данных</a></span></li><li><span><a href=\"#Исследование-данных\" data-toc-modified-id=\"Исследование-данных-4\"><span class=\"toc-item-num\">4&nbsp;&nbsp;</span>Исследование данных</a></span></li><li><span><a href=\"#Обучение-моделей\" data-toc-modified-id=\"Обучение-моделей-5\"><span class=\"toc-item-num\">5&nbsp;&nbsp;</span>Обучение моделей</a></span><ul class=\"toc-item\"><li><span><a href=\"#CatBoostClassifier\" data-toc-modified-id=\"CatBoostClassifier-5.1\"><span class=\"toc-item-num\">5.1&nbsp;&nbsp;</span>CatBoostClassifier</a></span></li><li><span><a href=\"#LightGBM\" data-toc-modified-id=\"LightGBM-5.2\"><span class=\"toc-item-num\">5.2&nbsp;&nbsp;</span>LightGBM</a></span></li></ul></li><li><span><a href=\"#Тестирование-модели\" data-toc-modified-id=\"Тестирование-модели-6\"><span class=\"toc-item-num\">6&nbsp;&nbsp;</span>Тестирование модели</a></span></li><li><span><a href=\"#Вывод\" data-toc-modified-id=\"Вывод-7\"><span class=\"toc-item-num\">7&nbsp;&nbsp;</span>Вывод</a></span></li></ul></div>"
   ]
  },
  {
   "cell_type": "markdown",
   "id": "0971e7cc",
   "metadata": {},
   "source": [
    "# ТЕЛЕКОМ"
   ]
  },
  {
   "cell_type": "markdown",
   "id": "19951e25",
   "metadata": {},
   "source": [
    "# Постановка задачи"
   ]
  },
  {
   "cell_type": "markdown",
   "id": "2c814de0",
   "metadata": {},
   "source": [
    "Подготовить прототип модели машинного обучения для оператора связи «Ниединогоразрыва.ком». Модель должна предсказать, планирует ли пользователь уйти. Оператор предоставляет два основных типа услуг: \n",
    "\n",
    "1. Стационарную телефонную связь. Возможно подключение телефонного аппарата к нескольким линиям одновременно.\n",
    "2. Интернет. Подключение может быть двух типов: через телефонную линию (DSL*,* от англ. *digital subscriber line*, «цифровая абонентская линия») или оптоволоконный кабель (*Fiber optic*). \n",
    "\n",
    "За услуги клиенты могут платить каждый месяц или заключить договор на 1–2 года. Доступны различные способы расчёта и возможность получения электронного чека.\n",
    "\n",
    "В нашем распоряжении данные, которые состоят из 4 файлов, полученных из разных источников:\n",
    "\n",
    "- `contract.csv` — информация о договоре;\n",
    "- `personal.csv` — персональные данные клиента;\n",
    "- `internet.csv` — информация об интернет-услугах;\n",
    "- `phone.csv` — информация об услугах телефонии.\n",
    "\n",
    "Во всех файлах столбец `customerID` содержит код клиента.\n",
    "\n",
    "Информация о договорах актуальна на 1 февраля 2020.\n",
    "\n"
   ]
  },
  {
   "cell_type": "markdown",
   "id": "f6594420",
   "metadata": {},
   "source": [
    "В данном пректе нам предстоит решить задачу бинарной классификации останется клиент в компании или нет, эффективность модели будем оценивать метрикой AUC-ROC\n",
    "\n",
    "План работ:\n",
    "\n",
    " - Подготовить данные:\n",
    "   - загрузить и изучить данные, объединить таблицы по `customerID`. Проверить данные на пропуски, дубликаты. Заполнить пропущенные значения, если это возможно.\n",
    " - Провести исследовательский анализ данных:\n",
    "      - изучить как распределены данные, проверить на мультиколлинеарность,\n",
    "      - определить обучающие признаки, по `EndDate` сформировать целевой признак.\n",
    "      - разделить данные на обучающую и тестовую выборку в соотношении 75/25. Обучающую выборку проверить на выбросы и баланс классов.\n",
    " \n",
    " - Построить и обучить модели CatBoost и логистической регрессии. Подобрать гиперпараметры. Выбрать модель с наибольшей предсказательной силой, оценивая метрикой AUC-ROC.\n",
    " - Провести финальное тестирование.\n",
    "  "
   ]
  },
  {
   "cell_type": "markdown",
   "id": "1767a8e3",
   "metadata": {},
   "source": [
    "## Описание данных\n"
   ]
  },
  {
   "cell_type": "markdown",
   "id": "227c96e3",
   "metadata": {},
   "source": [
    "Файл `contract.csv` содержит следующую информацию о договоре:\n",
    "\n",
    " -  customerID   - идентификатор клиента\n",
    " -  BeginDate    - дата заключения договора \n",
    " -  EndDate      - дата расторжения договора \n",
    " -  Type         - тип договора (месячный, годовой)\n",
    " -  PaperlessBilling  - факт выставления счета на электронную почту \n",
    " -  PaymentMethod     - способ оплаты \n",
    " -  MonthlyCharges    - ежемесячные траты на услуги\n",
    " -  TotalCharges      - всего потрачено денег на услуги "
   ]
  },
  {
   "cell_type": "markdown",
   "id": "df9ab33d",
   "metadata": {},
   "source": [
    "Файл `personal.csv` персональные данные клиента:\n",
    "\n",
    "  - customerID   - идентификатор клиента\n",
    "  - gender - пол\n",
    "  - SeniorCitizen - наличие песнионногостатуса по возрасту\n",
    "  - Partner - наличия супруга(и)\n",
    "  - Dependents - наличие иждевенцев"
   ]
  },
  {
   "cell_type": "markdown",
   "id": "54ae643a",
   "metadata": {},
   "source": [
    "Файл `internet.csv` информация об интернет-услугах:\n",
    "\n",
    "  -  customerID   - идентификатор клиента\n",
    "  -  InternetService - способ подключения к интернету может быть двух типов: через телефонную линию (DSL, «цифровая абонентская линия») или оптоволоконный кабель (Fiber optic)\n",
    "  -  OnlineSecurity   - блокировка небезопасных сайтов\n",
    "  -  OnlineBackup     - облачное хранилище файлов для резервного копирования данных\n",
    "  -  DeviceProtection - антивирус\n",
    "  -  TechSupport      - выделенная линия технической поддержки \n",
    "  -  StreamingTV      - стриминговое телевидение \n",
    "  -  StreamingMovies  - каталог фильмов "
   ]
  },
  {
   "cell_type": "markdown",
   "id": "a8e6b5bb",
   "metadata": {},
   "source": [
    "Файл `phone.csv` информация об услугах телефонии:\n",
    "\n",
    "  -  customerID   - идентификатор клиента\n",
    "  -  MultipleLines - наличие возможности ведения параллельных линий во время звонка"
   ]
  },
  {
   "cell_type": "markdown",
   "id": "e9ce11ef",
   "metadata": {},
   "source": [
    "## Загрузка данных"
   ]
  },
  {
   "cell_type": "code",
   "execution_count": 1,
   "id": "ed816298",
   "metadata": {},
   "outputs": [
    {
     "name": "stdout",
     "output_type": "stream",
     "text": [
      "Requirement already satisfied: phik in /opt/conda/lib/python3.9/site-packages (0.12.2)\n",
      "Requirement already satisfied: numpy>=1.18.0 in /opt/conda/lib/python3.9/site-packages (from phik) (1.21.1)\n",
      "Requirement already satisfied: pandas>=0.25.1 in /opt/conda/lib/python3.9/site-packages (from phik) (1.2.4)\n",
      "Requirement already satisfied: matplotlib>=2.2.3 in /opt/conda/lib/python3.9/site-packages (from phik) (3.3.4)\n",
      "Requirement already satisfied: joblib>=0.14.1 in /opt/conda/lib/python3.9/site-packages (from phik) (1.1.0)\n",
      "Requirement already satisfied: scipy>=1.5.2 in /opt/conda/lib/python3.9/site-packages (from phik) (1.9.1)\n",
      "Requirement already satisfied: pillow>=6.2.0 in /opt/conda/lib/python3.9/site-packages (from matplotlib>=2.2.3->phik) (8.4.0)\n",
      "Requirement already satisfied: kiwisolver>=1.0.1 in /opt/conda/lib/python3.9/site-packages (from matplotlib>=2.2.3->phik) (1.4.4)\n",
      "Requirement already satisfied: pyparsing!=2.0.4,!=2.1.2,!=2.1.6,>=2.0.3 in /opt/conda/lib/python3.9/site-packages (from matplotlib>=2.2.3->phik) (2.4.7)\n",
      "Requirement already satisfied: python-dateutil>=2.1 in /opt/conda/lib/python3.9/site-packages (from matplotlib>=2.2.3->phik) (2.8.1)\n",
      "Requirement already satisfied: cycler>=0.10 in /opt/conda/lib/python3.9/site-packages (from matplotlib>=2.2.3->phik) (0.11.0)\n",
      "Requirement already satisfied: pytz>=2017.3 in /opt/conda/lib/python3.9/site-packages (from pandas>=0.25.1->phik) (2021.1)\n",
      "Requirement already satisfied: six>=1.5 in /opt/conda/lib/python3.9/site-packages (from python-dateutil>=2.1->matplotlib>=2.2.3->phik) (1.16.0)\n",
      "Requirement already satisfied: imbalanced-learn in /opt/conda/lib/python3.9/site-packages (0.9.1)\n",
      "Requirement already satisfied: joblib>=1.0.0 in /opt/conda/lib/python3.9/site-packages (from imbalanced-learn) (1.1.0)\n",
      "Requirement already satisfied: numpy>=1.17.3 in /opt/conda/lib/python3.9/site-packages (from imbalanced-learn) (1.21.1)\n",
      "Requirement already satisfied: scikit-learn>=1.1.0 in /opt/conda/lib/python3.9/site-packages (from imbalanced-learn) (1.1.2)\n",
      "Requirement already satisfied: scipy>=1.3.2 in /opt/conda/lib/python3.9/site-packages (from imbalanced-learn) (1.9.1)\n",
      "Requirement already satisfied: threadpoolctl>=2.0.0 in /opt/conda/lib/python3.9/site-packages (from imbalanced-learn) (3.1.0)\n"
     ]
    }
   ],
   "source": [
    "! pip install phik\n",
    "!pip install imbalanced-learn"
   ]
  },
  {
   "cell_type": "code",
   "execution_count": 2,
   "id": "a11996d5",
   "metadata": {},
   "outputs": [],
   "source": [
    "# импорт библиотек\n",
    "import pandas as pd\n",
    "import numpy as np\n",
    "import matplotlib.pyplot as plt\n",
    "%matplotlib inline\n",
    "import seaborn as sns\n",
    "import matplotlib.style as style\n",
    "from matplotlib import pyplot\n",
    "import phik\n",
    "\n",
    "from sklearn.preprocessing import StandardScaler\n",
    "from sklearn.metrics import f1_score\n",
    "from sklearn.metrics import roc_auc_score\n",
    "from sklearn.linear_model import LogisticRegression\n",
    "from catboost import CatBoostClassifier\n",
    "from lightgbm import LGBMClassifier\n",
    "from sklearn.model_selection import train_test_split, GridSearchCV\n",
    "import matplotlib.pyplot as plt\n",
    "%matplotlib inline\n",
    "import seaborn as sns\n",
    "import matplotlib.style as style\n",
    "from matplotlib import pyplot\n",
    "from matplotlib.ticker import ScalarFormatter"
   ]
  },
  {
   "cell_type": "code",
   "execution_count": 3,
   "id": "179a462e",
   "metadata": {},
   "outputs": [],
   "source": [
    "# загрузка данных\n",
    "try:\n",
    "    contract = pd.read_csv('C:/Users/LENOVO/Downloads/final_provider (1)/final_provider/contract.csv', index_col='customerID')\n",
    "    personal = pd.read_csv('C:/Users/LENOVO/Downloads/final_provider (1)/final_provider/personal.csv', index_col='customerID')\n",
    "    internet = pd.read_csv('C:/Users/LENOVO/Downloads/final_provider (1)/final_provider/internet.csv', index_col='customerID')\n",
    "    phone = pd.read_csv('C:/Users/LENOVO/Downloads/final_provider (1)/final_provider/phone.csv', index_col='customerID')\n",
    "except:\n",
    "    contract = pd.read_csv('/datasets/final_provider/contract.csv', index_col='customerID')\n",
    "    personal = pd.read_csv('/datasets/final_provider/personal.csv', index_col='customerID')\n",
    "    internet = pd.read_csv('/datasets/final_provider/internet.csv', index_col='customerID')\n",
    "    phone = pd.read_csv('/datasets/final_provider/phone.csv', index_col='customerID')"
   ]
  },
  {
   "cell_type": "code",
   "execution_count": 4,
   "id": "6c49bdc8",
   "metadata": {},
   "outputs": [
    {
     "data": {
      "text/html": [
       "<div>\n",
       "<style scoped>\n",
       "    .dataframe tbody tr th:only-of-type {\n",
       "        vertical-align: middle;\n",
       "    }\n",
       "\n",
       "    .dataframe tbody tr th {\n",
       "        vertical-align: top;\n",
       "    }\n",
       "\n",
       "    .dataframe thead th {\n",
       "        text-align: right;\n",
       "    }\n",
       "</style>\n",
       "<table border=\"1\" class=\"dataframe\">\n",
       "  <thead>\n",
       "    <tr style=\"text-align: right;\">\n",
       "      <th></th>\n",
       "      <th>BeginDate</th>\n",
       "      <th>EndDate</th>\n",
       "      <th>Type</th>\n",
       "      <th>PaperlessBilling</th>\n",
       "      <th>PaymentMethod</th>\n",
       "      <th>MonthlyCharges</th>\n",
       "      <th>TotalCharges</th>\n",
       "    </tr>\n",
       "    <tr>\n",
       "      <th>customerID</th>\n",
       "      <th></th>\n",
       "      <th></th>\n",
       "      <th></th>\n",
       "      <th></th>\n",
       "      <th></th>\n",
       "      <th></th>\n",
       "      <th></th>\n",
       "    </tr>\n",
       "  </thead>\n",
       "  <tbody>\n",
       "    <tr>\n",
       "      <th>7590-VHVEG</th>\n",
       "      <td>2020-01-01</td>\n",
       "      <td>No</td>\n",
       "      <td>Month-to-month</td>\n",
       "      <td>Yes</td>\n",
       "      <td>Electronic check</td>\n",
       "      <td>29.85</td>\n",
       "      <td>29.85</td>\n",
       "    </tr>\n",
       "    <tr>\n",
       "      <th>5575-GNVDE</th>\n",
       "      <td>2017-04-01</td>\n",
       "      <td>No</td>\n",
       "      <td>One year</td>\n",
       "      <td>No</td>\n",
       "      <td>Mailed check</td>\n",
       "      <td>56.95</td>\n",
       "      <td>1889.5</td>\n",
       "    </tr>\n",
       "    <tr>\n",
       "      <th>3668-QPYBK</th>\n",
       "      <td>2019-10-01</td>\n",
       "      <td>2019-12-01 00:00:00</td>\n",
       "      <td>Month-to-month</td>\n",
       "      <td>Yes</td>\n",
       "      <td>Mailed check</td>\n",
       "      <td>53.85</td>\n",
       "      <td>108.15</td>\n",
       "    </tr>\n",
       "    <tr>\n",
       "      <th>7795-CFOCW</th>\n",
       "      <td>2016-05-01</td>\n",
       "      <td>No</td>\n",
       "      <td>One year</td>\n",
       "      <td>No</td>\n",
       "      <td>Bank transfer (automatic)</td>\n",
       "      <td>42.30</td>\n",
       "      <td>1840.75</td>\n",
       "    </tr>\n",
       "    <tr>\n",
       "      <th>9237-HQITU</th>\n",
       "      <td>2019-09-01</td>\n",
       "      <td>2019-11-01 00:00:00</td>\n",
       "      <td>Month-to-month</td>\n",
       "      <td>Yes</td>\n",
       "      <td>Electronic check</td>\n",
       "      <td>70.70</td>\n",
       "      <td>151.65</td>\n",
       "    </tr>\n",
       "  </tbody>\n",
       "</table>\n",
       "</div>"
      ],
      "text/plain": [
       "             BeginDate              EndDate            Type PaperlessBilling  \\\n",
       "customerID                                                                     \n",
       "7590-VHVEG  2020-01-01                   No  Month-to-month              Yes   \n",
       "5575-GNVDE  2017-04-01                   No        One year               No   \n",
       "3668-QPYBK  2019-10-01  2019-12-01 00:00:00  Month-to-month              Yes   \n",
       "7795-CFOCW  2016-05-01                   No        One year               No   \n",
       "9237-HQITU  2019-09-01  2019-11-01 00:00:00  Month-to-month              Yes   \n",
       "\n",
       "                        PaymentMethod  MonthlyCharges TotalCharges  \n",
       "customerID                                                          \n",
       "7590-VHVEG           Electronic check           29.85        29.85  \n",
       "5575-GNVDE               Mailed check           56.95       1889.5  \n",
       "3668-QPYBK               Mailed check           53.85       108.15  \n",
       "7795-CFOCW  Bank transfer (automatic)           42.30      1840.75  \n",
       "9237-HQITU           Electronic check           70.70       151.65  "
      ]
     },
     "metadata": {},
     "output_type": "display_data"
    },
    {
     "name": "stdout",
     "output_type": "stream",
     "text": [
      "<class 'pandas.core.frame.DataFrame'>\n",
      "Index: 7043 entries, 7590-VHVEG to 3186-AJIEK\n",
      "Data columns (total 7 columns):\n",
      " #   Column            Non-Null Count  Dtype  \n",
      "---  ------            --------------  -----  \n",
      " 0   BeginDate         7043 non-null   object \n",
      " 1   EndDate           7043 non-null   object \n",
      " 2   Type              7043 non-null   object \n",
      " 3   PaperlessBilling  7043 non-null   object \n",
      " 4   PaymentMethod     7043 non-null   object \n",
      " 5   MonthlyCharges    7043 non-null   float64\n",
      " 6   TotalCharges      7043 non-null   object \n",
      "dtypes: float64(1), object(6)\n",
      "memory usage: 440.2+ KB\n"
     ]
    },
    {
     "data": {
      "text/html": [
       "<div>\n",
       "<style scoped>\n",
       "    .dataframe tbody tr th:only-of-type {\n",
       "        vertical-align: middle;\n",
       "    }\n",
       "\n",
       "    .dataframe tbody tr th {\n",
       "        vertical-align: top;\n",
       "    }\n",
       "\n",
       "    .dataframe thead th {\n",
       "        text-align: right;\n",
       "    }\n",
       "</style>\n",
       "<table border=\"1\" class=\"dataframe\">\n",
       "  <thead>\n",
       "    <tr style=\"text-align: right;\">\n",
       "      <th></th>\n",
       "      <th>BeginDate</th>\n",
       "      <th>EndDate</th>\n",
       "      <th>Type</th>\n",
       "      <th>PaperlessBilling</th>\n",
       "      <th>PaymentMethod</th>\n",
       "      <th>MonthlyCharges</th>\n",
       "      <th>TotalCharges</th>\n",
       "    </tr>\n",
       "  </thead>\n",
       "  <tbody>\n",
       "    <tr>\n",
       "      <th>count</th>\n",
       "      <td>7043</td>\n",
       "      <td>7043</td>\n",
       "      <td>7043</td>\n",
       "      <td>7043</td>\n",
       "      <td>7043</td>\n",
       "      <td>7043.000000</td>\n",
       "      <td>7043</td>\n",
       "    </tr>\n",
       "    <tr>\n",
       "      <th>unique</th>\n",
       "      <td>77</td>\n",
       "      <td>5</td>\n",
       "      <td>3</td>\n",
       "      <td>2</td>\n",
       "      <td>4</td>\n",
       "      <td>NaN</td>\n",
       "      <td>6531</td>\n",
       "    </tr>\n",
       "    <tr>\n",
       "      <th>top</th>\n",
       "      <td>2014-02-01</td>\n",
       "      <td>No</td>\n",
       "      <td>Month-to-month</td>\n",
       "      <td>Yes</td>\n",
       "      <td>Electronic check</td>\n",
       "      <td>NaN</td>\n",
       "      <td>20.2</td>\n",
       "    </tr>\n",
       "    <tr>\n",
       "      <th>freq</th>\n",
       "      <td>366</td>\n",
       "      <td>5174</td>\n",
       "      <td>3875</td>\n",
       "      <td>4171</td>\n",
       "      <td>2365</td>\n",
       "      <td>NaN</td>\n",
       "      <td>11</td>\n",
       "    </tr>\n",
       "    <tr>\n",
       "      <th>mean</th>\n",
       "      <td>NaN</td>\n",
       "      <td>NaN</td>\n",
       "      <td>NaN</td>\n",
       "      <td>NaN</td>\n",
       "      <td>NaN</td>\n",
       "      <td>64.761692</td>\n",
       "      <td>NaN</td>\n",
       "    </tr>\n",
       "    <tr>\n",
       "      <th>std</th>\n",
       "      <td>NaN</td>\n",
       "      <td>NaN</td>\n",
       "      <td>NaN</td>\n",
       "      <td>NaN</td>\n",
       "      <td>NaN</td>\n",
       "      <td>30.090047</td>\n",
       "      <td>NaN</td>\n",
       "    </tr>\n",
       "    <tr>\n",
       "      <th>min</th>\n",
       "      <td>NaN</td>\n",
       "      <td>NaN</td>\n",
       "      <td>NaN</td>\n",
       "      <td>NaN</td>\n",
       "      <td>NaN</td>\n",
       "      <td>18.250000</td>\n",
       "      <td>NaN</td>\n",
       "    </tr>\n",
       "    <tr>\n",
       "      <th>25%</th>\n",
       "      <td>NaN</td>\n",
       "      <td>NaN</td>\n",
       "      <td>NaN</td>\n",
       "      <td>NaN</td>\n",
       "      <td>NaN</td>\n",
       "      <td>35.500000</td>\n",
       "      <td>NaN</td>\n",
       "    </tr>\n",
       "    <tr>\n",
       "      <th>50%</th>\n",
       "      <td>NaN</td>\n",
       "      <td>NaN</td>\n",
       "      <td>NaN</td>\n",
       "      <td>NaN</td>\n",
       "      <td>NaN</td>\n",
       "      <td>70.350000</td>\n",
       "      <td>NaN</td>\n",
       "    </tr>\n",
       "    <tr>\n",
       "      <th>75%</th>\n",
       "      <td>NaN</td>\n",
       "      <td>NaN</td>\n",
       "      <td>NaN</td>\n",
       "      <td>NaN</td>\n",
       "      <td>NaN</td>\n",
       "      <td>89.850000</td>\n",
       "      <td>NaN</td>\n",
       "    </tr>\n",
       "    <tr>\n",
       "      <th>max</th>\n",
       "      <td>NaN</td>\n",
       "      <td>NaN</td>\n",
       "      <td>NaN</td>\n",
       "      <td>NaN</td>\n",
       "      <td>NaN</td>\n",
       "      <td>118.750000</td>\n",
       "      <td>NaN</td>\n",
       "    </tr>\n",
       "  </tbody>\n",
       "</table>\n",
       "</div>"
      ],
      "text/plain": [
       "         BeginDate EndDate            Type PaperlessBilling     PaymentMethod  \\\n",
       "count         7043    7043            7043             7043              7043   \n",
       "unique          77       5               3                2                 4   \n",
       "top     2014-02-01      No  Month-to-month              Yes  Electronic check   \n",
       "freq           366    5174            3875             4171              2365   \n",
       "mean           NaN     NaN             NaN              NaN               NaN   \n",
       "std            NaN     NaN             NaN              NaN               NaN   \n",
       "min            NaN     NaN             NaN              NaN               NaN   \n",
       "25%            NaN     NaN             NaN              NaN               NaN   \n",
       "50%            NaN     NaN             NaN              NaN               NaN   \n",
       "75%            NaN     NaN             NaN              NaN               NaN   \n",
       "max            NaN     NaN             NaN              NaN               NaN   \n",
       "\n",
       "        MonthlyCharges TotalCharges  \n",
       "count      7043.000000         7043  \n",
       "unique             NaN         6531  \n",
       "top                NaN         20.2  \n",
       "freq               NaN           11  \n",
       "mean         64.761692          NaN  \n",
       "std          30.090047          NaN  \n",
       "min          18.250000          NaN  \n",
       "25%          35.500000          NaN  \n",
       "50%          70.350000          NaN  \n",
       "75%          89.850000          NaN  \n",
       "max         118.750000          NaN  "
      ]
     },
     "execution_count": 4,
     "metadata": {},
     "output_type": "execute_result"
    }
   ],
   "source": [
    "display(contract.head())\n",
    "contract.info()\n",
    "contract.describe(include='all')"
   ]
  },
  {
   "cell_type": "markdown",
   "id": "a3a6c4b7",
   "metadata": {},
   "source": [
    "Файл contract.csv содержит таблицу расмером 8х7043, кроме столбца MonthlyCharges (тип float64) данные типа object\n",
    "\n",
    "- customerID - идентификатор клиента, все значения 7043  уникальны,\n",
    "- Type - тип договора, имеет 3 уникальных значения, чаще всего встречается Month-to-month,\n",
    "- PaperlessBilling - факт выставления счета на электронную почту, принимает 2 уникальных значения.\n",
    "- MonthlyCharges - ежемесячные траты на услуги - в среднем тратят клиенты 64,7, минимум 18,25, максимум 118,75,\n",
    "- TotalCharges - всего потрачено денег на услуги - тип объект, есть пропущенные значения, которые необходимо заполнить,\n",
    "- BeginDate - дата заключения договора и EndDate - дата расторжения договора имеют тип объект, так как рассматриваем задачу не в динамике можно удалить эти столбцы, после фрмирования целевого признака по EndDate."
   ]
  },
  {
   "cell_type": "code",
   "execution_count": 5,
   "id": "39a2e4af",
   "metadata": {
    "scrolled": true
   },
   "outputs": [
    {
     "data": {
      "text/html": [
       "<div>\n",
       "<style scoped>\n",
       "    .dataframe tbody tr th:only-of-type {\n",
       "        vertical-align: middle;\n",
       "    }\n",
       "\n",
       "    .dataframe tbody tr th {\n",
       "        vertical-align: top;\n",
       "    }\n",
       "\n",
       "    .dataframe thead th {\n",
       "        text-align: right;\n",
       "    }\n",
       "</style>\n",
       "<table border=\"1\" class=\"dataframe\">\n",
       "  <thead>\n",
       "    <tr style=\"text-align: right;\">\n",
       "      <th></th>\n",
       "      <th>gender</th>\n",
       "      <th>SeniorCitizen</th>\n",
       "      <th>Partner</th>\n",
       "      <th>Dependents</th>\n",
       "    </tr>\n",
       "    <tr>\n",
       "      <th>customerID</th>\n",
       "      <th></th>\n",
       "      <th></th>\n",
       "      <th></th>\n",
       "      <th></th>\n",
       "    </tr>\n",
       "  </thead>\n",
       "  <tbody>\n",
       "    <tr>\n",
       "      <th>7590-VHVEG</th>\n",
       "      <td>Female</td>\n",
       "      <td>0</td>\n",
       "      <td>Yes</td>\n",
       "      <td>No</td>\n",
       "    </tr>\n",
       "    <tr>\n",
       "      <th>5575-GNVDE</th>\n",
       "      <td>Male</td>\n",
       "      <td>0</td>\n",
       "      <td>No</td>\n",
       "      <td>No</td>\n",
       "    </tr>\n",
       "    <tr>\n",
       "      <th>3668-QPYBK</th>\n",
       "      <td>Male</td>\n",
       "      <td>0</td>\n",
       "      <td>No</td>\n",
       "      <td>No</td>\n",
       "    </tr>\n",
       "    <tr>\n",
       "      <th>7795-CFOCW</th>\n",
       "      <td>Male</td>\n",
       "      <td>0</td>\n",
       "      <td>No</td>\n",
       "      <td>No</td>\n",
       "    </tr>\n",
       "    <tr>\n",
       "      <th>9237-HQITU</th>\n",
       "      <td>Female</td>\n",
       "      <td>0</td>\n",
       "      <td>No</td>\n",
       "      <td>No</td>\n",
       "    </tr>\n",
       "  </tbody>\n",
       "</table>\n",
       "</div>"
      ],
      "text/plain": [
       "            gender  SeniorCitizen Partner Dependents\n",
       "customerID                                          \n",
       "7590-VHVEG  Female              0     Yes         No\n",
       "5575-GNVDE    Male              0      No         No\n",
       "3668-QPYBK    Male              0      No         No\n",
       "7795-CFOCW    Male              0      No         No\n",
       "9237-HQITU  Female              0      No         No"
      ]
     },
     "metadata": {},
     "output_type": "display_data"
    },
    {
     "name": "stdout",
     "output_type": "stream",
     "text": [
      "<class 'pandas.core.frame.DataFrame'>\n",
      "Index: 7043 entries, 7590-VHVEG to 3186-AJIEK\n",
      "Data columns (total 4 columns):\n",
      " #   Column         Non-Null Count  Dtype \n",
      "---  ------         --------------  ----- \n",
      " 0   gender         7043 non-null   object\n",
      " 1   SeniorCitizen  7043 non-null   int64 \n",
      " 2   Partner        7043 non-null   object\n",
      " 3   Dependents     7043 non-null   object\n",
      "dtypes: int64(1), object(3)\n",
      "memory usage: 275.1+ KB\n"
     ]
    },
    {
     "data": {
      "text/html": [
       "<div>\n",
       "<style scoped>\n",
       "    .dataframe tbody tr th:only-of-type {\n",
       "        vertical-align: middle;\n",
       "    }\n",
       "\n",
       "    .dataframe tbody tr th {\n",
       "        vertical-align: top;\n",
       "    }\n",
       "\n",
       "    .dataframe thead th {\n",
       "        text-align: right;\n",
       "    }\n",
       "</style>\n",
       "<table border=\"1\" class=\"dataframe\">\n",
       "  <thead>\n",
       "    <tr style=\"text-align: right;\">\n",
       "      <th></th>\n",
       "      <th>gender</th>\n",
       "      <th>SeniorCitizen</th>\n",
       "      <th>Partner</th>\n",
       "      <th>Dependents</th>\n",
       "    </tr>\n",
       "  </thead>\n",
       "  <tbody>\n",
       "    <tr>\n",
       "      <th>count</th>\n",
       "      <td>7043</td>\n",
       "      <td>7043.000000</td>\n",
       "      <td>7043</td>\n",
       "      <td>7043</td>\n",
       "    </tr>\n",
       "    <tr>\n",
       "      <th>unique</th>\n",
       "      <td>2</td>\n",
       "      <td>NaN</td>\n",
       "      <td>2</td>\n",
       "      <td>2</td>\n",
       "    </tr>\n",
       "    <tr>\n",
       "      <th>top</th>\n",
       "      <td>Male</td>\n",
       "      <td>NaN</td>\n",
       "      <td>No</td>\n",
       "      <td>No</td>\n",
       "    </tr>\n",
       "    <tr>\n",
       "      <th>freq</th>\n",
       "      <td>3555</td>\n",
       "      <td>NaN</td>\n",
       "      <td>3641</td>\n",
       "      <td>4933</td>\n",
       "    </tr>\n",
       "    <tr>\n",
       "      <th>mean</th>\n",
       "      <td>NaN</td>\n",
       "      <td>0.162147</td>\n",
       "      <td>NaN</td>\n",
       "      <td>NaN</td>\n",
       "    </tr>\n",
       "    <tr>\n",
       "      <th>std</th>\n",
       "      <td>NaN</td>\n",
       "      <td>0.368612</td>\n",
       "      <td>NaN</td>\n",
       "      <td>NaN</td>\n",
       "    </tr>\n",
       "    <tr>\n",
       "      <th>min</th>\n",
       "      <td>NaN</td>\n",
       "      <td>0.000000</td>\n",
       "      <td>NaN</td>\n",
       "      <td>NaN</td>\n",
       "    </tr>\n",
       "    <tr>\n",
       "      <th>25%</th>\n",
       "      <td>NaN</td>\n",
       "      <td>0.000000</td>\n",
       "      <td>NaN</td>\n",
       "      <td>NaN</td>\n",
       "    </tr>\n",
       "    <tr>\n",
       "      <th>50%</th>\n",
       "      <td>NaN</td>\n",
       "      <td>0.000000</td>\n",
       "      <td>NaN</td>\n",
       "      <td>NaN</td>\n",
       "    </tr>\n",
       "    <tr>\n",
       "      <th>75%</th>\n",
       "      <td>NaN</td>\n",
       "      <td>0.000000</td>\n",
       "      <td>NaN</td>\n",
       "      <td>NaN</td>\n",
       "    </tr>\n",
       "    <tr>\n",
       "      <th>max</th>\n",
       "      <td>NaN</td>\n",
       "      <td>1.000000</td>\n",
       "      <td>NaN</td>\n",
       "      <td>NaN</td>\n",
       "    </tr>\n",
       "  </tbody>\n",
       "</table>\n",
       "</div>"
      ],
      "text/plain": [
       "       gender  SeniorCitizen Partner Dependents\n",
       "count    7043    7043.000000    7043       7043\n",
       "unique      2            NaN       2          2\n",
       "top      Male            NaN      No         No\n",
       "freq     3555            NaN    3641       4933\n",
       "mean      NaN       0.162147     NaN        NaN\n",
       "std       NaN       0.368612     NaN        NaN\n",
       "min       NaN       0.000000     NaN        NaN\n",
       "25%       NaN       0.000000     NaN        NaN\n",
       "50%       NaN       0.000000     NaN        NaN\n",
       "75%       NaN       0.000000     NaN        NaN\n",
       "max       NaN       1.000000     NaN        NaN"
      ]
     },
     "execution_count": 5,
     "metadata": {},
     "output_type": "execute_result"
    }
   ],
   "source": [
    "display(personal.head())\n",
    "personal.info()\n",
    "personal.describe(include='all')"
   ]
  },
  {
   "cell_type": "markdown",
   "id": "cdd843b6",
   "metadata": {},
   "source": [
    "Файл personal.csv содержит таблицу расмером 5х7043:\n",
    "\n",
    "- customerID - идентификатор клиента, все значения 7043  уникальны,\n",
    "- SeniorCitizen - имеет числовой тип, остальные столбцы тип object, принимающие 2 уникальных значения - категориальные признаки."
   ]
  },
  {
   "cell_type": "code",
   "execution_count": 6,
   "id": "0c059ad8",
   "metadata": {},
   "outputs": [
    {
     "data": {
      "text/html": [
       "<div>\n",
       "<style scoped>\n",
       "    .dataframe tbody tr th:only-of-type {\n",
       "        vertical-align: middle;\n",
       "    }\n",
       "\n",
       "    .dataframe tbody tr th {\n",
       "        vertical-align: top;\n",
       "    }\n",
       "\n",
       "    .dataframe thead th {\n",
       "        text-align: right;\n",
       "    }\n",
       "</style>\n",
       "<table border=\"1\" class=\"dataframe\">\n",
       "  <thead>\n",
       "    <tr style=\"text-align: right;\">\n",
       "      <th></th>\n",
       "      <th>InternetService</th>\n",
       "      <th>OnlineSecurity</th>\n",
       "      <th>OnlineBackup</th>\n",
       "      <th>DeviceProtection</th>\n",
       "      <th>TechSupport</th>\n",
       "      <th>StreamingTV</th>\n",
       "      <th>StreamingMovies</th>\n",
       "    </tr>\n",
       "    <tr>\n",
       "      <th>customerID</th>\n",
       "      <th></th>\n",
       "      <th></th>\n",
       "      <th></th>\n",
       "      <th></th>\n",
       "      <th></th>\n",
       "      <th></th>\n",
       "      <th></th>\n",
       "    </tr>\n",
       "  </thead>\n",
       "  <tbody>\n",
       "    <tr>\n",
       "      <th>7590-VHVEG</th>\n",
       "      <td>DSL</td>\n",
       "      <td>No</td>\n",
       "      <td>Yes</td>\n",
       "      <td>No</td>\n",
       "      <td>No</td>\n",
       "      <td>No</td>\n",
       "      <td>No</td>\n",
       "    </tr>\n",
       "    <tr>\n",
       "      <th>5575-GNVDE</th>\n",
       "      <td>DSL</td>\n",
       "      <td>Yes</td>\n",
       "      <td>No</td>\n",
       "      <td>Yes</td>\n",
       "      <td>No</td>\n",
       "      <td>No</td>\n",
       "      <td>No</td>\n",
       "    </tr>\n",
       "    <tr>\n",
       "      <th>3668-QPYBK</th>\n",
       "      <td>DSL</td>\n",
       "      <td>Yes</td>\n",
       "      <td>Yes</td>\n",
       "      <td>No</td>\n",
       "      <td>No</td>\n",
       "      <td>No</td>\n",
       "      <td>No</td>\n",
       "    </tr>\n",
       "    <tr>\n",
       "      <th>7795-CFOCW</th>\n",
       "      <td>DSL</td>\n",
       "      <td>Yes</td>\n",
       "      <td>No</td>\n",
       "      <td>Yes</td>\n",
       "      <td>Yes</td>\n",
       "      <td>No</td>\n",
       "      <td>No</td>\n",
       "    </tr>\n",
       "    <tr>\n",
       "      <th>9237-HQITU</th>\n",
       "      <td>Fiber optic</td>\n",
       "      <td>No</td>\n",
       "      <td>No</td>\n",
       "      <td>No</td>\n",
       "      <td>No</td>\n",
       "      <td>No</td>\n",
       "      <td>No</td>\n",
       "    </tr>\n",
       "  </tbody>\n",
       "</table>\n",
       "</div>"
      ],
      "text/plain": [
       "           InternetService OnlineSecurity OnlineBackup DeviceProtection  \\\n",
       "customerID                                                                \n",
       "7590-VHVEG             DSL             No          Yes               No   \n",
       "5575-GNVDE             DSL            Yes           No              Yes   \n",
       "3668-QPYBK             DSL            Yes          Yes               No   \n",
       "7795-CFOCW             DSL            Yes           No              Yes   \n",
       "9237-HQITU     Fiber optic             No           No               No   \n",
       "\n",
       "           TechSupport StreamingTV StreamingMovies  \n",
       "customerID                                          \n",
       "7590-VHVEG          No          No              No  \n",
       "5575-GNVDE          No          No              No  \n",
       "3668-QPYBK          No          No              No  \n",
       "7795-CFOCW         Yes          No              No  \n",
       "9237-HQITU          No          No              No  "
      ]
     },
     "metadata": {},
     "output_type": "display_data"
    },
    {
     "name": "stdout",
     "output_type": "stream",
     "text": [
      "<class 'pandas.core.frame.DataFrame'>\n",
      "Index: 5517 entries, 7590-VHVEG to 3186-AJIEK\n",
      "Data columns (total 7 columns):\n",
      " #   Column            Non-Null Count  Dtype \n",
      "---  ------            --------------  ----- \n",
      " 0   InternetService   5517 non-null   object\n",
      " 1   OnlineSecurity    5517 non-null   object\n",
      " 2   OnlineBackup      5517 non-null   object\n",
      " 3   DeviceProtection  5517 non-null   object\n",
      " 4   TechSupport       5517 non-null   object\n",
      " 5   StreamingTV       5517 non-null   object\n",
      " 6   StreamingMovies   5517 non-null   object\n",
      "dtypes: object(7)\n",
      "memory usage: 344.8+ KB\n"
     ]
    },
    {
     "data": {
      "text/html": [
       "<div>\n",
       "<style scoped>\n",
       "    .dataframe tbody tr th:only-of-type {\n",
       "        vertical-align: middle;\n",
       "    }\n",
       "\n",
       "    .dataframe tbody tr th {\n",
       "        vertical-align: top;\n",
       "    }\n",
       "\n",
       "    .dataframe thead th {\n",
       "        text-align: right;\n",
       "    }\n",
       "</style>\n",
       "<table border=\"1\" class=\"dataframe\">\n",
       "  <thead>\n",
       "    <tr style=\"text-align: right;\">\n",
       "      <th></th>\n",
       "      <th>InternetService</th>\n",
       "      <th>OnlineSecurity</th>\n",
       "      <th>OnlineBackup</th>\n",
       "      <th>DeviceProtection</th>\n",
       "      <th>TechSupport</th>\n",
       "      <th>StreamingTV</th>\n",
       "      <th>StreamingMovies</th>\n",
       "    </tr>\n",
       "  </thead>\n",
       "  <tbody>\n",
       "    <tr>\n",
       "      <th>count</th>\n",
       "      <td>5517</td>\n",
       "      <td>5517</td>\n",
       "      <td>5517</td>\n",
       "      <td>5517</td>\n",
       "      <td>5517</td>\n",
       "      <td>5517</td>\n",
       "      <td>5517</td>\n",
       "    </tr>\n",
       "    <tr>\n",
       "      <th>unique</th>\n",
       "      <td>2</td>\n",
       "      <td>2</td>\n",
       "      <td>2</td>\n",
       "      <td>2</td>\n",
       "      <td>2</td>\n",
       "      <td>2</td>\n",
       "      <td>2</td>\n",
       "    </tr>\n",
       "    <tr>\n",
       "      <th>top</th>\n",
       "      <td>Fiber optic</td>\n",
       "      <td>No</td>\n",
       "      <td>No</td>\n",
       "      <td>No</td>\n",
       "      <td>No</td>\n",
       "      <td>No</td>\n",
       "      <td>No</td>\n",
       "    </tr>\n",
       "    <tr>\n",
       "      <th>freq</th>\n",
       "      <td>3096</td>\n",
       "      <td>3498</td>\n",
       "      <td>3088</td>\n",
       "      <td>3095</td>\n",
       "      <td>3473</td>\n",
       "      <td>2810</td>\n",
       "      <td>2785</td>\n",
       "    </tr>\n",
       "  </tbody>\n",
       "</table>\n",
       "</div>"
      ],
      "text/plain": [
       "       InternetService OnlineSecurity OnlineBackup DeviceProtection  \\\n",
       "count             5517           5517         5517             5517   \n",
       "unique               2              2            2                2   \n",
       "top        Fiber optic             No           No               No   \n",
       "freq              3096           3498         3088             3095   \n",
       "\n",
       "       TechSupport StreamingTV StreamingMovies  \n",
       "count         5517        5517            5517  \n",
       "unique           2           2               2  \n",
       "top             No          No              No  \n",
       "freq          3473        2810            2785  "
      ]
     },
     "execution_count": 6,
     "metadata": {},
     "output_type": "execute_result"
    }
   ],
   "source": [
    "display(internet.head())\n",
    "internet.info()\n",
    "internet.describe()"
   ]
  },
  {
   "cell_type": "markdown",
   "id": "97f1552b",
   "metadata": {},
   "source": [
    "Файл internet.csv содержит таблицу размером 8х5517, customerID все занчения уникальны, в этой таблице значений меньше не все клиенты пользуются интернет-услугами. Значения всех столбцов типа object, кроме customerID категориальные признаки."
   ]
  },
  {
   "cell_type": "code",
   "execution_count": 7,
   "id": "1962ccd1",
   "metadata": {
    "scrolled": true
   },
   "outputs": [
    {
     "data": {
      "text/html": [
       "<div>\n",
       "<style scoped>\n",
       "    .dataframe tbody tr th:only-of-type {\n",
       "        vertical-align: middle;\n",
       "    }\n",
       "\n",
       "    .dataframe tbody tr th {\n",
       "        vertical-align: top;\n",
       "    }\n",
       "\n",
       "    .dataframe thead th {\n",
       "        text-align: right;\n",
       "    }\n",
       "</style>\n",
       "<table border=\"1\" class=\"dataframe\">\n",
       "  <thead>\n",
       "    <tr style=\"text-align: right;\">\n",
       "      <th></th>\n",
       "      <th>MultipleLines</th>\n",
       "    </tr>\n",
       "    <tr>\n",
       "      <th>customerID</th>\n",
       "      <th></th>\n",
       "    </tr>\n",
       "  </thead>\n",
       "  <tbody>\n",
       "    <tr>\n",
       "      <th>5575-GNVDE</th>\n",
       "      <td>No</td>\n",
       "    </tr>\n",
       "    <tr>\n",
       "      <th>3668-QPYBK</th>\n",
       "      <td>No</td>\n",
       "    </tr>\n",
       "    <tr>\n",
       "      <th>9237-HQITU</th>\n",
       "      <td>No</td>\n",
       "    </tr>\n",
       "    <tr>\n",
       "      <th>9305-CDSKC</th>\n",
       "      <td>Yes</td>\n",
       "    </tr>\n",
       "    <tr>\n",
       "      <th>1452-KIOVK</th>\n",
       "      <td>Yes</td>\n",
       "    </tr>\n",
       "  </tbody>\n",
       "</table>\n",
       "</div>"
      ],
      "text/plain": [
       "           MultipleLines\n",
       "customerID              \n",
       "5575-GNVDE            No\n",
       "3668-QPYBK            No\n",
       "9237-HQITU            No\n",
       "9305-CDSKC           Yes\n",
       "1452-KIOVK           Yes"
      ]
     },
     "metadata": {},
     "output_type": "display_data"
    },
    {
     "name": "stdout",
     "output_type": "stream",
     "text": [
      "<class 'pandas.core.frame.DataFrame'>\n",
      "Index: 6361 entries, 5575-GNVDE to 3186-AJIEK\n",
      "Data columns (total 1 columns):\n",
      " #   Column         Non-Null Count  Dtype \n",
      "---  ------         --------------  ----- \n",
      " 0   MultipleLines  6361 non-null   object\n",
      "dtypes: object(1)\n",
      "memory usage: 99.4+ KB\n"
     ]
    },
    {
     "data": {
      "text/html": [
       "<div>\n",
       "<style scoped>\n",
       "    .dataframe tbody tr th:only-of-type {\n",
       "        vertical-align: middle;\n",
       "    }\n",
       "\n",
       "    .dataframe tbody tr th {\n",
       "        vertical-align: top;\n",
       "    }\n",
       "\n",
       "    .dataframe thead th {\n",
       "        text-align: right;\n",
       "    }\n",
       "</style>\n",
       "<table border=\"1\" class=\"dataframe\">\n",
       "  <thead>\n",
       "    <tr style=\"text-align: right;\">\n",
       "      <th></th>\n",
       "      <th>MultipleLines</th>\n",
       "    </tr>\n",
       "  </thead>\n",
       "  <tbody>\n",
       "    <tr>\n",
       "      <th>count</th>\n",
       "      <td>6361</td>\n",
       "    </tr>\n",
       "    <tr>\n",
       "      <th>unique</th>\n",
       "      <td>2</td>\n",
       "    </tr>\n",
       "    <tr>\n",
       "      <th>top</th>\n",
       "      <td>No</td>\n",
       "    </tr>\n",
       "    <tr>\n",
       "      <th>freq</th>\n",
       "      <td>3390</td>\n",
       "    </tr>\n",
       "  </tbody>\n",
       "</table>\n",
       "</div>"
      ],
      "text/plain": [
       "       MultipleLines\n",
       "count           6361\n",
       "unique             2\n",
       "top               No\n",
       "freq            3390"
      ]
     },
     "execution_count": 7,
     "metadata": {},
     "output_type": "execute_result"
    }
   ],
   "source": [
    "display(phone.head())\n",
    "phone.info()\n",
    "phone.describe()"
   ]
  },
  {
   "cell_type": "markdown",
   "id": "49fef6c7",
   "metadata": {},
   "source": [
    "Файл phone.csv содержит таблицу размером 2х6361, customerID все занчения уникальны,  MultipleLines типа object, принимающие два значения, категориальный признак."
   ]
  },
  {
   "cell_type": "markdown",
   "id": "7f2cdfcd",
   "metadata": {},
   "source": [
    " Нам предоставлены данные о 7043 клиентах компании, не все клиенты пользуются всем набором услуг. После загрузки и изучения данных определились с формированием целевого признака по EndDate (contract.csv) - дата расторжения договора, 0 - клиент остается, 1 - уходит. Так как расматриваем задачу не в динамике, после формирования целевого признака удалим столбцы  BeginDate - дата заключения договора и EndDate - дата расторжения договора.\n",
    " \n",
    " Есть пропущенные значения в столбце TotalCharges - всего потрачено денег на услуги, обработаем пропуски после объединения таблиц. \n",
    " \n",
    " Так как CatBoost позволяет использовать категориальные признаки без необходимости их предварительной обработки, для этого достаточно задать категориальные признаки с помощью параметра cat_features, то кодировку признаков будем проводить только для модели линейной регрессии, после проверки на мультиколлинеарность.\n",
    " "
   ]
  },
  {
   "cell_type": "markdown",
   "id": "0504fc39",
   "metadata": {},
   "source": [
    "## Подготовка данных"
   ]
  },
  {
   "cell_type": "markdown",
   "id": "9bc0d444",
   "metadata": {},
   "source": [
    "Объединим таблицы методом `join`, по умолчанию установлен тип слияния how='left'"
   ]
  },
  {
   "cell_type": "code",
   "execution_count": 8,
   "id": "865e30e1",
   "metadata": {
    "scrolled": false
   },
   "outputs": [
    {
     "name": "stdout",
     "output_type": "stream",
     "text": [
      "<class 'pandas.core.frame.DataFrame'>\n",
      "Index: 7043 entries, 7590-VHVEG to 3186-AJIEK\n",
      "Data columns (total 19 columns):\n",
      " #   Column            Non-Null Count  Dtype  \n",
      "---  ------            --------------  -----  \n",
      " 0   BeginDate         7043 non-null   object \n",
      " 1   EndDate           7043 non-null   object \n",
      " 2   Type              7043 non-null   object \n",
      " 3   PaperlessBilling  7043 non-null   object \n",
      " 4   PaymentMethod     7043 non-null   object \n",
      " 5   MonthlyCharges    7043 non-null   float64\n",
      " 6   TotalCharges      7043 non-null   object \n",
      " 7   gender            7043 non-null   object \n",
      " 8   SeniorCitizen     7043 non-null   int64  \n",
      " 9   Partner           7043 non-null   object \n",
      " 10  Dependents        7043 non-null   object \n",
      " 11  InternetService   5517 non-null   object \n",
      " 12  OnlineSecurity    5517 non-null   object \n",
      " 13  OnlineBackup      5517 non-null   object \n",
      " 14  DeviceProtection  5517 non-null   object \n",
      " 15  TechSupport       5517 non-null   object \n",
      " 16  StreamingTV       5517 non-null   object \n",
      " 17  StreamingMovies   5517 non-null   object \n",
      " 18  MultipleLines     6361 non-null   object \n",
      "dtypes: float64(1), int64(1), object(17)\n",
      "memory usage: 1.1+ MB\n"
     ]
    },
    {
     "data": {
      "text/html": [
       "<div>\n",
       "<style scoped>\n",
       "    .dataframe tbody tr th:only-of-type {\n",
       "        vertical-align: middle;\n",
       "    }\n",
       "\n",
       "    .dataframe tbody tr th {\n",
       "        vertical-align: top;\n",
       "    }\n",
       "\n",
       "    .dataframe thead th {\n",
       "        text-align: right;\n",
       "    }\n",
       "</style>\n",
       "<table border=\"1\" class=\"dataframe\">\n",
       "  <thead>\n",
       "    <tr style=\"text-align: right;\">\n",
       "      <th></th>\n",
       "      <th>BeginDate</th>\n",
       "      <th>EndDate</th>\n",
       "      <th>Type</th>\n",
       "      <th>PaperlessBilling</th>\n",
       "      <th>PaymentMethod</th>\n",
       "      <th>MonthlyCharges</th>\n",
       "      <th>TotalCharges</th>\n",
       "      <th>gender</th>\n",
       "      <th>SeniorCitizen</th>\n",
       "      <th>Partner</th>\n",
       "      <th>Dependents</th>\n",
       "      <th>InternetService</th>\n",
       "      <th>OnlineSecurity</th>\n",
       "      <th>OnlineBackup</th>\n",
       "      <th>DeviceProtection</th>\n",
       "      <th>TechSupport</th>\n",
       "      <th>StreamingTV</th>\n",
       "      <th>StreamingMovies</th>\n",
       "      <th>MultipleLines</th>\n",
       "    </tr>\n",
       "  </thead>\n",
       "  <tbody>\n",
       "    <tr>\n",
       "      <th>count</th>\n",
       "      <td>7043</td>\n",
       "      <td>7043</td>\n",
       "      <td>7043</td>\n",
       "      <td>7043</td>\n",
       "      <td>7043</td>\n",
       "      <td>7043.000000</td>\n",
       "      <td>7043</td>\n",
       "      <td>7043</td>\n",
       "      <td>7043.000000</td>\n",
       "      <td>7043</td>\n",
       "      <td>7043</td>\n",
       "      <td>5517</td>\n",
       "      <td>5517</td>\n",
       "      <td>5517</td>\n",
       "      <td>5517</td>\n",
       "      <td>5517</td>\n",
       "      <td>5517</td>\n",
       "      <td>5517</td>\n",
       "      <td>6361</td>\n",
       "    </tr>\n",
       "    <tr>\n",
       "      <th>unique</th>\n",
       "      <td>77</td>\n",
       "      <td>5</td>\n",
       "      <td>3</td>\n",
       "      <td>2</td>\n",
       "      <td>4</td>\n",
       "      <td>NaN</td>\n",
       "      <td>6531</td>\n",
       "      <td>2</td>\n",
       "      <td>NaN</td>\n",
       "      <td>2</td>\n",
       "      <td>2</td>\n",
       "      <td>2</td>\n",
       "      <td>2</td>\n",
       "      <td>2</td>\n",
       "      <td>2</td>\n",
       "      <td>2</td>\n",
       "      <td>2</td>\n",
       "      <td>2</td>\n",
       "      <td>2</td>\n",
       "    </tr>\n",
       "    <tr>\n",
       "      <th>top</th>\n",
       "      <td>2014-02-01</td>\n",
       "      <td>No</td>\n",
       "      <td>Month-to-month</td>\n",
       "      <td>Yes</td>\n",
       "      <td>Electronic check</td>\n",
       "      <td>NaN</td>\n",
       "      <td>20.2</td>\n",
       "      <td>Male</td>\n",
       "      <td>NaN</td>\n",
       "      <td>No</td>\n",
       "      <td>No</td>\n",
       "      <td>Fiber optic</td>\n",
       "      <td>No</td>\n",
       "      <td>No</td>\n",
       "      <td>No</td>\n",
       "      <td>No</td>\n",
       "      <td>No</td>\n",
       "      <td>No</td>\n",
       "      <td>No</td>\n",
       "    </tr>\n",
       "    <tr>\n",
       "      <th>freq</th>\n",
       "      <td>366</td>\n",
       "      <td>5174</td>\n",
       "      <td>3875</td>\n",
       "      <td>4171</td>\n",
       "      <td>2365</td>\n",
       "      <td>NaN</td>\n",
       "      <td>11</td>\n",
       "      <td>3555</td>\n",
       "      <td>NaN</td>\n",
       "      <td>3641</td>\n",
       "      <td>4933</td>\n",
       "      <td>3096</td>\n",
       "      <td>3498</td>\n",
       "      <td>3088</td>\n",
       "      <td>3095</td>\n",
       "      <td>3473</td>\n",
       "      <td>2810</td>\n",
       "      <td>2785</td>\n",
       "      <td>3390</td>\n",
       "    </tr>\n",
       "    <tr>\n",
       "      <th>mean</th>\n",
       "      <td>NaN</td>\n",
       "      <td>NaN</td>\n",
       "      <td>NaN</td>\n",
       "      <td>NaN</td>\n",
       "      <td>NaN</td>\n",
       "      <td>64.761692</td>\n",
       "      <td>NaN</td>\n",
       "      <td>NaN</td>\n",
       "      <td>0.162147</td>\n",
       "      <td>NaN</td>\n",
       "      <td>NaN</td>\n",
       "      <td>NaN</td>\n",
       "      <td>NaN</td>\n",
       "      <td>NaN</td>\n",
       "      <td>NaN</td>\n",
       "      <td>NaN</td>\n",
       "      <td>NaN</td>\n",
       "      <td>NaN</td>\n",
       "      <td>NaN</td>\n",
       "    </tr>\n",
       "    <tr>\n",
       "      <th>std</th>\n",
       "      <td>NaN</td>\n",
       "      <td>NaN</td>\n",
       "      <td>NaN</td>\n",
       "      <td>NaN</td>\n",
       "      <td>NaN</td>\n",
       "      <td>30.090047</td>\n",
       "      <td>NaN</td>\n",
       "      <td>NaN</td>\n",
       "      <td>0.368612</td>\n",
       "      <td>NaN</td>\n",
       "      <td>NaN</td>\n",
       "      <td>NaN</td>\n",
       "      <td>NaN</td>\n",
       "      <td>NaN</td>\n",
       "      <td>NaN</td>\n",
       "      <td>NaN</td>\n",
       "      <td>NaN</td>\n",
       "      <td>NaN</td>\n",
       "      <td>NaN</td>\n",
       "    </tr>\n",
       "    <tr>\n",
       "      <th>min</th>\n",
       "      <td>NaN</td>\n",
       "      <td>NaN</td>\n",
       "      <td>NaN</td>\n",
       "      <td>NaN</td>\n",
       "      <td>NaN</td>\n",
       "      <td>18.250000</td>\n",
       "      <td>NaN</td>\n",
       "      <td>NaN</td>\n",
       "      <td>0.000000</td>\n",
       "      <td>NaN</td>\n",
       "      <td>NaN</td>\n",
       "      <td>NaN</td>\n",
       "      <td>NaN</td>\n",
       "      <td>NaN</td>\n",
       "      <td>NaN</td>\n",
       "      <td>NaN</td>\n",
       "      <td>NaN</td>\n",
       "      <td>NaN</td>\n",
       "      <td>NaN</td>\n",
       "    </tr>\n",
       "    <tr>\n",
       "      <th>25%</th>\n",
       "      <td>NaN</td>\n",
       "      <td>NaN</td>\n",
       "      <td>NaN</td>\n",
       "      <td>NaN</td>\n",
       "      <td>NaN</td>\n",
       "      <td>35.500000</td>\n",
       "      <td>NaN</td>\n",
       "      <td>NaN</td>\n",
       "      <td>0.000000</td>\n",
       "      <td>NaN</td>\n",
       "      <td>NaN</td>\n",
       "      <td>NaN</td>\n",
       "      <td>NaN</td>\n",
       "      <td>NaN</td>\n",
       "      <td>NaN</td>\n",
       "      <td>NaN</td>\n",
       "      <td>NaN</td>\n",
       "      <td>NaN</td>\n",
       "      <td>NaN</td>\n",
       "    </tr>\n",
       "    <tr>\n",
       "      <th>50%</th>\n",
       "      <td>NaN</td>\n",
       "      <td>NaN</td>\n",
       "      <td>NaN</td>\n",
       "      <td>NaN</td>\n",
       "      <td>NaN</td>\n",
       "      <td>70.350000</td>\n",
       "      <td>NaN</td>\n",
       "      <td>NaN</td>\n",
       "      <td>0.000000</td>\n",
       "      <td>NaN</td>\n",
       "      <td>NaN</td>\n",
       "      <td>NaN</td>\n",
       "      <td>NaN</td>\n",
       "      <td>NaN</td>\n",
       "      <td>NaN</td>\n",
       "      <td>NaN</td>\n",
       "      <td>NaN</td>\n",
       "      <td>NaN</td>\n",
       "      <td>NaN</td>\n",
       "    </tr>\n",
       "    <tr>\n",
       "      <th>75%</th>\n",
       "      <td>NaN</td>\n",
       "      <td>NaN</td>\n",
       "      <td>NaN</td>\n",
       "      <td>NaN</td>\n",
       "      <td>NaN</td>\n",
       "      <td>89.850000</td>\n",
       "      <td>NaN</td>\n",
       "      <td>NaN</td>\n",
       "      <td>0.000000</td>\n",
       "      <td>NaN</td>\n",
       "      <td>NaN</td>\n",
       "      <td>NaN</td>\n",
       "      <td>NaN</td>\n",
       "      <td>NaN</td>\n",
       "      <td>NaN</td>\n",
       "      <td>NaN</td>\n",
       "      <td>NaN</td>\n",
       "      <td>NaN</td>\n",
       "      <td>NaN</td>\n",
       "    </tr>\n",
       "    <tr>\n",
       "      <th>max</th>\n",
       "      <td>NaN</td>\n",
       "      <td>NaN</td>\n",
       "      <td>NaN</td>\n",
       "      <td>NaN</td>\n",
       "      <td>NaN</td>\n",
       "      <td>118.750000</td>\n",
       "      <td>NaN</td>\n",
       "      <td>NaN</td>\n",
       "      <td>1.000000</td>\n",
       "      <td>NaN</td>\n",
       "      <td>NaN</td>\n",
       "      <td>NaN</td>\n",
       "      <td>NaN</td>\n",
       "      <td>NaN</td>\n",
       "      <td>NaN</td>\n",
       "      <td>NaN</td>\n",
       "      <td>NaN</td>\n",
       "      <td>NaN</td>\n",
       "      <td>NaN</td>\n",
       "    </tr>\n",
       "  </tbody>\n",
       "</table>\n",
       "</div>"
      ],
      "text/plain": [
       "         BeginDate EndDate            Type PaperlessBilling     PaymentMethod  \\\n",
       "count         7043    7043            7043             7043              7043   \n",
       "unique          77       5               3                2                 4   \n",
       "top     2014-02-01      No  Month-to-month              Yes  Electronic check   \n",
       "freq           366    5174            3875             4171              2365   \n",
       "mean           NaN     NaN             NaN              NaN               NaN   \n",
       "std            NaN     NaN             NaN              NaN               NaN   \n",
       "min            NaN     NaN             NaN              NaN               NaN   \n",
       "25%            NaN     NaN             NaN              NaN               NaN   \n",
       "50%            NaN     NaN             NaN              NaN               NaN   \n",
       "75%            NaN     NaN             NaN              NaN               NaN   \n",
       "max            NaN     NaN             NaN              NaN               NaN   \n",
       "\n",
       "        MonthlyCharges TotalCharges gender  SeniorCitizen Partner Dependents  \\\n",
       "count      7043.000000         7043   7043    7043.000000    7043       7043   \n",
       "unique             NaN         6531      2            NaN       2          2   \n",
       "top                NaN         20.2   Male            NaN      No         No   \n",
       "freq               NaN           11   3555            NaN    3641       4933   \n",
       "mean         64.761692          NaN    NaN       0.162147     NaN        NaN   \n",
       "std          30.090047          NaN    NaN       0.368612     NaN        NaN   \n",
       "min          18.250000          NaN    NaN       0.000000     NaN        NaN   \n",
       "25%          35.500000          NaN    NaN       0.000000     NaN        NaN   \n",
       "50%          70.350000          NaN    NaN       0.000000     NaN        NaN   \n",
       "75%          89.850000          NaN    NaN       0.000000     NaN        NaN   \n",
       "max         118.750000          NaN    NaN       1.000000     NaN        NaN   \n",
       "\n",
       "       InternetService OnlineSecurity OnlineBackup DeviceProtection  \\\n",
       "count             5517           5517         5517             5517   \n",
       "unique               2              2            2                2   \n",
       "top        Fiber optic             No           No               No   \n",
       "freq              3096           3498         3088             3095   \n",
       "mean               NaN            NaN          NaN              NaN   \n",
       "std                NaN            NaN          NaN              NaN   \n",
       "min                NaN            NaN          NaN              NaN   \n",
       "25%                NaN            NaN          NaN              NaN   \n",
       "50%                NaN            NaN          NaN              NaN   \n",
       "75%                NaN            NaN          NaN              NaN   \n",
       "max                NaN            NaN          NaN              NaN   \n",
       "\n",
       "       TechSupport StreamingTV StreamingMovies MultipleLines  \n",
       "count         5517        5517            5517          6361  \n",
       "unique           2           2               2             2  \n",
       "top             No          No              No            No  \n",
       "freq          3473        2810            2785          3390  \n",
       "mean           NaN         NaN             NaN           NaN  \n",
       "std            NaN         NaN             NaN           NaN  \n",
       "min            NaN         NaN             NaN           NaN  \n",
       "25%            NaN         NaN             NaN           NaN  \n",
       "50%            NaN         NaN             NaN           NaN  \n",
       "75%            NaN         NaN             NaN           NaN  \n",
       "max            NaN         NaN             NaN           NaN  "
      ]
     },
     "metadata": {},
     "output_type": "display_data"
    },
    {
     "data": {
      "text/html": [
       "<div>\n",
       "<style scoped>\n",
       "    .dataframe tbody tr th:only-of-type {\n",
       "        vertical-align: middle;\n",
       "    }\n",
       "\n",
       "    .dataframe tbody tr th {\n",
       "        vertical-align: top;\n",
       "    }\n",
       "\n",
       "    .dataframe thead th {\n",
       "        text-align: right;\n",
       "    }\n",
       "</style>\n",
       "<table border=\"1\" class=\"dataframe\">\n",
       "  <thead>\n",
       "    <tr style=\"text-align: right;\">\n",
       "      <th></th>\n",
       "      <th>BeginDate</th>\n",
       "      <th>EndDate</th>\n",
       "      <th>Type</th>\n",
       "      <th>PaperlessBilling</th>\n",
       "      <th>PaymentMethod</th>\n",
       "      <th>MonthlyCharges</th>\n",
       "      <th>TotalCharges</th>\n",
       "      <th>gender</th>\n",
       "      <th>SeniorCitizen</th>\n",
       "      <th>Partner</th>\n",
       "      <th>Dependents</th>\n",
       "      <th>InternetService</th>\n",
       "      <th>OnlineSecurity</th>\n",
       "      <th>OnlineBackup</th>\n",
       "      <th>DeviceProtection</th>\n",
       "      <th>TechSupport</th>\n",
       "      <th>StreamingTV</th>\n",
       "      <th>StreamingMovies</th>\n",
       "      <th>MultipleLines</th>\n",
       "    </tr>\n",
       "    <tr>\n",
       "      <th>customerID</th>\n",
       "      <th></th>\n",
       "      <th></th>\n",
       "      <th></th>\n",
       "      <th></th>\n",
       "      <th></th>\n",
       "      <th></th>\n",
       "      <th></th>\n",
       "      <th></th>\n",
       "      <th></th>\n",
       "      <th></th>\n",
       "      <th></th>\n",
       "      <th></th>\n",
       "      <th></th>\n",
       "      <th></th>\n",
       "      <th></th>\n",
       "      <th></th>\n",
       "      <th></th>\n",
       "      <th></th>\n",
       "      <th></th>\n",
       "    </tr>\n",
       "  </thead>\n",
       "  <tbody>\n",
       "    <tr>\n",
       "      <th>7590-VHVEG</th>\n",
       "      <td>2020-01-01</td>\n",
       "      <td>No</td>\n",
       "      <td>Month-to-month</td>\n",
       "      <td>Yes</td>\n",
       "      <td>Electronic check</td>\n",
       "      <td>29.85</td>\n",
       "      <td>29.85</td>\n",
       "      <td>Female</td>\n",
       "      <td>0</td>\n",
       "      <td>Yes</td>\n",
       "      <td>No</td>\n",
       "      <td>DSL</td>\n",
       "      <td>No</td>\n",
       "      <td>Yes</td>\n",
       "      <td>No</td>\n",
       "      <td>No</td>\n",
       "      <td>No</td>\n",
       "      <td>No</td>\n",
       "      <td>NaN</td>\n",
       "    </tr>\n",
       "    <tr>\n",
       "      <th>5575-GNVDE</th>\n",
       "      <td>2017-04-01</td>\n",
       "      <td>No</td>\n",
       "      <td>One year</td>\n",
       "      <td>No</td>\n",
       "      <td>Mailed check</td>\n",
       "      <td>56.95</td>\n",
       "      <td>1889.5</td>\n",
       "      <td>Male</td>\n",
       "      <td>0</td>\n",
       "      <td>No</td>\n",
       "      <td>No</td>\n",
       "      <td>DSL</td>\n",
       "      <td>Yes</td>\n",
       "      <td>No</td>\n",
       "      <td>Yes</td>\n",
       "      <td>No</td>\n",
       "      <td>No</td>\n",
       "      <td>No</td>\n",
       "      <td>No</td>\n",
       "    </tr>\n",
       "    <tr>\n",
       "      <th>3668-QPYBK</th>\n",
       "      <td>2019-10-01</td>\n",
       "      <td>2019-12-01 00:00:00</td>\n",
       "      <td>Month-to-month</td>\n",
       "      <td>Yes</td>\n",
       "      <td>Mailed check</td>\n",
       "      <td>53.85</td>\n",
       "      <td>108.15</td>\n",
       "      <td>Male</td>\n",
       "      <td>0</td>\n",
       "      <td>No</td>\n",
       "      <td>No</td>\n",
       "      <td>DSL</td>\n",
       "      <td>Yes</td>\n",
       "      <td>Yes</td>\n",
       "      <td>No</td>\n",
       "      <td>No</td>\n",
       "      <td>No</td>\n",
       "      <td>No</td>\n",
       "      <td>No</td>\n",
       "    </tr>\n",
       "    <tr>\n",
       "      <th>7795-CFOCW</th>\n",
       "      <td>2016-05-01</td>\n",
       "      <td>No</td>\n",
       "      <td>One year</td>\n",
       "      <td>No</td>\n",
       "      <td>Bank transfer (automatic)</td>\n",
       "      <td>42.30</td>\n",
       "      <td>1840.75</td>\n",
       "      <td>Male</td>\n",
       "      <td>0</td>\n",
       "      <td>No</td>\n",
       "      <td>No</td>\n",
       "      <td>DSL</td>\n",
       "      <td>Yes</td>\n",
       "      <td>No</td>\n",
       "      <td>Yes</td>\n",
       "      <td>Yes</td>\n",
       "      <td>No</td>\n",
       "      <td>No</td>\n",
       "      <td>NaN</td>\n",
       "    </tr>\n",
       "    <tr>\n",
       "      <th>9237-HQITU</th>\n",
       "      <td>2019-09-01</td>\n",
       "      <td>2019-11-01 00:00:00</td>\n",
       "      <td>Month-to-month</td>\n",
       "      <td>Yes</td>\n",
       "      <td>Electronic check</td>\n",
       "      <td>70.70</td>\n",
       "      <td>151.65</td>\n",
       "      <td>Female</td>\n",
       "      <td>0</td>\n",
       "      <td>No</td>\n",
       "      <td>No</td>\n",
       "      <td>Fiber optic</td>\n",
       "      <td>No</td>\n",
       "      <td>No</td>\n",
       "      <td>No</td>\n",
       "      <td>No</td>\n",
       "      <td>No</td>\n",
       "      <td>No</td>\n",
       "      <td>No</td>\n",
       "    </tr>\n",
       "  </tbody>\n",
       "</table>\n",
       "</div>"
      ],
      "text/plain": [
       "             BeginDate              EndDate            Type PaperlessBilling  \\\n",
       "customerID                                                                     \n",
       "7590-VHVEG  2020-01-01                   No  Month-to-month              Yes   \n",
       "5575-GNVDE  2017-04-01                   No        One year               No   \n",
       "3668-QPYBK  2019-10-01  2019-12-01 00:00:00  Month-to-month              Yes   \n",
       "7795-CFOCW  2016-05-01                   No        One year               No   \n",
       "9237-HQITU  2019-09-01  2019-11-01 00:00:00  Month-to-month              Yes   \n",
       "\n",
       "                        PaymentMethod  MonthlyCharges TotalCharges  gender  \\\n",
       "customerID                                                                   \n",
       "7590-VHVEG           Electronic check           29.85        29.85  Female   \n",
       "5575-GNVDE               Mailed check           56.95       1889.5    Male   \n",
       "3668-QPYBK               Mailed check           53.85       108.15    Male   \n",
       "7795-CFOCW  Bank transfer (automatic)           42.30      1840.75    Male   \n",
       "9237-HQITU           Electronic check           70.70       151.65  Female   \n",
       "\n",
       "            SeniorCitizen Partner Dependents InternetService OnlineSecurity  \\\n",
       "customerID                                                                    \n",
       "7590-VHVEG              0     Yes         No             DSL             No   \n",
       "5575-GNVDE              0      No         No             DSL            Yes   \n",
       "3668-QPYBK              0      No         No             DSL            Yes   \n",
       "7795-CFOCW              0      No         No             DSL            Yes   \n",
       "9237-HQITU              0      No         No     Fiber optic             No   \n",
       "\n",
       "           OnlineBackup DeviceProtection TechSupport StreamingTV  \\\n",
       "customerID                                                         \n",
       "7590-VHVEG          Yes               No          No          No   \n",
       "5575-GNVDE           No              Yes          No          No   \n",
       "3668-QPYBK          Yes               No          No          No   \n",
       "7795-CFOCW           No              Yes         Yes          No   \n",
       "9237-HQITU           No               No          No          No   \n",
       "\n",
       "           StreamingMovies MultipleLines  \n",
       "customerID                                \n",
       "7590-VHVEG              No           NaN  \n",
       "5575-GNVDE              No            No  \n",
       "3668-QPYBK              No            No  \n",
       "7795-CFOCW              No           NaN  \n",
       "9237-HQITU              No            No  "
      ]
     },
     "execution_count": 8,
     "metadata": {},
     "output_type": "execute_result"
    }
   ],
   "source": [
    "data = contract.join([personal,internet, phone])\n",
    "data.info()\n",
    "display(data.describe(include='all'))\n",
    "data.head()"
   ]
  },
  {
   "cell_type": "code",
   "execution_count": 9,
   "id": "b25e036c",
   "metadata": {
    "scrolled": false
   },
   "outputs": [
    {
     "data": {
      "text/plain": [
       "No                     5174\n",
       "2019-11-01 00:00:00     485\n",
       "2019-12-01 00:00:00     466\n",
       "2020-01-01 00:00:00     460\n",
       "2019-10-01 00:00:00     458\n",
       "Name: EndDate, dtype: int64"
      ]
     },
     "execution_count": 9,
     "metadata": {},
     "output_type": "execute_result"
    }
   ],
   "source": [
    "# выведем количество уникальные значения столбца EndDate\n",
    "data['EndDate'].value_counts()"
   ]
  },
  {
   "cell_type": "markdown",
   "id": "418e72fc",
   "metadata": {},
   "source": [
    "Столбец 'TotalCharges' распознан как тип object. Это значит, что в столбце есть не числовые значения или пропуски, а они помешают нашим расчётам. Используем метод Pandas — to_numeric(). Он превращает значения столбца в числовой тип float64 (вещественное число). Зададим параметру 'errors' ='coerce' — некорректные значения принудительно заменяются на NaN."
   ]
  },
  {
   "cell_type": "code",
   "execution_count": 10,
   "id": "8b637c49",
   "metadata": {},
   "outputs": [
    {
     "data": {
      "text/plain": [
       "11"
      ]
     },
     "execution_count": 10,
     "metadata": {},
     "output_type": "execute_result"
    }
   ],
   "source": [
    "data['TotalCharges'] = pd.to_numeric(data['TotalCharges'], errors='coerce')\n",
    "data['TotalCharges'].isna().sum()"
   ]
  },
  {
   "cell_type": "markdown",
   "id": "359e1757",
   "metadata": {},
   "source": [
    "11 пропущенных значений bp 7043, строки можно удалить"
   ]
  },
  {
   "cell_type": "code",
   "execution_count": 11,
   "id": "f10c3a08",
   "metadata": {
    "scrolled": true
   },
   "outputs": [
    {
     "data": {
      "text/plain": [
       "(7032, 19)"
      ]
     },
     "execution_count": 11,
     "metadata": {},
     "output_type": "execute_result"
    }
   ],
   "source": [
    "# удалим пропущенные значения в TotalCharges\n",
    "data = data.dropna(subset=['TotalCharges'])\n",
    "data.shape"
   ]
  },
  {
   "cell_type": "code",
   "execution_count": 12,
   "id": "dde344ee",
   "metadata": {},
   "outputs": [
    {
     "data": {
      "text/plain": [
       "BeginDate              0\n",
       "EndDate                0\n",
       "Type                   0\n",
       "PaperlessBilling       0\n",
       "PaymentMethod          0\n",
       "MonthlyCharges         0\n",
       "TotalCharges           0\n",
       "gender                 0\n",
       "SeniorCitizen          0\n",
       "Partner                0\n",
       "Dependents             0\n",
       "InternetService     1520\n",
       "OnlineSecurity      1520\n",
       "OnlineBackup        1520\n",
       "DeviceProtection    1520\n",
       "TechSupport         1520\n",
       "StreamingTV         1520\n",
       "StreamingMovies     1520\n",
       "MultipleLines        680\n",
       "dtype: int64"
      ]
     },
     "execution_count": 12,
     "metadata": {},
     "output_type": "execute_result"
    }
   ],
   "source": [
    "data.isna().sum()"
   ]
  },
  {
   "cell_type": "code",
   "execution_count": 13,
   "id": "0210a091",
   "metadata": {},
   "outputs": [
    {
     "data": {
      "text/html": [
       "<div>\n",
       "<style scoped>\n",
       "    .dataframe tbody tr th:only-of-type {\n",
       "        vertical-align: middle;\n",
       "    }\n",
       "\n",
       "    .dataframe tbody tr th {\n",
       "        vertical-align: top;\n",
       "    }\n",
       "\n",
       "    .dataframe thead th {\n",
       "        text-align: right;\n",
       "    }\n",
       "</style>\n",
       "<table border=\"1\" class=\"dataframe\">\n",
       "  <thead>\n",
       "    <tr style=\"text-align: right;\">\n",
       "      <th></th>\n",
       "      <th>BeginDate</th>\n",
       "      <th>EndDate</th>\n",
       "      <th>Type</th>\n",
       "      <th>PaperlessBilling</th>\n",
       "      <th>PaymentMethod</th>\n",
       "      <th>MonthlyCharges</th>\n",
       "      <th>TotalCharges</th>\n",
       "      <th>gender</th>\n",
       "      <th>SeniorCitizen</th>\n",
       "      <th>Partner</th>\n",
       "      <th>Dependents</th>\n",
       "      <th>InternetService</th>\n",
       "      <th>OnlineSecurity</th>\n",
       "      <th>OnlineBackup</th>\n",
       "      <th>DeviceProtection</th>\n",
       "      <th>TechSupport</th>\n",
       "      <th>StreamingTV</th>\n",
       "      <th>StreamingMovies</th>\n",
       "      <th>MultipleLines</th>\n",
       "    </tr>\n",
       "    <tr>\n",
       "      <th>customerID</th>\n",
       "      <th></th>\n",
       "      <th></th>\n",
       "      <th></th>\n",
       "      <th></th>\n",
       "      <th></th>\n",
       "      <th></th>\n",
       "      <th></th>\n",
       "      <th></th>\n",
       "      <th></th>\n",
       "      <th></th>\n",
       "      <th></th>\n",
       "      <th></th>\n",
       "      <th></th>\n",
       "      <th></th>\n",
       "      <th></th>\n",
       "      <th></th>\n",
       "      <th></th>\n",
       "      <th></th>\n",
       "      <th></th>\n",
       "    </tr>\n",
       "  </thead>\n",
       "  <tbody>\n",
       "    <tr>\n",
       "      <th>8605-ITULD</th>\n",
       "      <td>2020-01-01</td>\n",
       "      <td>No</td>\n",
       "      <td>Month-to-month</td>\n",
       "      <td>No</td>\n",
       "      <td>Mailed check</td>\n",
       "      <td>19.55</td>\n",
       "      <td>19.55</td>\n",
       "      <td>Female</td>\n",
       "      <td>0</td>\n",
       "      <td>No</td>\n",
       "      <td>No</td>\n",
       "      <td>NaN</td>\n",
       "      <td>NaN</td>\n",
       "      <td>NaN</td>\n",
       "      <td>NaN</td>\n",
       "      <td>NaN</td>\n",
       "      <td>NaN</td>\n",
       "      <td>NaN</td>\n",
       "      <td>No</td>\n",
       "    </tr>\n",
       "    <tr>\n",
       "      <th>3247-MHJKM</th>\n",
       "      <td>2020-01-01</td>\n",
       "      <td>No</td>\n",
       "      <td>Month-to-month</td>\n",
       "      <td>No</td>\n",
       "      <td>Mailed check</td>\n",
       "      <td>20.20</td>\n",
       "      <td>20.20</td>\n",
       "      <td>Male</td>\n",
       "      <td>0</td>\n",
       "      <td>No</td>\n",
       "      <td>No</td>\n",
       "      <td>NaN</td>\n",
       "      <td>NaN</td>\n",
       "      <td>NaN</td>\n",
       "      <td>NaN</td>\n",
       "      <td>NaN</td>\n",
       "      <td>NaN</td>\n",
       "      <td>NaN</td>\n",
       "      <td>No</td>\n",
       "    </tr>\n",
       "    <tr>\n",
       "      <th>5996-DAOQL</th>\n",
       "      <td>2020-01-01</td>\n",
       "      <td>No</td>\n",
       "      <td>Month-to-month</td>\n",
       "      <td>Yes</td>\n",
       "      <td>Mailed check</td>\n",
       "      <td>20.45</td>\n",
       "      <td>20.45</td>\n",
       "      <td>Male</td>\n",
       "      <td>0</td>\n",
       "      <td>No</td>\n",
       "      <td>No</td>\n",
       "      <td>NaN</td>\n",
       "      <td>NaN</td>\n",
       "      <td>NaN</td>\n",
       "      <td>NaN</td>\n",
       "      <td>NaN</td>\n",
       "      <td>NaN</td>\n",
       "      <td>NaN</td>\n",
       "      <td>No</td>\n",
       "    </tr>\n",
       "    <tr>\n",
       "      <th>2668-TZSPS</th>\n",
       "      <td>2020-01-01</td>\n",
       "      <td>No</td>\n",
       "      <td>Month-to-month</td>\n",
       "      <td>No</td>\n",
       "      <td>Mailed check</td>\n",
       "      <td>20.45</td>\n",
       "      <td>20.45</td>\n",
       "      <td>Male</td>\n",
       "      <td>0</td>\n",
       "      <td>No</td>\n",
       "      <td>No</td>\n",
       "      <td>NaN</td>\n",
       "      <td>NaN</td>\n",
       "      <td>NaN</td>\n",
       "      <td>NaN</td>\n",
       "      <td>NaN</td>\n",
       "      <td>NaN</td>\n",
       "      <td>NaN</td>\n",
       "      <td>No</td>\n",
       "    </tr>\n",
       "    <tr>\n",
       "      <th>2636-ALXXZ</th>\n",
       "      <td>2019-12-01</td>\n",
       "      <td>2020-01-01 00:00:00</td>\n",
       "      <td>Month-to-month</td>\n",
       "      <td>Yes</td>\n",
       "      <td>Electronic check</td>\n",
       "      <td>69.60</td>\n",
       "      <td>69.60</td>\n",
       "      <td>Female</td>\n",
       "      <td>1</td>\n",
       "      <td>No</td>\n",
       "      <td>No</td>\n",
       "      <td>Fiber optic</td>\n",
       "      <td>No</td>\n",
       "      <td>No</td>\n",
       "      <td>No</td>\n",
       "      <td>No</td>\n",
       "      <td>No</td>\n",
       "      <td>No</td>\n",
       "      <td>No</td>\n",
       "    </tr>\n",
       "    <tr>\n",
       "      <th>7096-UCLNH</th>\n",
       "      <td>2020-01-01</td>\n",
       "      <td>No</td>\n",
       "      <td>Month-to-month</td>\n",
       "      <td>No</td>\n",
       "      <td>Mailed check</td>\n",
       "      <td>20.05</td>\n",
       "      <td>20.05</td>\n",
       "      <td>Male</td>\n",
       "      <td>0</td>\n",
       "      <td>No</td>\n",
       "      <td>No</td>\n",
       "      <td>NaN</td>\n",
       "      <td>NaN</td>\n",
       "      <td>NaN</td>\n",
       "      <td>NaN</td>\n",
       "      <td>NaN</td>\n",
       "      <td>NaN</td>\n",
       "      <td>NaN</td>\n",
       "      <td>No</td>\n",
       "    </tr>\n",
       "    <tr>\n",
       "      <th>8048-DSDFQ</th>\n",
       "      <td>2020-01-01</td>\n",
       "      <td>No</td>\n",
       "      <td>Month-to-month</td>\n",
       "      <td>No</td>\n",
       "      <td>Mailed check</td>\n",
       "      <td>20.20</td>\n",
       "      <td>20.20</td>\n",
       "      <td>Male</td>\n",
       "      <td>0</td>\n",
       "      <td>No</td>\n",
       "      <td>No</td>\n",
       "      <td>NaN</td>\n",
       "      <td>NaN</td>\n",
       "      <td>NaN</td>\n",
       "      <td>NaN</td>\n",
       "      <td>NaN</td>\n",
       "      <td>NaN</td>\n",
       "      <td>NaN</td>\n",
       "      <td>No</td>\n",
       "    </tr>\n",
       "    <tr>\n",
       "      <th>8749-CLJXC</th>\n",
       "      <td>2020-01-01</td>\n",
       "      <td>No</td>\n",
       "      <td>Month-to-month</td>\n",
       "      <td>No</td>\n",
       "      <td>Mailed check</td>\n",
       "      <td>20.05</td>\n",
       "      <td>20.05</td>\n",
       "      <td>Male</td>\n",
       "      <td>0</td>\n",
       "      <td>No</td>\n",
       "      <td>No</td>\n",
       "      <td>NaN</td>\n",
       "      <td>NaN</td>\n",
       "      <td>NaN</td>\n",
       "      <td>NaN</td>\n",
       "      <td>NaN</td>\n",
       "      <td>NaN</td>\n",
       "      <td>NaN</td>\n",
       "      <td>No</td>\n",
       "    </tr>\n",
       "    <tr>\n",
       "      <th>2676-ISHSF</th>\n",
       "      <td>2020-01-01</td>\n",
       "      <td>No</td>\n",
       "      <td>Month-to-month</td>\n",
       "      <td>No</td>\n",
       "      <td>Mailed check</td>\n",
       "      <td>20.30</td>\n",
       "      <td>20.30</td>\n",
       "      <td>Male</td>\n",
       "      <td>0</td>\n",
       "      <td>No</td>\n",
       "      <td>No</td>\n",
       "      <td>NaN</td>\n",
       "      <td>NaN</td>\n",
       "      <td>NaN</td>\n",
       "      <td>NaN</td>\n",
       "      <td>NaN</td>\n",
       "      <td>NaN</td>\n",
       "      <td>NaN</td>\n",
       "      <td>No</td>\n",
       "    </tr>\n",
       "    <tr>\n",
       "      <th>1000-AJSLD</th>\n",
       "      <td>2019-10-01</td>\n",
       "      <td>2019-11-01 00:00:00</td>\n",
       "      <td>Month-to-month</td>\n",
       "      <td>Yes</td>\n",
       "      <td>Mailed check</td>\n",
       "      <td>20.10</td>\n",
       "      <td>20.10</td>\n",
       "      <td>Male</td>\n",
       "      <td>0</td>\n",
       "      <td>No</td>\n",
       "      <td>No</td>\n",
       "      <td>NaN</td>\n",
       "      <td>NaN</td>\n",
       "      <td>NaN</td>\n",
       "      <td>NaN</td>\n",
       "      <td>NaN</td>\n",
       "      <td>NaN</td>\n",
       "      <td>NaN</td>\n",
       "      <td>No</td>\n",
       "    </tr>\n",
       "    <tr>\n",
       "      <th>7878-RTCZG</th>\n",
       "      <td>2020-01-01</td>\n",
       "      <td>No</td>\n",
       "      <td>Month-to-month</td>\n",
       "      <td>No</td>\n",
       "      <td>Mailed check</td>\n",
       "      <td>19.90</td>\n",
       "      <td>19.90</td>\n",
       "      <td>Female</td>\n",
       "      <td>0</td>\n",
       "      <td>No</td>\n",
       "      <td>No</td>\n",
       "      <td>NaN</td>\n",
       "      <td>NaN</td>\n",
       "      <td>NaN</td>\n",
       "      <td>NaN</td>\n",
       "      <td>NaN</td>\n",
       "      <td>NaN</td>\n",
       "      <td>NaN</td>\n",
       "      <td>No</td>\n",
       "    </tr>\n",
       "    <tr>\n",
       "      <th>0970-QXPXW</th>\n",
       "      <td>2020-01-01</td>\n",
       "      <td>No</td>\n",
       "      <td>Month-to-month</td>\n",
       "      <td>No</td>\n",
       "      <td>Mailed check</td>\n",
       "      <td>19.65</td>\n",
       "      <td>19.65</td>\n",
       "      <td>Female</td>\n",
       "      <td>0</td>\n",
       "      <td>No</td>\n",
       "      <td>No</td>\n",
       "      <td>NaN</td>\n",
       "      <td>NaN</td>\n",
       "      <td>NaN</td>\n",
       "      <td>NaN</td>\n",
       "      <td>NaN</td>\n",
       "      <td>NaN</td>\n",
       "      <td>NaN</td>\n",
       "      <td>No</td>\n",
       "    </tr>\n",
       "    <tr>\n",
       "      <th>6457-GIRWB</th>\n",
       "      <td>2019-10-01</td>\n",
       "      <td>2019-11-01 00:00:00</td>\n",
       "      <td>Month-to-month</td>\n",
       "      <td>Yes</td>\n",
       "      <td>Electronic check</td>\n",
       "      <td>69.35</td>\n",
       "      <td>69.35</td>\n",
       "      <td>Male</td>\n",
       "      <td>0</td>\n",
       "      <td>No</td>\n",
       "      <td>No</td>\n",
       "      <td>Fiber optic</td>\n",
       "      <td>No</td>\n",
       "      <td>No</td>\n",
       "      <td>No</td>\n",
       "      <td>No</td>\n",
       "      <td>No</td>\n",
       "      <td>No</td>\n",
       "      <td>No</td>\n",
       "    </tr>\n",
       "  </tbody>\n",
       "</table>\n",
       "</div>"
      ],
      "text/plain": [
       "             BeginDate              EndDate            Type PaperlessBilling  \\\n",
       "customerID                                                                     \n",
       "8605-ITULD  2020-01-01                   No  Month-to-month               No   \n",
       "3247-MHJKM  2020-01-01                   No  Month-to-month               No   \n",
       "5996-DAOQL  2020-01-01                   No  Month-to-month              Yes   \n",
       "2668-TZSPS  2020-01-01                   No  Month-to-month               No   \n",
       "2636-ALXXZ  2019-12-01  2020-01-01 00:00:00  Month-to-month              Yes   \n",
       "7096-UCLNH  2020-01-01                   No  Month-to-month               No   \n",
       "8048-DSDFQ  2020-01-01                   No  Month-to-month               No   \n",
       "8749-CLJXC  2020-01-01                   No  Month-to-month               No   \n",
       "2676-ISHSF  2020-01-01                   No  Month-to-month               No   \n",
       "1000-AJSLD  2019-10-01  2019-11-01 00:00:00  Month-to-month              Yes   \n",
       "7878-RTCZG  2020-01-01                   No  Month-to-month               No   \n",
       "0970-QXPXW  2020-01-01                   No  Month-to-month               No   \n",
       "6457-GIRWB  2019-10-01  2019-11-01 00:00:00  Month-to-month              Yes   \n",
       "\n",
       "               PaymentMethod  MonthlyCharges  TotalCharges  gender  \\\n",
       "customerID                                                           \n",
       "8605-ITULD      Mailed check           19.55         19.55  Female   \n",
       "3247-MHJKM      Mailed check           20.20         20.20    Male   \n",
       "5996-DAOQL      Mailed check           20.45         20.45    Male   \n",
       "2668-TZSPS      Mailed check           20.45         20.45    Male   \n",
       "2636-ALXXZ  Electronic check           69.60         69.60  Female   \n",
       "7096-UCLNH      Mailed check           20.05         20.05    Male   \n",
       "8048-DSDFQ      Mailed check           20.20         20.20    Male   \n",
       "8749-CLJXC      Mailed check           20.05         20.05    Male   \n",
       "2676-ISHSF      Mailed check           20.30         20.30    Male   \n",
       "1000-AJSLD      Mailed check           20.10         20.10    Male   \n",
       "7878-RTCZG      Mailed check           19.90         19.90  Female   \n",
       "0970-QXPXW      Mailed check           19.65         19.65  Female   \n",
       "6457-GIRWB  Electronic check           69.35         69.35    Male   \n",
       "\n",
       "            SeniorCitizen Partner Dependents InternetService OnlineSecurity  \\\n",
       "customerID                                                                    \n",
       "8605-ITULD              0      No         No             NaN            NaN   \n",
       "3247-MHJKM              0      No         No             NaN            NaN   \n",
       "5996-DAOQL              0      No         No             NaN            NaN   \n",
       "2668-TZSPS              0      No         No             NaN            NaN   \n",
       "2636-ALXXZ              1      No         No     Fiber optic             No   \n",
       "7096-UCLNH              0      No         No             NaN            NaN   \n",
       "8048-DSDFQ              0      No         No             NaN            NaN   \n",
       "8749-CLJXC              0      No         No             NaN            NaN   \n",
       "2676-ISHSF              0      No         No             NaN            NaN   \n",
       "1000-AJSLD              0      No         No             NaN            NaN   \n",
       "7878-RTCZG              0      No         No             NaN            NaN   \n",
       "0970-QXPXW              0      No         No             NaN            NaN   \n",
       "6457-GIRWB              0      No         No     Fiber optic             No   \n",
       "\n",
       "           OnlineBackup DeviceProtection TechSupport StreamingTV  \\\n",
       "customerID                                                         \n",
       "8605-ITULD          NaN              NaN         NaN         NaN   \n",
       "3247-MHJKM          NaN              NaN         NaN         NaN   \n",
       "5996-DAOQL          NaN              NaN         NaN         NaN   \n",
       "2668-TZSPS          NaN              NaN         NaN         NaN   \n",
       "2636-ALXXZ           No               No          No          No   \n",
       "7096-UCLNH          NaN              NaN         NaN         NaN   \n",
       "8048-DSDFQ          NaN              NaN         NaN         NaN   \n",
       "8749-CLJXC          NaN              NaN         NaN         NaN   \n",
       "2676-ISHSF          NaN              NaN         NaN         NaN   \n",
       "1000-AJSLD          NaN              NaN         NaN         NaN   \n",
       "7878-RTCZG          NaN              NaN         NaN         NaN   \n",
       "0970-QXPXW          NaN              NaN         NaN         NaN   \n",
       "6457-GIRWB           No               No          No          No   \n",
       "\n",
       "           StreamingMovies MultipleLines  \n",
       "customerID                                \n",
       "8605-ITULD             NaN            No  \n",
       "3247-MHJKM             NaN            No  \n",
       "5996-DAOQL             NaN            No  \n",
       "2668-TZSPS             NaN            No  \n",
       "2636-ALXXZ              No            No  \n",
       "7096-UCLNH             NaN            No  \n",
       "8048-DSDFQ             NaN            No  \n",
       "8749-CLJXC             NaN            No  \n",
       "2676-ISHSF             NaN            No  \n",
       "1000-AJSLD             NaN            No  \n",
       "7878-RTCZG             NaN            No  \n",
       "0970-QXPXW             NaN            No  \n",
       "6457-GIRWB              No            No  "
      ]
     },
     "execution_count": 13,
     "metadata": {},
     "output_type": "execute_result"
    }
   ],
   "source": [
    "# обнаружили дубликаты, но они возникли из-за того ,что Id клиента задали как индекс для объединения таблиц\n",
    "data[data.duplicated()]"
   ]
  },
  {
   "cell_type": "markdown",
   "id": "74f49614",
   "metadata": {},
   "source": [
    "Заполним пропуски в столбцах c категориальными значениями на 'not provided'"
   ]
  },
  {
   "cell_type": "code",
   "execution_count": 14,
   "id": "6fb7bb18",
   "metadata": {},
   "outputs": [
    {
     "name": "stdout",
     "output_type": "stream",
     "text": [
      "BeginDate           0\n",
      "EndDate             0\n",
      "Type                0\n",
      "PaperlessBilling    0\n",
      "PaymentMethod       0\n",
      "MonthlyCharges      0\n",
      "TotalCharges        0\n",
      "gender              0\n",
      "SeniorCitizen       0\n",
      "Partner             0\n",
      "Dependents          0\n",
      "InternetService     0\n",
      "OnlineSecurity      0\n",
      "OnlineBackup        0\n",
      "DeviceProtection    0\n",
      "TechSupport         0\n",
      "StreamingTV         0\n",
      "StreamingMovies     0\n",
      "MultipleLines       0\n",
      "dtype: int64\n"
     ]
    },
    {
     "data": {
      "text/html": [
       "<div>\n",
       "<style scoped>\n",
       "    .dataframe tbody tr th:only-of-type {\n",
       "        vertical-align: middle;\n",
       "    }\n",
       "\n",
       "    .dataframe tbody tr th {\n",
       "        vertical-align: top;\n",
       "    }\n",
       "\n",
       "    .dataframe thead th {\n",
       "        text-align: right;\n",
       "    }\n",
       "</style>\n",
       "<table border=\"1\" class=\"dataframe\">\n",
       "  <thead>\n",
       "    <tr style=\"text-align: right;\">\n",
       "      <th></th>\n",
       "      <th>BeginDate</th>\n",
       "      <th>EndDate</th>\n",
       "      <th>Type</th>\n",
       "      <th>PaperlessBilling</th>\n",
       "      <th>PaymentMethod</th>\n",
       "      <th>MonthlyCharges</th>\n",
       "      <th>TotalCharges</th>\n",
       "      <th>gender</th>\n",
       "      <th>SeniorCitizen</th>\n",
       "      <th>Partner</th>\n",
       "      <th>Dependents</th>\n",
       "      <th>InternetService</th>\n",
       "      <th>OnlineSecurity</th>\n",
       "      <th>OnlineBackup</th>\n",
       "      <th>DeviceProtection</th>\n",
       "      <th>TechSupport</th>\n",
       "      <th>StreamingTV</th>\n",
       "      <th>StreamingMovies</th>\n",
       "      <th>MultipleLines</th>\n",
       "    </tr>\n",
       "  </thead>\n",
       "  <tbody>\n",
       "    <tr>\n",
       "      <th>count</th>\n",
       "      <td>7032</td>\n",
       "      <td>7032</td>\n",
       "      <td>7032</td>\n",
       "      <td>7032</td>\n",
       "      <td>7032</td>\n",
       "      <td>7032.000000</td>\n",
       "      <td>7032.000000</td>\n",
       "      <td>7032</td>\n",
       "      <td>7032.000000</td>\n",
       "      <td>7032</td>\n",
       "      <td>7032</td>\n",
       "      <td>7032</td>\n",
       "      <td>7032</td>\n",
       "      <td>7032</td>\n",
       "      <td>7032</td>\n",
       "      <td>7032</td>\n",
       "      <td>7032</td>\n",
       "      <td>7032</td>\n",
       "      <td>7032</td>\n",
       "    </tr>\n",
       "    <tr>\n",
       "      <th>unique</th>\n",
       "      <td>76</td>\n",
       "      <td>5</td>\n",
       "      <td>3</td>\n",
       "      <td>2</td>\n",
       "      <td>4</td>\n",
       "      <td>NaN</td>\n",
       "      <td>NaN</td>\n",
       "      <td>2</td>\n",
       "      <td>NaN</td>\n",
       "      <td>2</td>\n",
       "      <td>2</td>\n",
       "      <td>3</td>\n",
       "      <td>3</td>\n",
       "      <td>3</td>\n",
       "      <td>3</td>\n",
       "      <td>3</td>\n",
       "      <td>3</td>\n",
       "      <td>3</td>\n",
       "      <td>3</td>\n",
       "    </tr>\n",
       "    <tr>\n",
       "      <th>top</th>\n",
       "      <td>2014-02-01</td>\n",
       "      <td>No</td>\n",
       "      <td>Month-to-month</td>\n",
       "      <td>Yes</td>\n",
       "      <td>Electronic check</td>\n",
       "      <td>NaN</td>\n",
       "      <td>NaN</td>\n",
       "      <td>Male</td>\n",
       "      <td>NaN</td>\n",
       "      <td>No</td>\n",
       "      <td>No</td>\n",
       "      <td>Fiber optic</td>\n",
       "      <td>No</td>\n",
       "      <td>No</td>\n",
       "      <td>No</td>\n",
       "      <td>No</td>\n",
       "      <td>No</td>\n",
       "      <td>No</td>\n",
       "      <td>No</td>\n",
       "    </tr>\n",
       "    <tr>\n",
       "      <th>freq</th>\n",
       "      <td>366</td>\n",
       "      <td>5163</td>\n",
       "      <td>3875</td>\n",
       "      <td>4168</td>\n",
       "      <td>2365</td>\n",
       "      <td>NaN</td>\n",
       "      <td>NaN</td>\n",
       "      <td>3549</td>\n",
       "      <td>NaN</td>\n",
       "      <td>3639</td>\n",
       "      <td>4933</td>\n",
       "      <td>3096</td>\n",
       "      <td>3497</td>\n",
       "      <td>3087</td>\n",
       "      <td>3094</td>\n",
       "      <td>3472</td>\n",
       "      <td>2809</td>\n",
       "      <td>2781</td>\n",
       "      <td>3385</td>\n",
       "    </tr>\n",
       "    <tr>\n",
       "      <th>mean</th>\n",
       "      <td>NaN</td>\n",
       "      <td>NaN</td>\n",
       "      <td>NaN</td>\n",
       "      <td>NaN</td>\n",
       "      <td>NaN</td>\n",
       "      <td>64.798208</td>\n",
       "      <td>2283.300441</td>\n",
       "      <td>NaN</td>\n",
       "      <td>0.162400</td>\n",
       "      <td>NaN</td>\n",
       "      <td>NaN</td>\n",
       "      <td>NaN</td>\n",
       "      <td>NaN</td>\n",
       "      <td>NaN</td>\n",
       "      <td>NaN</td>\n",
       "      <td>NaN</td>\n",
       "      <td>NaN</td>\n",
       "      <td>NaN</td>\n",
       "      <td>NaN</td>\n",
       "    </tr>\n",
       "    <tr>\n",
       "      <th>std</th>\n",
       "      <td>NaN</td>\n",
       "      <td>NaN</td>\n",
       "      <td>NaN</td>\n",
       "      <td>NaN</td>\n",
       "      <td>NaN</td>\n",
       "      <td>30.085974</td>\n",
       "      <td>2266.771362</td>\n",
       "      <td>NaN</td>\n",
       "      <td>0.368844</td>\n",
       "      <td>NaN</td>\n",
       "      <td>NaN</td>\n",
       "      <td>NaN</td>\n",
       "      <td>NaN</td>\n",
       "      <td>NaN</td>\n",
       "      <td>NaN</td>\n",
       "      <td>NaN</td>\n",
       "      <td>NaN</td>\n",
       "      <td>NaN</td>\n",
       "      <td>NaN</td>\n",
       "    </tr>\n",
       "    <tr>\n",
       "      <th>min</th>\n",
       "      <td>NaN</td>\n",
       "      <td>NaN</td>\n",
       "      <td>NaN</td>\n",
       "      <td>NaN</td>\n",
       "      <td>NaN</td>\n",
       "      <td>18.250000</td>\n",
       "      <td>18.800000</td>\n",
       "      <td>NaN</td>\n",
       "      <td>0.000000</td>\n",
       "      <td>NaN</td>\n",
       "      <td>NaN</td>\n",
       "      <td>NaN</td>\n",
       "      <td>NaN</td>\n",
       "      <td>NaN</td>\n",
       "      <td>NaN</td>\n",
       "      <td>NaN</td>\n",
       "      <td>NaN</td>\n",
       "      <td>NaN</td>\n",
       "      <td>NaN</td>\n",
       "    </tr>\n",
       "    <tr>\n",
       "      <th>25%</th>\n",
       "      <td>NaN</td>\n",
       "      <td>NaN</td>\n",
       "      <td>NaN</td>\n",
       "      <td>NaN</td>\n",
       "      <td>NaN</td>\n",
       "      <td>35.587500</td>\n",
       "      <td>401.450000</td>\n",
       "      <td>NaN</td>\n",
       "      <td>0.000000</td>\n",
       "      <td>NaN</td>\n",
       "      <td>NaN</td>\n",
       "      <td>NaN</td>\n",
       "      <td>NaN</td>\n",
       "      <td>NaN</td>\n",
       "      <td>NaN</td>\n",
       "      <td>NaN</td>\n",
       "      <td>NaN</td>\n",
       "      <td>NaN</td>\n",
       "      <td>NaN</td>\n",
       "    </tr>\n",
       "    <tr>\n",
       "      <th>50%</th>\n",
       "      <td>NaN</td>\n",
       "      <td>NaN</td>\n",
       "      <td>NaN</td>\n",
       "      <td>NaN</td>\n",
       "      <td>NaN</td>\n",
       "      <td>70.350000</td>\n",
       "      <td>1397.475000</td>\n",
       "      <td>NaN</td>\n",
       "      <td>0.000000</td>\n",
       "      <td>NaN</td>\n",
       "      <td>NaN</td>\n",
       "      <td>NaN</td>\n",
       "      <td>NaN</td>\n",
       "      <td>NaN</td>\n",
       "      <td>NaN</td>\n",
       "      <td>NaN</td>\n",
       "      <td>NaN</td>\n",
       "      <td>NaN</td>\n",
       "      <td>NaN</td>\n",
       "    </tr>\n",
       "    <tr>\n",
       "      <th>75%</th>\n",
       "      <td>NaN</td>\n",
       "      <td>NaN</td>\n",
       "      <td>NaN</td>\n",
       "      <td>NaN</td>\n",
       "      <td>NaN</td>\n",
       "      <td>89.862500</td>\n",
       "      <td>3794.737500</td>\n",
       "      <td>NaN</td>\n",
       "      <td>0.000000</td>\n",
       "      <td>NaN</td>\n",
       "      <td>NaN</td>\n",
       "      <td>NaN</td>\n",
       "      <td>NaN</td>\n",
       "      <td>NaN</td>\n",
       "      <td>NaN</td>\n",
       "      <td>NaN</td>\n",
       "      <td>NaN</td>\n",
       "      <td>NaN</td>\n",
       "      <td>NaN</td>\n",
       "    </tr>\n",
       "    <tr>\n",
       "      <th>max</th>\n",
       "      <td>NaN</td>\n",
       "      <td>NaN</td>\n",
       "      <td>NaN</td>\n",
       "      <td>NaN</td>\n",
       "      <td>NaN</td>\n",
       "      <td>118.750000</td>\n",
       "      <td>8684.800000</td>\n",
       "      <td>NaN</td>\n",
       "      <td>1.000000</td>\n",
       "      <td>NaN</td>\n",
       "      <td>NaN</td>\n",
       "      <td>NaN</td>\n",
       "      <td>NaN</td>\n",
       "      <td>NaN</td>\n",
       "      <td>NaN</td>\n",
       "      <td>NaN</td>\n",
       "      <td>NaN</td>\n",
       "      <td>NaN</td>\n",
       "      <td>NaN</td>\n",
       "    </tr>\n",
       "  </tbody>\n",
       "</table>\n",
       "</div>"
      ],
      "text/plain": [
       "         BeginDate EndDate            Type PaperlessBilling     PaymentMethod  \\\n",
       "count         7032    7032            7032             7032              7032   \n",
       "unique          76       5               3                2                 4   \n",
       "top     2014-02-01      No  Month-to-month              Yes  Electronic check   \n",
       "freq           366    5163            3875             4168              2365   \n",
       "mean           NaN     NaN             NaN              NaN               NaN   \n",
       "std            NaN     NaN             NaN              NaN               NaN   \n",
       "min            NaN     NaN             NaN              NaN               NaN   \n",
       "25%            NaN     NaN             NaN              NaN               NaN   \n",
       "50%            NaN     NaN             NaN              NaN               NaN   \n",
       "75%            NaN     NaN             NaN              NaN               NaN   \n",
       "max            NaN     NaN             NaN              NaN               NaN   \n",
       "\n",
       "        MonthlyCharges  TotalCharges gender  SeniorCitizen Partner Dependents  \\\n",
       "count      7032.000000   7032.000000   7032    7032.000000    7032       7032   \n",
       "unique             NaN           NaN      2            NaN       2          2   \n",
       "top                NaN           NaN   Male            NaN      No         No   \n",
       "freq               NaN           NaN   3549            NaN    3639       4933   \n",
       "mean         64.798208   2283.300441    NaN       0.162400     NaN        NaN   \n",
       "std          30.085974   2266.771362    NaN       0.368844     NaN        NaN   \n",
       "min          18.250000     18.800000    NaN       0.000000     NaN        NaN   \n",
       "25%          35.587500    401.450000    NaN       0.000000     NaN        NaN   \n",
       "50%          70.350000   1397.475000    NaN       0.000000     NaN        NaN   \n",
       "75%          89.862500   3794.737500    NaN       0.000000     NaN        NaN   \n",
       "max         118.750000   8684.800000    NaN       1.000000     NaN        NaN   \n",
       "\n",
       "       InternetService OnlineSecurity OnlineBackup DeviceProtection  \\\n",
       "count             7032           7032         7032             7032   \n",
       "unique               3              3            3                3   \n",
       "top        Fiber optic             No           No               No   \n",
       "freq              3096           3497         3087             3094   \n",
       "mean               NaN            NaN          NaN              NaN   \n",
       "std                NaN            NaN          NaN              NaN   \n",
       "min                NaN            NaN          NaN              NaN   \n",
       "25%                NaN            NaN          NaN              NaN   \n",
       "50%                NaN            NaN          NaN              NaN   \n",
       "75%                NaN            NaN          NaN              NaN   \n",
       "max                NaN            NaN          NaN              NaN   \n",
       "\n",
       "       TechSupport StreamingTV StreamingMovies MultipleLines  \n",
       "count         7032        7032            7032          7032  \n",
       "unique           3           3               3             3  \n",
       "top             No          No              No            No  \n",
       "freq          3472        2809            2781          3385  \n",
       "mean           NaN         NaN             NaN           NaN  \n",
       "std            NaN         NaN             NaN           NaN  \n",
       "min            NaN         NaN             NaN           NaN  \n",
       "25%            NaN         NaN             NaN           NaN  \n",
       "50%            NaN         NaN             NaN           NaN  \n",
       "75%            NaN         NaN             NaN           NaN  \n",
       "max            NaN         NaN             NaN           NaN  "
      ]
     },
     "execution_count": 14,
     "metadata": {},
     "output_type": "execute_result"
    }
   ],
   "source": [
    "data = data.fillna('not provided')\n",
    "print(data.isna().sum())\n",
    "data.describe(include='all')"
   ]
  },
  {
   "cell_type": "markdown",
   "id": "c107fa0f",
   "metadata": {},
   "source": [
    "Добавим целевой признак `client_class`  по столбцу EndDate со значением \"0\", если клиент действующий и \"1\" если расторгнул договор."
   ]
  },
  {
   "cell_type": "code",
   "execution_count": 15,
   "id": "21bc42a7",
   "metadata": {
    "scrolled": true
   },
   "outputs": [
    {
     "data": {
      "text/plain": [
       "0.0    5163\n",
       "1.0    1869\n",
       "Name: client_class, dtype: int64"
      ]
     },
     "execution_count": 15,
     "metadata": {},
     "output_type": "execute_result"
    }
   ],
   "source": [
    "# добавим столбец client_class со значением \"0\", если клиент действующий и \"1\" если расторгнул договор\n",
    "data.loc[data['EndDate'] == 'No', 'client_class'] = 0\n",
    "data.loc[data['EndDate'] != 'No', 'client_class'] = 1\n",
    "data['client_class'].value_counts()"
   ]
  },
  {
   "cell_type": "markdown",
   "id": "29b695bf",
   "metadata": {},
   "source": [
    "В целевом признаке присутствует дисбаланс классов в соотношении 3:1, чуть больше четверти клиентов расторгнули договор."
   ]
  },
  {
   "cell_type": "code",
   "execution_count": 16,
   "id": "5c601ae6",
   "metadata": {},
   "outputs": [
    {
     "data": {
      "text/plain": [
       "2014-02-01    366\n",
       "2019-10-01    237\n",
       "2019-09-01    237\n",
       "2019-11-01    237\n",
       "2020-01-01    233\n",
       "             ... \n",
       "2016-11-01     50\n",
       "2014-01-01      7\n",
       "2013-12-01      3\n",
       "2013-10-01      3\n",
       "2013-11-01      2\n",
       "Name: BeginDate, Length: 76, dtype: int64"
      ]
     },
     "execution_count": 16,
     "metadata": {},
     "output_type": "execute_result"
    }
   ],
   "source": [
    "data['BeginDate'].value_counts()"
   ]
  },
  {
   "cell_type": "code",
   "execution_count": 17,
   "id": "d363dcd7",
   "metadata": {},
   "outputs": [
    {
     "data": {
      "text/html": [
       "<div>\n",
       "<style scoped>\n",
       "    .dataframe tbody tr th:only-of-type {\n",
       "        vertical-align: middle;\n",
       "    }\n",
       "\n",
       "    .dataframe tbody tr th {\n",
       "        vertical-align: top;\n",
       "    }\n",
       "\n",
       "    .dataframe thead th {\n",
       "        text-align: right;\n",
       "    }\n",
       "</style>\n",
       "<table border=\"1\" class=\"dataframe\">\n",
       "  <thead>\n",
       "    <tr style=\"text-align: right;\">\n",
       "      <th></th>\n",
       "      <th>BeginDate</th>\n",
       "      <th>EndDate</th>\n",
       "      <th>Type</th>\n",
       "      <th>PaperlessBilling</th>\n",
       "      <th>PaymentMethod</th>\n",
       "      <th>MonthlyCharges</th>\n",
       "      <th>TotalCharges</th>\n",
       "      <th>gender</th>\n",
       "      <th>SeniorCitizen</th>\n",
       "      <th>Partner</th>\n",
       "      <th>Dependents</th>\n",
       "      <th>InternetService</th>\n",
       "      <th>OnlineSecurity</th>\n",
       "      <th>OnlineBackup</th>\n",
       "      <th>DeviceProtection</th>\n",
       "      <th>TechSupport</th>\n",
       "      <th>StreamingTV</th>\n",
       "      <th>StreamingMovies</th>\n",
       "      <th>MultipleLines</th>\n",
       "      <th>client_class</th>\n",
       "    </tr>\n",
       "    <tr>\n",
       "      <th>customerID</th>\n",
       "      <th></th>\n",
       "      <th></th>\n",
       "      <th></th>\n",
       "      <th></th>\n",
       "      <th></th>\n",
       "      <th></th>\n",
       "      <th></th>\n",
       "      <th></th>\n",
       "      <th></th>\n",
       "      <th></th>\n",
       "      <th></th>\n",
       "      <th></th>\n",
       "      <th></th>\n",
       "      <th></th>\n",
       "      <th></th>\n",
       "      <th></th>\n",
       "      <th></th>\n",
       "      <th></th>\n",
       "      <th></th>\n",
       "      <th></th>\n",
       "    </tr>\n",
       "  </thead>\n",
       "  <tbody>\n",
       "  </tbody>\n",
       "</table>\n",
       "</div>"
      ],
      "text/plain": [
       "Empty DataFrame\n",
       "Columns: [BeginDate, EndDate, Type, PaperlessBilling, PaymentMethod, MonthlyCharges, TotalCharges, gender, SeniorCitizen, Partner, Dependents, InternetService, OnlineSecurity, OnlineBackup, DeviceProtection, TechSupport, StreamingTV, StreamingMovies, MultipleLines, client_class]\n",
       "Index: []"
      ]
     },
     "execution_count": 17,
     "metadata": {},
     "output_type": "execute_result"
    }
   ],
   "source": [
    "#заменим значение \"No\"  в столбце EndDate на дату актуальности данных\n",
    "data.loc[data['EndDate'] == 'No', 'EndDate'] = '2020-02-01'\n",
    "data.query('EndDate == \"No\"')"
   ]
  },
  {
   "cell_type": "code",
   "execution_count": 18,
   "id": "1a2c8fd6",
   "metadata": {},
   "outputs": [
    {
     "name": "stdout",
     "output_type": "stream",
     "text": [
      "<class 'pandas.core.frame.DataFrame'>\n",
      "Index: 7032 entries, 7590-VHVEG to 3186-AJIEK\n",
      "Data columns (total 21 columns):\n",
      " #   Column            Non-Null Count  Dtype         \n",
      "---  ------            --------------  -----         \n",
      " 0   BeginDate         7032 non-null   datetime64[ns]\n",
      " 1   EndDate           7032 non-null   datetime64[ns]\n",
      " 2   Type              7032 non-null   object        \n",
      " 3   PaperlessBilling  7032 non-null   object        \n",
      " 4   PaymentMethod     7032 non-null   object        \n",
      " 5   MonthlyCharges    7032 non-null   float64       \n",
      " 6   TotalCharges      7032 non-null   float64       \n",
      " 7   gender            7032 non-null   object        \n",
      " 8   SeniorCitizen     7032 non-null   int64         \n",
      " 9   Partner           7032 non-null   object        \n",
      " 10  Dependents        7032 non-null   object        \n",
      " 11  InternetService   7032 non-null   object        \n",
      " 12  OnlineSecurity    7032 non-null   object        \n",
      " 13  OnlineBackup      7032 non-null   object        \n",
      " 14  DeviceProtection  7032 non-null   object        \n",
      " 15  TechSupport       7032 non-null   object        \n",
      " 16  StreamingTV       7032 non-null   object        \n",
      " 17  StreamingMovies   7032 non-null   object        \n",
      " 18  MultipleLines     7032 non-null   object        \n",
      " 19  client_class      7032 non-null   float64       \n",
      " 20  year              7032 non-null   int64         \n",
      "dtypes: datetime64[ns](2), float64(3), int64(2), object(14)\n",
      "memory usage: 1.2+ MB\n"
     ]
    },
    {
     "data": {
      "text/plain": [
       "1    1474\n",
       "6    1282\n",
       "0     958\n",
       "2     941\n",
       "5     822\n",
       "3     803\n",
       "4     752\n",
       "Name: year, dtype: int64"
      ]
     },
     "execution_count": 18,
     "metadata": {},
     "output_type": "execute_result"
    }
   ],
   "source": [
    "data['EndDate'] = pd.to_datetime(data['EndDate'], format='%Y-%m-%d %H:%M:%S')\n",
    "data['BeginDate'] = pd.to_datetime(data['BeginDate'], format='%Y-%m-%d %H:%M:%S')\n",
    "#data['EndDate'] = pd.DatetimeIndex(data['EndDate']).day\n",
    "#ata['BeginDate'] = pd.DatetimeIndex(data['BeginDate']).day\n",
    "data['year'] = pd.DatetimeIndex(data['EndDate']).year - pd.DatetimeIndex(data['BeginDate']).year\n",
    "data.info()\n",
    "data['year'].value_counts()"
   ]
  },
  {
   "cell_type": "code",
   "execution_count": 19,
   "id": "591cfa3f",
   "metadata": {},
   "outputs": [
    {
     "data": {
      "text/plain": [
       "2020-02-01    5163\n",
       "2019-11-01     485\n",
       "2019-12-01     466\n",
       "2020-01-01     460\n",
       "2019-10-01     458\n",
       "Name: EndDate, dtype: int64"
      ]
     },
     "execution_count": 19,
     "metadata": {},
     "output_type": "execute_result"
    }
   ],
   "source": [
    "data['EndDate'].value_counts()"
   ]
  },
  {
   "cell_type": "code",
   "execution_count": 20,
   "id": "09f5859a",
   "metadata": {
    "scrolled": true
   },
   "outputs": [
    {
     "data": {
      "text/html": [
       "<div>\n",
       "<style scoped>\n",
       "    .dataframe tbody tr th:only-of-type {\n",
       "        vertical-align: middle;\n",
       "    }\n",
       "\n",
       "    .dataframe tbody tr th {\n",
       "        vertical-align: top;\n",
       "    }\n",
       "\n",
       "    .dataframe thead th {\n",
       "        text-align: right;\n",
       "    }\n",
       "</style>\n",
       "<table border=\"1\" class=\"dataframe\">\n",
       "  <thead>\n",
       "    <tr style=\"text-align: right;\">\n",
       "      <th></th>\n",
       "      <th>Type</th>\n",
       "      <th>PaperlessBilling</th>\n",
       "      <th>PaymentMethod</th>\n",
       "      <th>MonthlyCharges</th>\n",
       "      <th>TotalCharges</th>\n",
       "      <th>gender</th>\n",
       "      <th>SeniorCitizen</th>\n",
       "      <th>Partner</th>\n",
       "      <th>Dependents</th>\n",
       "      <th>InternetService</th>\n",
       "      <th>OnlineSecurity</th>\n",
       "      <th>OnlineBackup</th>\n",
       "      <th>DeviceProtection</th>\n",
       "      <th>TechSupport</th>\n",
       "      <th>StreamingTV</th>\n",
       "      <th>StreamingMovies</th>\n",
       "      <th>MultipleLines</th>\n",
       "      <th>client_class</th>\n",
       "      <th>year</th>\n",
       "    </tr>\n",
       "    <tr>\n",
       "      <th>customerID</th>\n",
       "      <th></th>\n",
       "      <th></th>\n",
       "      <th></th>\n",
       "      <th></th>\n",
       "      <th></th>\n",
       "      <th></th>\n",
       "      <th></th>\n",
       "      <th></th>\n",
       "      <th></th>\n",
       "      <th></th>\n",
       "      <th></th>\n",
       "      <th></th>\n",
       "      <th></th>\n",
       "      <th></th>\n",
       "      <th></th>\n",
       "      <th></th>\n",
       "      <th></th>\n",
       "      <th></th>\n",
       "      <th></th>\n",
       "    </tr>\n",
       "  </thead>\n",
       "  <tbody>\n",
       "    <tr>\n",
       "      <th>7590-VHVEG</th>\n",
       "      <td>Month-to-month</td>\n",
       "      <td>Yes</td>\n",
       "      <td>Electronic check</td>\n",
       "      <td>29.85</td>\n",
       "      <td>29.85</td>\n",
       "      <td>Female</td>\n",
       "      <td>0</td>\n",
       "      <td>Yes</td>\n",
       "      <td>No</td>\n",
       "      <td>DSL</td>\n",
       "      <td>No</td>\n",
       "      <td>Yes</td>\n",
       "      <td>No</td>\n",
       "      <td>No</td>\n",
       "      <td>No</td>\n",
       "      <td>No</td>\n",
       "      <td>not provided</td>\n",
       "      <td>0.0</td>\n",
       "      <td>0</td>\n",
       "    </tr>\n",
       "    <tr>\n",
       "      <th>5575-GNVDE</th>\n",
       "      <td>One year</td>\n",
       "      <td>No</td>\n",
       "      <td>Mailed check</td>\n",
       "      <td>56.95</td>\n",
       "      <td>1889.50</td>\n",
       "      <td>Male</td>\n",
       "      <td>0</td>\n",
       "      <td>No</td>\n",
       "      <td>No</td>\n",
       "      <td>DSL</td>\n",
       "      <td>Yes</td>\n",
       "      <td>No</td>\n",
       "      <td>Yes</td>\n",
       "      <td>No</td>\n",
       "      <td>No</td>\n",
       "      <td>No</td>\n",
       "      <td>No</td>\n",
       "      <td>0.0</td>\n",
       "      <td>3</td>\n",
       "    </tr>\n",
       "    <tr>\n",
       "      <th>3668-QPYBK</th>\n",
       "      <td>Month-to-month</td>\n",
       "      <td>Yes</td>\n",
       "      <td>Mailed check</td>\n",
       "      <td>53.85</td>\n",
       "      <td>108.15</td>\n",
       "      <td>Male</td>\n",
       "      <td>0</td>\n",
       "      <td>No</td>\n",
       "      <td>No</td>\n",
       "      <td>DSL</td>\n",
       "      <td>Yes</td>\n",
       "      <td>Yes</td>\n",
       "      <td>No</td>\n",
       "      <td>No</td>\n",
       "      <td>No</td>\n",
       "      <td>No</td>\n",
       "      <td>No</td>\n",
       "      <td>1.0</td>\n",
       "      <td>0</td>\n",
       "    </tr>\n",
       "    <tr>\n",
       "      <th>7795-CFOCW</th>\n",
       "      <td>One year</td>\n",
       "      <td>No</td>\n",
       "      <td>Bank transfer (automatic)</td>\n",
       "      <td>42.30</td>\n",
       "      <td>1840.75</td>\n",
       "      <td>Male</td>\n",
       "      <td>0</td>\n",
       "      <td>No</td>\n",
       "      <td>No</td>\n",
       "      <td>DSL</td>\n",
       "      <td>Yes</td>\n",
       "      <td>No</td>\n",
       "      <td>Yes</td>\n",
       "      <td>Yes</td>\n",
       "      <td>No</td>\n",
       "      <td>No</td>\n",
       "      <td>not provided</td>\n",
       "      <td>0.0</td>\n",
       "      <td>4</td>\n",
       "    </tr>\n",
       "    <tr>\n",
       "      <th>9237-HQITU</th>\n",
       "      <td>Month-to-month</td>\n",
       "      <td>Yes</td>\n",
       "      <td>Electronic check</td>\n",
       "      <td>70.70</td>\n",
       "      <td>151.65</td>\n",
       "      <td>Female</td>\n",
       "      <td>0</td>\n",
       "      <td>No</td>\n",
       "      <td>No</td>\n",
       "      <td>Fiber optic</td>\n",
       "      <td>No</td>\n",
       "      <td>No</td>\n",
       "      <td>No</td>\n",
       "      <td>No</td>\n",
       "      <td>No</td>\n",
       "      <td>No</td>\n",
       "      <td>No</td>\n",
       "      <td>1.0</td>\n",
       "      <td>0</td>\n",
       "    </tr>\n",
       "  </tbody>\n",
       "</table>\n",
       "</div>"
      ],
      "text/plain": [
       "                      Type PaperlessBilling              PaymentMethod  \\\n",
       "customerID                                                               \n",
       "7590-VHVEG  Month-to-month              Yes           Electronic check   \n",
       "5575-GNVDE        One year               No               Mailed check   \n",
       "3668-QPYBK  Month-to-month              Yes               Mailed check   \n",
       "7795-CFOCW        One year               No  Bank transfer (automatic)   \n",
       "9237-HQITU  Month-to-month              Yes           Electronic check   \n",
       "\n",
       "            MonthlyCharges  TotalCharges  gender  SeniorCitizen Partner  \\\n",
       "customerID                                                                \n",
       "7590-VHVEG           29.85         29.85  Female              0     Yes   \n",
       "5575-GNVDE           56.95       1889.50    Male              0      No   \n",
       "3668-QPYBK           53.85        108.15    Male              0      No   \n",
       "7795-CFOCW           42.30       1840.75    Male              0      No   \n",
       "9237-HQITU           70.70        151.65  Female              0      No   \n",
       "\n",
       "           Dependents InternetService OnlineSecurity OnlineBackup  \\\n",
       "customerID                                                          \n",
       "7590-VHVEG         No             DSL             No          Yes   \n",
       "5575-GNVDE         No             DSL            Yes           No   \n",
       "3668-QPYBK         No             DSL            Yes          Yes   \n",
       "7795-CFOCW         No             DSL            Yes           No   \n",
       "9237-HQITU         No     Fiber optic             No           No   \n",
       "\n",
       "           DeviceProtection TechSupport StreamingTV StreamingMovies  \\\n",
       "customerID                                                            \n",
       "7590-VHVEG               No          No          No              No   \n",
       "5575-GNVDE              Yes          No          No              No   \n",
       "3668-QPYBK               No          No          No              No   \n",
       "7795-CFOCW              Yes         Yes          No              No   \n",
       "9237-HQITU               No          No          No              No   \n",
       "\n",
       "           MultipleLines  client_class  year  \n",
       "customerID                                    \n",
       "7590-VHVEG  not provided           0.0     0  \n",
       "5575-GNVDE            No           0.0     3  \n",
       "3668-QPYBK            No           1.0     0  \n",
       "7795-CFOCW  not provided           0.0     4  \n",
       "9237-HQITU            No           1.0     0  "
      ]
     },
     "execution_count": 20,
     "metadata": {},
     "output_type": "execute_result"
    }
   ],
   "source": [
    "# удалим столбцы BeginDate и EndDate\n",
    "data = data.drop(['BeginDate', 'EndDate'], axis=1)\n",
    "data.head()"
   ]
  },
  {
   "cell_type": "code",
   "execution_count": 21,
   "id": "3df4ea89",
   "metadata": {},
   "outputs": [
    {
     "name": "stdout",
     "output_type": "stream",
     "text": [
      "<class 'pandas.core.frame.DataFrame'>\n",
      "Index: 7032 entries, 7590-VHVEG to 3186-AJIEK\n",
      "Data columns (total 19 columns):\n",
      " #   Column            Non-Null Count  Dtype  \n",
      "---  ------            --------------  -----  \n",
      " 0   Type              7032 non-null   object \n",
      " 1   PaperlessBilling  7032 non-null   object \n",
      " 2   PaymentMethod     7032 non-null   object \n",
      " 3   MonthlyCharges    7032 non-null   float64\n",
      " 4   TotalCharges      7032 non-null   float64\n",
      " 5   gender            7032 non-null   object \n",
      " 6   SeniorCitizen     7032 non-null   int64  \n",
      " 7   Partner           7032 non-null   object \n",
      " 8   Dependents        7032 non-null   object \n",
      " 9   InternetService   7032 non-null   object \n",
      " 10  OnlineSecurity    7032 non-null   object \n",
      " 11  OnlineBackup      7032 non-null   object \n",
      " 12  DeviceProtection  7032 non-null   object \n",
      " 13  TechSupport       7032 non-null   object \n",
      " 14  StreamingTV       7032 non-null   object \n",
      " 15  StreamingMovies   7032 non-null   object \n",
      " 16  MultipleLines     7032 non-null   object \n",
      " 17  client_class      7032 non-null   float64\n",
      " 18  year              7032 non-null   int64  \n",
      "dtypes: float64(3), int64(2), object(14)\n",
      "memory usage: 1.1+ MB\n"
     ]
    }
   ],
   "source": [
    "data.info()"
   ]
  },
  {
   "cell_type": "markdown",
   "id": "595b560b",
   "metadata": {},
   "source": [
    "## Исследование данных"
   ]
  },
  {
   "cell_type": "markdown",
   "id": "acd08a14",
   "metadata": {},
   "source": [
    "Проверим данные на мультиколлинеарность, используя Phi_K  —  последовательно работает между категориальными, порядковыми и интервальными переменными. "
   ]
  },
  {
   "cell_type": "code",
   "execution_count": 22,
   "id": "676a8251",
   "metadata": {
    "scrolled": false
   },
   "outputs": [
    {
     "name": "stdout",
     "output_type": "stream",
     "text": [
      "interval columns not set, guessing: ['MonthlyCharges', 'TotalCharges', 'SeniorCitizen', 'client_class', 'year']\n"
     ]
    },
    {
     "data": {
      "text/html": [
       "<div>\n",
       "<style scoped>\n",
       "    .dataframe tbody tr th:only-of-type {\n",
       "        vertical-align: middle;\n",
       "    }\n",
       "\n",
       "    .dataframe tbody tr th {\n",
       "        vertical-align: top;\n",
       "    }\n",
       "\n",
       "    .dataframe thead th {\n",
       "        text-align: right;\n",
       "    }\n",
       "</style>\n",
       "<table border=\"1\" class=\"dataframe\">\n",
       "  <thead>\n",
       "    <tr style=\"text-align: right;\">\n",
       "      <th></th>\n",
       "      <th>Type</th>\n",
       "      <th>PaperlessBilling</th>\n",
       "      <th>PaymentMethod</th>\n",
       "      <th>MonthlyCharges</th>\n",
       "      <th>TotalCharges</th>\n",
       "      <th>gender</th>\n",
       "      <th>SeniorCitizen</th>\n",
       "      <th>Partner</th>\n",
       "      <th>Dependents</th>\n",
       "      <th>InternetService</th>\n",
       "      <th>OnlineSecurity</th>\n",
       "      <th>OnlineBackup</th>\n",
       "      <th>DeviceProtection</th>\n",
       "      <th>TechSupport</th>\n",
       "      <th>StreamingTV</th>\n",
       "      <th>StreamingMovies</th>\n",
       "      <th>MultipleLines</th>\n",
       "      <th>client_class</th>\n",
       "      <th>year</th>\n",
       "    </tr>\n",
       "  </thead>\n",
       "  <tbody>\n",
       "    <tr>\n",
       "      <th>Type</th>\n",
       "      <td>1.000000</td>\n",
       "      <td>0.106151</td>\n",
       "      <td>0.277528</td>\n",
       "      <td>0.388557</td>\n",
       "      <td>0.507638</td>\n",
       "      <td>0.000000</td>\n",
       "      <td>0.085800</td>\n",
       "      <td>0.179294</td>\n",
       "      <td>0.146126</td>\n",
       "      <td>0.503776</td>\n",
       "      <td>0.636227</td>\n",
       "      <td>0.580887</td>\n",
       "      <td>0.630968</td>\n",
       "      <td>0.671126</td>\n",
       "      <td>0.548723</td>\n",
       "      <td>0.553780</td>\n",
       "      <td>0.244802</td>\n",
       "      <td>0.251283</td>\n",
       "      <td>0.625309</td>\n",
       "    </tr>\n",
       "    <tr>\n",
       "      <th>PaperlessBilling</th>\n",
       "      <td>0.106151</td>\n",
       "      <td>1.000000</td>\n",
       "      <td>0.368945</td>\n",
       "      <td>0.467547</td>\n",
       "      <td>0.205050</td>\n",
       "      <td>0.000000</td>\n",
       "      <td>0.241715</td>\n",
       "      <td>0.010489</td>\n",
       "      <td>0.170650</td>\n",
       "      <td>0.231145</td>\n",
       "      <td>0.208084</td>\n",
       "      <td>0.195065</td>\n",
       "      <td>0.195398</td>\n",
       "      <td>0.200363</td>\n",
       "      <td>0.204617</td>\n",
       "      <td>0.202005</td>\n",
       "      <td>0.100063</td>\n",
       "      <td>0.295194</td>\n",
       "      <td>0.037628</td>\n",
       "    </tr>\n",
       "    <tr>\n",
       "      <th>PaymentMethod</th>\n",
       "      <td>0.277528</td>\n",
       "      <td>0.368945</td>\n",
       "      <td>1.000000</td>\n",
       "      <td>0.398849</td>\n",
       "      <td>0.349956</td>\n",
       "      <td>0.000000</td>\n",
       "      <td>0.291989</td>\n",
       "      <td>0.244661</td>\n",
       "      <td>0.222859</td>\n",
       "      <td>0.323013</td>\n",
       "      <td>0.314888</td>\n",
       "      <td>0.292646</td>\n",
       "      <td>0.297187</td>\n",
       "      <td>0.316805</td>\n",
       "      <td>0.283902</td>\n",
       "      <td>0.284844</td>\n",
       "      <td>0.174953</td>\n",
       "      <td>0.448559</td>\n",
       "      <td>0.326008</td>\n",
       "    </tr>\n",
       "    <tr>\n",
       "      <th>MonthlyCharges</th>\n",
       "      <td>0.388557</td>\n",
       "      <td>0.467547</td>\n",
       "      <td>0.398849</td>\n",
       "      <td>1.000000</td>\n",
       "      <td>0.762904</td>\n",
       "      <td>0.005522</td>\n",
       "      <td>0.304546</td>\n",
       "      <td>0.204575</td>\n",
       "      <td>0.182283</td>\n",
       "      <td>0.919005</td>\n",
       "      <td>0.812548</td>\n",
       "      <td>0.818861</td>\n",
       "      <td>0.827363</td>\n",
       "      <td>0.816645</td>\n",
       "      <td>0.864821</td>\n",
       "      <td>0.863544</td>\n",
       "      <td>0.710293</td>\n",
       "      <td>0.359623</td>\n",
       "      <td>0.307829</td>\n",
       "    </tr>\n",
       "    <tr>\n",
       "      <th>TotalCharges</th>\n",
       "      <td>0.507638</td>\n",
       "      <td>0.205050</td>\n",
       "      <td>0.349956</td>\n",
       "      <td>0.762904</td>\n",
       "      <td>1.000000</td>\n",
       "      <td>0.000000</td>\n",
       "      <td>0.148024</td>\n",
       "      <td>0.424655</td>\n",
       "      <td>0.118247</td>\n",
       "      <td>0.507972</td>\n",
       "      <td>0.529657</td>\n",
       "      <td>0.568314</td>\n",
       "      <td>0.574911</td>\n",
       "      <td>0.537700</td>\n",
       "      <td>0.567778</td>\n",
       "      <td>0.569165</td>\n",
       "      <td>0.494060</td>\n",
       "      <td>0.280973</td>\n",
       "      <td>0.694107</td>\n",
       "    </tr>\n",
       "    <tr>\n",
       "      <th>gender</th>\n",
       "      <td>0.000000</td>\n",
       "      <td>0.000000</td>\n",
       "      <td>0.000000</td>\n",
       "      <td>0.005522</td>\n",
       "      <td>0.000000</td>\n",
       "      <td>1.000000</td>\n",
       "      <td>0.000000</td>\n",
       "      <td>0.000000</td>\n",
       "      <td>0.000000</td>\n",
       "      <td>0.000000</td>\n",
       "      <td>0.000000</td>\n",
       "      <td>0.000000</td>\n",
       "      <td>0.000000</td>\n",
       "      <td>0.000000</td>\n",
       "      <td>0.000000</td>\n",
       "      <td>0.000000</td>\n",
       "      <td>0.000000</td>\n",
       "      <td>0.000000</td>\n",
       "      <td>0.000000</td>\n",
       "    </tr>\n",
       "    <tr>\n",
       "      <th>SeniorCitizen</th>\n",
       "      <td>0.085800</td>\n",
       "      <td>0.241715</td>\n",
       "      <td>0.291989</td>\n",
       "      <td>0.304546</td>\n",
       "      <td>0.148024</td>\n",
       "      <td>0.000000</td>\n",
       "      <td>1.000000</td>\n",
       "      <td>0.018075</td>\n",
       "      <td>0.323629</td>\n",
       "      <td>0.160452</td>\n",
       "      <td>0.127108</td>\n",
       "      <td>0.109855</td>\n",
       "      <td>0.110029</td>\n",
       "      <td>0.135073</td>\n",
       "      <td>0.111610</td>\n",
       "      <td>0.113611</td>\n",
       "      <td>0.087978</td>\n",
       "      <td>0.232897</td>\n",
       "      <td>0.017828</td>\n",
       "    </tr>\n",
       "    <tr>\n",
       "      <th>Partner</th>\n",
       "      <td>0.179294</td>\n",
       "      <td>0.010489</td>\n",
       "      <td>0.244661</td>\n",
       "      <td>0.204575</td>\n",
       "      <td>0.424655</td>\n",
       "      <td>0.000000</td>\n",
       "      <td>0.018075</td>\n",
       "      <td>1.000000</td>\n",
       "      <td>0.651635</td>\n",
       "      <td>0.000000</td>\n",
       "      <td>0.091140</td>\n",
       "      <td>0.091990</td>\n",
       "      <td>0.099685</td>\n",
       "      <td>0.076244</td>\n",
       "      <td>0.081850</td>\n",
       "      <td>0.077710</td>\n",
       "      <td>0.086495</td>\n",
       "      <td>0.232215</td>\n",
       "      <td>0.348693</td>\n",
       "    </tr>\n",
       "    <tr>\n",
       "      <th>Dependents</th>\n",
       "      <td>0.146126</td>\n",
       "      <td>0.170650</td>\n",
       "      <td>0.222859</td>\n",
       "      <td>0.182283</td>\n",
       "      <td>0.118247</td>\n",
       "      <td>0.000000</td>\n",
       "      <td>0.323629</td>\n",
       "      <td>0.651635</td>\n",
       "      <td>1.000000</td>\n",
       "      <td>0.107328</td>\n",
       "      <td>0.116236</td>\n",
       "      <td>0.096785</td>\n",
       "      <td>0.093606</td>\n",
       "      <td>0.108747</td>\n",
       "      <td>0.087232</td>\n",
       "      <td>0.083895</td>\n",
       "      <td>0.011135</td>\n",
       "      <td>0.252268</td>\n",
       "      <td>0.163493</td>\n",
       "    </tr>\n",
       "    <tr>\n",
       "      <th>InternetService</th>\n",
       "      <td>0.503776</td>\n",
       "      <td>0.231145</td>\n",
       "      <td>0.323013</td>\n",
       "      <td>0.919005</td>\n",
       "      <td>0.507972</td>\n",
       "      <td>0.000000</td>\n",
       "      <td>0.160452</td>\n",
       "      <td>0.000000</td>\n",
       "      <td>0.107328</td>\n",
       "      <td>1.000000</td>\n",
       "      <td>0.949461</td>\n",
       "      <td>0.942839</td>\n",
       "      <td>0.942811</td>\n",
       "      <td>0.948878</td>\n",
       "      <td>0.946750</td>\n",
       "      <td>0.946275</td>\n",
       "      <td>0.739821</td>\n",
       "      <td>0.195860</td>\n",
       "      <td>0.070427</td>\n",
       "    </tr>\n",
       "    <tr>\n",
       "      <th>OnlineSecurity</th>\n",
       "      <td>0.636227</td>\n",
       "      <td>0.208084</td>\n",
       "      <td>0.314888</td>\n",
       "      <td>0.812548</td>\n",
       "      <td>0.529657</td>\n",
       "      <td>0.000000</td>\n",
       "      <td>0.127108</td>\n",
       "      <td>0.091140</td>\n",
       "      <td>0.116236</td>\n",
       "      <td>0.949461</td>\n",
       "      <td>1.000000</td>\n",
       "      <td>0.947213</td>\n",
       "      <td>0.946776</td>\n",
       "      <td>0.952637</td>\n",
       "      <td>0.943078</td>\n",
       "      <td>0.943254</td>\n",
       "      <td>0.540029</td>\n",
       "      <td>0.211583</td>\n",
       "      <td>0.343513</td>\n",
       "    </tr>\n",
       "    <tr>\n",
       "      <th>OnlineBackup</th>\n",
       "      <td>0.580887</td>\n",
       "      <td>0.195065</td>\n",
       "      <td>0.292646</td>\n",
       "      <td>0.818861</td>\n",
       "      <td>0.568314</td>\n",
       "      <td>0.000000</td>\n",
       "      <td>0.109855</td>\n",
       "      <td>0.091990</td>\n",
       "      <td>0.096785</td>\n",
       "      <td>0.942839</td>\n",
       "      <td>0.947213</td>\n",
       "      <td>1.000000</td>\n",
       "      <td>0.947480</td>\n",
       "      <td>0.947746</td>\n",
       "      <td>0.945784</td>\n",
       "      <td>0.945409</td>\n",
       "      <td>0.562805</td>\n",
       "      <td>0.177165</td>\n",
       "      <td>0.368424</td>\n",
       "    </tr>\n",
       "    <tr>\n",
       "      <th>DeviceProtection</th>\n",
       "      <td>0.630968</td>\n",
       "      <td>0.195398</td>\n",
       "      <td>0.297187</td>\n",
       "      <td>0.827363</td>\n",
       "      <td>0.574911</td>\n",
       "      <td>0.000000</td>\n",
       "      <td>0.110029</td>\n",
       "      <td>0.099685</td>\n",
       "      <td>0.093606</td>\n",
       "      <td>0.942811</td>\n",
       "      <td>0.946776</td>\n",
       "      <td>0.947480</td>\n",
       "      <td>1.000000</td>\n",
       "      <td>0.950238</td>\n",
       "      <td>0.952815</td>\n",
       "      <td>0.953754</td>\n",
       "      <td>0.564619</td>\n",
       "      <td>0.170500</td>\n",
       "      <td>0.364122</td>\n",
       "    </tr>\n",
       "    <tr>\n",
       "      <th>TechSupport</th>\n",
       "      <td>0.671126</td>\n",
       "      <td>0.200363</td>\n",
       "      <td>0.316805</td>\n",
       "      <td>0.816645</td>\n",
       "      <td>0.537700</td>\n",
       "      <td>0.000000</td>\n",
       "      <td>0.135073</td>\n",
       "      <td>0.076244</td>\n",
       "      <td>0.108747</td>\n",
       "      <td>0.948878</td>\n",
       "      <td>0.952637</td>\n",
       "      <td>0.947746</td>\n",
       "      <td>0.950238</td>\n",
       "      <td>1.000000</td>\n",
       "      <td>0.946386</td>\n",
       "      <td>0.946471</td>\n",
       "      <td>0.540744</td>\n",
       "      <td>0.208763</td>\n",
       "      <td>0.340946</td>\n",
       "    </tr>\n",
       "    <tr>\n",
       "      <th>StreamingTV</th>\n",
       "      <td>0.548723</td>\n",
       "      <td>0.204617</td>\n",
       "      <td>0.283902</td>\n",
       "      <td>0.864821</td>\n",
       "      <td>0.567778</td>\n",
       "      <td>0.000000</td>\n",
       "      <td>0.111610</td>\n",
       "      <td>0.081850</td>\n",
       "      <td>0.087232</td>\n",
       "      <td>0.946750</td>\n",
       "      <td>0.943078</td>\n",
       "      <td>0.945784</td>\n",
       "      <td>0.952815</td>\n",
       "      <td>0.946386</td>\n",
       "      <td>1.000000</td>\n",
       "      <td>0.965356</td>\n",
       "      <td>0.586273</td>\n",
       "      <td>0.139025</td>\n",
       "      <td>0.282077</td>\n",
       "    </tr>\n",
       "    <tr>\n",
       "      <th>StreamingMovies</th>\n",
       "      <td>0.553780</td>\n",
       "      <td>0.202005</td>\n",
       "      <td>0.284844</td>\n",
       "      <td>0.863544</td>\n",
       "      <td>0.569165</td>\n",
       "      <td>0.000000</td>\n",
       "      <td>0.113611</td>\n",
       "      <td>0.077710</td>\n",
       "      <td>0.083895</td>\n",
       "      <td>0.946275</td>\n",
       "      <td>0.943254</td>\n",
       "      <td>0.945409</td>\n",
       "      <td>0.953754</td>\n",
       "      <td>0.946471</td>\n",
       "      <td>0.965356</td>\n",
       "      <td>1.000000</td>\n",
       "      <td>0.586923</td>\n",
       "      <td>0.139368</td>\n",
       "      <td>0.286278</td>\n",
       "    </tr>\n",
       "    <tr>\n",
       "      <th>MultipleLines</th>\n",
       "      <td>0.244802</td>\n",
       "      <td>0.100063</td>\n",
       "      <td>0.174953</td>\n",
       "      <td>0.710293</td>\n",
       "      <td>0.494060</td>\n",
       "      <td>0.000000</td>\n",
       "      <td>0.087978</td>\n",
       "      <td>0.086495</td>\n",
       "      <td>0.011135</td>\n",
       "      <td>0.739821</td>\n",
       "      <td>0.540029</td>\n",
       "      <td>0.562805</td>\n",
       "      <td>0.564619</td>\n",
       "      <td>0.540744</td>\n",
       "      <td>0.586273</td>\n",
       "      <td>0.586923</td>\n",
       "      <td>1.000000</td>\n",
       "      <td>0.021870</td>\n",
       "      <td>0.320380</td>\n",
       "    </tr>\n",
       "    <tr>\n",
       "      <th>client_class</th>\n",
       "      <td>0.251283</td>\n",
       "      <td>0.295194</td>\n",
       "      <td>0.448559</td>\n",
       "      <td>0.359623</td>\n",
       "      <td>0.280973</td>\n",
       "      <td>0.000000</td>\n",
       "      <td>0.232897</td>\n",
       "      <td>0.232215</td>\n",
       "      <td>0.252268</td>\n",
       "      <td>0.195860</td>\n",
       "      <td>0.211583</td>\n",
       "      <td>0.177165</td>\n",
       "      <td>0.170500</td>\n",
       "      <td>0.208763</td>\n",
       "      <td>0.139025</td>\n",
       "      <td>0.139368</td>\n",
       "      <td>0.021870</td>\n",
       "      <td>1.000000</td>\n",
       "      <td>0.464001</td>\n",
       "    </tr>\n",
       "    <tr>\n",
       "      <th>year</th>\n",
       "      <td>0.625309</td>\n",
       "      <td>0.037628</td>\n",
       "      <td>0.326008</td>\n",
       "      <td>0.307829</td>\n",
       "      <td>0.694107</td>\n",
       "      <td>0.000000</td>\n",
       "      <td>0.017828</td>\n",
       "      <td>0.348693</td>\n",
       "      <td>0.163493</td>\n",
       "      <td>0.070427</td>\n",
       "      <td>0.343513</td>\n",
       "      <td>0.368424</td>\n",
       "      <td>0.364122</td>\n",
       "      <td>0.340946</td>\n",
       "      <td>0.282077</td>\n",
       "      <td>0.286278</td>\n",
       "      <td>0.320380</td>\n",
       "      <td>0.464001</td>\n",
       "      <td>1.000000</td>\n",
       "    </tr>\n",
       "  </tbody>\n",
       "</table>\n",
       "</div>"
      ],
      "text/plain": [
       "                      Type  PaperlessBilling  PaymentMethod  MonthlyCharges  \\\n",
       "Type              1.000000          0.106151       0.277528        0.388557   \n",
       "PaperlessBilling  0.106151          1.000000       0.368945        0.467547   \n",
       "PaymentMethod     0.277528          0.368945       1.000000        0.398849   \n",
       "MonthlyCharges    0.388557          0.467547       0.398849        1.000000   \n",
       "TotalCharges      0.507638          0.205050       0.349956        0.762904   \n",
       "gender            0.000000          0.000000       0.000000        0.005522   \n",
       "SeniorCitizen     0.085800          0.241715       0.291989        0.304546   \n",
       "Partner           0.179294          0.010489       0.244661        0.204575   \n",
       "Dependents        0.146126          0.170650       0.222859        0.182283   \n",
       "InternetService   0.503776          0.231145       0.323013        0.919005   \n",
       "OnlineSecurity    0.636227          0.208084       0.314888        0.812548   \n",
       "OnlineBackup      0.580887          0.195065       0.292646        0.818861   \n",
       "DeviceProtection  0.630968          0.195398       0.297187        0.827363   \n",
       "TechSupport       0.671126          0.200363       0.316805        0.816645   \n",
       "StreamingTV       0.548723          0.204617       0.283902        0.864821   \n",
       "StreamingMovies   0.553780          0.202005       0.284844        0.863544   \n",
       "MultipleLines     0.244802          0.100063       0.174953        0.710293   \n",
       "client_class      0.251283          0.295194       0.448559        0.359623   \n",
       "year              0.625309          0.037628       0.326008        0.307829   \n",
       "\n",
       "                  TotalCharges    gender  SeniorCitizen   Partner  Dependents  \\\n",
       "Type                  0.507638  0.000000       0.085800  0.179294    0.146126   \n",
       "PaperlessBilling      0.205050  0.000000       0.241715  0.010489    0.170650   \n",
       "PaymentMethod         0.349956  0.000000       0.291989  0.244661    0.222859   \n",
       "MonthlyCharges        0.762904  0.005522       0.304546  0.204575    0.182283   \n",
       "TotalCharges          1.000000  0.000000       0.148024  0.424655    0.118247   \n",
       "gender                0.000000  1.000000       0.000000  0.000000    0.000000   \n",
       "SeniorCitizen         0.148024  0.000000       1.000000  0.018075    0.323629   \n",
       "Partner               0.424655  0.000000       0.018075  1.000000    0.651635   \n",
       "Dependents            0.118247  0.000000       0.323629  0.651635    1.000000   \n",
       "InternetService       0.507972  0.000000       0.160452  0.000000    0.107328   \n",
       "OnlineSecurity        0.529657  0.000000       0.127108  0.091140    0.116236   \n",
       "OnlineBackup          0.568314  0.000000       0.109855  0.091990    0.096785   \n",
       "DeviceProtection      0.574911  0.000000       0.110029  0.099685    0.093606   \n",
       "TechSupport           0.537700  0.000000       0.135073  0.076244    0.108747   \n",
       "StreamingTV           0.567778  0.000000       0.111610  0.081850    0.087232   \n",
       "StreamingMovies       0.569165  0.000000       0.113611  0.077710    0.083895   \n",
       "MultipleLines         0.494060  0.000000       0.087978  0.086495    0.011135   \n",
       "client_class          0.280973  0.000000       0.232897  0.232215    0.252268   \n",
       "year                  0.694107  0.000000       0.017828  0.348693    0.163493   \n",
       "\n",
       "                  InternetService  OnlineSecurity  OnlineBackup  \\\n",
       "Type                     0.503776        0.636227      0.580887   \n",
       "PaperlessBilling         0.231145        0.208084      0.195065   \n",
       "PaymentMethod            0.323013        0.314888      0.292646   \n",
       "MonthlyCharges           0.919005        0.812548      0.818861   \n",
       "TotalCharges             0.507972        0.529657      0.568314   \n",
       "gender                   0.000000        0.000000      0.000000   \n",
       "SeniorCitizen            0.160452        0.127108      0.109855   \n",
       "Partner                  0.000000        0.091140      0.091990   \n",
       "Dependents               0.107328        0.116236      0.096785   \n",
       "InternetService          1.000000        0.949461      0.942839   \n",
       "OnlineSecurity           0.949461        1.000000      0.947213   \n",
       "OnlineBackup             0.942839        0.947213      1.000000   \n",
       "DeviceProtection         0.942811        0.946776      0.947480   \n",
       "TechSupport              0.948878        0.952637      0.947746   \n",
       "StreamingTV              0.946750        0.943078      0.945784   \n",
       "StreamingMovies          0.946275        0.943254      0.945409   \n",
       "MultipleLines            0.739821        0.540029      0.562805   \n",
       "client_class             0.195860        0.211583      0.177165   \n",
       "year                     0.070427        0.343513      0.368424   \n",
       "\n",
       "                  DeviceProtection  TechSupport  StreamingTV  StreamingMovies  \\\n",
       "Type                      0.630968     0.671126     0.548723         0.553780   \n",
       "PaperlessBilling          0.195398     0.200363     0.204617         0.202005   \n",
       "PaymentMethod             0.297187     0.316805     0.283902         0.284844   \n",
       "MonthlyCharges            0.827363     0.816645     0.864821         0.863544   \n",
       "TotalCharges              0.574911     0.537700     0.567778         0.569165   \n",
       "gender                    0.000000     0.000000     0.000000         0.000000   \n",
       "SeniorCitizen             0.110029     0.135073     0.111610         0.113611   \n",
       "Partner                   0.099685     0.076244     0.081850         0.077710   \n",
       "Dependents                0.093606     0.108747     0.087232         0.083895   \n",
       "InternetService           0.942811     0.948878     0.946750         0.946275   \n",
       "OnlineSecurity            0.946776     0.952637     0.943078         0.943254   \n",
       "OnlineBackup              0.947480     0.947746     0.945784         0.945409   \n",
       "DeviceProtection          1.000000     0.950238     0.952815         0.953754   \n",
       "TechSupport               0.950238     1.000000     0.946386         0.946471   \n",
       "StreamingTV               0.952815     0.946386     1.000000         0.965356   \n",
       "StreamingMovies           0.953754     0.946471     0.965356         1.000000   \n",
       "MultipleLines             0.564619     0.540744     0.586273         0.586923   \n",
       "client_class              0.170500     0.208763     0.139025         0.139368   \n",
       "year                      0.364122     0.340946     0.282077         0.286278   \n",
       "\n",
       "                  MultipleLines  client_class      year  \n",
       "Type                   0.244802      0.251283  0.625309  \n",
       "PaperlessBilling       0.100063      0.295194  0.037628  \n",
       "PaymentMethod          0.174953      0.448559  0.326008  \n",
       "MonthlyCharges         0.710293      0.359623  0.307829  \n",
       "TotalCharges           0.494060      0.280973  0.694107  \n",
       "gender                 0.000000      0.000000  0.000000  \n",
       "SeniorCitizen          0.087978      0.232897  0.017828  \n",
       "Partner                0.086495      0.232215  0.348693  \n",
       "Dependents             0.011135      0.252268  0.163493  \n",
       "InternetService        0.739821      0.195860  0.070427  \n",
       "OnlineSecurity         0.540029      0.211583  0.343513  \n",
       "OnlineBackup           0.562805      0.177165  0.368424  \n",
       "DeviceProtection       0.564619      0.170500  0.364122  \n",
       "TechSupport            0.540744      0.208763  0.340946  \n",
       "StreamingTV            0.586273      0.139025  0.282077  \n",
       "StreamingMovies        0.586923      0.139368  0.286278  \n",
       "MultipleLines          1.000000      0.021870  0.320380  \n",
       "client_class           0.021870      1.000000  0.464001  \n",
       "year                   0.320380      0.464001  1.000000  "
      ]
     },
     "execution_count": 22,
     "metadata": {},
     "output_type": "execute_result"
    }
   ],
   "source": [
    "data.phik_matrix()"
   ]
  },
  {
   "cell_type": "code",
   "execution_count": 23,
   "id": "9852f338",
   "metadata": {
    "scrolled": false
   },
   "outputs": [
    {
     "name": "stdout",
     "output_type": "stream",
     "text": [
      "interval columns not set, guessing: ['MonthlyCharges', 'TotalCharges', 'SeniorCitizen', 'client_class', 'year']\n"
     ]
    },
    {
     "data": {
      "text/plain": [
       "Type              Type                1.000000\n",
       "StreamingMovies   StreamingTV         0.965356\n",
       "DeviceProtection  StreamingMovies     0.953754\n",
       "                  StreamingTV         0.952815\n",
       "TechSupport       OnlineSecurity      0.952637\n",
       "DeviceProtection  TechSupport         0.950238\n",
       "OnlineSecurity    InternetService     0.949461\n",
       "InternetService   TechSupport         0.948878\n",
       "OnlineBackup      TechSupport         0.947746\n",
       "                  DeviceProtection    0.947480\n",
       "                  OnlineSecurity      0.947213\n",
       "OnlineSecurity    DeviceProtection    0.946776\n",
       "StreamingTV       InternetService     0.946750\n",
       "TechSupport       StreamingMovies     0.946471\n",
       "                  StreamingTV         0.946386\n",
       "InternetService   StreamingMovies     0.946275\n",
       "OnlineBackup      StreamingTV         0.945784\n",
       "StreamingMovies   OnlineBackup        0.945409\n",
       "OnlineSecurity    StreamingMovies     0.943254\n",
       "StreamingTV       OnlineSecurity      0.943078\n",
       "InternetService   OnlineBackup        0.942839\n",
       "DeviceProtection  InternetService     0.942811\n",
       "MonthlyCharges    InternetService     0.919005\n",
       "                  StreamingTV         0.864821\n",
       "                  StreamingMovies     0.863544\n",
       "                  DeviceProtection    0.827363\n",
       "OnlineBackup      MonthlyCharges      0.818861\n",
       "TechSupport       MonthlyCharges      0.816645\n",
       "MonthlyCharges    OnlineSecurity      0.812548\n",
       "TotalCharges      MonthlyCharges      0.762904\n",
       "InternetService   MultipleLines       0.739821\n",
       "MonthlyCharges    MultipleLines       0.710293\n",
       "TotalCharges      year                0.694107\n",
       "TechSupport       Type                0.671126\n",
       "Dependents        Partner             0.651635\n",
       "dtype: float64"
      ]
     },
     "execution_count": 23,
     "metadata": {},
     "output_type": "execute_result"
    }
   ],
   "source": [
    "data.phik_matrix().unstack().sort_values(ascending=False).drop_duplicates().head(35)"
   ]
  },
  {
   "cell_type": "markdown",
   "id": "0841dd20",
   "metadata": {
    "scrolled": true
   },
   "source": [
    "Коэффициент корреляции client_group (срок пользования услугами) и  Type (тип договора) - 0,78, удалив один из признаков можно потерять из обучающего набора новых абонентов.\n",
    "\n",
    "Интернет-услуги коррелируют с ежемесячными расходами MonthlyCharges, коэффициенты больше 0,8 и InternetService коэфициент больше 0,9.\n",
    "\n",
    "Коэффициент корреляции между MonthlyCharges и TotalCharges - 0,76, MonthlyCharges и MultipleLines - 0,71, client_group и TotalCharges - 0,72\n",
    "\n",
    "MonthlyCharges желательно оставить,  не будем оспользовать TotalCharges и InternetService  для обучения."
   ]
  },
  {
   "cell_type": "markdown",
   "id": "c8ebc46c",
   "metadata": {},
   "source": [
    " Интернет-услуги сильно коррелируют с суммой ежемесячных оплат, достаточно оставить MonthlyCharges и удалить 'InternetService', 'OnlineSecurity', 'OnlineBackup', 'DeviceProtection', 'TechSupport', 'StreamingTV', 'StreamingMovies'.\n",
    "  По причине высокой корреляции также не будем использоввать в дальнейшем TotalCharges."
   ]
  },
  {
   "cell_type": "code",
   "execution_count": 24,
   "id": "cd9b959a",
   "metadata": {},
   "outputs": [],
   "source": [
    "data_f = data.drop(['TotalCharges', 'InternetService', 'OnlineSecurity', 'OnlineBackup', 'DeviceProtection', 'TechSupport', 'StreamingTV', 'StreamingMovies'], axis=1)"
   ]
  },
  {
   "cell_type": "code",
   "execution_count": 25,
   "id": "83bc8507",
   "metadata": {},
   "outputs": [
    {
     "name": "stdout",
     "output_type": "stream",
     "text": [
      "interval columns not set, guessing: ['MonthlyCharges', 'SeniorCitizen', 'client_class', 'year']\n"
     ]
    },
    {
     "data": {
      "text/plain": [
       "Type              Type              1.000000\n",
       "MonthlyCharges    MultipleLines     0.710293\n",
       "Dependents        Partner           0.651635\n",
       "year              Type              0.625309\n",
       "PaperlessBilling  MonthlyCharges    0.467547\n",
       "dtype: float64"
      ]
     },
     "execution_count": 25,
     "metadata": {},
     "output_type": "execute_result"
    }
   ],
   "source": [
    "data_f.phik_matrix().unstack().sort_values(ascending=False).drop_duplicates().head()"
   ]
  },
  {
   "cell_type": "code",
   "execution_count": 26,
   "id": "8e8a48c9",
   "metadata": {
    "scrolled": true
   },
   "outputs": [
    {
     "data": {
      "text/plain": [
       "count    7032.000000\n",
       "mean       64.798208\n",
       "std        30.085974\n",
       "min        18.250000\n",
       "25%        35.587500\n",
       "50%        70.350000\n",
       "75%        89.862500\n",
       "max       118.750000\n",
       "Name: MonthlyCharges, dtype: float64"
      ]
     },
     "execution_count": 26,
     "metadata": {},
     "output_type": "execute_result"
    }
   ],
   "source": [
    "data['MonthlyCharges'].describe()"
   ]
  },
  {
   "cell_type": "code",
   "execution_count": 27,
   "id": "963d6b8c",
   "metadata": {},
   "outputs": [
    {
     "data": {
      "text/plain": [
       "count    7032.000000\n",
       "mean     2283.300441\n",
       "std      2266.771362\n",
       "min        18.800000\n",
       "25%       401.450000\n",
       "50%      1397.475000\n",
       "75%      3794.737500\n",
       "max      8684.800000\n",
       "Name: TotalCharges, dtype: float64"
      ]
     },
     "execution_count": 27,
     "metadata": {},
     "output_type": "execute_result"
    }
   ],
   "source": [
    "data['TotalCharges'].describe()"
   ]
  },
  {
   "cell_type": "code",
   "execution_count": 28,
   "id": "b60a9b47",
   "metadata": {},
   "outputs": [
    {
     "data": {
      "image/png": "[encoded data removed]",
      "text/plain": [
       "<Figure size 432x288 with 1 Axes>"
      ]
     },
     "metadata": {
      "needs_background": "light"
     },
     "output_type": "display_data"
    },
    {
     "data": {
      "image/png": "[encoded data removed]",
      "text/plain": [
       "<Figure size 432x288 with 1 Axes>"
      ]
     },
     "metadata": {
      "needs_background": "light"
     },
     "output_type": "display_data"
    }
   ],
   "source": [
    "plt.style.use('seaborn-deep')\n",
    "\n",
    "data['MonthlyCharges'].hist(bins=25, alpha=0.5, label='MonthlyCharges')\n",
    "plt.title('Распределение ежемесяных трат на услуги')\n",
    "plt.legend()\n",
    "plt.show()\n",
    "data['TotalCharges'].hist(bins=50, alpha=0.5, label='TotalCharges')\n",
    "plt.title('Распределение  общих затрат на услуги')\n",
    "plt.legend()\n",
    "plt.show()\n"
   ]
  },
  {
   "cell_type": "markdown",
   "id": "a2d3fb2b",
   "metadata": {},
   "source": [
    "По гистограммам распределения MonthlyCharges заметен всплеск ежемесячных платежи в диапозоне от 18-25  и TotalCharges тоже есть значения близкие к нулю."
   ]
  },
  {
   "cell_type": "code",
   "execution_count": 29,
   "id": "7fa4c555",
   "metadata": {
    "scrolled": true
   },
   "outputs": [
    {
     "data": {
      "text/html": [
       "<div>\n",
       "<style scoped>\n",
       "    .dataframe tbody tr th:only-of-type {\n",
       "        vertical-align: middle;\n",
       "    }\n",
       "\n",
       "    .dataframe tbody tr th {\n",
       "        vertical-align: top;\n",
       "    }\n",
       "\n",
       "    .dataframe thead th {\n",
       "        text-align: right;\n",
       "    }\n",
       "</style>\n",
       "<table border=\"1\" class=\"dataframe\">\n",
       "  <thead>\n",
       "    <tr style=\"text-align: right;\">\n",
       "      <th></th>\n",
       "      <th>Type</th>\n",
       "      <th>PaperlessBilling</th>\n",
       "      <th>PaymentMethod</th>\n",
       "      <th>MonthlyCharges</th>\n",
       "      <th>TotalCharges</th>\n",
       "      <th>gender</th>\n",
       "      <th>SeniorCitizen</th>\n",
       "      <th>Partner</th>\n",
       "      <th>Dependents</th>\n",
       "      <th>InternetService</th>\n",
       "      <th>OnlineSecurity</th>\n",
       "      <th>OnlineBackup</th>\n",
       "      <th>DeviceProtection</th>\n",
       "      <th>TechSupport</th>\n",
       "      <th>StreamingTV</th>\n",
       "      <th>StreamingMovies</th>\n",
       "      <th>MultipleLines</th>\n",
       "      <th>client_class</th>\n",
       "      <th>year</th>\n",
       "    </tr>\n",
       "    <tr>\n",
       "      <th>customerID</th>\n",
       "      <th></th>\n",
       "      <th></th>\n",
       "      <th></th>\n",
       "      <th></th>\n",
       "      <th></th>\n",
       "      <th></th>\n",
       "      <th></th>\n",
       "      <th></th>\n",
       "      <th></th>\n",
       "      <th></th>\n",
       "      <th></th>\n",
       "      <th></th>\n",
       "      <th></th>\n",
       "      <th></th>\n",
       "      <th></th>\n",
       "      <th></th>\n",
       "      <th></th>\n",
       "      <th></th>\n",
       "      <th></th>\n",
       "    </tr>\n",
       "  </thead>\n",
       "  <tbody>\n",
       "    <tr>\n",
       "      <th>7469-LKBCI</th>\n",
       "      <td>Two year</td>\n",
       "      <td>No</td>\n",
       "      <td>Credit card (automatic)</td>\n",
       "      <td>18.95</td>\n",
       "      <td>326.80</td>\n",
       "      <td>Male</td>\n",
       "      <td>0</td>\n",
       "      <td>No</td>\n",
       "      <td>No</td>\n",
       "      <td>not provided</td>\n",
       "      <td>not provided</td>\n",
       "      <td>not provided</td>\n",
       "      <td>not provided</td>\n",
       "      <td>not provided</td>\n",
       "      <td>not provided</td>\n",
       "      <td>not provided</td>\n",
       "      <td>No</td>\n",
       "      <td>0.0</td>\n",
       "      <td>2</td>\n",
       "    </tr>\n",
       "    <tr>\n",
       "      <th>8191-XWSZG</th>\n",
       "      <td>One year</td>\n",
       "      <td>No</td>\n",
       "      <td>Mailed check</td>\n",
       "      <td>20.65</td>\n",
       "      <td>1022.95</td>\n",
       "      <td>Female</td>\n",
       "      <td>0</td>\n",
       "      <td>No</td>\n",
       "      <td>No</td>\n",
       "      <td>not provided</td>\n",
       "      <td>not provided</td>\n",
       "      <td>not provided</td>\n",
       "      <td>not provided</td>\n",
       "      <td>not provided</td>\n",
       "      <td>not provided</td>\n",
       "      <td>not provided</td>\n",
       "      <td>No</td>\n",
       "      <td>0.0</td>\n",
       "      <td>5</td>\n",
       "    </tr>\n",
       "    <tr>\n",
       "      <th>1680-VDCWW</th>\n",
       "      <td>One year</td>\n",
       "      <td>No</td>\n",
       "      <td>Bank transfer (automatic)</td>\n",
       "      <td>19.80</td>\n",
       "      <td>202.25</td>\n",
       "      <td>Male</td>\n",
       "      <td>0</td>\n",
       "      <td>Yes</td>\n",
       "      <td>No</td>\n",
       "      <td>not provided</td>\n",
       "      <td>not provided</td>\n",
       "      <td>not provided</td>\n",
       "      <td>not provided</td>\n",
       "      <td>not provided</td>\n",
       "      <td>not provided</td>\n",
       "      <td>not provided</td>\n",
       "      <td>No</td>\n",
       "      <td>0.0</td>\n",
       "      <td>1</td>\n",
       "    </tr>\n",
       "    <tr>\n",
       "      <th>1066-JKSGK</th>\n",
       "      <td>Month-to-month</td>\n",
       "      <td>No</td>\n",
       "      <td>Mailed check</td>\n",
       "      <td>20.15</td>\n",
       "      <td>20.15</td>\n",
       "      <td>Male</td>\n",
       "      <td>0</td>\n",
       "      <td>No</td>\n",
       "      <td>No</td>\n",
       "      <td>not provided</td>\n",
       "      <td>not provided</td>\n",
       "      <td>not provided</td>\n",
       "      <td>not provided</td>\n",
       "      <td>not provided</td>\n",
       "      <td>not provided</td>\n",
       "      <td>not provided</td>\n",
       "      <td>No</td>\n",
       "      <td>1.0</td>\n",
       "      <td>0</td>\n",
       "    </tr>\n",
       "    <tr>\n",
       "      <th>7310-EGVHZ</th>\n",
       "      <td>Month-to-month</td>\n",
       "      <td>No</td>\n",
       "      <td>Bank transfer (automatic)</td>\n",
       "      <td>20.20</td>\n",
       "      <td>20.20</td>\n",
       "      <td>Male</td>\n",
       "      <td>0</td>\n",
       "      <td>No</td>\n",
       "      <td>No</td>\n",
       "      <td>not provided</td>\n",
       "      <td>not provided</td>\n",
       "      <td>not provided</td>\n",
       "      <td>not provided</td>\n",
       "      <td>not provided</td>\n",
       "      <td>not provided</td>\n",
       "      <td>not provided</td>\n",
       "      <td>No</td>\n",
       "      <td>0.0</td>\n",
       "      <td>0</td>\n",
       "    </tr>\n",
       "  </tbody>\n",
       "</table>\n",
       "</div>"
      ],
      "text/plain": [
       "                      Type PaperlessBilling              PaymentMethod  \\\n",
       "customerID                                                               \n",
       "7469-LKBCI        Two year               No    Credit card (automatic)   \n",
       "8191-XWSZG        One year               No               Mailed check   \n",
       "1680-VDCWW        One year               No  Bank transfer (automatic)   \n",
       "1066-JKSGK  Month-to-month               No               Mailed check   \n",
       "7310-EGVHZ  Month-to-month               No  Bank transfer (automatic)   \n",
       "\n",
       "            MonthlyCharges  TotalCharges  gender  SeniorCitizen Partner  \\\n",
       "customerID                                                                \n",
       "7469-LKBCI           18.95        326.80    Male              0      No   \n",
       "8191-XWSZG           20.65       1022.95  Female              0      No   \n",
       "1680-VDCWW           19.80        202.25    Male              0     Yes   \n",
       "1066-JKSGK           20.15         20.15    Male              0      No   \n",
       "7310-EGVHZ           20.20         20.20    Male              0      No   \n",
       "\n",
       "           Dependents InternetService OnlineSecurity  OnlineBackup  \\\n",
       "customerID                                                           \n",
       "7469-LKBCI         No    not provided   not provided  not provided   \n",
       "8191-XWSZG         No    not provided   not provided  not provided   \n",
       "1680-VDCWW         No    not provided   not provided  not provided   \n",
       "1066-JKSGK         No    not provided   not provided  not provided   \n",
       "7310-EGVHZ         No    not provided   not provided  not provided   \n",
       "\n",
       "           DeviceProtection   TechSupport   StreamingTV StreamingMovies  \\\n",
       "customerID                                                                \n",
       "7469-LKBCI     not provided  not provided  not provided    not provided   \n",
       "8191-XWSZG     not provided  not provided  not provided    not provided   \n",
       "1680-VDCWW     not provided  not provided  not provided    not provided   \n",
       "1066-JKSGK     not provided  not provided  not provided    not provided   \n",
       "7310-EGVHZ     not provided  not provided  not provided    not provided   \n",
       "\n",
       "           MultipleLines  client_class  year  \n",
       "customerID                                    \n",
       "7469-LKBCI            No           0.0     2  \n",
       "8191-XWSZG            No           0.0     5  \n",
       "1680-VDCWW            No           0.0     1  \n",
       "1066-JKSGK            No           1.0     0  \n",
       "7310-EGVHZ            No           0.0     0  "
      ]
     },
     "execution_count": 29,
     "metadata": {},
     "output_type": "execute_result"
    }
   ],
   "source": [
    "data.query('MonthlyCharges < 25').head()"
   ]
  },
  {
   "cell_type": "code",
   "execution_count": 30,
   "id": "8f33b210",
   "metadata": {
    "scrolled": true
   },
   "outputs": [
    {
     "data": {
      "text/html": [
       "<div>\n",
       "<style scoped>\n",
       "    .dataframe tbody tr th:only-of-type {\n",
       "        vertical-align: middle;\n",
       "    }\n",
       "\n",
       "    .dataframe tbody tr th {\n",
       "        vertical-align: top;\n",
       "    }\n",
       "\n",
       "    .dataframe thead th {\n",
       "        text-align: right;\n",
       "    }\n",
       "</style>\n",
       "<table border=\"1\" class=\"dataframe\">\n",
       "  <thead>\n",
       "    <tr style=\"text-align: right;\">\n",
       "      <th></th>\n",
       "      <th>MonthlyCharges</th>\n",
       "    </tr>\n",
       "    <tr>\n",
       "      <th>client_class</th>\n",
       "      <th></th>\n",
       "    </tr>\n",
       "  </thead>\n",
       "  <tbody>\n",
       "    <tr>\n",
       "      <th>1.0</th>\n",
       "      <td>74.441332</td>\n",
       "    </tr>\n",
       "    <tr>\n",
       "      <th>0.0</th>\n",
       "      <td>61.307408</td>\n",
       "    </tr>\n",
       "  </tbody>\n",
       "</table>\n",
       "</div>"
      ],
      "text/plain": [
       "              MonthlyCharges\n",
       "client_class                \n",
       "1.0                74.441332\n",
       "0.0                61.307408"
      ]
     },
     "execution_count": 30,
     "metadata": {},
     "output_type": "execute_result"
    }
   ],
   "source": [
    "data_filter = (\n",
    "    data\n",
    "    .pivot_table(index='client_class', values='MonthlyCharges', aggfunc='mean') # сводная таблица по платформам и суммарным продажам\n",
    "    .sort_values(by='client_class', ascending=False) # отсортировали по возрастанию\n",
    ")\n",
    "data_filter.head()\n"
   ]
  },
  {
   "cell_type": "code",
   "execution_count": 31,
   "id": "370a018a",
   "metadata": {
    "scrolled": false
   },
   "outputs": [
    {
     "data": {
      "text/html": [
       "<div>\n",
       "<style scoped>\n",
       "    .dataframe tbody tr th:only-of-type {\n",
       "        vertical-align: middle;\n",
       "    }\n",
       "\n",
       "    .dataframe tbody tr th {\n",
       "        vertical-align: top;\n",
       "    }\n",
       "\n",
       "    .dataframe thead th {\n",
       "        text-align: right;\n",
       "    }\n",
       "</style>\n",
       "<table border=\"1\" class=\"dataframe\">\n",
       "  <thead>\n",
       "    <tr style=\"text-align: right;\">\n",
       "      <th></th>\n",
       "      <th>TotalCharges</th>\n",
       "    </tr>\n",
       "    <tr>\n",
       "      <th>client_class</th>\n",
       "      <th></th>\n",
       "    </tr>\n",
       "  </thead>\n",
       "  <tbody>\n",
       "    <tr>\n",
       "      <th>1.0</th>\n",
       "      <td>1531.796094</td>\n",
       "    </tr>\n",
       "    <tr>\n",
       "      <th>0.0</th>\n",
       "      <td>2555.344141</td>\n",
       "    </tr>\n",
       "  </tbody>\n",
       "</table>\n",
       "</div>"
      ],
      "text/plain": [
       "              TotalCharges\n",
       "client_class              \n",
       "1.0            1531.796094\n",
       "0.0            2555.344141"
      ]
     },
     "execution_count": 31,
     "metadata": {},
     "output_type": "execute_result"
    }
   ],
   "source": [
    "data_filter = (\n",
    "    data\n",
    "    .pivot_table(index='client_class', values='TotalCharges', aggfunc='mean') # сводная таблица по платформам и суммарным продажам\n",
    "    .sort_values(by='client_class', ascending=False) # отсортировали по возрастанию\n",
    ")\n",
    "data_filter.head()\n"
   ]
  },
  {
   "cell_type": "markdown",
   "id": "dd321513",
   "metadata": {},
   "source": [
    "По сводной таблице ежемесячных платежей, видим , что с более высоким средним чеком пользователи расторгают договор."
   ]
  },
  {
   "cell_type": "code",
   "execution_count": 32,
   "id": "c3911f93",
   "metadata": {},
   "outputs": [
    {
     "data": {
      "image/png": "[encoded data removed]",
      "text/plain": [
       "<Figure size 432x288 with 1 Axes>"
      ]
     },
     "metadata": {
      "needs_background": "light"
     },
     "output_type": "display_data"
    },
    {
     "data": {
      "image/png": "[encoded data removed]",
      "text/plain": [
       "<Figure size 432x288 with 1 Axes>"
      ]
     },
     "metadata": {
      "needs_background": "light"
     },
     "output_type": "display_data"
    },
    {
     "data": {
      "image/png": "[encoded data removed]",
      "text/plain": [
       "<Figure size 432x288 with 1 Axes>"
      ]
     },
     "metadata": {
      "needs_background": "light"
     },
     "output_type": "display_data"
    },
    {
     "data": {
      "image/png": "[encoded data removed]",
      "text/plain": [
       "<Figure size 432x288 with 1 Axes>"
      ]
     },
     "metadata": {
      "needs_background": "light"
     },
     "output_type": "display_data"
    },
    {
     "data": {
      "image/png": "[encoded data removed]",
      "text/plain": [
       "<Figure size 432x288 with 1 Axes>"
      ]
     },
     "metadata": {
      "needs_background": "light"
     },
     "output_type": "display_data"
    },
    {
     "data": {
      "image/png": "[encoded data removed]",
      "text/plain": [
       "<Figure size 432x288 with 1 Axes>"
      ]
     },
     "metadata": {
      "needs_background": "light"
     },
     "output_type": "display_data"
    },
    {
     "data": {
      "image/png": "[encoded data removed]",
      "text/plain": [
       "<Figure size 432x288 with 1 Axes>"
      ]
     },
     "metadata": {
      "needs_background": "light"
     },
     "output_type": "display_data"
    },
    {
     "data": {
      "image/png": "[encoded data removed]",
      "text/plain": [
       "<Figure size 432x288 with 1 Axes>"
      ]
     },
     "metadata": {
      "needs_background": "light"
     },
     "output_type": "display_data"
    },
    {
     "data": {
      "image/png": "[encoded data removed]",
      "text/plain": [
       "<Figure size 432x288 with 1 Axes>"
      ]
     },
     "metadata": {
      "needs_background": "light"
     },
     "output_type": "display_data"
    },
    {
     "data": {
      "image/png": "[encoded data removed]",
      "text/plain": [
       "<Figure size 432x288 with 1 Axes>"
      ]
     },
     "metadata": {
      "needs_background": "light"
     },
     "output_type": "display_data"
    },
    {
     "data": {
      "image/png": "[encoded data removed]",
      "text/plain": [
       "<Figure size 432x288 with 1 Axes>"
      ]
     },
     "metadata": {
      "needs_background": "light"
     },
     "output_type": "display_data"
    },
    {
     "data": {
      "image/png": "[encoded data removed]",
      "text/plain": [
       "<Figure size 432x288 with 1 Axes>"
      ]
     },
     "metadata": {
      "needs_background": "light"
     },
     "output_type": "display_data"
    },
    {
     "data": {
      "image/png": "[encoded data removed]",
      "text/plain": [
       "<Figure size 432x288 with 1 Axes>"
      ]
     },
     "metadata": {
      "needs_background": "light"
     },
     "output_type": "display_data"
    },
    {
     "data": {
      "image/png": "[encoded data removed]",
      "text/plain": [
       "<Figure size 432x288 with 1 Axes>"
      ]
     },
     "metadata": {
      "needs_background": "light"
     },
     "output_type": "display_data"
    },
    {
     "data": {
      "image/png": "[encoded data removed]",
      "text/plain": [
       "<Figure size 432x288 with 1 Axes>"
      ]
     },
     "metadata": {
      "needs_background": "light"
     },
     "output_type": "display_data"
    }
   ],
   "source": [
    "col =['gender', 'Partner','Type', 'PaperlessBilling', 'SeniorCitizen', 'Dependents', \n",
    "      'InternetService', 'OnlineSecurity', 'OnlineBackup',\n",
    "      'DeviceProtection', 'TechSupport', 'StreamingTV', 'StreamingMovies', 'MultipleLines', 'year']\n",
    "\n",
    "for i in col:\n",
    "    data.groupby('client_class')[i].hist()\n",
    "    plt.legend(data['client_class'].unique())\n",
    "    plt.title(i)\n",
    "    plt.show()"
   ]
  },
  {
   "cell_type": "code",
   "execution_count": 33,
   "id": "a72d1b98",
   "metadata": {
    "scrolled": false
   },
   "outputs": [
    {
     "data": {
      "text/html": [
       "<div>\n",
       "<style scoped>\n",
       "    .dataframe tbody tr th:only-of-type {\n",
       "        vertical-align: middle;\n",
       "    }\n",
       "\n",
       "    .dataframe tbody tr th {\n",
       "        vertical-align: top;\n",
       "    }\n",
       "\n",
       "    .dataframe thead th {\n",
       "        text-align: right;\n",
       "    }\n",
       "</style>\n",
       "<table border=\"1\" class=\"dataframe\">\n",
       "  <thead>\n",
       "    <tr style=\"text-align: right;\">\n",
       "      <th></th>\n",
       "      <th>year</th>\n",
       "    </tr>\n",
       "    <tr>\n",
       "      <th>client_class</th>\n",
       "      <th></th>\n",
       "    </tr>\n",
       "  </thead>\n",
       "  <tbody>\n",
       "    <tr>\n",
       "      <th>1.0</th>\n",
       "      <td>1869</td>\n",
       "    </tr>\n",
       "    <tr>\n",
       "      <th>0.0</th>\n",
       "      <td>5163</td>\n",
       "    </tr>\n",
       "  </tbody>\n",
       "</table>\n",
       "</div>"
      ],
      "text/plain": [
       "              year\n",
       "client_class      \n",
       "1.0           1869\n",
       "0.0           5163"
      ]
     },
     "execution_count": 33,
     "metadata": {},
     "output_type": "execute_result"
    }
   ],
   "source": [
    "data_filter = (\n",
    "    data\n",
    "    .pivot_table(index='client_class', values='year', aggfunc='count') # сводная таблица по платформам и суммарным продажам\n",
    "    .sort_values(by='client_class', ascending=False) # отсортировали по возрастанию\n",
    ")\n",
    "data_filter.head()\n"
   ]
  },
  {
   "cell_type": "markdown",
   "id": "c2dac670",
   "metadata": {},
   "source": [
    "Клиенты расторгли договор независимо от пола, 'StreamingTV', 'StreamingMovies', 'MultipleLines', \n",
    "На решение влияет наличие услуг 'TechSupport', 'DeviceProtection', 'OnlineBackup', 'OnlineSecurity', 'InternetService'\n",
    "зависит от наличия иждевенцев и пенсионного статуса, способа выставления счета.\n",
    "Чаще расторгают договор клиенты с помесячной оплатой, чем на годовой подписке и в первый год пользования услугами."
   ]
  },
  {
   "cell_type": "markdown",
   "id": "9c438f82",
   "metadata": {},
   "source": [
    "## Обучение моделей"
   ]
  },
  {
   "cell_type": "markdown",
   "id": "21bae69c",
   "metadata": {},
   "source": [
    "### CatBoostClassifier"
   ]
  },
  {
   "cell_type": "markdown",
   "id": "406656b7",
   "metadata": {},
   "source": [
    "CatBoost позволяет использовать категориальные признаки без необходимости их предварительно обрабатывать. Достаточно задать категориальные признаки с помощью параметра cat_features. "
   ]
  },
  {
   "cell_type": "markdown",
   "id": "31da2075",
   "metadata": {},
   "source": [
    "CatBoostClassifier без проверки на мультиколлинеарность"
   ]
  },
  {
   "cell_type": "code",
   "execution_count": 34,
   "id": "17a21427",
   "metadata": {},
   "outputs": [
    {
     "name": "stdout",
     "output_type": "stream",
     "text": [
      "(5274, 19)\n"
     ]
    },
    {
     "data": {
      "text/plain": [
       "(1758, 19)"
      ]
     },
     "execution_count": 34,
     "metadata": {},
     "output_type": "execute_result"
    }
   ],
   "source": [
    "# разделили данные на обучающую и тестовую выборки\n",
    "data_train, data_test = train_test_split(\n",
    "    data, test_size=0.25, random_state=190922)\n",
    "print(data_train.shape)\n",
    "data_test.shape"
   ]
  },
  {
   "cell_type": "code",
   "execution_count": 35,
   "id": "90c64633",
   "metadata": {},
   "outputs": [],
   "source": [
    "target_train = data_train['client_class']\n",
    "features_train = data_train.drop(['client_class'], axis=1)\n",
    "cat_features = ['Type', 'PaperlessBilling', 'PaymentMethod', 'gender', 'SeniorCitizen', \n",
    "                'Partner', 'Dependents', 'InternetService', 'OnlineSecurity', 'OnlineBackup',\n",
    "                'DeviceProtection', 'TechSupport', 'StreamingTV', 'StreamingMovies', 'MultipleLines', 'year']"
   ]
  },
  {
   "cell_type": "markdown",
   "id": "08ca1188",
   "metadata": {},
   "source": [
    "`\n",
    "model = CatBoostClassifier(random_state=190922, class_weights = [0.75, 0.25])\n",
    "parameters = { 'learning_rate': [0.01, 0.05],\n",
    "               'depth': [3, 6]\n",
    "             }\n",
    "Grid_CBC = GridSearchCV(estimator=model, param_grid = parameters, cv = 5, n_jobs=-1, scoring='roc_auc')\n",
    "Grid_CBC.fit(features_train, target_train, cat_features=cat_features, verbose=100)\n",
    "print(\"\\n The best parameters across ALL searched params:\\n\",Grid_CBC.best_params_)\n",
    "Grid_CBC.best_score_\n",
    "`"
   ]
  },
  {
   "cell_type": "markdown",
   "id": "275ff67e",
   "metadata": {},
   "source": [
    "The best parameters across ALL searched params:\n",
    " {'depth': 6, 'learning_rate': 0.05}\n",
    "0.918081860710475"
   ]
  },
  {
   "cell_type": "code",
   "execution_count": 36,
   "id": "818705dd",
   "metadata": {},
   "outputs": [
    {
     "name": "stdout",
     "output_type": "stream",
     "text": [
      "0:\tlearn: 0.6438521\ttotal: 68.6ms\tremaining: 1m 8s\n",
      "50:\tlearn: 0.2065867\ttotal: 754ms\tremaining: 14s\n",
      "100:\tlearn: 0.1887249\ttotal: 1.44s\tremaining: 12.8s\n",
      "150:\tlearn: 0.1783825\ttotal: 2.17s\tremaining: 12.2s\n",
      "200:\tlearn: 0.1674885\ttotal: 2.92s\tremaining: 11.6s\n",
      "250:\tlearn: 0.1568288\ttotal: 3.69s\tremaining: 11s\n",
      "300:\tlearn: 0.1497050\ttotal: 4.51s\tremaining: 10.5s\n",
      "350:\tlearn: 0.1438054\ttotal: 5.34s\tremaining: 9.88s\n",
      "400:\tlearn: 0.1393084\ttotal: 6.18s\tremaining: 9.23s\n",
      "450:\tlearn: 0.1358126\ttotal: 6.99s\tremaining: 8.51s\n",
      "500:\tlearn: 0.1331740\ttotal: 7.84s\tremaining: 7.81s\n",
      "550:\tlearn: 0.1303009\ttotal: 8.74s\tremaining: 7.12s\n",
      "600:\tlearn: 0.1280365\ttotal: 9.54s\tremaining: 6.33s\n",
      "650:\tlearn: 0.1255028\ttotal: 10.4s\tremaining: 5.55s\n",
      "700:\tlearn: 0.1229452\ttotal: 11.1s\tremaining: 4.75s\n",
      "750:\tlearn: 0.1205800\ttotal: 12s\tremaining: 3.98s\n",
      "800:\tlearn: 0.1184127\ttotal: 12.8s\tremaining: 3.18s\n",
      "850:\tlearn: 0.1157045\ttotal: 13.7s\tremaining: 2.39s\n",
      "900:\tlearn: 0.1132096\ttotal: 14.5s\tremaining: 1.6s\n",
      "950:\tlearn: 0.1109285\ttotal: 15.4s\tremaining: 795ms\n",
      "999:\tlearn: 0.1089962\ttotal: 16.3s\tremaining: 0us\n"
     ]
    },
    {
     "data": {
      "text/plain": [
       "<catboost.core.CatBoostClassifier at 0x7f674fe2ad90>"
      ]
     },
     "execution_count": 36,
     "metadata": {},
     "output_type": "execute_result"
    }
   ],
   "source": [
    "model_best = CatBoostClassifier(random_state=190922, class_weights = [0.75, 0.25], max_depth=6, learning_rate=0.05)\n",
    "model_best.fit(features_train, target_train, cat_features=cat_features, verbose=50)"
   ]
  },
  {
   "cell_type": "markdown",
   "id": "1f78d906",
   "metadata": {},
   "source": [
    "CatBoostClassifier после проверки на мультиколлинеарность"
   ]
  },
  {
   "cell_type": "code",
   "execution_count": 37,
   "id": "90f4468e",
   "metadata": {
    "scrolled": false
   },
   "outputs": [
    {
     "name": "stdout",
     "output_type": "stream",
     "text": [
      "<class 'pandas.core.frame.DataFrame'>\n",
      "Index: 7032 entries, 7590-VHVEG to 3186-AJIEK\n",
      "Data columns (total 11 columns):\n",
      " #   Column            Non-Null Count  Dtype  \n",
      "---  ------            --------------  -----  \n",
      " 0   Type              7032 non-null   object \n",
      " 1   PaperlessBilling  7032 non-null   object \n",
      " 2   PaymentMethod     7032 non-null   object \n",
      " 3   MonthlyCharges    7032 non-null   float64\n",
      " 4   gender            7032 non-null   object \n",
      " 5   SeniorCitizen     7032 non-null   int64  \n",
      " 6   Partner           7032 non-null   object \n",
      " 7   Dependents        7032 non-null   object \n",
      " 8   MultipleLines     7032 non-null   object \n",
      " 9   client_class      7032 non-null   float64\n",
      " 10  year              7032 non-null   int64  \n",
      "dtypes: float64(2), int64(2), object(7)\n",
      "memory usage: 659.2+ KB\n"
     ]
    }
   ],
   "source": [
    "data_f.info()"
   ]
  },
  {
   "cell_type": "code",
   "execution_count": 38,
   "id": "7bad42fc",
   "metadata": {},
   "outputs": [],
   "source": [
    "cat_features_f = ['Type', 'PaperlessBilling', 'PaymentMethod', 'gender', 'SeniorCitizen', 'Partner', 'Dependents', 'year', 'MultipleLines']"
   ]
  },
  {
   "cell_type": "code",
   "execution_count": 39,
   "id": "ce1bf1ec",
   "metadata": {},
   "outputs": [
    {
     "name": "stdout",
     "output_type": "stream",
     "text": [
      "(5274, 19)\n"
     ]
    },
    {
     "data": {
      "text/plain": [
       "(1758, 19)"
      ]
     },
     "execution_count": 39,
     "metadata": {},
     "output_type": "execute_result"
    }
   ],
   "source": [
    "data_train_f, data_test_f = train_test_split(\n",
    "    data_f, test_size=0.25, random_state=190922)\n",
    "print(data_train.shape)\n",
    "\n",
    "data_test.shape"
   ]
  },
  {
   "cell_type": "code",
   "execution_count": 40,
   "id": "e3e6b60d",
   "metadata": {},
   "outputs": [],
   "source": [
    "target_train_f = data_train_f['client_class']\n",
    "features_train_f = data_train_f.drop(['client_class'], axis=1)"
   ]
  },
  {
   "cell_type": "markdown",
   "id": "eac1f162",
   "metadata": {},
   "source": [
    "`\n",
    "model_cat = CatBoostClassifier(random_state=190922, class_weights = [0.75, 0.25])\n",
    "parameters = { 'learning_rate': [0.01, 0.05],\n",
    "               'depth': range(2, 7),\n",
    "               'iterations': range (700, 1000, 100)\n",
    "             }\n",
    "Grid_CBC = GridSearchCV(estimator=model_cat, param_grid = parameters, cv = 5, n_jobs=-1, scoring='roc_auc')\n",
    "Grid_CBC.fit(features_train_f, target_train_f, cat_features=cat_features_f, verbose=100)\n",
    "print(\"\\n The best parameters across ALL searched params:\\n\",Grid_CBC.best_params_)\n",
    "Grid_CBC.best_score_\n",
    "`"
   ]
  },
  {
   "cell_type": "markdown",
   "id": "1e5998a9",
   "metadata": {},
   "source": [
    " The best parameters across ALL searched params:\n",
    " {'depth': 2, 'iterations': 700, 'learning_rate': 0.05}\n",
    "0.8745864175605839"
   ]
  },
  {
   "cell_type": "code",
   "execution_count": 41,
   "id": "77d41a17",
   "metadata": {
    "scrolled": false
   },
   "outputs": [
    {
     "name": "stdout",
     "output_type": "stream",
     "text": [
      "0:\tlearn: 0.6488804\ttotal: 5.07ms\tremaining: 3.54s\n",
      "50:\tlearn: 0.2468150\ttotal: 181ms\tremaining: 2.3s\n",
      "100:\tlearn: 0.2337059\ttotal: 347ms\tremaining: 2.06s\n",
      "150:\tlearn: 0.2305571\ttotal: 528ms\tremaining: 1.92s\n",
      "200:\tlearn: 0.2287742\ttotal: 744ms\tremaining: 1.85s\n",
      "250:\tlearn: 0.2276439\ttotal: 940ms\tremaining: 1.68s\n",
      "300:\tlearn: 0.2268325\ttotal: 1.12s\tremaining: 1.49s\n",
      "350:\tlearn: 0.2260584\ttotal: 1.3s\tremaining: 1.29s\n",
      "400:\tlearn: 0.2252236\ttotal: 1.48s\tremaining: 1.11s\n",
      "450:\tlearn: 0.2245699\ttotal: 1.67s\tremaining: 923ms\n",
      "500:\tlearn: 0.2239262\ttotal: 1.85s\tremaining: 736ms\n",
      "550:\tlearn: 0.2234220\ttotal: 2.03s\tremaining: 549ms\n",
      "600:\tlearn: 0.2229562\ttotal: 2.23s\tremaining: 367ms\n",
      "650:\tlearn: 0.2226711\ttotal: 2.41s\tremaining: 182ms\n",
      "699:\tlearn: 0.2222488\ttotal: 2.58s\tremaining: 0us\n",
      "CPU times: user 2.6 s, sys: 111 ms, total: 2.71 s\n",
      "Wall time: 3.36 s\n"
     ]
    },
    {
     "data": {
      "text/plain": [
       "<catboost.core.CatBoostClassifier at 0x7f674fc29d30>"
      ]
     },
     "execution_count": 41,
     "metadata": {},
     "output_type": "execute_result"
    }
   ],
   "source": [
    "%%time\n",
    "\n",
    "model_cat_best = CatBoostClassifier(random_state=190922, class_weights = [0.75, 0.25], max_depth=2, learning_rate=0.05, iterations=700)\n",
    "model_cat_best.fit(features_train_f, target_train_f, cat_features=cat_features_f, verbose=50)"
   ]
  },
  {
   "cell_type": "markdown",
   "id": "15cf2a08",
   "metadata": {},
   "source": [
    "### LightGBM"
   ]
  },
  {
   "cell_type": "code",
   "execution_count": 42,
   "id": "f92d3b49",
   "metadata": {},
   "outputs": [],
   "source": [
    "target_test_f = data_test_f['client_class']\n",
    "features_test_f = data_test_f.drop(['client_class'], axis=1)\n"
   ]
  },
  {
   "cell_type": "code",
   "execution_count": 43,
   "id": "dc6c6e16",
   "metadata": {},
   "outputs": [
    {
     "name": "stdout",
     "output_type": "stream",
     "text": [
      "<class 'pandas.core.frame.DataFrame'>\n",
      "Index: 5274 entries, 0014-BMAQU to 6080-TCMYC\n",
      "Data columns (total 10 columns):\n",
      " #   Column            Non-Null Count  Dtype   \n",
      "---  ------            --------------  -----   \n",
      " 0   Type              5274 non-null   category\n",
      " 1   PaperlessBilling  5274 non-null   category\n",
      " 2   PaymentMethod     5274 non-null   category\n",
      " 3   MonthlyCharges    5274 non-null   float64 \n",
      " 4   gender            5274 non-null   category\n",
      " 5   SeniorCitizen     5274 non-null   category\n",
      " 6   Partner           5274 non-null   category\n",
      " 7   Dependents        5274 non-null   category\n",
      " 8   MultipleLines     5274 non-null   category\n",
      " 9   year              5274 non-null   category\n",
      "dtypes: category(9), float64(1)\n",
      "memory usage: 130.2+ KB\n",
      "None\n",
      "<class 'pandas.core.frame.DataFrame'>\n",
      "Index: 1758 entries, 4430-YHXGG to 9715-WZCLW\n",
      "Data columns (total 10 columns):\n",
      " #   Column            Non-Null Count  Dtype   \n",
      "---  ------            --------------  -----   \n",
      " 0   Type              1758 non-null   category\n",
      " 1   PaperlessBilling  1758 non-null   category\n",
      " 2   PaymentMethod     1758 non-null   category\n",
      " 3   MonthlyCharges    1758 non-null   float64 \n",
      " 4   gender            1758 non-null   category\n",
      " 5   SeniorCitizen     1758 non-null   category\n",
      " 6   Partner           1758 non-null   category\n",
      " 7   Dependents        1758 non-null   category\n",
      " 8   MultipleLines     1758 non-null   category\n",
      " 9   year              1758 non-null   category\n",
      "dtypes: category(9), float64(1)\n",
      "memory usage: 44.3+ KB\n"
     ]
    }
   ],
   "source": [
    "for col in cat_features_f:\n",
    "   features_train_f[col] = features_train_f[col].astype('category').copy()\n",
    "   features_test_f[col] = features_test_f[col].astype('category').copy()\n",
    "print(features_train_f.info())\n",
    "features_test_f.info()"
   ]
  },
  {
   "cell_type": "code",
   "execution_count": 44,
   "id": "0cc3f328",
   "metadata": {},
   "outputs": [
    {
     "name": "stdout",
     "output_type": "stream",
     "text": [
      "['Type', 'PaperlessBilling', 'PaymentMethod', 'MonthlyCharges', 'gender', 'SeniorCitizen', 'Partner', 'Dependents', 'MultipleLines', 'year']\n"
     ]
    },
    {
     "data": {
      "text/plain": [
       "[0, 1, 2, 4, 5, 6, 7, 8, 9]"
      ]
     },
     "execution_count": 44,
     "metadata": {},
     "output_type": "execute_result"
    }
   ],
   "source": [
    "features_cat= list(features_train_f.columns)\n",
    "print(features_cat)\n",
    "cat=[]\n",
    "for i in features_cat:\n",
    "    if i in cat_features:\n",
    "        cat.append(features_cat.index(i))\n",
    "cat        "
   ]
  },
  {
   "cell_type": "markdown",
   "id": "a3ffe11d",
   "metadata": {},
   "source": [
    "`\n",
    "model_lgb = LGBMClassifier()\n",
    "\n",
    "parameters = {'class_weight': [None, 'balanced'], \n",
    "              'max_depth': [3, 5, 6],\n",
    "              'learning_rate': [0.05, 0.1],\n",
    "             }\n",
    "gsearch = GridSearchCV(model_lgb, param_grid=parameters, cv=5, scoring='roc_auc')\n",
    "gsearch.fit(features_train_f, target_train_f, verbose=100)\n",
    "`\n",
    "\n",
    "print(\" Results from Grid Search \" )\n",
    "print(\"\\n The best estimator across ALL searched params:\\n\")\n",
    "print(\"\\n The best score across ALL searched params:\\n\",gsearch.best_score_)\n",
    "print(\"\\n The best parameters across ALL searched params:\\n\",gsearch.best_params_)\n",
    "print(\"Best score: %0.3f\" % gsearch.best_score_)\n",
    "print(\"Best parameters set:\")\n",
    "best_parameters = gsearch.best_estimator_.get_params()\n",
    "for param_name in sorted(parameters.keys()):\n",
    "    print(\"\\t%s: %r\" % (param_name, best_parameters[param_name]))\n",
    "`\n",
    " "
   ]
  },
  {
   "cell_type": "markdown",
   "id": "7897ae4b",
   "metadata": {},
   "source": [
    "Best score: 0.872\n",
    "Best parameters set:\n",
    "\tclass_weight: None\n",
    "\tlearning_rate: 0.05\n",
    "\tmax_depth: 3"
   ]
  },
  {
   "cell_type": "code",
   "execution_count": 45,
   "id": "e5c23c2e",
   "metadata": {
    "scrolled": true
   },
   "outputs": [
    {
     "data": {
      "text/html": [
       "<style>#sk-container-id-1 {color: black;background-color: white;}#sk-container-id-1 pre{padding: 0;}#sk-container-id-1 div.sk-toggleable {background-color: white;}#sk-container-id-1 label.sk-toggleable__label {cursor: pointer;display: block;width: 100%;margin-bottom: 0;padding: 0.3em;box-sizing: border-box;text-align: center;}#sk-container-id-1 label.sk-toggleable__label-arrow:before {content: \"▸\";float: left;margin-right: 0.25em;color: #696969;}#sk-container-id-1 label.sk-toggleable__label-arrow:hover:before {color: black;}#sk-container-id-1 div.sk-estimator:hover label.sk-toggleable__label-arrow:before {color: black;}#sk-container-id-1 div.sk-toggleable__content {max-height: 0;max-width: 0;overflow: hidden;text-align: left;background-color: #f0f8ff;}#sk-container-id-1 div.sk-toggleable__content pre {margin: 0.2em;color: black;border-radius: 0.25em;background-color: #f0f8ff;}#sk-container-id-1 input.sk-toggleable__control:checked~div.sk-toggleable__content {max-height: 200px;max-width: 100%;overflow: auto;}#sk-container-id-1 input.sk-toggleable__control:checked~label.sk-toggleable__label-arrow:before {content: \"▾\";}#sk-container-id-1 div.sk-estimator input.sk-toggleable__control:checked~label.sk-toggleable__label {background-color: #d4ebff;}#sk-container-id-1 div.sk-label input.sk-toggleable__control:checked~label.sk-toggleable__label {background-color: #d4ebff;}#sk-container-id-1 input.sk-hidden--visually {border: 0;clip: rect(1px 1px 1px 1px);clip: rect(1px, 1px, 1px, 1px);height: 1px;margin: -1px;overflow: hidden;padding: 0;position: absolute;width: 1px;}#sk-container-id-1 div.sk-estimator {font-family: monospace;background-color: #f0f8ff;border: 1px dotted black;border-radius: 0.25em;box-sizing: border-box;margin-bottom: 0.5em;}#sk-container-id-1 div.sk-estimator:hover {background-color: #d4ebff;}#sk-container-id-1 div.sk-parallel-item::after {content: \"\";width: 100%;border-bottom: 1px solid gray;flex-grow: 1;}#sk-container-id-1 div.sk-label:hover label.sk-toggleable__label {background-color: #d4ebff;}#sk-container-id-1 div.sk-serial::before {content: \"\";position: absolute;border-left: 1px solid gray;box-sizing: border-box;top: 0;bottom: 0;left: 50%;z-index: 0;}#sk-container-id-1 div.sk-serial {display: flex;flex-direction: column;align-items: center;background-color: white;padding-right: 0.2em;padding-left: 0.2em;position: relative;}#sk-container-id-1 div.sk-item {position: relative;z-index: 1;}#sk-container-id-1 div.sk-parallel {display: flex;align-items: stretch;justify-content: center;background-color: white;position: relative;}#sk-container-id-1 div.sk-item::before, #sk-container-id-1 div.sk-parallel-item::before {content: \"\";position: absolute;border-left: 1px solid gray;box-sizing: border-box;top: 0;bottom: 0;left: 50%;z-index: -1;}#sk-container-id-1 div.sk-parallel-item {display: flex;flex-direction: column;z-index: 1;position: relative;background-color: white;}#sk-container-id-1 div.sk-parallel-item:first-child::after {align-self: flex-end;width: 50%;}#sk-container-id-1 div.sk-parallel-item:last-child::after {align-self: flex-start;width: 50%;}#sk-container-id-1 div.sk-parallel-item:only-child::after {width: 0;}#sk-container-id-1 div.sk-dashed-wrapped {border: 1px dashed gray;margin: 0 0.4em 0.5em 0.4em;box-sizing: border-box;padding-bottom: 0.4em;background-color: white;}#sk-container-id-1 div.sk-label label {font-family: monospace;font-weight: bold;display: inline-block;line-height: 1.2em;}#sk-container-id-1 div.sk-label-container {text-align: center;}#sk-container-id-1 div.sk-container {/* jupyter's `normalize.less` sets `[hidden] { display: none; }` but bootstrap.min.css set `[hidden] { display: none !important; }` so we also need the `!important` here to be able to override the default hidden behavior on the sphinx rendered scikit-learn.org. See: https://github.com/scikit-learn/scikit-learn/issues/21755 */display: inline-block !important;position: relative;}#sk-container-id-1 div.sk-text-repr-fallback {display: none;}</style><div id=\"sk-container-id-1\" class=\"sk-top-container\"><div class=\"sk-text-repr-fallback\"><pre>LGBMClassifier(learning_rate=0.05, max_depth=3, random_state=190922)</pre><b>In a Jupyter environment, please rerun this cell to show the HTML representation or trust the notebook. <br />On GitHub, the HTML representation is unable to render, please try loading this page with nbviewer.org.</b></div><div class=\"sk-container\" hidden><div class=\"sk-item\"><div class=\"sk-estimator sk-toggleable\"><input class=\"sk-toggleable__control sk-hidden--visually\" id=\"sk-estimator-id-1\" type=\"checkbox\" checked><label for=\"sk-estimator-id-1\" class=\"sk-toggleable__label sk-toggleable__label-arrow\">LGBMClassifier</label><div class=\"sk-toggleable__content\"><pre>LGBMClassifier(learning_rate=0.05, max_depth=3, random_state=190922)</pre></div></div></div></div></div>"
      ],
      "text/plain": [
       "LGBMClassifier(learning_rate=0.05, max_depth=3, random_state=190922)"
      ]
     },
     "execution_count": 45,
     "metadata": {},
     "output_type": "execute_result"
    }
   ],
   "source": [
    "model_lgb = LGBMClassifier(learning_rate=0.05, max_depth=3, random_state=190922)\n",
    "model_lgb.fit(features_train_f, target_train_f)"
   ]
  },
  {
   "cell_type": "markdown",
   "id": "044a2851",
   "metadata": {},
   "source": [
    "## Тестирование модели"
   ]
  },
  {
   "cell_type": "code",
   "execution_count": 46,
   "id": "c3ee4259",
   "metadata": {},
   "outputs": [],
   "source": [
    "target_test = data_test['client_class']\n",
    "features_test = data_test.drop(['client_class'], axis=1)"
   ]
  },
  {
   "cell_type": "code",
   "execution_count": 47,
   "id": "7c6a72f0",
   "metadata": {},
   "outputs": [
    {
     "data": {
      "text/plain": [
       "0.9106086979630345"
      ]
     },
     "execution_count": 47,
     "metadata": {},
     "output_type": "execute_result"
    }
   ],
   "source": [
    "probabilities_test = model_best.predict_proba(features_test)\n",
    "probabilities_one_test = probabilities_test[:, 1]\n",
    "\n",
    "auc_roc = roc_auc_score(target_test, probabilities_one_test)\n",
    "auc_roc"
   ]
  },
  {
   "cell_type": "code",
   "execution_count": 48,
   "id": "84965958",
   "metadata": {
    "scrolled": false
   },
   "outputs": [
    {
     "data": {
      "image/png": "[encoded data removed]",
      "text/plain": [
       "<Figure size 864x432 with 1 Axes>"
      ]
     },
     "metadata": {
      "needs_background": "light"
     },
     "output_type": "display_data"
    }
   ],
   "source": [
    "cat_imp = pd.Series(model_best.get_feature_importance(), features_train.columns)\n",
    "fig, ax = plt.subplots(figsize=(12, 6))\n",
    "cat_imp.plot.bar(ax=ax)\n",
    "ax.set_title(\"Важность признаков\")\n",
    "ax.set_ylabel('Важность, %')\n",
    "fig.tight_layout()"
   ]
  },
  {
   "cell_type": "markdown",
   "id": "a80ebea3",
   "metadata": {},
   "source": [
    "## Вывод"
   ]
  },
  {
   "cell_type": "markdown",
   "id": "dae4d7ed",
   "metadata": {
    "scrolled": true
   },
   "source": [
    " Для того, чтобы построить прототип модели машинного обучения для оператора связи «Ниединогоразрыва.ком», которая должна предсказать, планирует ли пользователь уйти необходимо решить задачу бинарной классификации.  \n",
    "  Для решения этой задачи были проделаны следующие операции.\n",
    " -  Подготовка и предобработка данных.\n",
    " \n",
    " На этом этапе загрузили и изучили предоставленные  данные:\n",
    "* contract.csv — информация о договоре;\n",
    "* personal.csv — персональные данные клиента;\n",
    "* internet.csv — информация об интернет-услугах;\n",
    "* phone.csv — информация об услугах телефонии.\n",
    " Проверили данные на пропуски, дубликаты. Заполнить пропущенные значения, объединили таблицы. Создали новые признаки и сгруппировали по категориям\n",
    "\n",
    "- Провели исследовательский анализ данных:\n",
    "\n",
    "Изучили как распределены данные, проверили на мультиколлинеарность, определили обучающие признаки, сформировали целевой признак. Обучающую выборку проверили на баланс классов.\n",
    "\n",
    "- Обучение моделей:\n",
    "\n",
    "Построили и обучили модели CatBoostClasifier и LightGBMClasifier, эти модели меньше подвержены влиянию мульколлинеарности и работаютс категориальными признаками, которые преобладают в данной задаче. Подобрали оптимальные гиперпараметры GridSearchCV, оценивая модели метрикой AUC-ROC. Обучили модель CatBoostClasifier на обучающей выборке без учета мультиколлинеарности и удалив коррелирующие признаки. Лучшее значение метрики AUC-ROC = 0.918\n",
    " получили на модели\n",
    " - CatBoostClassifier(random_state=190922, class_weights = [0.75, 0.25], max_depth=6, learning_rate=0.05)\n",
    "\n",
    "\n",
    "\n",
    "Провели финальное тестирование и проверили на важность признаков. AUC-ROC = 0.911 на финальном тестировании. Модель как наиболее важные признаки отбирает срок действия договора и общие суммы платежей.\n",
    "\n"
   ]
  }
 ],
 "metadata": {
  "ExecuteTimeLog": [
   {
    "duration": 434,
    "start_time": "2022-09-23T03:44:29.202Z"
   },
   {
    "duration": 338,
    "start_time": "2022-09-23T03:44:29.638Z"
   },
   {
    "duration": 26,
    "start_time": "2022-09-23T03:44:29.978Z"
   },
   {
    "duration": 16,
    "start_time": "2022-09-23T03:44:30.006Z"
   },
   {
    "duration": 20,
    "start_time": "2022-09-23T03:44:30.024Z"
   },
   {
    "duration": 12,
    "start_time": "2022-09-23T03:44:30.046Z"
   },
   {
    "duration": 46,
    "start_time": "2022-09-23T14:33:31.201Z"
   },
   {
    "duration": 375,
    "start_time": "2022-09-23T14:33:40.222Z"
   },
   {
    "duration": 422,
    "start_time": "2022-09-23T14:33:40.599Z"
   },
   {
    "duration": 29,
    "start_time": "2022-09-23T14:33:41.022Z"
   },
   {
    "duration": 1362,
    "start_time": "2022-09-23T14:33:41.053Z"
   },
   {
    "duration": 0,
    "start_time": "2022-09-23T14:33:42.416Z"
   },
   {
    "duration": 0,
    "start_time": "2022-09-23T14:33:42.418Z"
   },
   {
    "duration": 0,
    "start_time": "2022-09-23T14:33:42.419Z"
   },
   {
    "duration": 4,
    "start_time": "2022-09-23T15:10:12.676Z"
   },
   {
    "duration": 4,
    "start_time": "2022-09-23T15:10:39.947Z"
   },
   {
    "duration": 34,
    "start_time": "2022-09-23T15:11:42.416Z"
   },
   {
    "duration": 14,
    "start_time": "2022-09-23T15:27:00.766Z"
   },
   {
    "duration": 46,
    "start_time": "2022-09-23T16:39:35.330Z"
   },
   {
    "duration": 32,
    "start_time": "2022-09-23T16:40:50.170Z"
   },
   {
    "duration": 38,
    "start_time": "2022-09-23T16:45:32.330Z"
   },
   {
    "duration": 48,
    "start_time": "2022-09-24T04:57:15.073Z"
   },
   {
    "duration": 417,
    "start_time": "2022-09-24T04:57:39.571Z"
   },
   {
    "duration": 329,
    "start_time": "2022-09-24T04:57:39.990Z"
   },
   {
    "duration": 26,
    "start_time": "2022-09-24T04:57:40.321Z"
   },
   {
    "duration": 30,
    "start_time": "2022-09-24T04:57:40.349Z"
   },
   {
    "duration": 35,
    "start_time": "2022-09-24T04:57:40.381Z"
   },
   {
    "duration": 37,
    "start_time": "2022-09-24T04:57:40.418Z"
   },
   {
    "duration": 24,
    "start_time": "2022-09-24T04:57:40.477Z"
   },
   {
    "duration": 44,
    "start_time": "2022-09-24T06:16:01.832Z"
   },
   {
    "duration": 7798,
    "start_time": "2022-09-24T06:19:21.781Z"
   },
   {
    "duration": 31,
    "start_time": "2022-09-24T06:20:55.932Z"
   },
   {
    "duration": 27,
    "start_time": "2022-09-24T06:21:12.621Z"
   },
   {
    "duration": 40,
    "start_time": "2022-09-24T06:21:44.631Z"
   },
   {
    "duration": 26,
    "start_time": "2022-09-24T06:22:13.151Z"
   },
   {
    "duration": 24,
    "start_time": "2022-09-24T06:22:34.296Z"
   },
   {
    "duration": 33,
    "start_time": "2022-09-24T06:22:44.991Z"
   },
   {
    "duration": 30,
    "start_time": "2022-09-24T06:23:01.436Z"
   },
   {
    "duration": 48,
    "start_time": "2022-09-24T06:23:09.591Z"
   },
   {
    "duration": 403,
    "start_time": "2022-09-24T06:23:24.746Z"
   },
   {
    "duration": 132,
    "start_time": "2022-09-24T06:23:25.151Z"
   },
   {
    "duration": 73,
    "start_time": "2022-09-24T06:23:25.285Z"
   },
   {
    "duration": 52,
    "start_time": "2022-09-24T06:23:25.360Z"
   },
   {
    "duration": 42,
    "start_time": "2022-09-24T06:23:25.413Z"
   },
   {
    "duration": 40,
    "start_time": "2022-09-24T06:23:25.457Z"
   },
   {
    "duration": 7464,
    "start_time": "2022-09-24T06:23:25.499Z"
   },
   {
    "duration": 3,
    "start_time": "2022-09-24T06:28:17.106Z"
   },
   {
    "duration": 7342,
    "start_time": "2022-09-24T06:28:22.171Z"
   },
   {
    "duration": 30114,
    "start_time": "2022-09-24T06:28:59.671Z"
   },
   {
    "duration": 30130,
    "start_time": "2022-09-24T06:29:59.001Z"
   },
   {
    "duration": 670,
    "start_time": "2022-09-24T06:34:10.856Z"
   },
   {
    "duration": 127,
    "start_time": "2022-09-24T06:34:11.527Z"
   },
   {
    "duration": 62,
    "start_time": "2022-09-24T06:34:11.655Z"
   },
   {
    "duration": 36,
    "start_time": "2022-09-24T06:34:11.718Z"
   },
   {
    "duration": 50,
    "start_time": "2022-09-24T06:34:11.756Z"
   },
   {
    "duration": 25,
    "start_time": "2022-09-24T06:34:11.807Z"
   },
   {
    "duration": 73575,
    "start_time": "2022-09-24T06:34:11.834Z"
   },
   {
    "duration": 75,
    "start_time": "2022-09-24T06:35:25.411Z"
   },
   {
    "duration": 4,
    "start_time": "2022-09-24T06:46:18.971Z"
   },
   {
    "duration": 845,
    "start_time": "2022-09-24T06:47:05.806Z"
   },
   {
    "duration": 204,
    "start_time": "2022-09-24T06:47:39.755Z"
   },
   {
    "duration": 9,
    "start_time": "2022-09-24T06:48:52.231Z"
   },
   {
    "duration": 7,
    "start_time": "2022-09-24T06:49:16.190Z"
   },
   {
    "duration": 9,
    "start_time": "2022-09-24T06:49:28.911Z"
   },
   {
    "duration": 9,
    "start_time": "2022-09-24T06:52:00.110Z"
   },
   {
    "duration": 9,
    "start_time": "2022-09-24T06:56:12.010Z"
   },
   {
    "duration": 8,
    "start_time": "2022-09-24T06:56:16.900Z"
   },
   {
    "duration": 8,
    "start_time": "2022-09-24T06:56:21.571Z"
   },
   {
    "duration": 4,
    "start_time": "2022-09-24T07:01:02.570Z"
   },
   {
    "duration": 11,
    "start_time": "2022-09-24T07:02:00.905Z"
   },
   {
    "duration": 8,
    "start_time": "2022-09-24T07:02:22.500Z"
   },
   {
    "duration": 28,
    "start_time": "2022-09-24T09:22:57.475Z"
   },
   {
    "duration": 6,
    "start_time": "2022-09-24T09:24:34.532Z"
   },
   {
    "duration": 45,
    "start_time": "2022-09-24T09:28:37.532Z"
   },
   {
    "duration": 10,
    "start_time": "2022-09-24T09:28:46.851Z"
   },
   {
    "duration": 12,
    "start_time": "2022-09-24T09:29:32.711Z"
   },
   {
    "duration": 143,
    "start_time": "2022-09-24T09:58:38.773Z"
   },
   {
    "duration": 6,
    "start_time": "2022-09-24T10:00:17.259Z"
   },
   {
    "duration": 10,
    "start_time": "2022-09-24T10:01:59.712Z"
   },
   {
    "duration": 13,
    "start_time": "2022-09-24T10:04:59.633Z"
   },
   {
    "duration": 3,
    "start_time": "2022-09-24T10:07:23.052Z"
   },
   {
    "duration": 334,
    "start_time": "2022-09-24T10:12:42.192Z"
   },
   {
    "duration": 679,
    "start_time": "2022-09-24T10:12:57.558Z"
   },
   {
    "duration": 38,
    "start_time": "2022-09-24T10:13:09.173Z"
   },
   {
    "duration": 222,
    "start_time": "2022-09-24T10:13:32.333Z"
   },
   {
    "duration": 9,
    "start_time": "2022-09-24T10:14:41.843Z"
   },
   {
    "duration": 9,
    "start_time": "2022-09-24T10:18:36.593Z"
   },
   {
    "duration": 8,
    "start_time": "2022-09-24T10:22:32.454Z"
   },
   {
    "duration": 8,
    "start_time": "2022-09-24T10:25:23.158Z"
   },
   {
    "duration": 5,
    "start_time": "2022-09-24T10:25:55.653Z"
   },
   {
    "duration": 6,
    "start_time": "2022-09-24T10:28:50.153Z"
   },
   {
    "duration": 8,
    "start_time": "2022-09-24T10:29:08.793Z"
   },
   {
    "duration": 17,
    "start_time": "2022-09-24T10:30:53.133Z"
   },
   {
    "duration": 5,
    "start_time": "2022-09-24T10:40:01.483Z"
   },
   {
    "duration": 595,
    "start_time": "2022-09-24T10:40:09.841Z"
   },
   {
    "duration": 131,
    "start_time": "2022-09-24T10:40:10.438Z"
   },
   {
    "duration": 54,
    "start_time": "2022-09-24T10:40:10.571Z"
   },
   {
    "duration": 33,
    "start_time": "2022-09-24T10:40:10.627Z"
   },
   {
    "duration": 52,
    "start_time": "2022-09-24T10:40:10.661Z"
   },
   {
    "duration": 24,
    "start_time": "2022-09-24T10:40:10.715Z"
   },
   {
    "duration": 5,
    "start_time": "2022-09-24T10:40:10.741Z"
   },
   {
    "duration": 11,
    "start_time": "2022-09-24T10:40:10.785Z"
   },
   {
    "duration": 13,
    "start_time": "2022-09-24T10:40:10.798Z"
   },
   {
    "duration": 16,
    "start_time": "2022-09-24T10:40:10.813Z"
   },
   {
    "duration": 18,
    "start_time": "2022-09-24T10:40:10.830Z"
   },
   {
    "duration": 8,
    "start_time": "2022-09-24T10:40:10.849Z"
   },
   {
    "duration": 6,
    "start_time": "2022-09-24T10:40:10.859Z"
   },
   {
    "duration": 154,
    "start_time": "2022-09-24T10:40:10.866Z"
   },
   {
    "duration": 78,
    "start_time": "2022-09-24T10:40:11.022Z"
   },
   {
    "duration": 14,
    "start_time": "2022-09-24T11:13:47.495Z"
   },
   {
    "duration": 133,
    "start_time": "2022-09-24T11:30:47.299Z"
   },
   {
    "duration": 45,
    "start_time": "2022-09-24T11:30:57.224Z"
   },
   {
    "duration": 122,
    "start_time": "2022-09-24T11:31:24.124Z"
   },
   {
    "duration": 9,
    "start_time": "2022-09-24T11:31:38.033Z"
   },
   {
    "duration": 15,
    "start_time": "2022-09-24T11:31:50.158Z"
   },
   {
    "duration": 18,
    "start_time": "2022-09-24T11:32:00.964Z"
   },
   {
    "duration": 9,
    "start_time": "2022-09-24T11:32:17.219Z"
   },
   {
    "duration": 10,
    "start_time": "2022-09-24T11:35:28.054Z"
   },
   {
    "duration": 18,
    "start_time": "2022-09-24T11:36:21.015Z"
   },
   {
    "duration": 26,
    "start_time": "2022-09-24T11:36:42.633Z"
   },
   {
    "duration": 622,
    "start_time": "2022-09-24T11:37:55.664Z"
   },
   {
    "duration": 132,
    "start_time": "2022-09-24T11:37:56.288Z"
   },
   {
    "duration": 47,
    "start_time": "2022-09-24T11:37:56.422Z"
   },
   {
    "duration": 29,
    "start_time": "2022-09-24T11:37:56.472Z"
   },
   {
    "duration": 36,
    "start_time": "2022-09-24T11:37:56.503Z"
   },
   {
    "duration": 38,
    "start_time": "2022-09-24T11:37:56.541Z"
   },
   {
    "duration": 7,
    "start_time": "2022-09-24T11:37:56.580Z"
   },
   {
    "duration": 15,
    "start_time": "2022-09-24T11:37:56.589Z"
   },
   {
    "duration": 11,
    "start_time": "2022-09-24T11:37:56.606Z"
   },
   {
    "duration": 11,
    "start_time": "2022-09-24T11:37:56.618Z"
   },
   {
    "duration": 10,
    "start_time": "2022-09-24T11:37:56.630Z"
   },
   {
    "duration": 63,
    "start_time": "2022-09-24T11:37:56.641Z"
   },
   {
    "duration": 3,
    "start_time": "2022-09-24T11:37:56.705Z"
   },
   {
    "duration": 156,
    "start_time": "2022-09-24T11:37:56.710Z"
   },
   {
    "duration": 73,
    "start_time": "2022-09-24T11:37:56.876Z"
   },
   {
    "duration": 32,
    "start_time": "2022-09-24T11:38:30.329Z"
   },
   {
    "duration": 20,
    "start_time": "2022-09-24T11:38:58.149Z"
   },
   {
    "duration": 63,
    "start_time": "2022-09-24T11:39:40.989Z"
   },
   {
    "duration": 9,
    "start_time": "2022-09-24T11:42:07.750Z"
   },
   {
    "duration": 13,
    "start_time": "2022-09-24T11:56:21.329Z"
   },
   {
    "duration": 18,
    "start_time": "2022-09-24T11:56:43.531Z"
   },
   {
    "duration": 14,
    "start_time": "2022-09-24T11:57:57.454Z"
   },
   {
    "duration": 30,
    "start_time": "2022-09-24T11:58:37.649Z"
   },
   {
    "duration": 64,
    "start_time": "2022-09-24T11:59:31.883Z"
   },
   {
    "duration": 65,
    "start_time": "2022-09-24T12:00:42.989Z"
   },
   {
    "duration": 593,
    "start_time": "2022-09-24T12:00:56.823Z"
   },
   {
    "duration": 130,
    "start_time": "2022-09-24T12:00:57.418Z"
   },
   {
    "duration": 50,
    "start_time": "2022-09-24T12:00:57.550Z"
   },
   {
    "duration": 39,
    "start_time": "2022-09-24T12:00:57.601Z"
   },
   {
    "duration": 61,
    "start_time": "2022-09-24T12:00:57.644Z"
   },
   {
    "duration": 22,
    "start_time": "2022-09-24T12:00:57.706Z"
   },
   {
    "duration": 88,
    "start_time": "2022-09-24T12:00:57.730Z"
   },
   {
    "duration": 6,
    "start_time": "2022-09-24T12:00:57.820Z"
   },
   {
    "duration": 14,
    "start_time": "2022-09-24T12:00:57.827Z"
   },
   {
    "duration": 11,
    "start_time": "2022-09-24T12:00:57.843Z"
   },
   {
    "duration": 24,
    "start_time": "2022-09-24T12:00:57.856Z"
   },
   {
    "duration": 7,
    "start_time": "2022-09-24T12:00:57.881Z"
   },
   {
    "duration": 33,
    "start_time": "2022-09-24T12:00:57.890Z"
   },
   {
    "duration": 9,
    "start_time": "2022-09-24T12:00:57.926Z"
   },
   {
    "duration": 41,
    "start_time": "2022-09-24T12:00:57.936Z"
   },
   {
    "duration": 153,
    "start_time": "2022-09-24T12:00:57.978Z"
   },
   {
    "duration": 80,
    "start_time": "2022-09-24T12:00:58.133Z"
   },
   {
    "duration": 12,
    "start_time": "2022-09-24T12:01:46.858Z"
   },
   {
    "duration": 32,
    "start_time": "2022-09-24T12:09:58.989Z"
   },
   {
    "duration": 652,
    "start_time": "2022-09-24T12:10:12.747Z"
   },
   {
    "duration": 140,
    "start_time": "2022-09-24T12:10:13.401Z"
   },
   {
    "duration": 51,
    "start_time": "2022-09-24T12:10:13.542Z"
   },
   {
    "duration": 31,
    "start_time": "2022-09-24T12:10:13.595Z"
   },
   {
    "duration": 57,
    "start_time": "2022-09-24T12:10:13.628Z"
   },
   {
    "duration": 20,
    "start_time": "2022-09-24T12:10:13.686Z"
   },
   {
    "duration": 99,
    "start_time": "2022-09-24T12:10:13.707Z"
   },
   {
    "duration": 29,
    "start_time": "2022-09-24T12:10:13.807Z"
   },
   {
    "duration": 10,
    "start_time": "2022-09-24T12:10:13.838Z"
   },
   {
    "duration": 27,
    "start_time": "2022-09-24T12:10:13.850Z"
   },
   {
    "duration": 9,
    "start_time": "2022-09-24T12:10:13.879Z"
   },
   {
    "duration": 11,
    "start_time": "2022-09-24T12:10:13.890Z"
   },
   {
    "duration": 12,
    "start_time": "2022-09-24T12:10:13.903Z"
   },
   {
    "duration": 7,
    "start_time": "2022-09-24T12:10:13.916Z"
   },
   {
    "duration": 14,
    "start_time": "2022-09-24T12:10:13.925Z"
   },
   {
    "duration": 4,
    "start_time": "2022-09-24T12:10:13.941Z"
   },
   {
    "duration": 167,
    "start_time": "2022-09-24T12:10:13.947Z"
   },
   {
    "duration": 78,
    "start_time": "2022-09-24T12:10:14.116Z"
   },
   {
    "duration": 69,
    "start_time": "2022-09-24T12:10:59.413Z"
   },
   {
    "duration": 76,
    "start_time": "2022-09-24T12:11:19.412Z"
   },
   {
    "duration": 76,
    "start_time": "2022-09-24T12:11:23.977Z"
   },
   {
    "duration": 33,
    "start_time": "2022-09-24T12:11:46.372Z"
   },
   {
    "duration": 96,
    "start_time": "2022-09-24T12:12:22.342Z"
   },
   {
    "duration": 631,
    "start_time": "2022-09-24T12:12:42.737Z"
   },
   {
    "duration": 137,
    "start_time": "2022-09-24T12:12:43.370Z"
   },
   {
    "duration": 51,
    "start_time": "2022-09-24T12:12:43.509Z"
   },
   {
    "duration": 32,
    "start_time": "2022-09-24T12:12:43.562Z"
   },
   {
    "duration": 39,
    "start_time": "2022-09-24T12:12:43.597Z"
   },
   {
    "duration": 48,
    "start_time": "2022-09-24T12:12:43.638Z"
   },
   {
    "duration": 107,
    "start_time": "2022-09-24T12:12:43.688Z"
   },
   {
    "duration": 100,
    "start_time": "2022-09-24T12:12:43.797Z"
   },
   {
    "duration": 12,
    "start_time": "2022-09-24T12:12:43.899Z"
   },
   {
    "duration": 6,
    "start_time": "2022-09-24T12:12:43.912Z"
   },
   {
    "duration": 10,
    "start_time": "2022-09-24T12:12:43.919Z"
   },
   {
    "duration": 11,
    "start_time": "2022-09-24T12:12:43.931Z"
   },
   {
    "duration": 8,
    "start_time": "2022-09-24T12:12:43.977Z"
   },
   {
    "duration": 10,
    "start_time": "2022-09-24T12:12:43.987Z"
   },
   {
    "duration": 30,
    "start_time": "2022-09-24T12:12:43.998Z"
   },
   {
    "duration": 4,
    "start_time": "2022-09-24T12:12:44.030Z"
   },
   {
    "duration": 178,
    "start_time": "2022-09-24T12:12:44.036Z"
   },
   {
    "duration": 80,
    "start_time": "2022-09-24T12:12:44.216Z"
   },
   {
    "duration": 19,
    "start_time": "2022-09-24T12:18:16.132Z"
   },
   {
    "duration": 86,
    "start_time": "2022-09-24T12:19:10.412Z"
   },
   {
    "duration": 555,
    "start_time": "2022-09-24T12:19:26.837Z"
   },
   {
    "duration": 131,
    "start_time": "2022-09-24T12:19:27.393Z"
   },
   {
    "duration": 46,
    "start_time": "2022-09-24T12:19:27.525Z"
   },
   {
    "duration": 27,
    "start_time": "2022-09-24T12:19:27.573Z"
   },
   {
    "duration": 38,
    "start_time": "2022-09-24T12:19:27.602Z"
   },
   {
    "duration": 37,
    "start_time": "2022-09-24T12:19:27.641Z"
   },
   {
    "duration": 78,
    "start_time": "2022-09-24T12:19:27.679Z"
   },
   {
    "duration": 27,
    "start_time": "2022-09-24T12:19:27.758Z"
   },
   {
    "duration": 92,
    "start_time": "2022-09-24T12:19:27.786Z"
   },
   {
    "duration": 96,
    "start_time": "2022-09-24T12:19:27.880Z"
   },
   {
    "duration": 10,
    "start_time": "2022-09-24T12:19:27.978Z"
   },
   {
    "duration": 7,
    "start_time": "2022-09-24T12:19:27.989Z"
   },
   {
    "duration": 17,
    "start_time": "2022-09-24T12:19:27.997Z"
   },
   {
    "duration": 12,
    "start_time": "2022-09-24T12:19:28.016Z"
   },
   {
    "duration": 7,
    "start_time": "2022-09-24T12:19:28.029Z"
   },
   {
    "duration": 7,
    "start_time": "2022-09-24T12:19:28.038Z"
   },
   {
    "duration": 33,
    "start_time": "2022-09-24T12:19:28.047Z"
   },
   {
    "duration": 3,
    "start_time": "2022-09-24T12:19:28.082Z"
   },
   {
    "duration": 143,
    "start_time": "2022-09-24T12:19:28.086Z"
   },
   {
    "duration": 76,
    "start_time": "2022-09-24T12:19:28.231Z"
   },
   {
    "duration": 79,
    "start_time": "2022-09-24T12:20:51.802Z"
   },
   {
    "duration": 642,
    "start_time": "2022-09-24T12:20:57.846Z"
   },
   {
    "duration": 134,
    "start_time": "2022-09-24T12:20:58.489Z"
   },
   {
    "duration": 56,
    "start_time": "2022-09-24T12:20:58.625Z"
   },
   {
    "duration": 34,
    "start_time": "2022-09-24T12:20:58.684Z"
   },
   {
    "duration": 56,
    "start_time": "2022-09-24T12:20:58.720Z"
   },
   {
    "duration": 22,
    "start_time": "2022-09-24T12:20:58.779Z"
   },
   {
    "duration": 109,
    "start_time": "2022-09-24T12:20:58.803Z"
   },
   {
    "duration": 77,
    "start_time": "2022-09-24T12:20:58.914Z"
   },
   {
    "duration": 0,
    "start_time": "2022-09-24T12:20:58.993Z"
   },
   {
    "duration": 0,
    "start_time": "2022-09-24T12:20:58.995Z"
   },
   {
    "duration": 0,
    "start_time": "2022-09-24T12:20:58.996Z"
   },
   {
    "duration": 0,
    "start_time": "2022-09-24T12:20:58.998Z"
   },
   {
    "duration": 0,
    "start_time": "2022-09-24T12:20:58.999Z"
   },
   {
    "duration": 0,
    "start_time": "2022-09-24T12:20:59.000Z"
   },
   {
    "duration": 0,
    "start_time": "2022-09-24T12:20:59.001Z"
   },
   {
    "duration": 0,
    "start_time": "2022-09-24T12:20:59.002Z"
   },
   {
    "duration": 0,
    "start_time": "2022-09-24T12:20:59.003Z"
   },
   {
    "duration": 0,
    "start_time": "2022-09-24T12:20:59.004Z"
   },
   {
    "duration": 10,
    "start_time": "2022-09-24T12:21:23.991Z"
   },
   {
    "duration": 14,
    "start_time": "2022-09-24T12:26:41.891Z"
   },
   {
    "duration": 34,
    "start_time": "2022-09-24T12:29:10.472Z"
   },
   {
    "duration": 6,
    "start_time": "2022-09-24T12:29:55.872Z"
   },
   {
    "duration": 6,
    "start_time": "2022-09-24T12:30:57.346Z"
   },
   {
    "duration": 7,
    "start_time": "2022-09-24T12:32:05.372Z"
   },
   {
    "duration": 6,
    "start_time": "2022-09-24T12:32:20.456Z"
   },
   {
    "duration": 10,
    "start_time": "2022-09-24T12:32:39.553Z"
   },
   {
    "duration": 9,
    "start_time": "2022-09-24T12:32:52.431Z"
   },
   {
    "duration": 10,
    "start_time": "2022-09-24T12:34:32.057Z"
   },
   {
    "duration": 86,
    "start_time": "2022-09-24T12:34:46.131Z"
   },
   {
    "duration": 9,
    "start_time": "2022-09-24T12:38:19.091Z"
   },
   {
    "duration": 7,
    "start_time": "2022-09-24T12:38:48.492Z"
   },
   {
    "duration": 9,
    "start_time": "2022-09-24T12:39:06.632Z"
   },
   {
    "duration": 10,
    "start_time": "2022-09-24T12:39:12.991Z"
   },
   {
    "duration": 102,
    "start_time": "2022-09-24T12:41:14.001Z"
   },
   {
    "duration": 614,
    "start_time": "2022-09-24T12:48:35.873Z"
   },
   {
    "duration": 153,
    "start_time": "2022-09-24T12:48:36.490Z"
   },
   {
    "duration": 49,
    "start_time": "2022-09-24T12:48:36.645Z"
   },
   {
    "duration": 28,
    "start_time": "2022-09-24T12:48:36.696Z"
   },
   {
    "duration": 62,
    "start_time": "2022-09-24T12:48:36.726Z"
   },
   {
    "duration": 22,
    "start_time": "2022-09-24T12:48:36.790Z"
   },
   {
    "duration": 101,
    "start_time": "2022-09-24T12:48:36.813Z"
   },
   {
    "duration": 6,
    "start_time": "2022-09-24T12:48:36.916Z"
   },
   {
    "duration": 10,
    "start_time": "2022-09-24T12:48:36.924Z"
   },
   {
    "duration": 7,
    "start_time": "2022-09-24T12:48:36.937Z"
   },
   {
    "duration": 33,
    "start_time": "2022-09-24T12:48:36.946Z"
   },
   {
    "duration": 23,
    "start_time": "2022-09-24T12:48:36.980Z"
   },
   {
    "duration": 952,
    "start_time": "2022-09-24T12:48:37.004Z"
   },
   {
    "duration": 0,
    "start_time": "2022-09-24T12:48:37.957Z"
   },
   {
    "duration": 0,
    "start_time": "2022-09-24T12:48:37.958Z"
   },
   {
    "duration": 3,
    "start_time": "2022-09-24T12:49:02.789Z"
   },
   {
    "duration": 136,
    "start_time": "2022-09-24T12:49:10.728Z"
   },
   {
    "duration": 130,
    "start_time": "2022-09-24T12:50:49.969Z"
   },
   {
    "duration": 135,
    "start_time": "2022-09-24T12:50:57.008Z"
   },
   {
    "duration": 43,
    "start_time": "2022-09-24T12:51:35.462Z"
   },
   {
    "duration": 142,
    "start_time": "2022-09-24T12:51:39.961Z"
   },
   {
    "duration": 192,
    "start_time": "2022-09-24T12:51:49.933Z"
   },
   {
    "duration": 150,
    "start_time": "2022-09-24T12:52:30.089Z"
   },
   {
    "duration": 135,
    "start_time": "2022-09-24T12:52:33.629Z"
   },
   {
    "duration": 229,
    "start_time": "2022-09-24T12:52:42.189Z"
   },
   {
    "duration": 131,
    "start_time": "2022-09-24T12:53:23.429Z"
   },
   {
    "duration": 138,
    "start_time": "2022-09-24T12:53:46.434Z"
   },
   {
    "duration": 125,
    "start_time": "2022-09-24T12:54:03.689Z"
   },
   {
    "duration": 139,
    "start_time": "2022-09-24T12:54:40.129Z"
   },
   {
    "duration": 133,
    "start_time": "2022-09-24T12:57:12.828Z"
   },
   {
    "duration": 156,
    "start_time": "2022-09-24T12:57:30.250Z"
   },
   {
    "duration": 208,
    "start_time": "2022-09-24T12:57:50.189Z"
   },
   {
    "duration": 154,
    "start_time": "2022-09-24T12:57:56.857Z"
   },
   {
    "duration": 152,
    "start_time": "2022-09-24T13:00:38.389Z"
   },
   {
    "duration": 133,
    "start_time": "2022-09-24T13:01:24.489Z"
   },
   {
    "duration": 5,
    "start_time": "2022-09-24T13:06:28.688Z"
   },
   {
    "duration": 7027,
    "start_time": "2022-09-24T13:07:06.728Z"
   },
   {
    "duration": 4,
    "start_time": "2022-09-24T13:07:19.268Z"
   },
   {
    "duration": 5,
    "start_time": "2022-09-24T13:07:57.468Z"
   },
   {
    "duration": 4,
    "start_time": "2022-09-24T13:08:24.768Z"
   },
   {
    "duration": 4,
    "start_time": "2022-09-24T13:08:48.369Z"
   },
   {
    "duration": 4,
    "start_time": "2022-09-24T13:09:13.329Z"
   },
   {
    "duration": 4,
    "start_time": "2022-09-24T13:09:36.769Z"
   },
   {
    "duration": 5,
    "start_time": "2022-09-24T13:09:51.588Z"
   },
   {
    "duration": 9,
    "start_time": "2022-09-24T13:13:50.558Z"
   },
   {
    "duration": 9,
    "start_time": "2022-09-24T13:16:42.599Z"
   },
   {
    "duration": 9,
    "start_time": "2022-09-24T13:17:24.451Z"
   },
   {
    "duration": 8,
    "start_time": "2022-09-24T13:19:11.055Z"
   },
   {
    "duration": 14,
    "start_time": "2022-09-24T13:19:18.029Z"
   },
   {
    "duration": 18,
    "start_time": "2022-09-24T13:19:30.485Z"
   },
   {
    "duration": 71,
    "start_time": "2022-09-24T13:20:01.158Z"
   },
   {
    "duration": 594,
    "start_time": "2022-09-24T13:21:36.839Z"
   },
   {
    "duration": 147,
    "start_time": "2022-09-24T13:21:37.436Z"
   },
   {
    "duration": 54,
    "start_time": "2022-09-24T13:21:37.585Z"
   },
   {
    "duration": 49,
    "start_time": "2022-09-24T13:21:37.643Z"
   },
   {
    "duration": 42,
    "start_time": "2022-09-24T13:21:37.694Z"
   },
   {
    "duration": 52,
    "start_time": "2022-09-24T13:21:37.737Z"
   },
   {
    "duration": 111,
    "start_time": "2022-09-24T13:21:37.791Z"
   },
   {
    "duration": 6,
    "start_time": "2022-09-24T13:21:37.903Z"
   },
   {
    "duration": 14,
    "start_time": "2022-09-24T13:21:37.911Z"
   },
   {
    "duration": 19,
    "start_time": "2022-09-24T13:21:37.927Z"
   },
   {
    "duration": 31,
    "start_time": "2022-09-24T13:21:37.948Z"
   },
   {
    "duration": 79,
    "start_time": "2022-09-24T13:21:37.981Z"
   },
   {
    "duration": 5,
    "start_time": "2022-09-24T13:21:38.079Z"
   },
   {
    "duration": 12,
    "start_time": "2022-09-24T13:21:38.087Z"
   },
   {
    "duration": 6,
    "start_time": "2022-09-24T13:21:38.102Z"
   },
   {
    "duration": 9,
    "start_time": "2022-09-24T13:21:38.110Z"
   },
   {
    "duration": 7,
    "start_time": "2022-09-24T13:21:38.121Z"
   },
   {
    "duration": 9,
    "start_time": "2022-09-24T13:21:38.130Z"
   },
   {
    "duration": 37,
    "start_time": "2022-09-24T13:21:38.141Z"
   },
   {
    "duration": 5,
    "start_time": "2022-09-24T13:21:38.180Z"
   },
   {
    "duration": 15,
    "start_time": "2022-09-24T13:21:38.187Z"
   },
   {
    "duration": 187,
    "start_time": "2022-09-24T13:21:38.204Z"
   },
   {
    "duration": 206,
    "start_time": "2022-09-24T13:21:38.393Z"
   },
   {
    "duration": 3,
    "start_time": "2022-09-24T13:21:38.601Z"
   },
   {
    "duration": 84,
    "start_time": "2022-09-24T13:21:38.606Z"
   },
   {
    "duration": 73,
    "start_time": "2022-09-24T13:23:01.128Z"
   },
   {
    "duration": 606,
    "start_time": "2022-09-24T13:23:23.708Z"
   },
   {
    "duration": 132,
    "start_time": "2022-09-24T13:23:24.316Z"
   },
   {
    "duration": 55,
    "start_time": "2022-09-24T13:23:24.450Z"
   },
   {
    "duration": 31,
    "start_time": "2022-09-24T13:23:24.506Z"
   },
   {
    "duration": 71,
    "start_time": "2022-09-24T13:23:24.539Z"
   },
   {
    "duration": 26,
    "start_time": "2022-09-24T13:23:24.612Z"
   },
   {
    "duration": 110,
    "start_time": "2022-09-24T13:23:24.640Z"
   },
   {
    "duration": 5,
    "start_time": "2022-09-24T13:23:24.752Z"
   },
   {
    "duration": 40,
    "start_time": "2022-09-24T13:23:24.759Z"
   },
   {
    "duration": 26,
    "start_time": "2022-09-24T13:23:24.801Z"
   },
   {
    "duration": 10,
    "start_time": "2022-09-24T13:23:24.828Z"
   },
   {
    "duration": 84,
    "start_time": "2022-09-24T13:23:24.839Z"
   },
   {
    "duration": 5,
    "start_time": "2022-09-24T13:23:24.924Z"
   },
   {
    "duration": 9,
    "start_time": "2022-09-24T13:23:24.931Z"
   },
   {
    "duration": 5,
    "start_time": "2022-09-24T13:23:24.942Z"
   },
   {
    "duration": 7,
    "start_time": "2022-09-24T13:23:24.949Z"
   },
   {
    "duration": 5,
    "start_time": "2022-09-24T13:23:24.977Z"
   },
   {
    "duration": 9,
    "start_time": "2022-09-24T13:23:24.984Z"
   },
   {
    "duration": 5,
    "start_time": "2022-09-24T13:23:24.995Z"
   },
   {
    "duration": 10,
    "start_time": "2022-09-24T13:23:25.002Z"
   },
   {
    "duration": 11,
    "start_time": "2022-09-24T13:23:25.013Z"
   },
   {
    "duration": 185,
    "start_time": "2022-09-24T13:23:25.025Z"
   },
   {
    "duration": 209,
    "start_time": "2022-09-24T13:23:25.212Z"
   },
   {
    "duration": 3,
    "start_time": "2022-09-24T13:23:25.422Z"
   },
   {
    "duration": 78,
    "start_time": "2022-09-24T13:23:25.426Z"
   },
   {
    "duration": 19,
    "start_time": "2022-09-24T13:24:35.692Z"
   },
   {
    "duration": 212,
    "start_time": "2022-09-24T13:31:54.446Z"
   },
   {
    "duration": 577,
    "start_time": "2022-09-24T13:33:09.308Z"
   },
   {
    "duration": 138,
    "start_time": "2022-09-24T13:33:09.887Z"
   },
   {
    "duration": 48,
    "start_time": "2022-09-24T13:33:10.026Z"
   },
   {
    "duration": 29,
    "start_time": "2022-09-24T13:33:10.076Z"
   },
   {
    "duration": 43,
    "start_time": "2022-09-24T13:33:10.107Z"
   },
   {
    "duration": 38,
    "start_time": "2022-09-24T13:33:10.152Z"
   },
   {
    "duration": 100,
    "start_time": "2022-09-24T13:33:10.191Z"
   },
   {
    "duration": 5,
    "start_time": "2022-09-24T13:33:10.292Z"
   },
   {
    "duration": 25,
    "start_time": "2022-09-24T13:33:10.298Z"
   },
   {
    "duration": 28,
    "start_time": "2022-09-24T13:33:10.325Z"
   },
   {
    "duration": 14,
    "start_time": "2022-09-24T13:33:10.355Z"
   },
   {
    "duration": 79,
    "start_time": "2022-09-24T13:33:10.370Z"
   },
   {
    "duration": 9,
    "start_time": "2022-09-24T13:33:10.450Z"
   },
   {
    "duration": 30,
    "start_time": "2022-09-24T13:33:10.460Z"
   },
   {
    "duration": 165,
    "start_time": "2022-09-24T13:33:10.492Z"
   },
   {
    "duration": 161,
    "start_time": "2022-09-24T13:33:10.659Z"
   },
   {
    "duration": 222,
    "start_time": "2022-09-24T13:33:10.822Z"
   },
   {
    "duration": 21,
    "start_time": "2022-09-24T13:49:07.748Z"
   },
   {
    "duration": 621,
    "start_time": "2022-09-24T13:50:54.043Z"
   },
   {
    "duration": 148,
    "start_time": "2022-09-24T13:50:54.665Z"
   },
   {
    "duration": 46,
    "start_time": "2022-09-24T13:50:54.815Z"
   },
   {
    "duration": 29,
    "start_time": "2022-09-24T13:50:54.862Z"
   },
   {
    "duration": 34,
    "start_time": "2022-09-24T13:50:54.893Z"
   },
   {
    "duration": 17,
    "start_time": "2022-09-24T13:50:54.929Z"
   },
   {
    "duration": 111,
    "start_time": "2022-09-24T13:50:54.948Z"
   },
   {
    "duration": 17,
    "start_time": "2022-09-24T13:50:55.061Z"
   },
   {
    "duration": 9,
    "start_time": "2022-09-24T13:50:55.080Z"
   },
   {
    "duration": 8,
    "start_time": "2022-09-24T13:50:55.090Z"
   },
   {
    "duration": 9,
    "start_time": "2022-09-24T13:50:55.099Z"
   },
   {
    "duration": 108,
    "start_time": "2022-09-24T13:50:55.109Z"
   },
   {
    "duration": 12,
    "start_time": "2022-09-24T13:50:55.219Z"
   },
   {
    "duration": 44,
    "start_time": "2022-09-24T13:50:55.234Z"
   },
   {
    "duration": 200,
    "start_time": "2022-09-24T13:50:55.280Z"
   },
   {
    "duration": 186,
    "start_time": "2022-09-24T13:50:55.482Z"
   },
   {
    "duration": 219,
    "start_time": "2022-09-24T13:50:55.670Z"
   },
   {
    "duration": 627,
    "start_time": "2022-09-24T13:53:05.153Z"
   },
   {
    "duration": 139,
    "start_time": "2022-09-24T13:53:05.782Z"
   },
   {
    "duration": 47,
    "start_time": "2022-09-24T13:53:05.923Z"
   },
   {
    "duration": 33,
    "start_time": "2022-09-24T13:53:05.972Z"
   },
   {
    "duration": 38,
    "start_time": "2022-09-24T13:53:06.006Z"
   },
   {
    "duration": 40,
    "start_time": "2022-09-24T13:53:06.046Z"
   },
   {
    "duration": 105,
    "start_time": "2022-09-24T13:53:06.088Z"
   },
   {
    "duration": 5,
    "start_time": "2022-09-24T13:53:06.195Z"
   },
   {
    "duration": 10,
    "start_time": "2022-09-24T13:53:06.202Z"
   },
   {
    "duration": 8,
    "start_time": "2022-09-24T13:53:06.214Z"
   },
   {
    "duration": 10,
    "start_time": "2022-09-24T13:53:06.223Z"
   },
   {
    "duration": 100,
    "start_time": "2022-09-24T13:53:06.235Z"
   },
   {
    "duration": 10,
    "start_time": "2022-09-24T13:53:06.337Z"
   },
   {
    "duration": 38,
    "start_time": "2022-09-24T13:53:06.349Z"
   },
   {
    "duration": 158,
    "start_time": "2022-09-24T13:53:06.389Z"
   },
   {
    "duration": 172,
    "start_time": "2022-09-24T13:53:06.549Z"
   },
   {
    "duration": 218,
    "start_time": "2022-09-24T13:53:06.723Z"
   },
   {
    "duration": 301,
    "start_time": "2022-09-24T13:53:26.782Z"
   },
   {
    "duration": 85,
    "start_time": "2022-09-24T13:56:36.103Z"
   },
   {
    "duration": 45,
    "start_time": "2022-09-24T13:57:16.993Z"
   },
   {
    "duration": 8,
    "start_time": "2022-09-24T13:58:52.893Z"
   },
   {
    "duration": 3,
    "start_time": "2022-09-24T14:02:58.513Z"
   },
   {
    "duration": 71,
    "start_time": "2022-09-24T14:03:56.453Z"
   },
   {
    "duration": 72,
    "start_time": "2022-09-24T14:04:08.372Z"
   },
   {
    "duration": 12,
    "start_time": "2022-09-24T14:05:17.572Z"
   },
   {
    "duration": 13,
    "start_time": "2022-09-24T14:05:33.633Z"
   },
   {
    "duration": 12,
    "start_time": "2022-09-24T14:16:00.271Z"
   },
   {
    "duration": 607,
    "start_time": "2022-09-24T14:16:15.885Z"
   },
   {
    "duration": 134,
    "start_time": "2022-09-24T14:16:16.494Z"
   },
   {
    "duration": 55,
    "start_time": "2022-09-24T14:16:16.630Z"
   },
   {
    "duration": 29,
    "start_time": "2022-09-24T14:16:16.688Z"
   },
   {
    "duration": 35,
    "start_time": "2022-09-24T14:16:16.719Z"
   },
   {
    "duration": 37,
    "start_time": "2022-09-24T14:16:16.756Z"
   },
   {
    "duration": 106,
    "start_time": "2022-09-24T14:16:16.795Z"
   },
   {
    "duration": 6,
    "start_time": "2022-09-24T14:16:16.902Z"
   },
   {
    "duration": 14,
    "start_time": "2022-09-24T14:16:16.909Z"
   },
   {
    "duration": 8,
    "start_time": "2022-09-24T14:16:16.925Z"
   },
   {
    "duration": 11,
    "start_time": "2022-09-24T14:16:16.935Z"
   },
   {
    "duration": 46,
    "start_time": "2022-09-24T14:16:16.947Z"
   },
   {
    "duration": 105,
    "start_time": "2022-09-24T14:16:16.995Z"
   },
   {
    "duration": 9,
    "start_time": "2022-09-24T14:16:17.101Z"
   },
   {
    "duration": 21,
    "start_time": "2022-09-24T14:16:17.112Z"
   },
   {
    "duration": 171,
    "start_time": "2022-09-24T14:16:17.135Z"
   },
   {
    "duration": 159,
    "start_time": "2022-09-24T14:16:17.308Z"
   },
   {
    "duration": 222,
    "start_time": "2022-09-24T14:16:17.468Z"
   },
   {
    "duration": 18,
    "start_time": "2022-09-24T14:18:04.634Z"
   },
   {
    "duration": 31,
    "start_time": "2022-09-24T14:19:36.099Z"
   },
   {
    "duration": 31,
    "start_time": "2022-09-24T14:23:49.924Z"
   },
   {
    "duration": 34,
    "start_time": "2022-09-24T14:23:58.903Z"
   },
   {
    "duration": 616,
    "start_time": "2022-09-24T14:24:21.590Z"
   },
   {
    "duration": 157,
    "start_time": "2022-09-24T14:24:22.208Z"
   },
   {
    "duration": 48,
    "start_time": "2022-09-24T14:24:22.367Z"
   },
   {
    "duration": 29,
    "start_time": "2022-09-24T14:24:22.416Z"
   },
   {
    "duration": 42,
    "start_time": "2022-09-24T14:24:22.447Z"
   },
   {
    "duration": 19,
    "start_time": "2022-09-24T14:24:22.490Z"
   },
   {
    "duration": 100,
    "start_time": "2022-09-24T14:24:22.510Z"
   },
   {
    "duration": 5,
    "start_time": "2022-09-24T14:24:22.612Z"
   },
   {
    "duration": 10,
    "start_time": "2022-09-24T14:24:22.618Z"
   },
   {
    "duration": 8,
    "start_time": "2022-09-24T14:24:22.629Z"
   },
   {
    "duration": 40,
    "start_time": "2022-09-24T14:24:22.638Z"
   },
   {
    "duration": 33,
    "start_time": "2022-09-24T14:24:22.679Z"
   },
   {
    "duration": 115,
    "start_time": "2022-09-24T14:24:22.714Z"
   },
   {
    "duration": 8,
    "start_time": "2022-09-24T14:24:22.832Z"
   },
   {
    "duration": 21,
    "start_time": "2022-09-24T14:24:22.877Z"
   },
   {
    "duration": 159,
    "start_time": "2022-09-24T14:24:22.900Z"
   },
   {
    "duration": 159,
    "start_time": "2022-09-24T14:24:23.060Z"
   },
   {
    "duration": 219,
    "start_time": "2022-09-24T14:24:23.221Z"
   },
   {
    "duration": 14,
    "start_time": "2022-09-24T14:25:17.421Z"
   },
   {
    "duration": 827,
    "start_time": "2022-09-24T14:35:03.125Z"
   },
   {
    "duration": 102,
    "start_time": "2022-09-24T14:39:07.349Z"
   },
   {
    "duration": 2232,
    "start_time": "2022-09-24T14:41:30.894Z"
   },
   {
    "duration": 1063,
    "start_time": "2022-09-24T14:41:47.259Z"
   },
   {
    "duration": 2597,
    "start_time": "2022-09-24T14:42:07.389Z"
   },
   {
    "duration": 4,
    "start_time": "2022-09-24T14:43:05.850Z"
   },
   {
    "duration": 12,
    "start_time": "2022-09-24T14:44:22.854Z"
   },
   {
    "duration": 13,
    "start_time": "2022-09-24T14:48:36.874Z"
   },
   {
    "duration": 12,
    "start_time": "2022-09-24T14:48:54.699Z"
   },
   {
    "duration": 9,
    "start_time": "2022-09-24T14:55:54.864Z"
   },
   {
    "duration": 483,
    "start_time": "2022-09-24T14:55:59.575Z"
   },
   {
    "duration": 14083,
    "start_time": "2022-09-24T15:01:31.060Z"
   },
   {
    "duration": 14092,
    "start_time": "2022-09-24T15:05:27.424Z"
   },
   {
    "duration": 13762,
    "start_time": "2022-09-24T15:06:55.568Z"
   },
   {
    "duration": 44,
    "start_time": "2022-09-24T15:07:28.399Z"
   },
   {
    "duration": 10,
    "start_time": "2022-09-24T15:07:59.284Z"
   },
   {
    "duration": 797,
    "start_time": "2022-09-24T15:32:55.093Z"
   },
   {
    "duration": 13705,
    "start_time": "2022-09-24T15:33:39.448Z"
   },
   {
    "duration": 16,
    "start_time": "2022-09-24T15:34:50.493Z"
   },
   {
    "duration": 14,
    "start_time": "2022-09-24T15:35:16.188Z"
   },
   {
    "duration": 15,
    "start_time": "2022-09-24T15:35:56.848Z"
   },
   {
    "duration": 42,
    "start_time": "2022-09-24T15:38:56.494Z"
   },
   {
    "duration": 972086,
    "start_time": "2022-09-24T15:39:08.678Z"
   },
   {
    "duration": 547,
    "start_time": "2022-09-24T15:57:17.749Z"
   },
   {
    "duration": 14372,
    "start_time": "2022-09-24T15:59:06.472Z"
   },
   {
    "duration": 142201,
    "start_time": "2022-09-24T16:02:47.286Z"
   },
   {
    "duration": 207,
    "start_time": "2022-09-24T16:05:09.578Z"
   },
   {
    "duration": 105,
    "start_time": "2022-09-24T16:05:35.078Z"
   },
   {
    "duration": 68,
    "start_time": "2022-09-24T16:08:49.861Z"
   },
   {
    "duration": 27538,
    "start_time": "2022-09-24T16:09:10.846Z"
   },
   {
    "duration": 28,
    "start_time": "2022-09-24T16:10:19.256Z"
   },
   {
    "duration": 595,
    "start_time": "2022-09-24T16:10:45.946Z"
   },
   {
    "duration": 19377,
    "start_time": "2022-09-24T16:11:20.141Z"
   },
   {
    "duration": 9,
    "start_time": "2022-09-24T16:12:08.095Z"
   },
   {
    "duration": 17812,
    "start_time": "2022-09-24T16:12:10.015Z"
   },
   {
    "duration": 1014359,
    "start_time": "2022-09-24T16:13:56.075Z"
   },
   {
    "duration": 475151,
    "start_time": "2022-09-24T18:03:34.345Z"
   },
   {
    "duration": 0,
    "start_time": "2022-09-24T18:11:29.502Z"
   },
   {
    "duration": 0,
    "start_time": "2022-09-24T18:11:29.503Z"
   },
   {
    "duration": 8535,
    "start_time": "2022-09-24T18:50:51.341Z"
   },
   {
    "duration": 107,
    "start_time": "2022-09-24T19:01:18.752Z"
   },
   {
    "duration": 75,
    "start_time": "2022-09-24T19:01:39.492Z"
   },
   {
    "duration": 8401,
    "start_time": "2022-09-24T19:02:14.912Z"
   },
   {
    "duration": 13664,
    "start_time": "2022-09-24T19:03:00.752Z"
   },
   {
    "duration": 468321,
    "start_time": "2022-09-24T19:03:24.772Z"
   },
   {
    "duration": 24,
    "start_time": "2022-09-24T19:12:45.312Z"
   },
   {
    "duration": 8285,
    "start_time": "2022-09-24T19:12:59.473Z"
   },
   {
    "duration": 12630,
    "start_time": "2022-09-24T19:14:18.753Z"
   },
   {
    "duration": 9,
    "start_time": "2022-09-24T19:16:48.432Z"
   },
   {
    "duration": 16,
    "start_time": "2022-09-24T19:17:04.892Z"
   },
   {
    "duration": 19,
    "start_time": "2022-09-24T19:17:12.672Z"
   },
   {
    "duration": 12,
    "start_time": "2022-09-24T19:19:20.793Z"
   },
   {
    "duration": 13654,
    "start_time": "2022-09-24T19:19:31.253Z"
   },
   {
    "duration": 16,
    "start_time": "2022-09-24T19:19:54.853Z"
   },
   {
    "duration": 488891,
    "start_time": "2022-09-24T19:20:07.953Z"
   },
   {
    "duration": 0,
    "start_time": "2022-09-24T19:28:16.879Z"
   },
   {
    "duration": 0,
    "start_time": "2022-09-24T19:28:16.880Z"
   },
   {
    "duration": 0,
    "start_time": "2022-09-24T19:28:16.882Z"
   },
   {
    "duration": 8706,
    "start_time": "2022-09-24T19:29:01.093Z"
   },
   {
    "duration": 16,
    "start_time": "2022-09-24T19:29:17.953Z"
   },
   {
    "duration": 2014,
    "start_time": "2022-09-24T19:30:40.367Z"
   },
   {
    "duration": 1337,
    "start_time": "2022-09-24T19:30:42.383Z"
   },
   {
    "duration": 137,
    "start_time": "2022-09-24T19:30:43.722Z"
   },
   {
    "duration": 45,
    "start_time": "2022-09-24T19:30:43.861Z"
   },
   {
    "duration": 29,
    "start_time": "2022-09-24T19:30:43.908Z"
   },
   {
    "duration": 59,
    "start_time": "2022-09-24T19:30:43.939Z"
   },
   {
    "duration": 21,
    "start_time": "2022-09-24T19:30:44.000Z"
   },
   {
    "duration": 122,
    "start_time": "2022-09-24T19:30:44.023Z"
   },
   {
    "duration": 5,
    "start_time": "2022-09-24T19:30:44.148Z"
   },
   {
    "duration": 24,
    "start_time": "2022-09-24T19:30:44.155Z"
   },
   {
    "duration": 11,
    "start_time": "2022-09-24T19:30:44.181Z"
   },
   {
    "duration": 9,
    "start_time": "2022-09-24T19:30:44.193Z"
   },
   {
    "duration": 29,
    "start_time": "2022-09-24T19:30:44.203Z"
   },
   {
    "duration": 88,
    "start_time": "2022-09-24T19:30:44.234Z"
   },
   {
    "duration": 12,
    "start_time": "2022-09-24T19:30:44.323Z"
   },
   {
    "duration": 22,
    "start_time": "2022-09-24T19:30:44.337Z"
   },
   {
    "duration": 168,
    "start_time": "2022-09-24T19:30:44.377Z"
   },
   {
    "duration": 167,
    "start_time": "2022-09-24T19:30:44.546Z"
   },
   {
    "duration": 10,
    "start_time": "2022-09-24T19:30:44.715Z"
   },
   {
    "duration": 61,
    "start_time": "2022-09-24T19:30:44.726Z"
   },
   {
    "duration": 13921,
    "start_time": "2022-09-24T19:30:44.788Z"
   },
   {
    "duration": 460312,
    "start_time": "2022-09-24T19:30:58.711Z"
   },
   {
    "duration": 8320,
    "start_time": "2022-09-24T19:38:39.025Z"
   },
   {
    "duration": 13,
    "start_time": "2022-09-24T19:38:47.347Z"
   },
   {
    "duration": 194,
    "start_time": "2022-09-24T19:38:47.362Z"
   },
   {
    "duration": 7907,
    "start_time": "2022-09-24T19:39:44.197Z"
   },
   {
    "duration": 15,
    "start_time": "2022-09-24T19:39:55.419Z"
   },
   {
    "duration": 9,
    "start_time": "2022-09-24T19:40:10.139Z"
   },
   {
    "duration": 10,
    "start_time": "2022-09-24T19:40:17.379Z"
   },
   {
    "duration": 12,
    "start_time": "2022-09-24T19:40:20.674Z"
   },
   {
    "duration": 2215,
    "start_time": "2022-09-24T19:40:40.458Z"
   },
   {
    "duration": 13426,
    "start_time": "2022-09-24T19:41:18.659Z"
   },
   {
    "duration": 1785,
    "start_time": "2022-09-24T19:41:38.319Z"
   },
   {
    "duration": 8123,
    "start_time": "2022-09-24T19:41:49.138Z"
   },
   {
    "duration": 88,
    "start_time": "2022-09-24T19:41:59.479Z"
   },
   {
    "duration": 10,
    "start_time": "2022-09-24T19:43:17.359Z"
   },
   {
    "duration": 13106,
    "start_time": "2022-09-24T19:43:19.838Z"
   },
   {
    "duration": 8491,
    "start_time": "2022-09-24T19:43:36.839Z"
   },
   {
    "duration": 15,
    "start_time": "2022-09-24T19:43:48.959Z"
   },
   {
    "duration": 4879,
    "start_time": "2022-09-24T19:44:01.759Z"
   },
   {
    "duration": 44824,
    "start_time": "2022-09-24T19:44:12.478Z"
   },
   {
    "duration": 25,
    "start_time": "2022-09-24T19:45:00.979Z"
   },
   {
    "duration": 23,
    "start_time": "2022-09-24T19:45:04.439Z"
   },
   {
    "duration": 34795,
    "start_time": "2022-09-24T19:45:14.718Z"
   },
   {
    "duration": 25,
    "start_time": "2022-09-24T19:45:53.878Z"
   },
   {
    "duration": 57,
    "start_time": "2022-09-24T19:46:13.260Z"
   },
   {
    "duration": 1691,
    "start_time": "2022-09-24T19:47:36.164Z"
   },
   {
    "duration": 1163,
    "start_time": "2022-09-24T19:47:56.419Z"
   },
   {
    "duration": 21154,
    "start_time": "2022-09-24T19:48:10.109Z"
   },
   {
    "duration": 18,
    "start_time": "2022-09-24T19:48:34.519Z"
   },
   {
    "duration": 4336,
    "start_time": "2022-09-24T19:48:40.649Z"
   },
   {
    "duration": 5141,
    "start_time": "2022-09-24T19:48:50.799Z"
   },
   {
    "duration": 14,
    "start_time": "2022-09-24T19:48:59.659Z"
   },
   {
    "duration": 8,
    "start_time": "2022-09-24T19:49:11.359Z"
   },
   {
    "duration": 13,
    "start_time": "2022-09-24T19:49:13.219Z"
   },
   {
    "duration": 5343,
    "start_time": "2022-09-24T19:49:21.319Z"
   },
   {
    "duration": 13,
    "start_time": "2022-09-24T19:49:29.019Z"
   },
   {
    "duration": 20909,
    "start_time": "2022-09-24T19:49:38.199Z"
   },
   {
    "duration": 18,
    "start_time": "2022-09-24T19:50:01.819Z"
   },
   {
    "duration": 1827,
    "start_time": "2022-09-24T19:50:27.461Z"
   },
   {
    "duration": 1310,
    "start_time": "2022-09-24T19:50:29.289Z"
   },
   {
    "duration": 129,
    "start_time": "2022-09-24T19:50:30.601Z"
   },
   {
    "duration": 47,
    "start_time": "2022-09-24T19:50:30.731Z"
   },
   {
    "duration": 30,
    "start_time": "2022-09-24T19:50:30.781Z"
   },
   {
    "duration": 35,
    "start_time": "2022-09-24T19:50:30.812Z"
   },
   {
    "duration": 38,
    "start_time": "2022-09-24T19:50:30.849Z"
   },
   {
    "duration": 113,
    "start_time": "2022-09-24T19:50:30.889Z"
   },
   {
    "duration": 6,
    "start_time": "2022-09-24T19:50:31.003Z"
   },
   {
    "duration": 29,
    "start_time": "2022-09-24T19:50:31.010Z"
   },
   {
    "duration": 26,
    "start_time": "2022-09-24T19:50:31.041Z"
   },
   {
    "duration": 30,
    "start_time": "2022-09-24T19:50:31.069Z"
   },
   {
    "duration": 45,
    "start_time": "2022-09-24T19:50:31.101Z"
   },
   {
    "duration": 61,
    "start_time": "2022-09-24T19:50:31.148Z"
   },
   {
    "duration": 10,
    "start_time": "2022-09-24T19:50:31.210Z"
   },
   {
    "duration": 49,
    "start_time": "2022-09-24T19:50:31.221Z"
   },
   {
    "duration": 138,
    "start_time": "2022-09-24T19:50:31.272Z"
   },
   {
    "duration": 150,
    "start_time": "2022-09-24T19:50:31.412Z"
   },
   {
    "duration": 13,
    "start_time": "2022-09-24T19:50:31.563Z"
   },
   {
    "duration": 14102,
    "start_time": "2022-09-24T19:50:31.578Z"
   },
   {
    "duration": 21072,
    "start_time": "2022-09-24T19:50:45.681Z"
   },
   {
    "duration": 17,
    "start_time": "2022-09-24T19:51:06.754Z"
   },
   {
    "duration": 231,
    "start_time": "2022-09-24T19:51:06.772Z"
   },
   {
    "duration": 18,
    "start_time": "2022-09-24T19:51:09.795Z"
   },
   {
    "duration": 72983,
    "start_time": "2022-09-24T19:51:19.975Z"
   },
   {
    "duration": 28,
    "start_time": "2022-09-24T19:52:32.960Z"
   },
   {
    "duration": 64,
    "start_time": "2022-09-24T19:53:24.175Z"
   },
   {
    "duration": 72916,
    "start_time": "2022-09-24T19:53:29.556Z"
   },
   {
    "duration": 2109257,
    "start_time": "2022-09-24T19:54:42.474Z"
   },
   {
    "duration": 28,
    "start_time": "2022-09-24T20:29:51.732Z"
   },
   {
    "duration": 18138,
    "start_time": "2022-09-24T20:31:20.390Z"
   },
   {
    "duration": 21,
    "start_time": "2022-09-24T20:31:41.995Z"
   },
   {
    "duration": 102,
    "start_time": "2022-09-24T20:33:14.115Z"
   },
   {
    "duration": 11,
    "start_time": "2022-09-24T20:33:23.415Z"
   },
   {
    "duration": 7,
    "start_time": "2022-09-24T20:33:36.790Z"
   },
   {
    "duration": 89,
    "start_time": "2022-09-24T20:33:45.996Z"
   },
   {
    "duration": 2807,
    "start_time": "2022-09-25T03:17:24.181Z"
   },
   {
    "duration": 1493,
    "start_time": "2022-09-25T03:17:26.991Z"
   },
   {
    "duration": 337,
    "start_time": "2022-09-25T03:17:28.486Z"
   },
   {
    "duration": 51,
    "start_time": "2022-09-25T03:17:28.826Z"
   },
   {
    "duration": 30,
    "start_time": "2022-09-25T03:17:28.878Z"
   },
   {
    "duration": 60,
    "start_time": "2022-09-25T03:17:28.910Z"
   },
   {
    "duration": 21,
    "start_time": "2022-09-25T03:17:28.971Z"
   },
   {
    "duration": 117,
    "start_time": "2022-09-25T03:17:28.993Z"
   },
   {
    "duration": 6,
    "start_time": "2022-09-25T03:17:29.112Z"
   },
   {
    "duration": 9,
    "start_time": "2022-09-25T03:17:29.121Z"
   },
   {
    "duration": 28,
    "start_time": "2022-09-25T03:17:29.132Z"
   },
   {
    "duration": 11,
    "start_time": "2022-09-25T03:17:29.162Z"
   },
   {
    "duration": 35,
    "start_time": "2022-09-25T03:17:29.174Z"
   },
   {
    "duration": 89,
    "start_time": "2022-09-25T03:17:29.211Z"
   },
   {
    "duration": 14,
    "start_time": "2022-09-25T03:17:29.302Z"
   },
   {
    "duration": 41,
    "start_time": "2022-09-25T03:17:29.318Z"
   },
   {
    "duration": 168,
    "start_time": "2022-09-25T03:17:29.360Z"
   },
   {
    "duration": 126,
    "start_time": "2022-09-25T03:17:29.529Z"
   },
   {
    "duration": 1,
    "start_time": "2022-09-25T03:17:29.656Z"
   },
   {
    "duration": 0,
    "start_time": "2022-09-25T03:17:29.658Z"
   },
   {
    "duration": 0,
    "start_time": "2022-09-25T03:17:29.659Z"
   },
   {
    "duration": 0,
    "start_time": "2022-09-25T03:17:29.660Z"
   },
   {
    "duration": 0,
    "start_time": "2022-09-25T03:17:29.661Z"
   },
   {
    "duration": 0,
    "start_time": "2022-09-25T03:17:29.662Z"
   },
   {
    "duration": 1,
    "start_time": "2022-09-25T03:17:29.663Z"
   },
   {
    "duration": 0,
    "start_time": "2022-09-25T03:17:29.665Z"
   },
   {
    "duration": 13,
    "start_time": "2022-09-25T03:19:41.812Z"
   },
   {
    "duration": 11,
    "start_time": "2022-09-25T03:20:33.812Z"
   },
   {
    "duration": 10,
    "start_time": "2022-09-25T03:20:54.712Z"
   },
   {
    "duration": 165,
    "start_time": "2022-09-25T03:21:15.952Z"
   },
   {
    "duration": 7,
    "start_time": "2022-09-25T03:22:51.332Z"
   },
   {
    "duration": 10,
    "start_time": "2022-09-25T03:23:35.371Z"
   },
   {
    "duration": 5,
    "start_time": "2022-09-25T03:25:24.351Z"
   },
   {
    "duration": 8,
    "start_time": "2022-09-25T03:25:36.711Z"
   },
   {
    "duration": 419,
    "start_time": "2022-09-25T03:26:03.871Z"
   },
   {
    "duration": 7,
    "start_time": "2022-09-25T03:26:38.836Z"
   },
   {
    "duration": 4,
    "start_time": "2022-09-25T03:26:41.751Z"
   },
   {
    "duration": 11482,
    "start_time": "2022-09-25T03:26:44.416Z"
   },
   {
    "duration": 10,
    "start_time": "2022-09-25T03:27:08.691Z"
   },
   {
    "duration": 4,
    "start_time": "2022-09-25T03:27:53.616Z"
   },
   {
    "duration": 19,
    "start_time": "2022-09-25T03:27:55.771Z"
   },
   {
    "duration": 9,
    "start_time": "2022-09-25T03:30:12.791Z"
   },
   {
    "duration": 811,
    "start_time": "2022-09-25T03:30:15.831Z"
   },
   {
    "duration": 5,
    "start_time": "2022-09-25T03:30:28.250Z"
   },
   {
    "duration": 6,
    "start_time": "2022-09-25T03:30:30.506Z"
   },
   {
    "duration": 14269,
    "start_time": "2022-09-25T03:30:34.195Z"
   },
   {
    "duration": 9,
    "start_time": "2022-09-25T03:32:10.411Z"
   },
   {
    "duration": 6,
    "start_time": "2022-09-25T03:32:12.571Z"
   },
   {
    "duration": 16,
    "start_time": "2022-09-25T03:32:25.891Z"
   },
   {
    "duration": 14527,
    "start_time": "2022-09-25T03:32:31.990Z"
   },
   {
    "duration": 5,
    "start_time": "2022-09-25T03:32:52.791Z"
   },
   {
    "duration": 17,
    "start_time": "2022-09-25T03:32:54.876Z"
   },
   {
    "duration": 6,
    "start_time": "2022-09-25T06:20:29.157Z"
   },
   {
    "duration": 15422,
    "start_time": "2022-09-25T06:20:33.632Z"
   },
   {
    "duration": 20420,
    "start_time": "2022-09-25T06:21:30.831Z"
   },
   {
    "duration": 13239,
    "start_time": "2022-09-25T06:21:59.012Z"
   },
   {
    "duration": 5,
    "start_time": "2022-09-25T06:22:16.882Z"
   },
   {
    "duration": 1805,
    "start_time": "2022-09-25T06:22:18.476Z"
   },
   {
    "duration": 4,
    "start_time": "2022-09-25T06:23:46.902Z"
   },
   {
    "duration": 17,
    "start_time": "2022-09-25T06:23:49.282Z"
   },
   {
    "duration": 69772,
    "start_time": "2022-09-25T06:24:17.282Z"
   },
   {
    "duration": 38,
    "start_time": "2022-09-25T06:25:31.921Z"
   },
   {
    "duration": 2208,
    "start_time": "2022-09-25T07:03:20.484Z"
   },
   {
    "duration": 1441,
    "start_time": "2022-09-25T07:03:22.696Z"
   },
   {
    "duration": 145,
    "start_time": "2022-09-25T07:03:24.138Z"
   },
   {
    "duration": 53,
    "start_time": "2022-09-25T07:03:24.285Z"
   },
   {
    "duration": 42,
    "start_time": "2022-09-25T07:03:24.340Z"
   },
   {
    "duration": 80,
    "start_time": "2022-09-25T07:03:24.384Z"
   },
   {
    "duration": 24,
    "start_time": "2022-09-25T07:03:24.466Z"
   },
   {
    "duration": 115,
    "start_time": "2022-09-25T07:03:24.492Z"
   },
   {
    "duration": 7,
    "start_time": "2022-09-25T07:03:24.608Z"
   },
   {
    "duration": 18,
    "start_time": "2022-09-25T07:03:24.616Z"
   },
   {
    "duration": 10,
    "start_time": "2022-09-25T07:03:24.655Z"
   },
   {
    "duration": 16,
    "start_time": "2022-09-25T07:03:24.666Z"
   },
   {
    "duration": 32,
    "start_time": "2022-09-25T07:03:24.684Z"
   },
   {
    "duration": 40,
    "start_time": "2022-09-25T07:03:24.720Z"
   },
   {
    "duration": 21,
    "start_time": "2022-09-25T07:03:24.763Z"
   },
   {
    "duration": 190,
    "start_time": "2022-09-25T07:03:24.787Z"
   },
   {
    "duration": 182,
    "start_time": "2022-09-25T07:03:24.980Z"
   },
   {
    "duration": 12,
    "start_time": "2022-09-25T07:03:25.164Z"
   },
   {
    "duration": 7,
    "start_time": "2022-09-25T07:03:25.179Z"
   },
   {
    "duration": 2413,
    "start_time": "2022-09-25T07:03:25.188Z"
   },
   {
    "duration": 21871,
    "start_time": "2022-09-25T07:03:27.604Z"
   },
   {
    "duration": 0,
    "start_time": "2022-09-25T07:03:49.477Z"
   },
   {
    "duration": 0,
    "start_time": "2022-09-25T07:03:49.478Z"
   },
   {
    "duration": 0,
    "start_time": "2022-09-25T07:03:49.480Z"
   },
   {
    "duration": 0,
    "start_time": "2022-09-25T07:03:49.481Z"
   },
   {
    "duration": 2495,
    "start_time": "2022-09-25T07:05:01.915Z"
   },
   {
    "duration": 1507,
    "start_time": "2022-09-25T07:05:04.413Z"
   },
   {
    "duration": 146,
    "start_time": "2022-09-25T07:05:05.922Z"
   },
   {
    "duration": 71,
    "start_time": "2022-09-25T07:05:06.071Z"
   },
   {
    "duration": 54,
    "start_time": "2022-09-25T07:05:06.144Z"
   },
   {
    "duration": 92,
    "start_time": "2022-09-25T07:05:06.200Z"
   },
   {
    "duration": 31,
    "start_time": "2022-09-25T07:05:06.294Z"
   },
   {
    "duration": 157,
    "start_time": "2022-09-25T07:05:06.327Z"
   },
   {
    "duration": 8,
    "start_time": "2022-09-25T07:05:06.486Z"
   },
   {
    "duration": 42,
    "start_time": "2022-09-25T07:05:06.498Z"
   },
   {
    "duration": 47,
    "start_time": "2022-09-25T07:05:06.541Z"
   },
   {
    "duration": 26,
    "start_time": "2022-09-25T07:05:06.591Z"
   },
   {
    "duration": 55,
    "start_time": "2022-09-25T07:05:06.619Z"
   },
   {
    "duration": 120,
    "start_time": "2022-09-25T07:05:06.676Z"
   },
   {
    "duration": 14,
    "start_time": "2022-09-25T07:05:06.799Z"
   },
   {
    "duration": 57,
    "start_time": "2022-09-25T07:05:06.816Z"
   },
   {
    "duration": 201,
    "start_time": "2022-09-25T07:05:06.875Z"
   },
   {
    "duration": 192,
    "start_time": "2022-09-25T07:05:07.078Z"
   },
   {
    "duration": 13,
    "start_time": "2022-09-25T07:05:07.272Z"
   },
   {
    "duration": 6,
    "start_time": "2022-09-25T07:05:07.287Z"
   },
   {
    "duration": 17036,
    "start_time": "2022-09-25T07:05:07.295Z"
   },
   {
    "duration": 1687723,
    "start_time": "2022-09-25T07:05:24.333Z"
   },
   {
    "duration": 72547,
    "start_time": "2022-09-25T07:33:32.058Z"
   },
   {
    "duration": 5,
    "start_time": "2022-09-25T07:34:44.607Z"
   },
   {
    "duration": 42,
    "start_time": "2022-09-25T07:34:44.615Z"
   },
   {
    "duration": 255,
    "start_time": "2022-09-25T07:34:44.669Z"
   },
   {
    "duration": 9097,
    "start_time": "2022-09-25T08:07:55.237Z"
   },
   {
    "duration": 226,
    "start_time": "2022-09-25T08:08:40.677Z"
   },
   {
    "duration": 21,
    "start_time": "2022-09-25T08:08:59.596Z"
   },
   {
    "duration": 4198,
    "start_time": "2022-09-25T08:18:22.003Z"
   },
   {
    "duration": 1253,
    "start_time": "2022-09-25T08:18:26.205Z"
   },
   {
    "duration": 147,
    "start_time": "2022-09-25T08:18:27.460Z"
   },
   {
    "duration": 52,
    "start_time": "2022-09-25T08:18:27.610Z"
   },
   {
    "duration": 34,
    "start_time": "2022-09-25T08:18:27.664Z"
   },
   {
    "duration": 66,
    "start_time": "2022-09-25T08:18:27.700Z"
   },
   {
    "duration": 21,
    "start_time": "2022-09-25T08:18:27.768Z"
   },
   {
    "duration": 123,
    "start_time": "2022-09-25T08:18:27.791Z"
   },
   {
    "duration": 7,
    "start_time": "2022-09-25T08:18:27.916Z"
   },
   {
    "duration": 8,
    "start_time": "2022-09-25T08:18:27.926Z"
   },
   {
    "duration": 9,
    "start_time": "2022-09-25T08:18:27.955Z"
   },
   {
    "duration": 12,
    "start_time": "2022-09-25T08:18:27.966Z"
   },
   {
    "duration": 35,
    "start_time": "2022-09-25T08:18:27.980Z"
   },
   {
    "duration": 86,
    "start_time": "2022-09-25T08:18:28.016Z"
   },
   {
    "duration": 10,
    "start_time": "2022-09-25T08:18:28.103Z"
   },
   {
    "duration": 40,
    "start_time": "2022-09-25T08:18:28.114Z"
   },
   {
    "duration": 181,
    "start_time": "2022-09-25T08:18:28.156Z"
   },
   {
    "duration": 201,
    "start_time": "2022-09-25T08:18:28.338Z"
   },
   {
    "duration": 22,
    "start_time": "2022-09-25T08:18:28.542Z"
   },
   {
    "duration": 5,
    "start_time": "2022-09-25T08:18:28.567Z"
   },
   {
    "duration": 33,
    "start_time": "2022-09-25T08:18:28.575Z"
   },
   {
    "duration": 0,
    "start_time": "2022-09-25T08:18:28.610Z"
   },
   {
    "duration": 0,
    "start_time": "2022-09-25T08:18:28.611Z"
   },
   {
    "duration": 0,
    "start_time": "2022-09-25T08:18:28.613Z"
   },
   {
    "duration": 0,
    "start_time": "2022-09-25T08:18:28.615Z"
   },
   {
    "duration": 0,
    "start_time": "2022-09-25T08:18:28.616Z"
   },
   {
    "duration": 4265,
    "start_time": "2022-09-25T08:22:48.055Z"
   },
   {
    "duration": 1202,
    "start_time": "2022-09-25T08:22:52.322Z"
   },
   {
    "duration": 137,
    "start_time": "2022-09-25T08:22:53.526Z"
   },
   {
    "duration": 55,
    "start_time": "2022-09-25T08:22:53.664Z"
   },
   {
    "duration": 43,
    "start_time": "2022-09-25T08:22:53.721Z"
   },
   {
    "duration": 40,
    "start_time": "2022-09-25T08:22:53.765Z"
   },
   {
    "duration": 49,
    "start_time": "2022-09-25T08:22:53.807Z"
   },
   {
    "duration": 114,
    "start_time": "2022-09-25T08:22:53.857Z"
   },
   {
    "duration": 5,
    "start_time": "2022-09-25T08:22:53.973Z"
   },
   {
    "duration": 12,
    "start_time": "2022-09-25T08:22:53.980Z"
   },
   {
    "duration": 12,
    "start_time": "2022-09-25T08:22:53.993Z"
   },
   {
    "duration": 12,
    "start_time": "2022-09-25T08:22:54.006Z"
   },
   {
    "duration": 56,
    "start_time": "2022-09-25T08:22:54.020Z"
   },
   {
    "duration": 83,
    "start_time": "2022-09-25T08:22:54.079Z"
   },
   {
    "duration": 9,
    "start_time": "2022-09-25T08:22:54.164Z"
   },
   {
    "duration": 33,
    "start_time": "2022-09-25T08:22:54.177Z"
   },
   {
    "duration": 215,
    "start_time": "2022-09-25T08:22:54.212Z"
   },
   {
    "duration": 177,
    "start_time": "2022-09-25T08:22:54.429Z"
   },
   {
    "duration": 10,
    "start_time": "2022-09-25T08:22:54.607Z"
   },
   {
    "duration": 6,
    "start_time": "2022-09-25T08:22:54.618Z"
   },
   {
    "duration": 41,
    "start_time": "2022-09-25T08:22:54.625Z"
   },
   {
    "duration": 0,
    "start_time": "2022-09-25T08:22:54.669Z"
   },
   {
    "duration": 0,
    "start_time": "2022-09-25T08:22:54.670Z"
   },
   {
    "duration": 0,
    "start_time": "2022-09-25T08:22:54.672Z"
   },
   {
    "duration": 0,
    "start_time": "2022-09-25T08:22:54.674Z"
   },
   {
    "duration": 0,
    "start_time": "2022-09-25T08:22:54.675Z"
   },
   {
    "duration": 230,
    "start_time": "2022-09-25T08:36:20.080Z"
   },
   {
    "duration": 59,
    "start_time": "2022-09-25T08:37:48.979Z"
   },
   {
    "duration": 4197,
    "start_time": "2022-09-25T08:38:00.768Z"
   },
   {
    "duration": 1321,
    "start_time": "2022-09-25T08:38:04.968Z"
   },
   {
    "duration": 180,
    "start_time": "2022-09-25T08:38:06.291Z"
   },
   {
    "duration": 52,
    "start_time": "2022-09-25T08:38:06.473Z"
   },
   {
    "duration": 53,
    "start_time": "2022-09-25T08:38:06.528Z"
   },
   {
    "duration": 46,
    "start_time": "2022-09-25T08:38:06.583Z"
   },
   {
    "duration": 28,
    "start_time": "2022-09-25T08:38:06.654Z"
   },
   {
    "duration": 124,
    "start_time": "2022-09-25T08:38:06.684Z"
   },
   {
    "duration": 6,
    "start_time": "2022-09-25T08:38:06.809Z"
   },
   {
    "duration": 15,
    "start_time": "2022-09-25T08:38:06.817Z"
   },
   {
    "duration": 25,
    "start_time": "2022-09-25T08:38:06.834Z"
   },
   {
    "duration": 9,
    "start_time": "2022-09-25T08:38:06.861Z"
   },
   {
    "duration": 34,
    "start_time": "2022-09-25T08:38:06.872Z"
   },
   {
    "duration": 98,
    "start_time": "2022-09-25T08:38:06.908Z"
   },
   {
    "duration": 10,
    "start_time": "2022-09-25T08:38:07.008Z"
   },
   {
    "duration": 35,
    "start_time": "2022-09-25T08:38:07.020Z"
   },
   {
    "duration": 4298,
    "start_time": "2022-09-25T08:47:09.172Z"
   },
   {
    "duration": 1325,
    "start_time": "2022-09-25T08:47:13.472Z"
   },
   {
    "duration": 155,
    "start_time": "2022-09-25T08:47:14.798Z"
   },
   {
    "duration": 56,
    "start_time": "2022-09-25T08:47:14.955Z"
   },
   {
    "duration": 62,
    "start_time": "2022-09-25T08:47:15.015Z"
   },
   {
    "duration": 43,
    "start_time": "2022-09-25T08:47:15.079Z"
   },
   {
    "duration": 50,
    "start_time": "2022-09-25T08:47:15.124Z"
   },
   {
    "duration": 116,
    "start_time": "2022-09-25T08:47:15.176Z"
   },
   {
    "duration": 7,
    "start_time": "2022-09-25T08:47:15.294Z"
   },
   {
    "duration": 11,
    "start_time": "2022-09-25T08:47:15.303Z"
   },
   {
    "duration": 10,
    "start_time": "2022-09-25T08:47:15.316Z"
   },
   {
    "duration": 11,
    "start_time": "2022-09-25T08:47:15.355Z"
   },
   {
    "duration": 34,
    "start_time": "2022-09-25T08:47:15.368Z"
   },
   {
    "duration": 116,
    "start_time": "2022-09-25T08:47:15.405Z"
   },
   {
    "duration": 11,
    "start_time": "2022-09-25T08:47:15.522Z"
   },
   {
    "duration": 37,
    "start_time": "2022-09-25T08:47:15.535Z"
   },
   {
    "duration": 1064,
    "start_time": "2022-09-25T09:20:18.645Z"
   },
   {
    "duration": 169,
    "start_time": "2022-09-25T09:22:49.946Z"
   },
   {
    "duration": 1143,
    "start_time": "2022-09-25T09:22:54.987Z"
   },
   {
    "duration": 5,
    "start_time": "2022-09-25T10:21:23.798Z"
   },
   {
    "duration": 11,
    "start_time": "2022-09-25T10:21:59.307Z"
   },
   {
    "duration": 6,
    "start_time": "2022-09-25T10:22:22.590Z"
   },
   {
    "duration": 12,
    "start_time": "2022-09-25T10:24:10.058Z"
   },
   {
    "duration": 27,
    "start_time": "2022-09-25T10:24:26.812Z"
   },
   {
    "duration": 11,
    "start_time": "2022-09-25T10:24:43.737Z"
   },
   {
    "duration": 3,
    "start_time": "2022-09-25T10:24:59.799Z"
   },
   {
    "duration": 19,
    "start_time": "2022-09-25T10:25:03.339Z"
   },
   {
    "duration": 16,
    "start_time": "2022-09-25T10:26:25.398Z"
   },
   {
    "duration": 20,
    "start_time": "2022-09-25T10:26:53.357Z"
   },
   {
    "duration": 5,
    "start_time": "2022-09-25T10:33:43.813Z"
   },
   {
    "duration": 11,
    "start_time": "2022-09-25T10:39:22.413Z"
   },
   {
    "duration": 24,
    "start_time": "2022-09-25T10:39:37.532Z"
   },
   {
    "duration": 10,
    "start_time": "2022-09-25T10:41:17.233Z"
   },
   {
    "duration": 11,
    "start_time": "2022-09-25T10:41:43.454Z"
   },
   {
    "duration": 13,
    "start_time": "2022-09-25T10:41:49.353Z"
   },
   {
    "duration": 7,
    "start_time": "2022-09-25T10:45:50.143Z"
   },
   {
    "duration": 789,
    "start_time": "2022-09-25T10:45:53.564Z"
   },
   {
    "duration": 3,
    "start_time": "2022-09-25T10:46:00.043Z"
   },
   {
    "duration": 9,
    "start_time": "2022-09-25T10:46:01.883Z"
   },
   {
    "duration": 6,
    "start_time": "2022-09-25T10:46:05.443Z"
   },
   {
    "duration": 13,
    "start_time": "2022-09-25T10:46:07.822Z"
   },
   {
    "duration": 20,
    "start_time": "2022-09-25T10:46:15.783Z"
   },
   {
    "duration": 962,
    "start_time": "2022-09-25T10:49:21.349Z"
   },
   {
    "duration": 5,
    "start_time": "2022-09-25T10:49:46.428Z"
   },
   {
    "duration": 12,
    "start_time": "2022-09-25T10:49:48.149Z"
   },
   {
    "duration": 7,
    "start_time": "2022-09-25T10:49:51.728Z"
   },
   {
    "duration": 14214,
    "start_time": "2022-09-25T10:49:55.001Z"
   },
   {
    "duration": 9,
    "start_time": "2022-09-25T10:51:11.898Z"
   },
   {
    "duration": 28,
    "start_time": "2022-09-25T10:51:26.554Z"
   },
   {
    "duration": 13352,
    "start_time": "2022-09-25T10:51:42.909Z"
   },
   {
    "duration": 19,
    "start_time": "2022-09-25T10:52:03.068Z"
   },
   {
    "duration": 14842,
    "start_time": "2022-09-25T10:52:20.328Z"
   },
   {
    "duration": 19,
    "start_time": "2022-09-25T10:52:40.743Z"
   },
   {
    "duration": 9464,
    "start_time": "2022-09-25T10:53:08.683Z"
   },
   {
    "duration": 16418,
    "start_time": "2022-09-25T10:53:25.553Z"
   },
   {
    "duration": 28912,
    "start_time": "2022-09-25T10:54:04.033Z"
   },
   {
    "duration": 31,
    "start_time": "2022-09-25T10:54:36.733Z"
   },
   {
    "duration": 5,
    "start_time": "2022-09-25T10:54:39.533Z"
   },
   {
    "duration": 22,
    "start_time": "2022-09-25T10:54:41.333Z"
   },
   {
    "duration": 10652,
    "start_time": "2022-09-25T10:54:59.153Z"
   },
   {
    "duration": 18631,
    "start_time": "2022-09-25T10:55:16.554Z"
   },
   {
    "duration": 53942,
    "start_time": "2022-09-25T10:55:40.639Z"
   },
   {
    "duration": 39,
    "start_time": "2022-09-25T10:56:37.833Z"
   },
   {
    "duration": 4,
    "start_time": "2022-09-25T10:56:40.413Z"
   },
   {
    "duration": 83459,
    "start_time": "2022-09-25T10:57:30.923Z"
   },
   {
    "duration": 4,
    "start_time": "2022-09-25T10:59:06.209Z"
   },
   {
    "duration": 32,
    "start_time": "2022-09-25T10:59:06.993Z"
   },
   {
    "duration": 108,
    "start_time": "2022-09-25T11:02:11.703Z"
   },
   {
    "duration": 83440,
    "start_time": "2022-09-25T11:02:17.943Z"
   },
   {
    "duration": 5,
    "start_time": "2022-09-25T11:03:45.334Z"
   },
   {
    "duration": 37,
    "start_time": "2022-09-25T11:03:47.624Z"
   },
   {
    "duration": 174,
    "start_time": "2022-09-25T11:04:15.545Z"
   },
   {
    "duration": 66137,
    "start_time": "2022-09-25T11:04:43.045Z"
   },
   {
    "duration": 26536,
    "start_time": "2022-09-25T11:06:09.664Z"
   },
   {
    "duration": 25,
    "start_time": "2022-09-25T11:06:38.543Z"
   },
   {
    "duration": 14464,
    "start_time": "2022-09-25T11:06:45.104Z"
   },
   {
    "duration": 26,
    "start_time": "2022-09-25T11:07:09.964Z"
   },
   {
    "duration": 5,
    "start_time": "2022-09-25T11:07:12.495Z"
   },
   {
    "duration": 20,
    "start_time": "2022-09-25T11:07:14.104Z"
   },
   {
    "duration": 51,
    "start_time": "2022-09-25T11:07:57.008Z"
   },
   {
    "duration": 80,
    "start_time": "2022-09-25T11:08:08.848Z"
   },
   {
    "duration": 86,
    "start_time": "2022-09-25T11:08:14.584Z"
   },
   {
    "duration": 63,
    "start_time": "2022-09-25T11:08:42.198Z"
   },
   {
    "duration": 60,
    "start_time": "2022-09-25T11:10:23.643Z"
   },
   {
    "duration": 57,
    "start_time": "2022-09-25T11:10:49.624Z"
   },
   {
    "duration": 92,
    "start_time": "2022-09-25T11:11:09.824Z"
   },
   {
    "duration": 554,
    "start_time": "2022-09-25T11:11:40.844Z"
   },
   {
    "duration": 17187,
    "start_time": "2022-09-25T11:14:37.484Z"
   },
   {
    "duration": 6,
    "start_time": "2022-09-25T11:14:58.864Z"
   },
   {
    "duration": 18,
    "start_time": "2022-09-25T11:15:00.284Z"
   },
   {
    "duration": 15904,
    "start_time": "2022-09-25T11:15:09.149Z"
   },
   {
    "duration": 18,
    "start_time": "2022-09-25T11:15:25.055Z"
   },
   {
    "duration": 15550,
    "start_time": "2022-09-25T11:15:44.564Z"
   },
   {
    "duration": 26,
    "start_time": "2022-09-25T11:16:06.954Z"
   },
   {
    "duration": 8286,
    "start_time": "2022-09-25T11:16:15.604Z"
   },
   {
    "duration": 16,
    "start_time": "2022-09-25T11:16:27.099Z"
   },
   {
    "duration": 14897,
    "start_time": "2022-09-25T11:16:30.523Z"
   },
   {
    "duration": 18,
    "start_time": "2022-09-25T11:16:49.483Z"
   },
   {
    "duration": 21964,
    "start_time": "2022-09-25T11:17:04.624Z"
   },
   {
    "duration": 21,
    "start_time": "2022-09-25T11:17:29.024Z"
   },
   {
    "duration": 5,
    "start_time": "2022-09-25T11:17:31.563Z"
   },
   {
    "duration": 20,
    "start_time": "2022-09-25T11:17:33.183Z"
   },
   {
    "duration": 21876,
    "start_time": "2022-09-25T11:18:32.393Z"
   },
   {
    "duration": 19,
    "start_time": "2022-09-25T11:18:54.270Z"
   },
   {
    "duration": 6,
    "start_time": "2022-09-25T11:19:00.644Z"
   },
   {
    "duration": 29,
    "start_time": "2022-09-25T11:19:02.203Z"
   },
   {
    "duration": 40231,
    "start_time": "2022-09-25T11:19:15.743Z"
   },
   {
    "duration": 4,
    "start_time": "2022-09-25T11:20:03.683Z"
   },
   {
    "duration": 25,
    "start_time": "2022-09-25T11:20:05.784Z"
   },
   {
    "duration": 40697,
    "start_time": "2022-09-25T11:20:14.464Z"
   },
   {
    "duration": 23,
    "start_time": "2022-09-25T11:20:57.448Z"
   },
   {
    "duration": 5,
    "start_time": "2022-09-25T11:20:59.824Z"
   },
   {
    "duration": 24,
    "start_time": "2022-09-25T11:21:01.384Z"
   },
   {
    "duration": 41262,
    "start_time": "2022-09-25T11:21:13.524Z"
   },
   {
    "duration": 4,
    "start_time": "2022-09-25T11:22:05.424Z"
   },
   {
    "duration": 26,
    "start_time": "2022-09-25T11:22:06.144Z"
   },
   {
    "duration": 24,
    "start_time": "2022-09-25T11:22:08.448Z"
   },
   {
    "duration": 40255,
    "start_time": "2022-09-25T11:22:20.243Z"
   },
   {
    "duration": 23,
    "start_time": "2022-09-25T11:23:04.184Z"
   },
   {
    "duration": 53275,
    "start_time": "2022-09-25T11:23:23.219Z"
   },
   {
    "duration": 5,
    "start_time": "2022-09-25T12:04:07.029Z"
   },
   {
    "duration": 37,
    "start_time": "2022-09-25T12:04:09.049Z"
   },
   {
    "duration": 106,
    "start_time": "2022-09-25T12:05:47.071Z"
   },
   {
    "duration": 6,
    "start_time": "2022-09-25T12:05:59.328Z"
   },
   {
    "duration": 10,
    "start_time": "2022-09-25T12:06:12.869Z"
   },
   {
    "duration": 5,
    "start_time": "2022-09-25T12:06:15.030Z"
   },
   {
    "duration": 23799,
    "start_time": "2022-09-25T12:06:20.950Z"
   },
   {
    "duration": 9,
    "start_time": "2022-09-25T12:11:01.289Z"
   },
   {
    "duration": 5,
    "start_time": "2022-09-25T12:11:03.629Z"
   },
   {
    "duration": 97,
    "start_time": "2022-09-25T12:11:06.860Z"
   },
   {
    "duration": 5,
    "start_time": "2022-09-25T12:11:30.110Z"
   },
   {
    "duration": 11,
    "start_time": "2022-09-25T12:11:33.320Z"
   },
   {
    "duration": 6,
    "start_time": "2022-09-25T12:11:35.700Z"
   },
   {
    "duration": 2019,
    "start_time": "2022-09-25T12:11:42.349Z"
   },
   {
    "duration": 5,
    "start_time": "2022-09-25T12:13:40.930Z"
   },
   {
    "duration": 9,
    "start_time": "2022-09-25T12:13:42.949Z"
   },
   {
    "duration": 5,
    "start_time": "2022-09-25T12:13:45.150Z"
   },
   {
    "duration": 23901,
    "start_time": "2022-09-25T12:13:48.429Z"
   },
   {
    "duration": 5,
    "start_time": "2022-09-25T12:14:15.757Z"
   },
   {
    "duration": 23,
    "start_time": "2022-09-25T12:14:16.740Z"
   },
   {
    "duration": 15485,
    "start_time": "2022-09-25T12:14:38.810Z"
   },
   {
    "duration": 20,
    "start_time": "2022-09-25T12:14:56.609Z"
   },
   {
    "duration": 11706,
    "start_time": "2022-09-25T12:15:01.199Z"
   },
   {
    "duration": 22,
    "start_time": "2022-09-25T12:15:18.895Z"
   },
   {
    "duration": 46066,
    "start_time": "2022-09-25T12:15:26.110Z"
   },
   {
    "duration": 34,
    "start_time": "2022-09-25T12:16:12.178Z"
   },
   {
    "duration": 1006,
    "start_time": "2022-09-25T12:18:35.129Z"
   },
   {
    "duration": 422,
    "start_time": "2022-09-25T12:19:10.710Z"
   },
   {
    "duration": 5,
    "start_time": "2022-09-25T12:19:54.910Z"
   },
   {
    "duration": 457,
    "start_time": "2022-09-25T12:19:57.404Z"
   },
   {
    "duration": 7,
    "start_time": "2022-09-25T12:21:11.265Z"
   },
   {
    "duration": 388,
    "start_time": "2022-09-25T12:21:13.594Z"
   },
   {
    "duration": 11,
    "start_time": "2022-09-25T12:21:41.800Z"
   },
   {
    "duration": 6,
    "start_time": "2022-09-25T12:21:43.834Z"
   },
   {
    "duration": 46186,
    "start_time": "2022-09-25T12:21:47.272Z"
   },
   {
    "duration": 4,
    "start_time": "2022-09-25T12:22:37.815Z"
   },
   {
    "duration": 36,
    "start_time": "2022-09-25T12:22:43.789Z"
   },
   {
    "duration": 8532,
    "start_time": "2022-09-25T12:23:45.390Z"
   },
   {
    "duration": 26,
    "start_time": "2022-09-25T12:23:58.191Z"
   },
   {
    "duration": 8660,
    "start_time": "2022-09-25T12:24:19.069Z"
   },
   {
    "duration": 26,
    "start_time": "2022-09-25T12:24:31.030Z"
   },
   {
    "duration": 6478,
    "start_time": "2022-09-25T12:25:04.369Z"
   },
   {
    "duration": 18,
    "start_time": "2022-09-25T12:25:16.630Z"
   },
   {
    "duration": 8326,
    "start_time": "2022-09-25T12:25:22.510Z"
   },
   {
    "duration": 21,
    "start_time": "2022-09-25T12:25:33.698Z"
   },
   {
    "duration": 10124,
    "start_time": "2022-09-25T12:25:38.630Z"
   },
   {
    "duration": 17,
    "start_time": "2022-09-25T12:25:53.410Z"
   },
   {
    "duration": 20446,
    "start_time": "2022-09-25T12:25:59.869Z"
   },
   {
    "duration": 33,
    "start_time": "2022-09-25T12:26:22.930Z"
   },
   {
    "duration": 8840,
    "start_time": "2022-09-25T12:26:30.791Z"
   },
   {
    "duration": 16,
    "start_time": "2022-09-25T12:26:42.395Z"
   },
   {
    "duration": 6729,
    "start_time": "2022-09-25T12:26:46.869Z"
   },
   {
    "duration": 14,
    "start_time": "2022-09-25T12:26:55.810Z"
   },
   {
    "duration": 5378,
    "start_time": "2022-09-25T12:27:05.850Z"
   },
   {
    "duration": 13,
    "start_time": "2022-09-25T12:27:13.869Z"
   },
   {
    "duration": 6089,
    "start_time": "2022-09-25T12:27:18.951Z"
   },
   {
    "duration": 13,
    "start_time": "2022-09-25T12:27:27.636Z"
   },
   {
    "duration": 6845,
    "start_time": "2022-09-25T12:27:32.330Z"
   },
   {
    "duration": 15,
    "start_time": "2022-09-25T12:27:42.529Z"
   },
   {
    "duration": 7536,
    "start_time": "2022-09-25T12:28:27.605Z"
   },
   {
    "duration": 21,
    "start_time": "2022-09-25T12:28:38.170Z"
   },
   {
    "duration": 5,
    "start_time": "2022-09-25T12:29:48.885Z"
   },
   {
    "duration": 26,
    "start_time": "2022-09-25T12:29:51.450Z"
   },
   {
    "duration": 7668,
    "start_time": "2022-09-25T12:30:13.820Z"
   },
   {
    "duration": 4,
    "start_time": "2022-09-25T12:30:24.900Z"
   },
   {
    "duration": 31,
    "start_time": "2022-09-25T12:30:27.329Z"
   },
   {
    "duration": 6500,
    "start_time": "2022-09-25T12:30:50.150Z"
   },
   {
    "duration": 17,
    "start_time": "2022-09-25T12:31:01.009Z"
   },
   {
    "duration": 7624,
    "start_time": "2022-09-25T12:31:07.790Z"
   },
   {
    "duration": 22,
    "start_time": "2022-09-25T12:31:18.270Z"
   },
   {
    "duration": 8564,
    "start_time": "2022-09-25T12:31:27.665Z"
   },
   {
    "duration": 15,
    "start_time": "2022-09-25T12:31:39.471Z"
   },
   {
    "duration": 23653,
    "start_time": "2022-09-25T12:31:55.790Z"
   },
   {
    "duration": 22,
    "start_time": "2022-09-25T12:32:21.891Z"
   },
   {
    "duration": 19983,
    "start_time": "2022-09-25T12:32:26.830Z"
   },
   {
    "duration": 20,
    "start_time": "2022-09-25T12:32:49.055Z"
   },
   {
    "duration": 7961,
    "start_time": "2022-09-25T12:33:38.883Z"
   },
   {
    "duration": 13,
    "start_time": "2022-09-25T12:33:53.610Z"
   },
   {
    "duration": 9097,
    "start_time": "2022-09-25T12:34:01.630Z"
   },
   {
    "duration": 15,
    "start_time": "2022-09-25T12:34:12.482Z"
   },
   {
    "duration": 10420,
    "start_time": "2022-09-25T12:34:17.250Z"
   },
   {
    "duration": 19,
    "start_time": "2022-09-25T12:34:30.190Z"
   },
   {
    "duration": 19636,
    "start_time": "2022-09-25T12:34:34.891Z"
   },
   {
    "duration": 22,
    "start_time": "2022-09-25T12:34:56.271Z"
   },
   {
    "duration": 23848,
    "start_time": "2022-09-25T12:35:01.995Z"
   },
   {
    "duration": 34,
    "start_time": "2022-09-25T12:35:26.885Z"
   },
   {
    "duration": 37346,
    "start_time": "2022-09-25T12:35:31.630Z"
   },
   {
    "duration": 27,
    "start_time": "2022-09-25T12:36:09.481Z"
   },
   {
    "duration": 6,
    "start_time": "2022-09-25T12:36:11.650Z"
   },
   {
    "duration": 40,
    "start_time": "2022-09-25T12:36:12.310Z"
   },
   {
    "duration": 61379,
    "start_time": "2022-09-25T12:36:19.052Z"
   },
   {
    "duration": 34,
    "start_time": "2022-09-25T12:37:20.434Z"
   },
   {
    "duration": 59453,
    "start_time": "2022-09-25T12:37:31.580Z"
   },
   {
    "duration": 35,
    "start_time": "2022-09-25T12:38:31.036Z"
   },
   {
    "duration": 112291,
    "start_time": "2022-09-25T12:38:39.691Z"
   },
   {
    "duration": 45,
    "start_time": "2022-09-25T12:40:31.985Z"
   },
   {
    "duration": 4,
    "start_time": "2022-09-25T12:46:52.970Z"
   },
   {
    "duration": 29,
    "start_time": "2022-09-25T12:46:53.850Z"
   },
   {
    "duration": 27,
    "start_time": "2022-09-25T12:46:57.271Z"
   },
   {
    "duration": 2048464,
    "start_time": "2022-09-25T12:47:31.400Z"
   },
   {
    "duration": 6284,
    "start_time": "2022-09-25T14:03:09.957Z"
   },
   {
    "duration": 14,
    "start_time": "2022-09-25T14:03:20.432Z"
   },
   {
    "duration": 4578,
    "start_time": "2022-09-25T14:12:22.192Z"
   },
   {
    "duration": 1365,
    "start_time": "2022-09-25T14:12:26.775Z"
   },
   {
    "duration": 154,
    "start_time": "2022-09-25T14:12:28.141Z"
   },
   {
    "duration": 51,
    "start_time": "2022-09-25T14:12:28.296Z"
   },
   {
    "duration": 35,
    "start_time": "2022-09-25T14:12:28.350Z"
   },
   {
    "duration": 41,
    "start_time": "2022-09-25T14:12:28.387Z"
   },
   {
    "duration": 45,
    "start_time": "2022-09-25T14:12:28.429Z"
   },
   {
    "duration": 129,
    "start_time": "2022-09-25T14:12:28.475Z"
   },
   {
    "duration": 6,
    "start_time": "2022-09-25T14:12:28.606Z"
   },
   {
    "duration": 13,
    "start_time": "2022-09-25T14:12:28.613Z"
   },
   {
    "duration": 29,
    "start_time": "2022-09-25T14:12:28.628Z"
   },
   {
    "duration": 14,
    "start_time": "2022-09-25T14:12:28.670Z"
   },
   {
    "duration": 49,
    "start_time": "2022-09-25T14:12:28.688Z"
   },
   {
    "duration": 78,
    "start_time": "2022-09-25T14:12:28.740Z"
   },
   {
    "duration": 10,
    "start_time": "2022-09-25T14:12:28.820Z"
   },
   {
    "duration": 44,
    "start_time": "2022-09-25T14:12:28.831Z"
   },
   {
    "duration": 1031,
    "start_time": "2022-09-25T14:12:28.877Z"
   },
   {
    "duration": 4,
    "start_time": "2022-09-25T14:12:29.909Z"
   },
   {
    "duration": 410,
    "start_time": "2022-09-25T14:12:29.915Z"
   },
   {
    "duration": 9,
    "start_time": "2022-09-25T14:12:30.327Z"
   },
   {
    "duration": 52,
    "start_time": "2022-09-25T14:12:30.338Z"
   },
   {
    "duration": 118465,
    "start_time": "2022-09-25T14:12:30.392Z"
   },
   {
    "duration": 5149,
    "start_time": "2022-09-25T14:47:51.987Z"
   },
   {
    "duration": 1372,
    "start_time": "2022-09-25T14:47:57.139Z"
   },
   {
    "duration": 347,
    "start_time": "2022-09-25T14:47:58.513Z"
   },
   {
    "duration": 54,
    "start_time": "2022-09-25T14:47:58.862Z"
   },
   {
    "duration": 59,
    "start_time": "2022-09-25T14:47:58.918Z"
   },
   {
    "duration": 41,
    "start_time": "2022-09-25T14:47:58.979Z"
   },
   {
    "duration": 48,
    "start_time": "2022-09-25T14:47:59.022Z"
   },
   {
    "duration": 113,
    "start_time": "2022-09-25T14:47:59.072Z"
   },
   {
    "duration": 7,
    "start_time": "2022-09-25T14:47:59.187Z"
   },
   {
    "duration": 14,
    "start_time": "2022-09-25T14:47:59.196Z"
   },
   {
    "duration": 10,
    "start_time": "2022-09-25T14:47:59.211Z"
   },
   {
    "duration": 44,
    "start_time": "2022-09-25T14:47:59.222Z"
   },
   {
    "duration": 35,
    "start_time": "2022-09-25T14:47:59.273Z"
   },
   {
    "duration": 85,
    "start_time": "2022-09-25T14:47:59.311Z"
   },
   {
    "duration": 11,
    "start_time": "2022-09-25T14:47:59.398Z"
   },
   {
    "duration": 23,
    "start_time": "2022-09-25T14:47:59.410Z"
   },
   {
    "duration": 1049,
    "start_time": "2022-09-25T14:47:59.434Z"
   },
   {
    "duration": 5,
    "start_time": "2022-09-25T14:48:00.484Z"
   },
   {
    "duration": 451,
    "start_time": "2022-09-25T14:48:00.490Z"
   },
   {
    "duration": 22,
    "start_time": "2022-09-25T14:48:00.943Z"
   },
   {
    "duration": 26,
    "start_time": "2022-09-25T14:48:00.967Z"
   },
   {
    "duration": 119378,
    "start_time": "2022-09-25T14:48:00.995Z"
   },
   {
    "duration": 6542,
    "start_time": "2022-09-25T14:50:00.374Z"
   },
   {
    "duration": 5,
    "start_time": "2022-09-25T14:50:06.918Z"
   },
   {
    "duration": 19,
    "start_time": "2022-09-25T14:50:06.925Z"
   },
   {
    "duration": 68,
    "start_time": "2022-09-26T15:02:15.666Z"
   },
   {
    "duration": 12509,
    "start_time": "2022-09-26T15:02:35.980Z"
   },
   {
    "duration": 1615,
    "start_time": "2022-09-26T15:02:48.492Z"
   },
   {
    "duration": 358,
    "start_time": "2022-09-26T15:02:50.109Z"
   },
   {
    "duration": 57,
    "start_time": "2022-09-26T15:02:50.468Z"
   },
   {
    "duration": 37,
    "start_time": "2022-09-26T15:02:50.527Z"
   },
   {
    "duration": 47,
    "start_time": "2022-09-26T15:02:50.567Z"
   },
   {
    "duration": 29,
    "start_time": "2022-09-26T15:02:50.640Z"
   },
   {
    "duration": 131,
    "start_time": "2022-09-26T15:02:50.671Z"
   },
   {
    "duration": 7,
    "start_time": "2022-09-26T15:02:50.804Z"
   },
   {
    "duration": 29,
    "start_time": "2022-09-26T15:02:50.812Z"
   },
   {
    "duration": 11,
    "start_time": "2022-09-26T15:02:50.843Z"
   },
   {
    "duration": 12,
    "start_time": "2022-09-26T15:02:50.855Z"
   },
   {
    "duration": 33,
    "start_time": "2022-09-26T15:02:50.868Z"
   },
   {
    "duration": 105,
    "start_time": "2022-09-26T15:02:50.904Z"
   },
   {
    "duration": 31,
    "start_time": "2022-09-26T15:02:51.011Z"
   },
   {
    "duration": 80,
    "start_time": "2022-09-26T15:02:51.044Z"
   },
   {
    "duration": 0,
    "start_time": "2022-09-26T15:02:51.126Z"
   },
   {
    "duration": 0,
    "start_time": "2022-09-26T15:02:51.128Z"
   },
   {
    "duration": 0,
    "start_time": "2022-09-26T15:02:51.129Z"
   },
   {
    "duration": 0,
    "start_time": "2022-09-26T15:02:51.130Z"
   },
   {
    "duration": 0,
    "start_time": "2022-09-26T15:02:51.131Z"
   },
   {
    "duration": 0,
    "start_time": "2022-09-26T15:02:51.132Z"
   },
   {
    "duration": 0,
    "start_time": "2022-09-26T15:02:51.133Z"
   },
   {
    "duration": 0,
    "start_time": "2022-09-26T15:02:51.134Z"
   },
   {
    "duration": 0,
    "start_time": "2022-09-26T15:02:51.135Z"
   },
   {
    "duration": 0,
    "start_time": "2022-09-26T15:02:51.136Z"
   },
   {
    "duration": 71,
    "start_time": "2022-09-26T15:03:26.869Z"
   },
   {
    "duration": 3,
    "start_time": "2022-09-26T15:06:14.589Z"
   },
   {
    "duration": 1386,
    "start_time": "2022-09-26T15:06:20.884Z"
   },
   {
    "duration": 1116,
    "start_time": "2022-09-26T15:06:37.209Z"
   },
   {
    "duration": 35,
    "start_time": "2022-09-26T15:06:48.189Z"
   },
   {
    "duration": 1735,
    "start_time": "2022-09-26T15:07:20.069Z"
   },
   {
    "duration": 1381,
    "start_time": "2022-09-26T15:07:56.589Z"
   },
   {
    "duration": 757,
    "start_time": "2022-09-26T15:12:33.429Z"
   },
   {
    "duration": 5,
    "start_time": "2022-09-26T15:15:16.732Z"
   },
   {
    "duration": 54,
    "start_time": "2022-09-26T15:19:36.050Z"
   },
   {
    "duration": 5,
    "start_time": "2022-09-26T15:19:40.570Z"
   },
   {
    "duration": 433,
    "start_time": "2022-09-26T15:35:43.069Z"
   },
   {
    "duration": 958,
    "start_time": "2022-09-26T15:36:49.128Z"
   },
   {
    "duration": 10,
    "start_time": "2022-09-26T15:37:15.148Z"
   },
   {
    "duration": 10,
    "start_time": "2022-09-26T15:39:00.869Z"
   },
   {
    "duration": 4526,
    "start_time": "2022-09-26T15:39:11.445Z"
   },
   {
    "duration": 1264,
    "start_time": "2022-09-26T15:39:15.974Z"
   },
   {
    "duration": 153,
    "start_time": "2022-09-26T15:39:17.241Z"
   },
   {
    "duration": 54,
    "start_time": "2022-09-26T15:39:17.396Z"
   },
   {
    "duration": 34,
    "start_time": "2022-09-26T15:39:17.452Z"
   },
   {
    "duration": 63,
    "start_time": "2022-09-26T15:39:17.487Z"
   },
   {
    "duration": 22,
    "start_time": "2022-09-26T15:39:17.552Z"
   },
   {
    "duration": 130,
    "start_time": "2022-09-26T15:39:17.576Z"
   },
   {
    "duration": 6,
    "start_time": "2022-09-26T15:39:17.707Z"
   },
   {
    "duration": 27,
    "start_time": "2022-09-26T15:39:17.715Z"
   },
   {
    "duration": 8,
    "start_time": "2022-09-26T15:39:17.743Z"
   },
   {
    "duration": 10,
    "start_time": "2022-09-26T15:39:17.753Z"
   },
   {
    "duration": 31,
    "start_time": "2022-09-26T15:39:17.765Z"
   },
   {
    "duration": 102,
    "start_time": "2022-09-26T15:39:17.798Z"
   },
   {
    "duration": 9,
    "start_time": "2022-09-26T15:39:17.901Z"
   },
   {
    "duration": 6,
    "start_time": "2022-09-26T15:39:17.911Z"
   },
   {
    "duration": 140,
    "start_time": "2022-09-26T15:39:17.918Z"
   },
   {
    "duration": 0,
    "start_time": "2022-09-26T15:39:18.059Z"
   },
   {
    "duration": 0,
    "start_time": "2022-09-26T15:39:18.061Z"
   },
   {
    "duration": 0,
    "start_time": "2022-09-26T15:39:18.062Z"
   },
   {
    "duration": 0,
    "start_time": "2022-09-26T15:39:18.063Z"
   },
   {
    "duration": 0,
    "start_time": "2022-09-26T15:39:18.064Z"
   },
   {
    "duration": 0,
    "start_time": "2022-09-26T15:39:18.065Z"
   },
   {
    "duration": 0,
    "start_time": "2022-09-26T15:39:18.066Z"
   },
   {
    "duration": 0,
    "start_time": "2022-09-26T15:39:18.067Z"
   },
   {
    "duration": 0,
    "start_time": "2022-09-26T15:39:18.068Z"
   },
   {
    "duration": 0,
    "start_time": "2022-09-26T15:39:18.069Z"
   },
   {
    "duration": 0,
    "start_time": "2022-09-26T15:39:18.070Z"
   },
   {
    "duration": 9,
    "start_time": "2022-09-26T15:39:50.468Z"
   },
   {
    "duration": 11,
    "start_time": "2022-09-26T15:40:31.988Z"
   },
   {
    "duration": 4625,
    "start_time": "2022-09-26T15:40:52.255Z"
   },
   {
    "duration": 1288,
    "start_time": "2022-09-26T15:40:56.883Z"
   },
   {
    "duration": 144,
    "start_time": "2022-09-26T15:40:58.173Z"
   },
   {
    "duration": 57,
    "start_time": "2022-09-26T15:40:58.319Z"
   },
   {
    "duration": 34,
    "start_time": "2022-09-26T15:40:58.379Z"
   },
   {
    "duration": 61,
    "start_time": "2022-09-26T15:40:58.415Z"
   },
   {
    "duration": 23,
    "start_time": "2022-09-26T15:40:58.478Z"
   },
   {
    "duration": 169,
    "start_time": "2022-09-26T15:40:58.502Z"
   },
   {
    "duration": 6,
    "start_time": "2022-09-26T15:40:58.673Z"
   },
   {
    "duration": 10,
    "start_time": "2022-09-26T15:40:58.681Z"
   },
   {
    "duration": 14,
    "start_time": "2022-09-26T15:40:58.693Z"
   },
   {
    "duration": 33,
    "start_time": "2022-09-26T15:40:58.709Z"
   },
   {
    "duration": 34,
    "start_time": "2022-09-26T15:40:58.744Z"
   },
   {
    "duration": 96,
    "start_time": "2022-09-26T15:40:58.780Z"
   },
   {
    "duration": 10,
    "start_time": "2022-09-26T15:40:58.878Z"
   },
   {
    "duration": 54,
    "start_time": "2022-09-26T15:40:58.890Z"
   },
   {
    "duration": 528,
    "start_time": "2022-09-26T15:40:58.945Z"
   },
   {
    "duration": 0,
    "start_time": "2022-09-26T15:40:59.475Z"
   },
   {
    "duration": 0,
    "start_time": "2022-09-26T15:40:59.477Z"
   },
   {
    "duration": 0,
    "start_time": "2022-09-26T15:40:59.478Z"
   },
   {
    "duration": 0,
    "start_time": "2022-09-26T15:40:59.479Z"
   },
   {
    "duration": 0,
    "start_time": "2022-09-26T15:40:59.480Z"
   },
   {
    "duration": 0,
    "start_time": "2022-09-26T15:40:59.481Z"
   },
   {
    "duration": 0,
    "start_time": "2022-09-26T15:40:59.482Z"
   },
   {
    "duration": 0,
    "start_time": "2022-09-26T15:40:59.483Z"
   },
   {
    "duration": 0,
    "start_time": "2022-09-26T15:40:59.485Z"
   },
   {
    "duration": 0,
    "start_time": "2022-09-26T15:40:59.486Z"
   },
   {
    "duration": 79,
    "start_time": "2022-09-26T15:42:53.785Z"
   },
   {
    "duration": 483,
    "start_time": "2022-09-26T15:55:28.780Z"
   },
   {
    "duration": 666,
    "start_time": "2022-09-26T15:55:48.560Z"
   },
   {
    "duration": 498,
    "start_time": "2022-09-26T15:56:15.400Z"
   },
   {
    "duration": 20,
    "start_time": "2022-09-26T16:02:24.400Z"
   },
   {
    "duration": 15,
    "start_time": "2022-09-26T16:03:53.750Z"
   },
   {
    "duration": 23,
    "start_time": "2022-09-26T16:05:04.030Z"
   },
   {
    "duration": 8,
    "start_time": "2022-09-26T16:07:26.795Z"
   },
   {
    "duration": 16,
    "start_time": "2022-09-26T16:08:02.216Z"
   },
   {
    "duration": 44,
    "start_time": "2022-09-26T16:08:09.001Z"
   },
   {
    "duration": 29,
    "start_time": "2022-09-26T16:08:20.136Z"
   },
   {
    "duration": 11,
    "start_time": "2022-09-26T16:15:36.941Z"
   },
   {
    "duration": 7,
    "start_time": "2022-09-26T16:15:40.319Z"
   },
   {
    "duration": 381,
    "start_time": "2022-09-26T16:15:42.082Z"
   },
   {
    "duration": 3,
    "start_time": "2022-09-26T16:16:27.802Z"
   },
   {
    "duration": 289,
    "start_time": "2022-09-26T16:16:30.980Z"
   },
   {
    "duration": 7,
    "start_time": "2022-09-26T16:17:58.756Z"
   },
   {
    "duration": 4,
    "start_time": "2022-09-26T16:20:55.311Z"
   },
   {
    "duration": 4,
    "start_time": "2022-09-26T16:20:59.642Z"
   },
   {
    "duration": 241,
    "start_time": "2022-09-26T16:21:07.062Z"
   },
   {
    "duration": 4606,
    "start_time": "2022-09-26T16:21:24.925Z"
   },
   {
    "duration": 1357,
    "start_time": "2022-09-26T16:21:29.534Z"
   },
   {
    "duration": 134,
    "start_time": "2022-09-26T16:21:30.893Z"
   },
   {
    "duration": 55,
    "start_time": "2022-09-26T16:21:31.029Z"
   },
   {
    "duration": 33,
    "start_time": "2022-09-26T16:21:31.087Z"
   },
   {
    "duration": 56,
    "start_time": "2022-09-26T16:21:31.122Z"
   },
   {
    "duration": 44,
    "start_time": "2022-09-26T16:21:31.179Z"
   },
   {
    "duration": 116,
    "start_time": "2022-09-26T16:21:31.225Z"
   },
   {
    "duration": 6,
    "start_time": "2022-09-26T16:21:31.343Z"
   },
   {
    "duration": 12,
    "start_time": "2022-09-26T16:21:31.350Z"
   },
   {
    "duration": 11,
    "start_time": "2022-09-26T16:21:31.364Z"
   },
   {
    "duration": 11,
    "start_time": "2022-09-26T16:21:31.377Z"
   },
   {
    "duration": 59,
    "start_time": "2022-09-26T16:21:31.390Z"
   },
   {
    "duration": 86,
    "start_time": "2022-09-26T16:21:31.452Z"
   },
   {
    "duration": 10,
    "start_time": "2022-09-26T16:21:31.540Z"
   },
   {
    "duration": 16,
    "start_time": "2022-09-26T16:21:31.552Z"
   },
   {
    "duration": 19,
    "start_time": "2022-09-26T16:21:31.570Z"
   },
   {
    "duration": 21,
    "start_time": "2022-09-26T16:21:31.591Z"
   },
   {
    "duration": 25,
    "start_time": "2022-09-26T16:21:31.614Z"
   },
   {
    "duration": 379,
    "start_time": "2022-09-26T16:21:31.640Z"
   },
   {
    "duration": 0,
    "start_time": "2022-09-26T16:21:32.021Z"
   },
   {
    "duration": 0,
    "start_time": "2022-09-26T16:21:32.022Z"
   },
   {
    "duration": 0,
    "start_time": "2022-09-26T16:21:32.023Z"
   },
   {
    "duration": 0,
    "start_time": "2022-09-26T16:21:32.024Z"
   },
   {
    "duration": 0,
    "start_time": "2022-09-26T16:21:32.026Z"
   },
   {
    "duration": 0,
    "start_time": "2022-09-26T16:21:32.027Z"
   },
   {
    "duration": 0,
    "start_time": "2022-09-26T16:21:32.028Z"
   },
   {
    "duration": 0,
    "start_time": "2022-09-26T16:21:32.029Z"
   },
   {
    "duration": 0,
    "start_time": "2022-09-26T16:21:32.029Z"
   },
   {
    "duration": 4,
    "start_time": "2022-09-26T16:23:17.124Z"
   },
   {
    "duration": 330,
    "start_time": "2022-09-26T16:23:50.664Z"
   },
   {
    "duration": 1412,
    "start_time": "2022-09-26T16:24:49.684Z"
   },
   {
    "duration": 255,
    "start_time": "2022-09-26T16:28:56.945Z"
   },
   {
    "duration": 72,
    "start_time": "2022-09-26T16:39:41.844Z"
   },
   {
    "duration": 4,
    "start_time": "2022-09-26T16:41:58.104Z"
   },
   {
    "duration": 126,
    "start_time": "2022-09-26T16:42:00.754Z"
   },
   {
    "duration": 380,
    "start_time": "2022-09-26T16:42:25.284Z"
   },
   {
    "duration": 30,
    "start_time": "2022-09-26T16:43:33.084Z"
   },
   {
    "duration": 4,
    "start_time": "2022-09-26T16:43:36.424Z"
   },
   {
    "duration": 314,
    "start_time": "2022-09-26T16:43:39.040Z"
   },
   {
    "duration": 68,
    "start_time": "2022-09-26T16:46:00.605Z"
   },
   {
    "duration": 43,
    "start_time": "2022-09-26T16:46:10.619Z"
   },
   {
    "duration": 4,
    "start_time": "2022-09-26T16:46:26.664Z"
   },
   {
    "duration": 214,
    "start_time": "2022-09-26T16:46:31.403Z"
   },
   {
    "duration": 19,
    "start_time": "2022-09-26T16:47:52.464Z"
   },
   {
    "duration": 7,
    "start_time": "2022-09-26T16:50:43.728Z"
   },
   {
    "duration": 6,
    "start_time": "2022-09-26T16:51:06.289Z"
   },
   {
    "duration": 3,
    "start_time": "2022-09-26T16:51:54.458Z"
   },
   {
    "duration": 25,
    "start_time": "2022-09-26T16:52:00.384Z"
   },
   {
    "duration": 3,
    "start_time": "2022-09-26T16:53:11.229Z"
   },
   {
    "duration": 22,
    "start_time": "2022-09-26T16:53:13.664Z"
   },
   {
    "duration": 56,
    "start_time": "2022-09-26T16:54:04.884Z"
   },
   {
    "duration": 4,
    "start_time": "2022-09-26T16:54:12.544Z"
   },
   {
    "duration": 56,
    "start_time": "2022-09-26T16:54:16.904Z"
   },
   {
    "duration": 229,
    "start_time": "2022-09-26T16:54:42.084Z"
   },
   {
    "duration": 239,
    "start_time": "2022-09-26T16:54:55.979Z"
   },
   {
    "duration": 4,
    "start_time": "2022-09-26T16:56:55.554Z"
   },
   {
    "duration": 305,
    "start_time": "2022-09-26T16:56:57.484Z"
   },
   {
    "duration": 29,
    "start_time": "2022-09-26T16:58:36.104Z"
   },
   {
    "duration": 25,
    "start_time": "2022-09-26T16:58:59.284Z"
   },
   {
    "duration": 3,
    "start_time": "2022-09-26T16:59:04.864Z"
   },
   {
    "duration": 197,
    "start_time": "2022-09-26T16:59:06.949Z"
   },
   {
    "duration": 3,
    "start_time": "2022-09-26T16:59:30.034Z"
   },
   {
    "duration": 219,
    "start_time": "2022-09-26T16:59:32.704Z"
   },
   {
    "duration": 23,
    "start_time": "2022-09-26T17:04:54.464Z"
   },
   {
    "duration": 248,
    "start_time": "2022-09-26T17:06:09.289Z"
   },
   {
    "duration": 3,
    "start_time": "2022-09-26T17:07:02.654Z"
   },
   {
    "duration": 218,
    "start_time": "2022-09-26T17:07:04.964Z"
   },
   {
    "duration": 3,
    "start_time": "2022-09-26T17:07:51.724Z"
   },
   {
    "duration": 278,
    "start_time": "2022-09-26T17:07:53.304Z"
   },
   {
    "duration": 3,
    "start_time": "2022-09-26T17:08:45.064Z"
   },
   {
    "duration": 226,
    "start_time": "2022-09-26T17:08:48.004Z"
   },
   {
    "duration": 5,
    "start_time": "2022-09-26T17:09:25.514Z"
   },
   {
    "duration": 6,
    "start_time": "2022-09-26T17:10:09.604Z"
   },
   {
    "duration": 22,
    "start_time": "2022-09-26T17:10:35.084Z"
   },
   {
    "duration": 6,
    "start_time": "2022-09-26T17:10:38.604Z"
   },
   {
    "duration": 21,
    "start_time": "2022-09-26T17:10:53.325Z"
   },
   {
    "duration": 5,
    "start_time": "2022-09-26T17:10:56.989Z"
   },
   {
    "duration": 5,
    "start_time": "2022-09-26T17:11:15.764Z"
   },
   {
    "duration": 9447,
    "start_time": "2022-09-27T06:30:38.190Z"
   },
   {
    "duration": 1165,
    "start_time": "2022-09-27T06:30:47.639Z"
   },
   {
    "duration": 343,
    "start_time": "2022-09-27T06:30:48.806Z"
   },
   {
    "duration": 43,
    "start_time": "2022-09-27T06:30:49.151Z"
   },
   {
    "duration": 26,
    "start_time": "2022-09-27T06:30:49.195Z"
   },
   {
    "duration": 38,
    "start_time": "2022-09-27T06:30:49.222Z"
   },
   {
    "duration": 20,
    "start_time": "2022-09-27T06:30:49.262Z"
   },
   {
    "duration": 104,
    "start_time": "2022-09-27T06:30:49.283Z"
   },
   {
    "duration": 21,
    "start_time": "2022-09-27T06:30:49.389Z"
   },
   {
    "duration": 7,
    "start_time": "2022-09-27T06:30:49.413Z"
   },
   {
    "duration": 8,
    "start_time": "2022-09-27T06:30:49.421Z"
   },
   {
    "duration": 9,
    "start_time": "2022-09-27T06:30:49.431Z"
   },
   {
    "duration": 28,
    "start_time": "2022-09-27T06:30:49.441Z"
   },
   {
    "duration": 88,
    "start_time": "2022-09-27T06:30:49.470Z"
   },
   {
    "duration": 9,
    "start_time": "2022-09-27T06:30:49.559Z"
   },
   {
    "duration": 7,
    "start_time": "2022-09-27T06:30:49.569Z"
   },
   {
    "duration": 36,
    "start_time": "2022-09-27T06:30:49.577Z"
   },
   {
    "duration": 22,
    "start_time": "2022-09-27T06:30:49.614Z"
   },
   {
    "duration": 5,
    "start_time": "2022-09-27T06:30:49.637Z"
   },
   {
    "duration": 3,
    "start_time": "2022-09-27T06:30:49.644Z"
   },
   {
    "duration": 393,
    "start_time": "2022-09-27T06:30:49.648Z"
   },
   {
    "duration": 0,
    "start_time": "2022-09-27T06:30:50.042Z"
   },
   {
    "duration": 0,
    "start_time": "2022-09-27T06:30:50.043Z"
   },
   {
    "duration": 0,
    "start_time": "2022-09-27T06:30:50.044Z"
   },
   {
    "duration": 0,
    "start_time": "2022-09-27T06:30:50.045Z"
   },
   {
    "duration": 0,
    "start_time": "2022-09-27T06:30:50.047Z"
   },
   {
    "duration": 0,
    "start_time": "2022-09-27T06:30:50.047Z"
   },
   {
    "duration": 0,
    "start_time": "2022-09-27T06:30:50.049Z"
   },
   {
    "duration": 0,
    "start_time": "2022-09-27T06:30:50.049Z"
   },
   {
    "duration": 0,
    "start_time": "2022-09-27T06:30:50.050Z"
   },
   {
    "duration": 57,
    "start_time": "2022-09-27T12:25:51.753Z"
   },
   {
    "duration": 11038,
    "start_time": "2022-09-27T12:25:58.418Z"
   },
   {
    "duration": 1532,
    "start_time": "2022-09-27T12:26:09.459Z"
   },
   {
    "duration": 345,
    "start_time": "2022-09-27T12:26:10.992Z"
   },
   {
    "duration": 54,
    "start_time": "2022-09-27T12:26:11.339Z"
   },
   {
    "duration": 48,
    "start_time": "2022-09-27T12:26:11.395Z"
   },
   {
    "duration": 43,
    "start_time": "2022-09-27T12:26:11.445Z"
   },
   {
    "duration": 22,
    "start_time": "2022-09-27T12:26:11.489Z"
   },
   {
    "duration": 135,
    "start_time": "2022-09-27T12:26:11.539Z"
   },
   {
    "duration": 7,
    "start_time": "2022-09-27T12:26:11.676Z"
   },
   {
    "duration": 13,
    "start_time": "2022-09-27T12:26:11.685Z"
   },
   {
    "duration": 10,
    "start_time": "2022-09-27T12:26:11.700Z"
   },
   {
    "duration": 36,
    "start_time": "2022-09-27T12:26:11.712Z"
   },
   {
    "duration": 30,
    "start_time": "2022-09-27T12:26:11.750Z"
   },
   {
    "duration": 94,
    "start_time": "2022-09-27T12:26:11.781Z"
   },
   {
    "duration": 9,
    "start_time": "2022-09-27T12:26:11.877Z"
   },
   {
    "duration": 7,
    "start_time": "2022-09-27T12:26:11.888Z"
   },
   {
    "duration": 43,
    "start_time": "2022-09-27T12:26:11.896Z"
   },
   {
    "duration": 26,
    "start_time": "2022-09-27T12:26:11.941Z"
   },
   {
    "duration": 6,
    "start_time": "2022-09-27T12:26:11.969Z"
   },
   {
    "duration": 5,
    "start_time": "2022-09-27T12:26:11.976Z"
   },
   {
    "duration": 380,
    "start_time": "2022-09-27T12:26:11.982Z"
   },
   {
    "duration": 0,
    "start_time": "2022-09-27T12:26:12.364Z"
   },
   {
    "duration": 0,
    "start_time": "2022-09-27T12:26:12.366Z"
   },
   {
    "duration": 0,
    "start_time": "2022-09-27T12:26:12.367Z"
   },
   {
    "duration": 0,
    "start_time": "2022-09-27T12:26:12.369Z"
   },
   {
    "duration": 0,
    "start_time": "2022-09-27T12:26:12.371Z"
   },
   {
    "duration": 0,
    "start_time": "2022-09-27T12:26:12.372Z"
   },
   {
    "duration": 0,
    "start_time": "2022-09-27T12:26:12.374Z"
   },
   {
    "duration": 0,
    "start_time": "2022-09-27T12:26:12.375Z"
   },
   {
    "duration": 0,
    "start_time": "2022-09-27T12:26:12.377Z"
   },
   {
    "duration": 35,
    "start_time": "2022-09-27T12:26:54.348Z"
   },
   {
    "duration": 3,
    "start_time": "2022-09-27T12:27:56.153Z"
   },
   {
    "duration": 325,
    "start_time": "2022-09-27T12:28:02.169Z"
   },
   {
    "duration": 256,
    "start_time": "2022-09-27T12:29:11.788Z"
   },
   {
    "duration": 104,
    "start_time": "2022-09-27T12:33:57.012Z"
   },
   {
    "duration": 37,
    "start_time": "2022-09-27T12:35:42.833Z"
   },
   {
    "duration": 49,
    "start_time": "2022-09-27T12:35:56.839Z"
   },
   {
    "duration": 40,
    "start_time": "2022-09-27T12:36:14.268Z"
   },
   {
    "duration": 31,
    "start_time": "2022-09-27T12:39:39.967Z"
   },
   {
    "duration": 32,
    "start_time": "2022-09-27T12:39:52.508Z"
   },
   {
    "duration": 34,
    "start_time": "2022-09-27T12:40:21.667Z"
   },
   {
    "duration": 35,
    "start_time": "2022-09-27T12:40:55.907Z"
   },
   {
    "duration": 3,
    "start_time": "2022-09-27T12:42:02.608Z"
   },
   {
    "duration": 235,
    "start_time": "2022-09-27T12:42:05.170Z"
   },
   {
    "duration": 4,
    "start_time": "2022-09-27T12:42:40.848Z"
   },
   {
    "duration": 3,
    "start_time": "2022-09-27T12:45:43.488Z"
   },
   {
    "duration": 301,
    "start_time": "2022-09-27T12:45:44.247Z"
   },
   {
    "duration": 3,
    "start_time": "2022-09-27T12:46:50.827Z"
   },
   {
    "duration": 376,
    "start_time": "2022-09-27T12:46:53.402Z"
   },
   {
    "duration": 3,
    "start_time": "2022-09-27T13:04:20.927Z"
   },
   {
    "duration": 239,
    "start_time": "2022-09-27T13:04:23.472Z"
   },
   {
    "duration": 3,
    "start_time": "2022-09-27T13:05:10.407Z"
   },
   {
    "duration": 253,
    "start_time": "2022-09-27T13:05:12.527Z"
   },
   {
    "duration": 230,
    "start_time": "2022-09-27T13:05:39.427Z"
   },
   {
    "duration": 3,
    "start_time": "2022-09-27T13:05:41.863Z"
   },
   {
    "duration": 432,
    "start_time": "2022-09-27T13:05:43.792Z"
   },
   {
    "duration": 3,
    "start_time": "2022-09-27T13:06:22.727Z"
   },
   {
    "duration": 293,
    "start_time": "2022-09-27T13:06:25.027Z"
   },
   {
    "duration": 3,
    "start_time": "2022-09-27T13:06:43.552Z"
   },
   {
    "duration": 283,
    "start_time": "2022-09-27T13:06:45.875Z"
   },
   {
    "duration": 4,
    "start_time": "2022-09-27T13:07:29.449Z"
   },
   {
    "duration": 5,
    "start_time": "2022-09-27T13:07:31.406Z"
   },
   {
    "duration": 9,
    "start_time": "2022-09-27T13:08:04.173Z"
   },
   {
    "duration": 116,
    "start_time": "2022-09-27T13:08:26.106Z"
   },
   {
    "duration": 3,
    "start_time": "2022-09-27T13:08:35.952Z"
   },
   {
    "duration": 8,
    "start_time": "2022-09-27T13:08:37.682Z"
   },
   {
    "duration": 38,
    "start_time": "2022-09-27T13:08:55.948Z"
   },
   {
    "duration": 25,
    "start_time": "2022-09-27T13:09:39.103Z"
   },
   {
    "duration": 30,
    "start_time": "2022-09-27T13:10:02.092Z"
   },
   {
    "duration": 34,
    "start_time": "2022-09-27T13:10:54.798Z"
   },
   {
    "duration": 3,
    "start_time": "2022-09-27T13:11:12.971Z"
   },
   {
    "duration": 8,
    "start_time": "2022-09-27T13:11:14.810Z"
   },
   {
    "duration": 3,
    "start_time": "2022-09-27T13:11:25.821Z"
   },
   {
    "duration": 10,
    "start_time": "2022-09-27T13:11:31.901Z"
   },
   {
    "duration": 45,
    "start_time": "2022-09-27T13:14:01.323Z"
   },
   {
    "duration": 5,
    "start_time": "2022-09-27T13:14:24.122Z"
   },
   {
    "duration": 24,
    "start_time": "2022-09-27T13:14:25.632Z"
   },
   {
    "duration": 104,
    "start_time": "2022-09-27T13:15:16.872Z"
   },
   {
    "duration": 3,
    "start_time": "2022-09-27T13:15:30.471Z"
   },
   {
    "duration": 377,
    "start_time": "2022-09-27T13:15:32.556Z"
   },
   {
    "duration": 47,
    "start_time": "2022-09-27T13:16:49.950Z"
   },
   {
    "duration": 35,
    "start_time": "2022-09-27T13:17:18.553Z"
   },
   {
    "duration": 3,
    "start_time": "2022-09-27T13:17:39.832Z"
   },
   {
    "duration": 417,
    "start_time": "2022-09-27T13:17:41.682Z"
   },
   {
    "duration": 48,
    "start_time": "2022-09-27T13:20:12.021Z"
   },
   {
    "duration": 3,
    "start_time": "2022-09-27T13:20:15.032Z"
   },
   {
    "duration": 8,
    "start_time": "2022-09-27T13:20:17.272Z"
   },
   {
    "duration": 109,
    "start_time": "2022-09-27T13:20:26.401Z"
   },
   {
    "duration": 21,
    "start_time": "2022-09-27T13:20:40.981Z"
   },
   {
    "duration": 21,
    "start_time": "2022-09-27T13:21:37.254Z"
   },
   {
    "duration": 15,
    "start_time": "2022-09-27T13:22:16.996Z"
   },
   {
    "duration": 5125,
    "start_time": "2022-09-27T13:22:25.688Z"
   },
   {
    "duration": 1320,
    "start_time": "2022-09-27T13:22:30.815Z"
   },
   {
    "duration": 158,
    "start_time": "2022-09-27T13:22:32.137Z"
   },
   {
    "duration": 67,
    "start_time": "2022-09-27T13:22:32.297Z"
   },
   {
    "duration": 32,
    "start_time": "2022-09-27T13:22:32.366Z"
   },
   {
    "duration": 62,
    "start_time": "2022-09-27T13:22:32.400Z"
   },
   {
    "duration": 22,
    "start_time": "2022-09-27T13:22:32.464Z"
   },
   {
    "duration": 128,
    "start_time": "2022-09-27T13:22:32.488Z"
   },
   {
    "duration": 6,
    "start_time": "2022-09-27T13:22:32.617Z"
   },
   {
    "duration": 27,
    "start_time": "2022-09-27T13:22:32.625Z"
   },
   {
    "duration": 11,
    "start_time": "2022-09-27T13:22:32.654Z"
   },
   {
    "duration": 14,
    "start_time": "2022-09-27T13:22:32.667Z"
   },
   {
    "duration": 31,
    "start_time": "2022-09-27T13:22:32.683Z"
   },
   {
    "duration": 110,
    "start_time": "2022-09-27T13:22:32.741Z"
   },
   {
    "duration": 11,
    "start_time": "2022-09-27T13:22:32.853Z"
   },
   {
    "duration": 7,
    "start_time": "2022-09-27T13:22:32.865Z"
   },
   {
    "duration": 20,
    "start_time": "2022-09-27T13:22:32.874Z"
   },
   {
    "duration": 26,
    "start_time": "2022-09-27T13:22:32.896Z"
   },
   {
    "duration": 5,
    "start_time": "2022-09-27T13:22:32.924Z"
   },
   {
    "duration": 6,
    "start_time": "2022-09-27T13:22:32.931Z"
   },
   {
    "duration": 20,
    "start_time": "2022-09-27T13:22:32.947Z"
   },
   {
    "duration": 32,
    "start_time": "2022-09-27T13:22:32.968Z"
   },
   {
    "duration": 1261,
    "start_time": "2022-09-27T13:22:33.002Z"
   },
   {
    "duration": 5,
    "start_time": "2022-09-27T13:22:34.265Z"
   },
   {
    "duration": 442,
    "start_time": "2022-09-27T13:22:34.272Z"
   },
   {
    "duration": 8,
    "start_time": "2022-09-27T13:22:34.716Z"
   },
   {
    "duration": 21,
    "start_time": "2022-09-27T13:22:34.726Z"
   },
   {
    "duration": 5089,
    "start_time": "2022-09-27T13:24:29.714Z"
   },
   {
    "duration": 1316,
    "start_time": "2022-09-27T13:24:34.805Z"
   },
   {
    "duration": 152,
    "start_time": "2022-09-27T13:24:36.123Z"
   },
   {
    "duration": 57,
    "start_time": "2022-09-27T13:24:36.278Z"
   },
   {
    "duration": 37,
    "start_time": "2022-09-27T13:24:36.360Z"
   },
   {
    "duration": 50,
    "start_time": "2022-09-27T13:24:36.399Z"
   },
   {
    "duration": 22,
    "start_time": "2022-09-27T13:24:36.452Z"
   },
   {
    "duration": 127,
    "start_time": "2022-09-27T13:24:36.476Z"
   },
   {
    "duration": 5,
    "start_time": "2022-09-27T13:24:36.605Z"
   },
   {
    "duration": 13,
    "start_time": "2022-09-27T13:24:36.613Z"
   },
   {
    "duration": 23,
    "start_time": "2022-09-27T13:24:36.627Z"
   },
   {
    "duration": 15,
    "start_time": "2022-09-27T13:24:36.652Z"
   },
   {
    "duration": 31,
    "start_time": "2022-09-27T13:24:36.668Z"
   },
   {
    "duration": 100,
    "start_time": "2022-09-27T13:24:36.700Z"
   },
   {
    "duration": 10,
    "start_time": "2022-09-27T13:24:36.802Z"
   },
   {
    "duration": 32,
    "start_time": "2022-09-27T13:24:36.814Z"
   },
   {
    "duration": 19,
    "start_time": "2022-09-27T13:24:36.849Z"
   },
   {
    "duration": 28,
    "start_time": "2022-09-27T13:24:36.870Z"
   },
   {
    "duration": 5,
    "start_time": "2022-09-27T13:24:36.900Z"
   },
   {
    "duration": 9,
    "start_time": "2022-09-27T13:24:36.907Z"
   },
   {
    "duration": 34,
    "start_time": "2022-09-27T13:24:36.918Z"
   },
   {
    "duration": 23,
    "start_time": "2022-09-27T13:24:36.954Z"
   },
   {
    "duration": 1326,
    "start_time": "2022-09-27T13:24:36.978Z"
   },
   {
    "duration": 5,
    "start_time": "2022-09-27T13:24:38.306Z"
   },
   {
    "duration": 560,
    "start_time": "2022-09-27T13:24:38.313Z"
   },
   {
    "duration": 9,
    "start_time": "2022-09-27T13:24:38.874Z"
   },
   {
    "duration": 6,
    "start_time": "2022-09-27T13:24:38.884Z"
   },
   {
    "duration": 5144,
    "start_time": "2022-09-27T13:26:02.264Z"
   },
   {
    "duration": 1369,
    "start_time": "2022-09-27T13:26:07.411Z"
   },
   {
    "duration": 154,
    "start_time": "2022-09-27T13:26:08.782Z"
   },
   {
    "duration": 71,
    "start_time": "2022-09-27T13:26:08.937Z"
   },
   {
    "duration": 54,
    "start_time": "2022-09-27T13:26:09.010Z"
   },
   {
    "duration": 43,
    "start_time": "2022-09-27T13:26:09.065Z"
   },
   {
    "duration": 48,
    "start_time": "2022-09-27T13:26:09.110Z"
   },
   {
    "duration": 116,
    "start_time": "2022-09-27T13:26:09.160Z"
   },
   {
    "duration": 6,
    "start_time": "2022-09-27T13:26:09.277Z"
   },
   {
    "duration": 12,
    "start_time": "2022-09-27T13:26:09.284Z"
   },
   {
    "duration": 12,
    "start_time": "2022-09-27T13:26:09.297Z"
   },
   {
    "duration": 13,
    "start_time": "2022-09-27T13:26:09.310Z"
   },
   {
    "duration": 31,
    "start_time": "2022-09-27T13:26:09.348Z"
   },
   {
    "duration": 91,
    "start_time": "2022-09-27T13:26:09.382Z"
   },
   {
    "duration": 9,
    "start_time": "2022-09-27T13:26:09.474Z"
   },
   {
    "duration": 6,
    "start_time": "2022-09-27T13:26:09.485Z"
   },
   {
    "duration": 24,
    "start_time": "2022-09-27T13:26:09.492Z"
   },
   {
    "duration": 52,
    "start_time": "2022-09-27T13:26:09.518Z"
   },
   {
    "duration": 6,
    "start_time": "2022-09-27T13:26:09.571Z"
   },
   {
    "duration": 4,
    "start_time": "2022-09-27T13:26:09.579Z"
   },
   {
    "duration": 12,
    "start_time": "2022-09-27T13:26:09.584Z"
   },
   {
    "duration": 53,
    "start_time": "2022-09-27T13:26:09.597Z"
   },
   {
    "duration": 1401,
    "start_time": "2022-09-27T13:26:09.652Z"
   },
   {
    "duration": 6,
    "start_time": "2022-09-27T13:26:11.055Z"
   },
   {
    "duration": 621,
    "start_time": "2022-09-27T13:26:11.063Z"
   },
   {
    "duration": 9,
    "start_time": "2022-09-27T13:26:11.686Z"
   },
   {
    "duration": 5,
    "start_time": "2022-09-27T13:26:11.696Z"
   },
   {
    "duration": 114790,
    "start_time": "2022-09-27T13:26:11.702Z"
   },
   {
    "duration": 7409,
    "start_time": "2022-09-27T13:28:06.493Z"
   },
   {
    "duration": 4,
    "start_time": "2022-09-27T13:28:13.904Z"
   },
   {
    "duration": 18,
    "start_time": "2022-09-27T13:28:13.909Z"
   },
   {
    "duration": 21,
    "start_time": "2022-09-27T13:28:13.930Z"
   },
   {
    "duration": 143,
    "start_time": "2022-09-27T13:28:13.953Z"
   },
   {
    "duration": 5401,
    "start_time": "2022-09-27T13:28:26.183Z"
   },
   {
    "duration": 1494,
    "start_time": "2022-09-27T13:28:31.586Z"
   },
   {
    "duration": 152,
    "start_time": "2022-09-27T13:28:33.082Z"
   },
   {
    "duration": 60,
    "start_time": "2022-09-27T13:28:33.236Z"
   },
   {
    "duration": 82,
    "start_time": "2022-09-27T13:28:33.298Z"
   },
   {
    "duration": 42,
    "start_time": "2022-09-27T13:28:33.382Z"
   },
   {
    "duration": 40,
    "start_time": "2022-09-27T13:28:33.425Z"
   },
   {
    "duration": 117,
    "start_time": "2022-09-27T13:28:33.467Z"
   },
   {
    "duration": 6,
    "start_time": "2022-09-27T13:28:33.585Z"
   },
   {
    "duration": 9,
    "start_time": "2022-09-27T13:28:33.594Z"
   },
   {
    "duration": 10,
    "start_time": "2022-09-27T13:28:33.605Z"
   },
   {
    "duration": 37,
    "start_time": "2022-09-27T13:28:33.617Z"
   },
   {
    "duration": 37,
    "start_time": "2022-09-27T13:28:33.656Z"
   },
   {
    "duration": 99,
    "start_time": "2022-09-27T13:28:33.694Z"
   },
   {
    "duration": 10,
    "start_time": "2022-09-27T13:28:33.795Z"
   },
   {
    "duration": 9,
    "start_time": "2022-09-27T13:28:33.806Z"
   },
   {
    "duration": 39,
    "start_time": "2022-09-27T13:28:33.816Z"
   },
   {
    "duration": 27,
    "start_time": "2022-09-27T13:28:33.857Z"
   },
   {
    "duration": 6,
    "start_time": "2022-09-27T13:28:33.885Z"
   },
   {
    "duration": 10,
    "start_time": "2022-09-27T13:28:33.893Z"
   },
   {
    "duration": 12,
    "start_time": "2022-09-27T13:28:33.904Z"
   },
   {
    "duration": 47,
    "start_time": "2022-09-27T13:28:33.918Z"
   },
   {
    "duration": 1405,
    "start_time": "2022-09-27T13:28:33.967Z"
   },
   {
    "duration": 6,
    "start_time": "2022-09-27T13:28:35.374Z"
   },
   {
    "duration": 615,
    "start_time": "2022-09-27T13:28:35.381Z"
   },
   {
    "duration": 10,
    "start_time": "2022-09-27T13:28:35.998Z"
   },
   {
    "duration": 6,
    "start_time": "2022-09-27T13:28:36.009Z"
   },
   {
    "duration": 114939,
    "start_time": "2022-09-27T13:28:36.019Z"
   },
   {
    "duration": 7056,
    "start_time": "2022-09-27T13:30:30.960Z"
   },
   {
    "duration": 4,
    "start_time": "2022-09-27T13:30:38.018Z"
   },
   {
    "duration": 25,
    "start_time": "2022-09-27T13:30:38.023Z"
   },
   {
    "duration": 127,
    "start_time": "2022-09-27T13:33:46.873Z"
   },
   {
    "duration": 4867,
    "start_time": "2022-09-27T13:33:58.310Z"
   },
   {
    "duration": 1321,
    "start_time": "2022-09-27T13:34:03.180Z"
   },
   {
    "duration": 132,
    "start_time": "2022-09-27T13:34:04.503Z"
   },
   {
    "duration": 52,
    "start_time": "2022-09-27T13:34:04.638Z"
   },
   {
    "duration": 52,
    "start_time": "2022-09-27T13:34:04.692Z"
   },
   {
    "duration": 43,
    "start_time": "2022-09-27T13:34:04.745Z"
   },
   {
    "duration": 22,
    "start_time": "2022-09-27T13:34:04.789Z"
   },
   {
    "duration": 140,
    "start_time": "2022-09-27T13:34:04.812Z"
   },
   {
    "duration": 7,
    "start_time": "2022-09-27T13:34:04.954Z"
   },
   {
    "duration": 10,
    "start_time": "2022-09-27T13:34:04.964Z"
   },
   {
    "duration": 11,
    "start_time": "2022-09-27T13:34:04.976Z"
   },
   {
    "duration": 11,
    "start_time": "2022-09-27T13:34:04.988Z"
   },
   {
    "duration": 64,
    "start_time": "2022-09-27T13:34:05.001Z"
   },
   {
    "duration": 92,
    "start_time": "2022-09-27T13:34:05.067Z"
   },
   {
    "duration": 9,
    "start_time": "2022-09-27T13:34:05.161Z"
   },
   {
    "duration": 8,
    "start_time": "2022-09-27T13:34:05.172Z"
   },
   {
    "duration": 19,
    "start_time": "2022-09-27T13:34:05.181Z"
   },
   {
    "duration": 55,
    "start_time": "2022-09-27T13:34:05.201Z"
   },
   {
    "duration": 5,
    "start_time": "2022-09-27T13:34:05.259Z"
   },
   {
    "duration": 6,
    "start_time": "2022-09-27T13:34:05.266Z"
   },
   {
    "duration": 18,
    "start_time": "2022-09-27T13:34:05.273Z"
   },
   {
    "duration": 21,
    "start_time": "2022-09-27T13:34:05.292Z"
   },
   {
    "duration": 1306,
    "start_time": "2022-09-27T13:34:05.315Z"
   },
   {
    "duration": 129,
    "start_time": "2022-09-27T13:34:06.623Z"
   },
   {
    "duration": 0,
    "start_time": "2022-09-27T13:34:06.754Z"
   },
   {
    "duration": 0,
    "start_time": "2022-09-27T13:34:06.755Z"
   },
   {
    "duration": 0,
    "start_time": "2022-09-27T13:34:06.756Z"
   },
   {
    "duration": 0,
    "start_time": "2022-09-27T13:34:06.757Z"
   },
   {
    "duration": 0,
    "start_time": "2022-09-27T13:34:06.758Z"
   },
   {
    "duration": 0,
    "start_time": "2022-09-27T13:34:06.760Z"
   },
   {
    "duration": 0,
    "start_time": "2022-09-27T13:34:06.760Z"
   },
   {
    "duration": 4,
    "start_time": "2022-09-27T13:34:53.278Z"
   },
   {
    "duration": 468,
    "start_time": "2022-09-27T13:35:19.448Z"
   },
   {
    "duration": 5,
    "start_time": "2022-09-27T13:38:38.236Z"
   },
   {
    "duration": 329,
    "start_time": "2022-09-27T13:38:40.907Z"
   },
   {
    "duration": 8,
    "start_time": "2022-09-27T13:39:05.967Z"
   },
   {
    "duration": 4,
    "start_time": "2022-09-27T13:39:08.670Z"
   },
   {
    "duration": 15,
    "start_time": "2022-09-27T13:40:04.743Z"
   },
   {
    "duration": 4716,
    "start_time": "2022-09-27T13:40:10.911Z"
   },
   {
    "duration": 1349,
    "start_time": "2022-09-27T13:40:15.630Z"
   },
   {
    "duration": 159,
    "start_time": "2022-09-27T13:40:16.980Z"
   },
   {
    "duration": 82,
    "start_time": "2022-09-27T13:40:17.141Z"
   },
   {
    "duration": 51,
    "start_time": "2022-09-27T13:40:17.225Z"
   },
   {
    "duration": 85,
    "start_time": "2022-09-27T13:40:17.279Z"
   },
   {
    "duration": 27,
    "start_time": "2022-09-27T13:40:17.366Z"
   },
   {
    "duration": 161,
    "start_time": "2022-09-27T13:40:17.395Z"
   },
   {
    "duration": 7,
    "start_time": "2022-09-27T13:40:17.559Z"
   },
   {
    "duration": 30,
    "start_time": "2022-09-27T13:40:17.568Z"
   },
   {
    "duration": 29,
    "start_time": "2022-09-27T13:40:17.600Z"
   },
   {
    "duration": 26,
    "start_time": "2022-09-27T13:40:17.631Z"
   },
   {
    "duration": 46,
    "start_time": "2022-09-27T13:40:17.659Z"
   },
   {
    "duration": 79,
    "start_time": "2022-09-27T13:40:17.708Z"
   },
   {
    "duration": 10,
    "start_time": "2022-09-27T13:40:17.789Z"
   },
   {
    "duration": 16,
    "start_time": "2022-09-27T13:40:17.801Z"
   },
   {
    "duration": 38,
    "start_time": "2022-09-27T13:40:17.819Z"
   },
   {
    "duration": 52,
    "start_time": "2022-09-27T13:40:17.859Z"
   },
   {
    "duration": 6,
    "start_time": "2022-09-27T13:40:17.912Z"
   },
   {
    "duration": 24,
    "start_time": "2022-09-27T13:40:17.919Z"
   },
   {
    "duration": 26,
    "start_time": "2022-09-27T13:40:17.945Z"
   },
   {
    "duration": 32,
    "start_time": "2022-09-27T13:40:17.972Z"
   },
   {
    "duration": 1159,
    "start_time": "2022-09-27T13:40:18.005Z"
   },
   {
    "duration": 4,
    "start_time": "2022-09-27T13:40:19.165Z"
   },
   {
    "duration": 284,
    "start_time": "2022-09-27T13:40:19.171Z"
   },
   {
    "duration": 8,
    "start_time": "2022-09-27T13:40:19.456Z"
   },
   {
    "duration": 5,
    "start_time": "2022-09-27T13:40:19.466Z"
   },
   {
    "duration": 42344,
    "start_time": "2022-09-27T13:40:19.473Z"
   },
   {
    "duration": 201,
    "start_time": "2022-09-27T13:41:01.820Z"
   },
   {
    "duration": 5,
    "start_time": "2022-09-27T13:41:02.024Z"
   },
   {
    "duration": 71,
    "start_time": "2022-09-27T13:41:02.031Z"
   },
   {
    "duration": 58998,
    "start_time": "2022-09-27T13:42:04.747Z"
   },
   {
    "duration": 4,
    "start_time": "2022-09-27T13:43:14.498Z"
   },
   {
    "duration": 27,
    "start_time": "2022-09-27T13:43:17.877Z"
   },
   {
    "duration": 258200,
    "start_time": "2022-09-27T13:44:23.547Z"
   },
   {
    "duration": 5793,
    "start_time": "2022-09-27T13:48:57.647Z"
   },
   {
    "duration": 4,
    "start_time": "2022-09-27T13:49:09.457Z"
   },
   {
    "duration": 12,
    "start_time": "2022-09-27T13:49:18.547Z"
   },
   {
    "duration": 11,
    "start_time": "2022-09-27T13:52:20.727Z"
   },
   {
    "duration": 12,
    "start_time": "2022-09-27T13:52:32.425Z"
   },
   {
    "duration": 19,
    "start_time": "2022-09-27T13:52:54.076Z"
   },
   {
    "duration": 13,
    "start_time": "2022-09-27T13:53:18.904Z"
   },
   {
    "duration": 5577,
    "start_time": "2022-09-27T13:55:04.657Z"
   },
   {
    "duration": 254206,
    "start_time": "2022-09-27T13:56:50.686Z"
   },
   {
    "duration": 5987,
    "start_time": "2022-09-27T14:01:04.894Z"
   },
   {
    "duration": 5723,
    "start_time": "2022-09-27T14:02:39.423Z"
   },
   {
    "duration": 919,
    "start_time": "2022-09-27T14:03:08.116Z"
   },
   {
    "duration": 650,
    "start_time": "2022-09-27T14:03:37.006Z"
   },
   {
    "duration": 5629,
    "start_time": "2022-09-27T14:04:04.139Z"
   },
   {
    "duration": 8229,
    "start_time": "2022-09-27T14:04:36.836Z"
   },
   {
    "duration": 11220,
    "start_time": "2022-09-27T14:04:52.816Z"
   },
   {
    "duration": 7672,
    "start_time": "2022-09-27T14:05:31.665Z"
   },
   {
    "duration": 3,
    "start_time": "2022-09-27T14:05:43.307Z"
   },
   {
    "duration": 15,
    "start_time": "2022-09-27T14:05:44.986Z"
   },
   {
    "duration": 15,
    "start_time": "2022-09-27T14:05:47.775Z"
   },
   {
    "duration": 16203,
    "start_time": "2022-09-27T14:06:00.185Z"
   },
   {
    "duration": 14665,
    "start_time": "2022-09-27T14:06:41.446Z"
   },
   {
    "duration": 5,
    "start_time": "2022-09-27T14:07:01.016Z"
   },
   {
    "duration": 24,
    "start_time": "2022-09-27T14:07:02.727Z"
   },
   {
    "duration": 24,
    "start_time": "2022-09-27T14:07:04.746Z"
   },
   {
    "duration": 4,
    "start_time": "2022-09-27T14:09:13.824Z"
   },
   {
    "duration": 349,
    "start_time": "2022-09-27T14:09:14.529Z"
   },
   {
    "duration": 89,
    "start_time": "2022-09-27T14:09:25.601Z"
   },
   {
    "duration": 4545,
    "start_time": "2022-09-27T14:09:41.855Z"
   },
   {
    "duration": 1331,
    "start_time": "2022-09-27T14:09:46.403Z"
   },
   {
    "duration": 134,
    "start_time": "2022-09-27T14:09:47.738Z"
   },
   {
    "duration": 53,
    "start_time": "2022-09-27T14:09:47.874Z"
   },
   {
    "duration": 32,
    "start_time": "2022-09-27T14:09:47.929Z"
   },
   {
    "duration": 41,
    "start_time": "2022-09-27T14:09:47.963Z"
   },
   {
    "duration": 48,
    "start_time": "2022-09-27T14:09:48.006Z"
   },
   {
    "duration": 118,
    "start_time": "2022-09-27T14:09:48.055Z"
   },
   {
    "duration": 5,
    "start_time": "2022-09-27T14:09:48.175Z"
   },
   {
    "duration": 12,
    "start_time": "2022-09-27T14:09:48.182Z"
   },
   {
    "duration": 11,
    "start_time": "2022-09-27T14:09:48.196Z"
   },
   {
    "duration": 36,
    "start_time": "2022-09-27T14:09:48.209Z"
   },
   {
    "duration": 30,
    "start_time": "2022-09-27T14:09:48.246Z"
   },
   {
    "duration": 93,
    "start_time": "2022-09-27T14:09:48.278Z"
   },
   {
    "duration": 10,
    "start_time": "2022-09-27T14:09:48.372Z"
   },
   {
    "duration": 7,
    "start_time": "2022-09-27T14:09:48.384Z"
   },
   {
    "duration": 21,
    "start_time": "2022-09-27T14:09:48.392Z"
   },
   {
    "duration": 49,
    "start_time": "2022-09-27T14:09:48.414Z"
   },
   {
    "duration": 5,
    "start_time": "2022-09-27T14:09:48.465Z"
   },
   {
    "duration": 5,
    "start_time": "2022-09-27T14:09:48.471Z"
   },
   {
    "duration": 11,
    "start_time": "2022-09-27T14:09:48.478Z"
   },
   {
    "duration": 50,
    "start_time": "2022-09-27T14:09:48.490Z"
   },
   {
    "duration": 1141,
    "start_time": "2022-09-27T14:09:48.542Z"
   },
   {
    "duration": 3,
    "start_time": "2022-09-27T14:09:49.685Z"
   },
   {
    "duration": 330,
    "start_time": "2022-09-27T14:09:49.690Z"
   },
   {
    "duration": 17,
    "start_time": "2022-09-27T14:09:50.022Z"
   },
   {
    "duration": 5,
    "start_time": "2022-09-27T14:09:50.040Z"
   },
   {
    "duration": 20193,
    "start_time": "2022-09-27T14:09:50.048Z"
   },
   {
    "duration": 453524,
    "start_time": "2022-09-27T14:10:10.242Z"
   },
   {
    "duration": 2239,
    "start_time": "2022-09-27T14:17:43.767Z"
   },
   {
    "duration": 4,
    "start_time": "2022-09-27T14:17:46.008Z"
   },
   {
    "duration": 32,
    "start_time": "2022-09-27T14:17:46.014Z"
   },
   {
    "duration": 0,
    "start_time": "2022-09-27T14:17:46.047Z"
   },
   {
    "duration": 2666,
    "start_time": "2022-09-27T14:18:30.608Z"
   },
   {
    "duration": 6989,
    "start_time": "2022-09-27T14:19:09.106Z"
   },
   {
    "duration": 4,
    "start_time": "2022-09-27T14:19:18.676Z"
   },
   {
    "duration": 4,
    "start_time": "2022-09-27T14:19:22.638Z"
   },
   {
    "duration": 13,
    "start_time": "2022-09-27T14:19:25.428Z"
   },
   {
    "duration": 13,
    "start_time": "2022-09-27T14:19:29.677Z"
   },
   {
    "duration": 140950,
    "start_time": "2022-09-27T14:20:01.777Z"
   },
   {
    "duration": 4981,
    "start_time": "2022-09-27T14:26:10.301Z"
   },
   {
    "duration": 5,
    "start_time": "2022-09-27T14:26:21.025Z"
   },
   {
    "duration": 13,
    "start_time": "2022-09-27T14:26:23.107Z"
   },
   {
    "duration": 12,
    "start_time": "2022-09-27T14:26:25.487Z"
   },
   {
    "duration": 64,
    "start_time": "2022-09-27T14:27:09.668Z"
   },
   {
    "duration": 2516775,
    "start_time": "2022-09-27T14:27:14.027Z"
   },
   {
    "duration": 4720,
    "start_time": "2022-09-27T15:15:57.263Z"
   },
   {
    "duration": 4,
    "start_time": "2022-09-27T15:16:07.543Z"
   },
   {
    "duration": 14,
    "start_time": "2022-09-27T15:16:10.302Z"
   },
   {
    "duration": 12,
    "start_time": "2022-09-27T15:16:12.813Z"
   },
   {
    "duration": 6772,
    "start_time": "2022-09-27T15:23:36.232Z"
   },
   {
    "duration": 718002,
    "start_time": "2022-09-27T15:24:27.833Z"
   },
   {
    "duration": 15,
    "start_time": "2022-09-27T15:36:25.837Z"
   },
   {
    "duration": 3,
    "start_time": "2022-09-27T15:36:25.854Z"
   },
   {
    "duration": 4997,
    "start_time": "2022-09-27T15:38:28.752Z"
   },
   {
    "duration": 4,
    "start_time": "2022-09-27T15:38:35.732Z"
   },
   {
    "duration": 14,
    "start_time": "2022-09-27T15:38:37.880Z"
   },
   {
    "duration": 11,
    "start_time": "2022-09-27T15:38:40.202Z"
   },
   {
    "duration": 9257,
    "start_time": "2022-09-27T15:42:22.333Z"
   },
   {
    "duration": 4,
    "start_time": "2022-09-27T15:42:35.771Z"
   },
   {
    "duration": 19,
    "start_time": "2022-09-27T15:42:37.303Z"
   },
   {
    "duration": 14645,
    "start_time": "2022-09-27T15:42:44.977Z"
   },
   {
    "duration": 5,
    "start_time": "2022-09-27T15:43:01.863Z"
   },
   {
    "duration": 18,
    "start_time": "2022-09-27T15:43:03.913Z"
   },
   {
    "duration": 15,
    "start_time": "2022-09-27T15:43:06.498Z"
   },
   {
    "duration": 4748,
    "start_time": "2022-09-27T15:43:22.853Z"
   },
   {
    "duration": 5190,
    "start_time": "2022-09-27T15:43:34.407Z"
   },
   {
    "duration": 4,
    "start_time": "2022-09-27T15:43:42.163Z"
   },
   {
    "duration": 13,
    "start_time": "2022-09-27T15:43:43.992Z"
   },
   {
    "duration": 11,
    "start_time": "2022-09-27T15:43:46.755Z"
   },
   {
    "duration": 4829,
    "start_time": "2022-09-27T15:43:55.492Z"
   },
   {
    "duration": 4864,
    "start_time": "2022-09-27T15:44:06.032Z"
   },
   {
    "duration": 4054,
    "start_time": "2022-09-27T15:44:20.475Z"
   },
   {
    "duration": 4,
    "start_time": "2022-09-27T15:44:26.243Z"
   },
   {
    "duration": 12,
    "start_time": "2022-09-27T15:44:28.532Z"
   },
   {
    "duration": 3307,
    "start_time": "2022-09-27T15:47:05.092Z"
   },
   {
    "duration": 3126,
    "start_time": "2022-09-27T15:47:40.858Z"
   },
   {
    "duration": 3590,
    "start_time": "2022-09-27T15:48:21.152Z"
   },
   {
    "duration": 46101,
    "start_time": "2022-09-27T15:49:09.472Z"
   },
   {
    "duration": 9,
    "start_time": "2022-09-27T15:50:32.733Z"
   },
   {
    "duration": 5,
    "start_time": "2022-09-27T15:50:38.392Z"
   },
   {
    "duration": 5,
    "start_time": "2022-09-27T15:54:04.787Z"
   },
   {
    "duration": 16550,
    "start_time": "2022-09-27T15:54:07.507Z"
   },
   {
    "duration": 117477,
    "start_time": "2022-09-27T15:54:28.617Z"
   },
   {
    "duration": 15479,
    "start_time": "2022-09-27T15:57:03.751Z"
   },
   {
    "duration": 5,
    "start_time": "2022-09-27T15:57:22.531Z"
   },
   {
    "duration": 19,
    "start_time": "2022-09-27T15:57:24.847Z"
   },
   {
    "duration": 19,
    "start_time": "2022-09-27T15:57:28.371Z"
   },
   {
    "duration": 4,
    "start_time": "2022-09-27T16:05:35.292Z"
   },
   {
    "duration": 478,
    "start_time": "2022-09-27T16:05:38.731Z"
   },
   {
    "duration": 13,
    "start_time": "2022-09-27T16:05:49.672Z"
   },
   {
    "duration": 5,
    "start_time": "2022-09-27T16:05:55.571Z"
   },
   {
    "duration": 3361,
    "start_time": "2022-09-27T16:05:58.692Z"
   },
   {
    "duration": 12,
    "start_time": "2022-09-27T16:07:50.491Z"
   },
   {
    "duration": 8,
    "start_time": "2022-09-27T16:08:08.271Z"
   },
   {
    "duration": 5,
    "start_time": "2022-09-27T16:08:11.131Z"
   },
   {
    "duration": 62,
    "start_time": "2022-09-27T16:08:15.505Z"
   },
   {
    "duration": 4,
    "start_time": "2022-09-27T16:08:35.505Z"
   },
   {
    "duration": 10,
    "start_time": "2022-09-27T16:08:40.292Z"
   },
   {
    "duration": 4,
    "start_time": "2022-09-27T16:08:44.571Z"
   },
   {
    "duration": 86,
    "start_time": "2022-09-27T16:08:47.550Z"
   },
   {
    "duration": 137,
    "start_time": "2022-09-27T16:10:20.231Z"
   },
   {
    "duration": 5,
    "start_time": "2022-09-27T16:10:31.092Z"
   },
   {
    "duration": 8,
    "start_time": "2022-09-27T16:10:34.971Z"
   },
   {
    "duration": 5,
    "start_time": "2022-09-27T16:10:38.951Z"
   },
   {
    "duration": 88,
    "start_time": "2022-09-27T16:10:41.831Z"
   },
   {
    "duration": 8847,
    "start_time": "2022-09-27T16:10:55.931Z"
   },
   {
    "duration": 108,
    "start_time": "2022-09-27T16:11:13.412Z"
   },
   {
    "duration": 8162,
    "start_time": "2022-09-27T16:11:42.191Z"
   },
   {
    "duration": 4,
    "start_time": "2022-09-27T16:11:53.431Z"
   },
   {
    "duration": 16,
    "start_time": "2022-09-27T16:11:55.171Z"
   },
   {
    "duration": 15,
    "start_time": "2022-09-27T16:11:57.171Z"
   },
   {
    "duration": 6,
    "start_time": "2022-09-27T16:14:57.271Z"
   },
   {
    "duration": 9,
    "start_time": "2022-09-27T16:15:02.930Z"
   },
   {
    "duration": 5,
    "start_time": "2022-09-27T16:15:05.140Z"
   },
   {
    "duration": 16282,
    "start_time": "2022-09-27T16:15:08.970Z"
   },
   {
    "duration": 14742,
    "start_time": "2022-09-27T16:15:33.291Z"
   },
   {
    "duration": 4,
    "start_time": "2022-09-27T16:15:50.831Z"
   },
   {
    "duration": 20,
    "start_time": "2022-09-27T16:15:53.450Z"
   },
   {
    "duration": 17,
    "start_time": "2022-09-27T16:15:55.293Z"
   },
   {
    "duration": 25,
    "start_time": "2022-09-27T16:34:23.611Z"
   },
   {
    "duration": 5035,
    "start_time": "2022-09-27T16:34:31.060Z"
   },
   {
    "duration": 1341,
    "start_time": "2022-09-27T16:34:36.098Z"
   },
   {
    "duration": 162,
    "start_time": "2022-09-27T16:34:37.442Z"
   },
   {
    "duration": 67,
    "start_time": "2022-09-27T16:34:37.605Z"
   },
   {
    "duration": 33,
    "start_time": "2022-09-27T16:34:37.676Z"
   },
   {
    "duration": 71,
    "start_time": "2022-09-27T16:34:37.711Z"
   },
   {
    "duration": 23,
    "start_time": "2022-09-27T16:34:37.783Z"
   },
   {
    "duration": 154,
    "start_time": "2022-09-27T16:34:37.807Z"
   },
   {
    "duration": 6,
    "start_time": "2022-09-27T16:34:37.962Z"
   },
   {
    "duration": 20,
    "start_time": "2022-09-27T16:34:37.970Z"
   },
   {
    "duration": 15,
    "start_time": "2022-09-27T16:34:37.992Z"
   },
   {
    "duration": 12,
    "start_time": "2022-09-27T16:34:38.008Z"
   },
   {
    "duration": 55,
    "start_time": "2022-09-27T16:34:38.021Z"
   },
   {
    "duration": 104,
    "start_time": "2022-09-27T16:34:38.079Z"
   },
   {
    "duration": 9,
    "start_time": "2022-09-27T16:34:38.185Z"
   },
   {
    "duration": 17,
    "start_time": "2022-09-27T16:34:38.196Z"
   },
   {
    "duration": 33,
    "start_time": "2022-09-27T16:34:38.215Z"
   },
   {
    "duration": 39,
    "start_time": "2022-09-27T16:34:38.250Z"
   },
   {
    "duration": 6,
    "start_time": "2022-09-27T16:34:38.291Z"
   },
   {
    "duration": 8,
    "start_time": "2022-09-27T16:34:38.299Z"
   },
   {
    "duration": 16,
    "start_time": "2022-09-27T16:34:38.308Z"
   },
   {
    "duration": 42,
    "start_time": "2022-09-27T16:34:38.326Z"
   },
   {
    "duration": 1251,
    "start_time": "2022-09-27T16:34:38.370Z"
   },
   {
    "duration": 5,
    "start_time": "2022-09-27T16:34:39.623Z"
   },
   {
    "duration": 1077,
    "start_time": "2022-09-27T16:34:39.629Z"
   },
   {
    "duration": 14,
    "start_time": "2022-09-27T16:34:40.708Z"
   },
   {
    "duration": 18,
    "start_time": "2022-09-27T16:34:40.724Z"
   },
   {
    "duration": 15,
    "start_time": "2022-09-27T16:34:40.743Z"
   },
   {
    "duration": 34,
    "start_time": "2022-09-27T16:34:40.760Z"
   },
   {
    "duration": 16812,
    "start_time": "2022-09-27T16:34:40.796Z"
   },
   {
    "duration": 114578,
    "start_time": "2022-09-27T16:34:57.610Z"
   },
   {
    "duration": 15107,
    "start_time": "2022-09-27T16:36:52.190Z"
   },
   {
    "duration": 5,
    "start_time": "2022-09-27T16:37:07.300Z"
   },
   {
    "duration": 31,
    "start_time": "2022-09-27T16:37:07.307Z"
   },
   {
    "duration": 25,
    "start_time": "2022-09-27T16:37:07.340Z"
   },
   {
    "duration": 151,
    "start_time": "2022-09-27T16:37:07.367Z"
   },
   {
    "duration": 0,
    "start_time": "2022-09-27T16:37:07.520Z"
   },
   {
    "duration": 0,
    "start_time": "2022-09-27T16:37:07.523Z"
   },
   {
    "duration": 0,
    "start_time": "2022-09-27T16:37:07.524Z"
   },
   {
    "duration": 0,
    "start_time": "2022-09-27T16:37:07.525Z"
   },
   {
    "duration": 0,
    "start_time": "2022-09-27T16:37:07.526Z"
   },
   {
    "duration": 0,
    "start_time": "2022-09-27T16:37:07.538Z"
   },
   {
    "duration": 0,
    "start_time": "2022-09-27T16:37:07.540Z"
   },
   {
    "duration": 0,
    "start_time": "2022-09-27T16:37:07.541Z"
   },
   {
    "duration": 0,
    "start_time": "2022-09-27T16:37:07.543Z"
   },
   {
    "duration": 9,
    "start_time": "2022-09-27T16:47:12.384Z"
   },
   {
    "duration": 4639,
    "start_time": "2022-09-27T16:54:30.493Z"
   },
   {
    "duration": 1388,
    "start_time": "2022-09-27T16:54:35.135Z"
   },
   {
    "duration": 147,
    "start_time": "2022-09-27T16:54:36.524Z"
   },
   {
    "duration": 53,
    "start_time": "2022-09-27T16:54:36.672Z"
   },
   {
    "duration": 35,
    "start_time": "2022-09-27T16:54:36.727Z"
   },
   {
    "duration": 43,
    "start_time": "2022-09-27T16:54:36.765Z"
   },
   {
    "duration": 46,
    "start_time": "2022-09-27T16:54:36.810Z"
   },
   {
    "duration": 126,
    "start_time": "2022-09-27T16:54:36.858Z"
   },
   {
    "duration": 6,
    "start_time": "2022-09-27T16:54:36.986Z"
   },
   {
    "duration": 9,
    "start_time": "2022-09-27T16:54:36.994Z"
   },
   {
    "duration": 43,
    "start_time": "2022-09-27T16:54:37.004Z"
   },
   {
    "duration": 12,
    "start_time": "2022-09-27T16:54:37.049Z"
   },
   {
    "duration": 31,
    "start_time": "2022-09-27T16:54:37.063Z"
   },
   {
    "duration": 110,
    "start_time": "2022-09-27T16:54:37.099Z"
   },
   {
    "duration": 29,
    "start_time": "2022-09-27T16:54:37.211Z"
   },
   {
    "duration": 8,
    "start_time": "2022-09-27T16:54:37.243Z"
   },
   {
    "duration": 24,
    "start_time": "2022-09-27T16:54:37.253Z"
   },
   {
    "duration": 60,
    "start_time": "2022-09-27T16:54:37.279Z"
   },
   {
    "duration": 7,
    "start_time": "2022-09-27T16:54:37.341Z"
   },
   {
    "duration": 49,
    "start_time": "2022-09-27T16:54:37.351Z"
   },
   {
    "duration": 0,
    "start_time": "2022-09-27T16:54:37.402Z"
   },
   {
    "duration": 0,
    "start_time": "2022-09-27T16:54:37.403Z"
   },
   {
    "duration": 0,
    "start_time": "2022-09-27T16:54:37.404Z"
   },
   {
    "duration": 0,
    "start_time": "2022-09-27T16:54:37.406Z"
   },
   {
    "duration": 0,
    "start_time": "2022-09-27T16:54:37.407Z"
   },
   {
    "duration": 0,
    "start_time": "2022-09-27T16:54:37.409Z"
   },
   {
    "duration": 0,
    "start_time": "2022-09-27T16:54:37.410Z"
   },
   {
    "duration": 0,
    "start_time": "2022-09-27T16:54:37.411Z"
   },
   {
    "duration": 0,
    "start_time": "2022-09-27T16:54:37.412Z"
   },
   {
    "duration": 0,
    "start_time": "2022-09-27T16:54:37.413Z"
   },
   {
    "duration": 0,
    "start_time": "2022-09-27T16:54:37.414Z"
   },
   {
    "duration": 0,
    "start_time": "2022-09-27T16:54:37.416Z"
   },
   {
    "duration": 0,
    "start_time": "2022-09-27T16:54:37.417Z"
   },
   {
    "duration": 0,
    "start_time": "2022-09-27T16:54:37.418Z"
   },
   {
    "duration": 0,
    "start_time": "2022-09-27T16:54:37.419Z"
   },
   {
    "duration": 0,
    "start_time": "2022-09-27T16:54:37.420Z"
   },
   {
    "duration": 0,
    "start_time": "2022-09-27T16:54:37.421Z"
   },
   {
    "duration": 0,
    "start_time": "2022-09-27T16:54:37.422Z"
   },
   {
    "duration": 0,
    "start_time": "2022-09-27T16:54:37.423Z"
   },
   {
    "duration": 0,
    "start_time": "2022-09-27T16:54:37.425Z"
   },
   {
    "duration": 0,
    "start_time": "2022-09-27T16:54:37.426Z"
   },
   {
    "duration": 0,
    "start_time": "2022-09-27T16:54:37.427Z"
   },
   {
    "duration": 0,
    "start_time": "2022-09-27T16:54:37.428Z"
   },
   {
    "duration": 0,
    "start_time": "2022-09-27T16:54:37.439Z"
   },
   {
    "duration": 3,
    "start_time": "2022-09-27T17:04:50.484Z"
   },
   {
    "duration": 9,
    "start_time": "2022-09-27T17:04:52.668Z"
   },
   {
    "duration": 20,
    "start_time": "2022-09-27T17:04:55.423Z"
   },
   {
    "duration": 4628,
    "start_time": "2022-09-27T17:05:03.659Z"
   },
   {
    "duration": 1308,
    "start_time": "2022-09-27T17:05:08.289Z"
   },
   {
    "duration": 134,
    "start_time": "2022-09-27T17:05:09.600Z"
   },
   {
    "duration": 53,
    "start_time": "2022-09-27T17:05:09.737Z"
   },
   {
    "duration": 54,
    "start_time": "2022-09-27T17:05:09.792Z"
   },
   {
    "duration": 43,
    "start_time": "2022-09-27T17:05:09.848Z"
   },
   {
    "duration": 21,
    "start_time": "2022-09-27T17:05:09.892Z"
   },
   {
    "duration": 115,
    "start_time": "2022-09-27T17:05:09.939Z"
   },
   {
    "duration": 6,
    "start_time": "2022-09-27T17:05:10.056Z"
   },
   {
    "duration": 15,
    "start_time": "2022-09-27T17:05:10.065Z"
   },
   {
    "duration": 12,
    "start_time": "2022-09-27T17:05:10.082Z"
   },
   {
    "duration": 15,
    "start_time": "2022-09-27T17:05:10.096Z"
   },
   {
    "duration": 45,
    "start_time": "2022-09-27T17:05:10.113Z"
   },
   {
    "duration": 85,
    "start_time": "2022-09-27T17:05:10.159Z"
   },
   {
    "duration": 10,
    "start_time": "2022-09-27T17:05:10.245Z"
   },
   {
    "duration": 6,
    "start_time": "2022-09-27T17:05:10.257Z"
   },
   {
    "duration": 18,
    "start_time": "2022-09-27T17:05:10.265Z"
   },
   {
    "duration": 56,
    "start_time": "2022-09-27T17:05:10.284Z"
   },
   {
    "duration": 6,
    "start_time": "2022-09-27T17:05:10.342Z"
   },
   {
    "duration": 12,
    "start_time": "2022-09-27T17:05:10.350Z"
   },
   {
    "duration": 11,
    "start_time": "2022-09-27T17:05:10.364Z"
   },
   {
    "duration": 22,
    "start_time": "2022-09-27T17:05:10.376Z"
   },
   {
    "duration": 1098,
    "start_time": "2022-09-27T17:05:10.399Z"
   },
   {
    "duration": 5,
    "start_time": "2022-09-27T17:05:11.499Z"
   },
   {
    "duration": 904,
    "start_time": "2022-09-27T17:05:11.505Z"
   },
   {
    "duration": 15,
    "start_time": "2022-09-27T17:05:12.410Z"
   },
   {
    "duration": 12,
    "start_time": "2022-09-27T17:05:12.438Z"
   },
   {
    "duration": 40,
    "start_time": "2022-09-27T17:05:12.453Z"
   },
   {
    "duration": 16244,
    "start_time": "2022-09-27T17:05:12.495Z"
   },
   {
    "duration": 4738,
    "start_time": "2022-09-27T17:06:57.439Z"
   },
   {
    "duration": 1291,
    "start_time": "2022-09-27T17:07:02.179Z"
   },
   {
    "duration": 153,
    "start_time": "2022-09-27T17:07:03.472Z"
   },
   {
    "duration": 54,
    "start_time": "2022-09-27T17:07:03.627Z"
   },
   {
    "duration": 33,
    "start_time": "2022-09-27T17:07:03.684Z"
   },
   {
    "duration": 57,
    "start_time": "2022-09-27T17:07:03.718Z"
   },
   {
    "duration": 21,
    "start_time": "2022-09-27T17:07:03.777Z"
   },
   {
    "duration": 123,
    "start_time": "2022-09-27T17:07:03.799Z"
   },
   {
    "duration": 6,
    "start_time": "2022-09-27T17:07:03.939Z"
   },
   {
    "duration": 25,
    "start_time": "2022-09-27T17:07:03.947Z"
   },
   {
    "duration": 25,
    "start_time": "2022-09-27T17:07:03.974Z"
   },
   {
    "duration": 23,
    "start_time": "2022-09-27T17:07:04.001Z"
   },
   {
    "duration": 30,
    "start_time": "2022-09-27T17:07:04.026Z"
   },
   {
    "duration": 81,
    "start_time": "2022-09-27T17:07:04.059Z"
   },
   {
    "duration": 9,
    "start_time": "2022-09-27T17:07:04.142Z"
   },
   {
    "duration": 17,
    "start_time": "2022-09-27T17:07:04.152Z"
   },
   {
    "duration": 49,
    "start_time": "2022-09-27T17:07:04.170Z"
   },
   {
    "duration": 27,
    "start_time": "2022-09-27T17:07:04.221Z"
   },
   {
    "duration": 5,
    "start_time": "2022-09-27T17:07:04.249Z"
   },
   {
    "duration": 11,
    "start_time": "2022-09-27T17:07:04.256Z"
   },
   {
    "duration": 28,
    "start_time": "2022-09-27T17:07:04.269Z"
   },
   {
    "duration": 28,
    "start_time": "2022-09-27T17:07:04.299Z"
   },
   {
    "duration": 1155,
    "start_time": "2022-09-27T17:07:04.329Z"
   },
   {
    "duration": 5,
    "start_time": "2022-09-27T17:07:05.487Z"
   },
   {
    "duration": 986,
    "start_time": "2022-09-27T17:07:05.494Z"
   },
   {
    "duration": 16,
    "start_time": "2022-09-27T17:07:06.482Z"
   },
   {
    "duration": 21,
    "start_time": "2022-09-27T17:07:06.500Z"
   },
   {
    "duration": 42,
    "start_time": "2022-09-27T17:07:06.528Z"
   },
   {
    "duration": 16538,
    "start_time": "2022-09-27T17:07:06.572Z"
   },
   {
    "duration": 113956,
    "start_time": "2022-09-27T17:07:23.112Z"
   },
   {
    "duration": 15299,
    "start_time": "2022-09-27T17:09:17.070Z"
   },
   {
    "duration": 4,
    "start_time": "2022-09-27T17:09:32.371Z"
   },
   {
    "duration": 39,
    "start_time": "2022-09-27T17:09:32.377Z"
   },
   {
    "duration": 29,
    "start_time": "2022-09-27T17:09:32.417Z"
   },
   {
    "duration": 154,
    "start_time": "2022-09-27T17:09:32.447Z"
   },
   {
    "duration": 0,
    "start_time": "2022-09-27T17:09:32.604Z"
   },
   {
    "duration": 0,
    "start_time": "2022-09-27T17:09:32.607Z"
   },
   {
    "duration": 0,
    "start_time": "2022-09-27T17:09:32.609Z"
   },
   {
    "duration": 0,
    "start_time": "2022-09-27T17:09:32.610Z"
   },
   {
    "duration": 0,
    "start_time": "2022-09-27T17:09:32.612Z"
   },
   {
    "duration": 0,
    "start_time": "2022-09-27T17:09:32.613Z"
   },
   {
    "duration": 0,
    "start_time": "2022-09-27T17:09:32.615Z"
   },
   {
    "duration": 0,
    "start_time": "2022-09-27T17:09:32.617Z"
   },
   {
    "duration": 0,
    "start_time": "2022-09-27T17:09:32.639Z"
   },
   {
    "duration": 15358,
    "start_time": "2022-09-27T17:10:20.549Z"
   },
   {
    "duration": 4,
    "start_time": "2022-09-27T17:10:42.150Z"
   },
   {
    "duration": 4,
    "start_time": "2022-09-27T17:10:52.529Z"
   },
   {
    "duration": 21,
    "start_time": "2022-09-27T17:10:54.309Z"
   },
   {
    "duration": 17,
    "start_time": "2022-09-27T17:10:56.530Z"
   },
   {
    "duration": 13,
    "start_time": "2022-09-27T17:13:26.849Z"
   },
   {
    "duration": 9,
    "start_time": "2022-09-27T17:15:14.869Z"
   },
   {
    "duration": 5,
    "start_time": "2022-09-27T17:16:25.131Z"
   },
   {
    "duration": 13751,
    "start_time": "2022-09-27T17:18:23.290Z"
   },
   {
    "duration": 99383,
    "start_time": "2022-09-27T17:21:35.910Z"
   },
   {
    "duration": 146,
    "start_time": "2022-09-27T17:34:07.250Z"
   },
   {
    "duration": 4,
    "start_time": "2022-09-27T17:34:21.730Z"
   },
   {
    "duration": 4,
    "start_time": "2022-09-27T17:35:29.710Z"
   },
   {
    "duration": 9,
    "start_time": "2022-09-27T17:35:32.410Z"
   },
   {
    "duration": 5,
    "start_time": "2022-09-27T17:35:35.729Z"
   },
   {
    "duration": 75,
    "start_time": "2022-09-27T17:36:01.510Z"
   },
   {
    "duration": 2774,
    "start_time": "2022-09-27T17:36:20.029Z"
   },
   {
    "duration": 2043,
    "start_time": "2022-09-27T17:36:49.554Z"
   },
   {
    "duration": 5,
    "start_time": "2022-09-27T17:37:13.970Z"
   },
   {
    "duration": 1895,
    "start_time": "2022-09-27T17:37:52.130Z"
   },
   {
    "duration": 4,
    "start_time": "2022-09-27T17:40:14.950Z"
   },
   {
    "duration": 9,
    "start_time": "2022-09-27T17:40:16.809Z"
   },
   {
    "duration": 5,
    "start_time": "2022-09-27T17:40:19.089Z"
   },
   {
    "duration": 2274,
    "start_time": "2022-09-27T17:40:21.710Z"
   },
   {
    "duration": 4,
    "start_time": "2022-09-27T17:40:58.250Z"
   },
   {
    "duration": 8,
    "start_time": "2022-09-27T17:41:01.110Z"
   },
   {
    "duration": 5,
    "start_time": "2022-09-27T17:41:04.829Z"
   },
   {
    "duration": 5715,
    "start_time": "2022-09-27T17:41:07.370Z"
   },
   {
    "duration": 51352,
    "start_time": "2022-09-27T17:41:29.029Z"
   },
   {
    "duration": 75,
    "start_time": "2022-09-27T17:43:16.189Z"
   },
   {
    "duration": 64,
    "start_time": "2022-09-27T17:44:18.269Z"
   },
   {
    "duration": 109,
    "start_time": "2022-09-27T17:45:53.369Z"
   },
   {
    "duration": 78,
    "start_time": "2022-09-27T17:46:32.070Z"
   },
   {
    "duration": 5759,
    "start_time": "2022-09-27T17:56:17.533Z"
   },
   {
    "duration": 4,
    "start_time": "2022-09-27T17:56:56.373Z"
   },
   {
    "duration": 13,
    "start_time": "2022-09-27T17:57:26.534Z"
   },
   {
    "duration": 9950,
    "start_time": "2022-09-28T05:32:44.541Z"
   },
   {
    "duration": 1432,
    "start_time": "2022-09-28T05:32:54.494Z"
   },
   {
    "duration": 434,
    "start_time": "2022-09-28T05:32:55.927Z"
   },
   {
    "duration": 53,
    "start_time": "2022-09-28T05:32:56.363Z"
   },
   {
    "duration": 41,
    "start_time": "2022-09-28T05:32:56.418Z"
   },
   {
    "duration": 40,
    "start_time": "2022-09-28T05:32:56.460Z"
   },
   {
    "duration": 20,
    "start_time": "2022-09-28T05:32:56.502Z"
   },
   {
    "duration": 141,
    "start_time": "2022-09-28T05:32:56.524Z"
   },
   {
    "duration": 6,
    "start_time": "2022-09-28T05:32:56.668Z"
   },
   {
    "duration": 12,
    "start_time": "2022-09-28T05:32:56.677Z"
   },
   {
    "duration": 12,
    "start_time": "2022-09-28T05:32:56.690Z"
   },
   {
    "duration": 11,
    "start_time": "2022-09-28T05:32:56.704Z"
   },
   {
    "duration": 60,
    "start_time": "2022-09-28T05:32:56.716Z"
   },
   {
    "duration": 79,
    "start_time": "2022-09-28T05:32:56.778Z"
   },
   {
    "duration": 9,
    "start_time": "2022-09-28T05:32:56.859Z"
   },
   {
    "duration": 6,
    "start_time": "2022-09-28T05:32:56.870Z"
   },
   {
    "duration": 19,
    "start_time": "2022-09-28T05:32:56.878Z"
   },
   {
    "duration": 55,
    "start_time": "2022-09-28T05:32:56.899Z"
   },
   {
    "duration": 6,
    "start_time": "2022-09-28T05:32:56.956Z"
   },
   {
    "duration": 6,
    "start_time": "2022-09-28T05:32:56.964Z"
   },
   {
    "duration": 11,
    "start_time": "2022-09-28T05:32:56.971Z"
   },
   {
    "duration": 25,
    "start_time": "2022-09-28T05:32:56.984Z"
   },
   {
    "duration": 1125,
    "start_time": "2022-09-28T05:32:57.010Z"
   },
   {
    "duration": 4,
    "start_time": "2022-09-28T05:32:58.137Z"
   },
   {
    "duration": 883,
    "start_time": "2022-09-28T05:32:58.142Z"
   },
   {
    "duration": 10,
    "start_time": "2022-09-28T05:32:59.028Z"
   },
   {
    "duration": 18,
    "start_time": "2022-09-28T05:32:59.040Z"
   },
   {
    "duration": 16147,
    "start_time": "2022-09-28T05:32:59.061Z"
   },
   {
    "duration": 112718,
    "start_time": "2022-09-28T05:33:15.209Z"
   },
   {
    "duration": 113293,
    "start_time": "2022-09-28T05:35:07.929Z"
   },
   {
    "duration": 2091,
    "start_time": "2022-09-28T05:37:01.224Z"
   },
   {
    "duration": 5,
    "start_time": "2022-09-28T05:37:03.318Z"
   },
   {
    "duration": 18,
    "start_time": "2022-09-28T05:37:03.324Z"
   },
   {
    "duration": 0,
    "start_time": "2022-09-28T05:37:03.343Z"
   },
   {
    "duration": 0,
    "start_time": "2022-09-28T05:37:03.345Z"
   },
   {
    "duration": 0,
    "start_time": "2022-09-28T05:37:03.346Z"
   },
   {
    "duration": 0,
    "start_time": "2022-09-28T05:37:03.347Z"
   },
   {
    "duration": 0,
    "start_time": "2022-09-28T05:37:03.348Z"
   },
   {
    "duration": 0,
    "start_time": "2022-09-28T05:37:03.349Z"
   },
   {
    "duration": 0,
    "start_time": "2022-09-28T05:37:03.350Z"
   },
   {
    "duration": 0,
    "start_time": "2022-09-28T05:37:03.351Z"
   },
   {
    "duration": 0,
    "start_time": "2022-09-28T05:37:03.352Z"
   },
   {
    "duration": 0,
    "start_time": "2022-09-28T05:37:03.353Z"
   },
   {
    "duration": 0,
    "start_time": "2022-09-28T05:37:03.354Z"
   },
   {
    "duration": 0,
    "start_time": "2022-09-28T05:37:03.355Z"
   },
   {
    "duration": 0,
    "start_time": "2022-09-28T05:37:03.356Z"
   },
   {
    "duration": 0,
    "start_time": "2022-09-28T05:37:03.358Z"
   },
   {
    "duration": 0,
    "start_time": "2022-09-28T05:37:03.358Z"
   },
   {
    "duration": 0,
    "start_time": "2022-09-28T05:37:03.360Z"
   },
   {
    "duration": 0,
    "start_time": "2022-09-28T05:37:03.361Z"
   },
   {
    "duration": 0,
    "start_time": "2022-09-28T05:37:03.362Z"
   },
   {
    "duration": 4334,
    "start_time": "2022-09-28T05:46:29.834Z"
   },
   {
    "duration": 1320,
    "start_time": "2022-09-28T05:46:34.170Z"
   },
   {
    "duration": 253,
    "start_time": "2022-09-28T05:46:35.492Z"
   },
   {
    "duration": 53,
    "start_time": "2022-09-28T05:46:35.748Z"
   },
   {
    "duration": 55,
    "start_time": "2022-09-28T05:46:35.803Z"
   },
   {
    "duration": 43,
    "start_time": "2022-09-28T05:46:35.860Z"
   },
   {
    "duration": 21,
    "start_time": "2022-09-28T05:46:35.904Z"
   },
   {
    "duration": 133,
    "start_time": "2022-09-28T05:46:35.927Z"
   },
   {
    "duration": 5,
    "start_time": "2022-09-28T05:46:36.062Z"
   },
   {
    "duration": 9,
    "start_time": "2022-09-28T05:46:36.070Z"
   },
   {
    "duration": 10,
    "start_time": "2022-09-28T05:46:36.080Z"
   },
   {
    "duration": 10,
    "start_time": "2022-09-28T05:46:36.091Z"
   },
   {
    "duration": 61,
    "start_time": "2022-09-28T05:46:36.102Z"
   },
   {
    "duration": 72,
    "start_time": "2022-09-28T05:46:36.165Z"
   },
   {
    "duration": 9,
    "start_time": "2022-09-28T05:46:36.254Z"
   },
   {
    "duration": 10,
    "start_time": "2022-09-28T05:46:36.265Z"
   },
   {
    "duration": 21,
    "start_time": "2022-09-28T05:46:36.276Z"
   },
   {
    "duration": 26,
    "start_time": "2022-09-28T05:46:36.299Z"
   },
   {
    "duration": 7,
    "start_time": "2022-09-28T05:46:36.353Z"
   },
   {
    "duration": 6,
    "start_time": "2022-09-28T05:46:36.362Z"
   },
   {
    "duration": 11,
    "start_time": "2022-09-28T05:46:36.369Z"
   },
   {
    "duration": 19,
    "start_time": "2022-09-28T05:46:36.382Z"
   },
   {
    "duration": 1083,
    "start_time": "2022-09-28T05:46:36.403Z"
   },
   {
    "duration": 4,
    "start_time": "2022-09-28T05:46:37.488Z"
   },
   {
    "duration": 863,
    "start_time": "2022-09-28T05:46:37.493Z"
   },
   {
    "duration": 9,
    "start_time": "2022-09-28T05:46:38.358Z"
   },
   {
    "duration": 6,
    "start_time": "2022-09-28T05:46:38.369Z"
   },
   {
    "duration": 115563,
    "start_time": "2022-09-28T05:46:38.378Z"
   },
   {
    "duration": 116786,
    "start_time": "2022-09-28T05:48:33.942Z"
   },
   {
    "duration": 2670,
    "start_time": "2022-09-28T05:50:30.730Z"
   },
   {
    "duration": 5,
    "start_time": "2022-09-28T05:50:33.402Z"
   },
   {
    "duration": 37,
    "start_time": "2022-09-28T05:50:33.408Z"
   },
   {
    "duration": 0,
    "start_time": "2022-09-28T05:50:33.448Z"
   },
   {
    "duration": 0,
    "start_time": "2022-09-28T05:50:33.450Z"
   },
   {
    "duration": 0,
    "start_time": "2022-09-28T05:50:33.451Z"
   },
   {
    "duration": 0,
    "start_time": "2022-09-28T05:50:33.453Z"
   },
   {
    "duration": 0,
    "start_time": "2022-09-28T05:50:33.455Z"
   },
   {
    "duration": 0,
    "start_time": "2022-09-28T05:50:33.456Z"
   },
   {
    "duration": 0,
    "start_time": "2022-09-28T05:50:33.458Z"
   },
   {
    "duration": 0,
    "start_time": "2022-09-28T05:50:33.460Z"
   },
   {
    "duration": 0,
    "start_time": "2022-09-28T05:50:33.462Z"
   },
   {
    "duration": 0,
    "start_time": "2022-09-28T05:50:33.463Z"
   },
   {
    "duration": 0,
    "start_time": "2022-09-28T05:50:33.465Z"
   },
   {
    "duration": 0,
    "start_time": "2022-09-28T05:50:33.467Z"
   },
   {
    "duration": 0,
    "start_time": "2022-09-28T05:50:33.468Z"
   },
   {
    "duration": 0,
    "start_time": "2022-09-28T05:50:33.470Z"
   },
   {
    "duration": 0,
    "start_time": "2022-09-28T05:50:33.471Z"
   },
   {
    "duration": 0,
    "start_time": "2022-09-28T05:50:33.473Z"
   },
   {
    "duration": 0,
    "start_time": "2022-09-28T05:50:33.475Z"
   },
   {
    "duration": 0,
    "start_time": "2022-09-28T05:50:33.476Z"
   },
   {
    "duration": 5,
    "start_time": "2022-09-28T05:55:40.178Z"
   },
   {
    "duration": 10,
    "start_time": "2022-09-28T05:55:42.588Z"
   },
   {
    "duration": 18,
    "start_time": "2022-09-28T05:58:41.994Z"
   },
   {
    "duration": 4,
    "start_time": "2022-09-28T05:58:49.918Z"
   },
   {
    "duration": 3,
    "start_time": "2022-09-28T05:58:52.976Z"
   },
   {
    "duration": 9,
    "start_time": "2022-09-28T05:58:55.064Z"
   },
   {
    "duration": 6,
    "start_time": "2022-09-28T05:59:30.615Z"
   },
   {
    "duration": 3,
    "start_time": "2022-09-28T05:59:31.149Z"
   },
   {
    "duration": 12,
    "start_time": "2022-09-28T05:59:31.652Z"
   },
   {
    "duration": 14,
    "start_time": "2022-09-28T05:59:55.838Z"
   },
   {
    "duration": 5,
    "start_time": "2022-09-28T06:00:42.551Z"
   },
   {
    "duration": 52593,
    "start_time": "2022-09-28T06:00:44.688Z"
   },
   {
    "duration": 30,
    "start_time": "2022-09-28T06:02:14.514Z"
   },
   {
    "duration": 6435,
    "start_time": "2022-09-28T06:02:59.834Z"
   },
   {
    "duration": 9,
    "start_time": "2022-09-28T06:04:47.614Z"
   },
   {
    "duration": 5,
    "start_time": "2022-09-28T06:04:50.309Z"
   },
   {
    "duration": 51216,
    "start_time": "2022-09-28T06:04:52.333Z"
   },
   {
    "duration": 5706,
    "start_time": "2022-09-28T06:07:03.531Z"
   },
   {
    "duration": 5,
    "start_time": "2022-09-28T06:07:34.970Z"
   },
   {
    "duration": 14,
    "start_time": "2022-09-28T06:08:17.552Z"
   },
   {
    "duration": 4,
    "start_time": "2022-09-28T06:10:59.541Z"
   },
   {
    "duration": 14,
    "start_time": "2022-09-28T06:11:02.053Z"
   },
   {
    "duration": 10,
    "start_time": "2022-09-28T06:12:52.854Z"
   },
   {
    "duration": 2840,
    "start_time": "2022-09-28T06:13:04.113Z"
   },
   {
    "duration": 5,
    "start_time": "2022-09-28T06:13:10.000Z"
   },
   {
    "duration": 13,
    "start_time": "2022-09-28T06:13:12.057Z"
   },
   {
    "duration": 13,
    "start_time": "2022-09-28T06:13:25.985Z"
   },
   {
    "duration": 5,
    "start_time": "2022-09-28T06:14:15.455Z"
   },
   {
    "duration": 14,
    "start_time": "2022-09-28T06:14:17.247Z"
   },
   {
    "duration": 4,
    "start_time": "2022-09-28T06:14:20.390Z"
   },
   {
    "duration": 19,
    "start_time": "2022-09-28T06:14:21.737Z"
   },
   {
    "duration": 4479,
    "start_time": "2022-09-28T06:14:31.947Z"
   },
   {
    "duration": 1366,
    "start_time": "2022-09-28T06:14:36.428Z"
   },
   {
    "duration": 145,
    "start_time": "2022-09-28T06:14:37.796Z"
   },
   {
    "duration": 57,
    "start_time": "2022-09-28T06:14:37.944Z"
   },
   {
    "duration": 52,
    "start_time": "2022-09-28T06:14:38.003Z"
   },
   {
    "duration": 44,
    "start_time": "2022-09-28T06:14:38.057Z"
   },
   {
    "duration": 21,
    "start_time": "2022-09-28T06:14:38.103Z"
   },
   {
    "duration": 135,
    "start_time": "2022-09-28T06:14:38.126Z"
   },
   {
    "duration": 6,
    "start_time": "2022-09-28T06:14:38.264Z"
   },
   {
    "duration": 13,
    "start_time": "2022-09-28T06:14:38.274Z"
   },
   {
    "duration": 13,
    "start_time": "2022-09-28T06:14:38.289Z"
   },
   {
    "duration": 19,
    "start_time": "2022-09-28T06:14:38.304Z"
   },
   {
    "duration": 56,
    "start_time": "2022-09-28T06:14:38.325Z"
   },
   {
    "duration": 84,
    "start_time": "2022-09-28T06:14:38.384Z"
   },
   {
    "duration": 10,
    "start_time": "2022-09-28T06:14:38.471Z"
   },
   {
    "duration": 7,
    "start_time": "2022-09-28T06:14:38.483Z"
   },
   {
    "duration": 30,
    "start_time": "2022-09-28T06:14:38.492Z"
   },
   {
    "duration": 47,
    "start_time": "2022-09-28T06:14:38.524Z"
   },
   {
    "duration": 7,
    "start_time": "2022-09-28T06:14:38.573Z"
   },
   {
    "duration": 7,
    "start_time": "2022-09-28T06:14:38.582Z"
   },
   {
    "duration": 11,
    "start_time": "2022-09-28T06:14:38.591Z"
   },
   {
    "duration": 23,
    "start_time": "2022-09-28T06:14:38.604Z"
   },
   {
    "duration": 1057,
    "start_time": "2022-09-28T06:14:38.655Z"
   },
   {
    "duration": 3,
    "start_time": "2022-09-28T06:14:39.714Z"
   },
   {
    "duration": 893,
    "start_time": "2022-09-28T06:14:39.719Z"
   },
   {
    "duration": 9,
    "start_time": "2022-09-28T06:14:40.614Z"
   },
   {
    "duration": 8,
    "start_time": "2022-09-28T06:14:40.625Z"
   },
   {
    "duration": 117194,
    "start_time": "2022-09-28T06:14:40.654Z"
   },
   {
    "duration": 15814,
    "start_time": "2022-09-28T06:16:37.849Z"
   },
   {
    "duration": 14,
    "start_time": "2022-09-28T06:16:53.665Z"
   },
   {
    "duration": 4,
    "start_time": "2022-09-28T06:16:53.681Z"
   },
   {
    "duration": 7,
    "start_time": "2022-09-28T06:16:53.686Z"
   },
   {
    "duration": 14,
    "start_time": "2022-09-28T06:16:53.695Z"
   },
   {
    "duration": 4,
    "start_time": "2022-09-28T06:16:53.711Z"
   },
   {
    "duration": 52103,
    "start_time": "2022-09-28T06:16:53.717Z"
   },
   {
    "duration": 5786,
    "start_time": "2022-09-28T06:17:45.822Z"
   },
   {
    "duration": 143,
    "start_time": "2022-09-28T06:17:51.609Z"
   },
   {
    "duration": 0,
    "start_time": "2022-09-28T06:17:51.754Z"
   },
   {
    "duration": 0,
    "start_time": "2022-09-28T06:17:51.755Z"
   },
   {
    "duration": 0,
    "start_time": "2022-09-28T06:17:51.757Z"
   },
   {
    "duration": 0,
    "start_time": "2022-09-28T06:17:51.758Z"
   },
   {
    "duration": 0,
    "start_time": "2022-09-28T06:17:51.760Z"
   },
   {
    "duration": 0,
    "start_time": "2022-09-28T06:17:51.761Z"
   },
   {
    "duration": 0,
    "start_time": "2022-09-28T06:17:51.762Z"
   },
   {
    "duration": 0,
    "start_time": "2022-09-28T06:17:51.764Z"
   },
   {
    "duration": 0,
    "start_time": "2022-09-28T06:17:51.765Z"
   },
   {
    "duration": 0,
    "start_time": "2022-09-28T06:17:51.766Z"
   },
   {
    "duration": 0,
    "start_time": "2022-09-28T06:17:51.768Z"
   },
   {
    "duration": 0,
    "start_time": "2022-09-28T06:17:51.770Z"
   },
   {
    "duration": 0,
    "start_time": "2022-09-28T06:17:51.775Z"
   },
   {
    "duration": 0,
    "start_time": "2022-09-28T06:17:51.776Z"
   },
   {
    "duration": 6,
    "start_time": "2022-09-28T06:21:15.588Z"
   },
   {
    "duration": 18,
    "start_time": "2022-09-28T06:21:17.605Z"
   },
   {
    "duration": 14,
    "start_time": "2022-09-28T06:21:36.572Z"
   },
   {
    "duration": 4,
    "start_time": "2022-09-28T06:21:40.916Z"
   },
   {
    "duration": 19,
    "start_time": "2022-09-28T06:21:46.443Z"
   },
   {
    "duration": 10,
    "start_time": "2022-09-28T06:21:57.380Z"
   },
   {
    "duration": 13,
    "start_time": "2022-09-28T06:22:04.195Z"
   },
   {
    "duration": 12,
    "start_time": "2022-09-28T06:22:37.555Z"
   },
   {
    "duration": 5,
    "start_time": "2022-09-28T06:22:41.962Z"
   },
   {
    "duration": 19,
    "start_time": "2022-09-28T06:22:42.499Z"
   },
   {
    "duration": 1083,
    "start_time": "2022-09-28T06:25:48.632Z"
   },
   {
    "duration": 1133,
    "start_time": "2022-09-28T06:27:29.491Z"
   },
   {
    "duration": 1131,
    "start_time": "2022-09-28T06:27:49.174Z"
   },
   {
    "duration": 1126,
    "start_time": "2022-09-28T06:27:55.498Z"
   },
   {
    "duration": 1158,
    "start_time": "2022-09-28T06:28:10.426Z"
   },
   {
    "duration": 1118,
    "start_time": "2022-09-28T06:28:29.770Z"
   },
   {
    "duration": 1050,
    "start_time": "2022-09-28T06:28:37.409Z"
   },
   {
    "duration": 1136,
    "start_time": "2022-09-28T06:36:50.669Z"
   },
   {
    "duration": 1072,
    "start_time": "2022-09-28T06:36:58.249Z"
   },
   {
    "duration": 1039,
    "start_time": "2022-09-28T06:37:19.814Z"
   },
   {
    "duration": 1059,
    "start_time": "2022-09-28T06:37:29.453Z"
   },
   {
    "duration": 1005,
    "start_time": "2022-09-28T06:38:09.396Z"
   },
   {
    "duration": 15,
    "start_time": "2022-09-28T07:08:34.038Z"
   },
   {
    "duration": 1184,
    "start_time": "2022-09-28T07:11:11.419Z"
   },
   {
    "duration": 1030,
    "start_time": "2022-09-28T07:11:26.226Z"
   },
   {
    "duration": 6,
    "start_time": "2022-09-28T07:38:39.136Z"
   },
   {
    "duration": 317,
    "start_time": "2022-09-28T07:38:42.450Z"
   },
   {
    "duration": 306,
    "start_time": "2022-09-28T07:39:02.322Z"
   },
   {
    "duration": 293,
    "start_time": "2022-09-28T07:39:35.593Z"
   },
   {
    "duration": 294,
    "start_time": "2022-09-28T07:39:57.175Z"
   },
   {
    "duration": 15,
    "start_time": "2022-09-28T07:40:21.399Z"
   },
   {
    "duration": 3,
    "start_time": "2022-09-28T07:41:32.599Z"
   },
   {
    "duration": 11,
    "start_time": "2022-09-28T07:41:42.757Z"
   },
   {
    "duration": 4,
    "start_time": "2022-09-28T07:41:55.636Z"
   },
   {
    "duration": 54350,
    "start_time": "2022-09-28T07:42:18.236Z"
   },
   {
    "duration": 3350344,
    "start_time": "2022-09-28T07:47:10.837Z"
   },
   {
    "duration": 4,
    "start_time": "2022-09-28T08:43:01.182Z"
   },
   {
    "duration": 2333,
    "start_time": "2022-09-28T08:46:46.204Z"
   },
   {
    "duration": 4,
    "start_time": "2022-09-28T08:47:03.920Z"
   },
   {
    "duration": 12,
    "start_time": "2022-09-28T08:47:41.929Z"
   },
   {
    "duration": 5,
    "start_time": "2022-09-28T08:48:44.137Z"
   },
   {
    "duration": 12,
    "start_time": "2022-09-28T08:48:52.536Z"
   },
   {
    "duration": 852,
    "start_time": "2022-09-28T08:55:53.756Z"
   },
   {
    "duration": 869,
    "start_time": "2022-09-28T08:55:59.572Z"
   },
   {
    "duration": 849,
    "start_time": "2022-09-28T08:56:04.766Z"
   },
   {
    "duration": 4,
    "start_time": "2022-09-28T08:56:13.868Z"
   },
   {
    "duration": 12,
    "start_time": "2022-09-28T08:56:15.713Z"
   },
   {
    "duration": 5,
    "start_time": "2022-09-28T08:56:26.809Z"
   },
   {
    "duration": 20,
    "start_time": "2022-09-28T08:56:28.715Z"
   },
   {
    "duration": 7,
    "start_time": "2022-09-28T09:03:39.071Z"
   },
   {
    "duration": 11,
    "start_time": "2022-09-28T09:03:45.641Z"
   },
   {
    "duration": 15,
    "start_time": "2022-09-28T09:04:00.505Z"
   },
   {
    "duration": 4,
    "start_time": "2022-09-28T09:04:05.928Z"
   },
   {
    "duration": 4,
    "start_time": "2022-09-28T09:04:24.408Z"
   },
   {
    "duration": 15,
    "start_time": "2022-09-28T09:04:26.351Z"
   },
   {
    "duration": 6,
    "start_time": "2022-09-28T09:04:29.934Z"
   },
   {
    "duration": 3101834,
    "start_time": "2022-09-28T09:04:38.362Z"
   },
   {
    "duration": 5911,
    "start_time": "2022-09-28T09:57:45.456Z"
   },
   {
    "duration": 5,
    "start_time": "2022-09-28T09:58:24.365Z"
   },
   {
    "duration": 17,
    "start_time": "2022-09-28T09:58:26.173Z"
   },
   {
    "duration": 5,
    "start_time": "2022-09-28T09:58:33.390Z"
   },
   {
    "duration": 19,
    "start_time": "2022-09-28T09:58:35.701Z"
   },
   {
    "duration": 15,
    "start_time": "2022-09-28T10:00:20.908Z"
   },
   {
    "duration": 14,
    "start_time": "2022-09-28T10:00:34.482Z"
   },
   {
    "duration": 15,
    "start_time": "2022-09-28T10:00:50.493Z"
   },
   {
    "duration": 1909,
    "start_time": "2022-09-28T10:00:58.818Z"
   },
   {
    "duration": 6,
    "start_time": "2022-09-28T10:01:28.217Z"
   },
   {
    "duration": 14,
    "start_time": "2022-09-28T10:02:41.977Z"
   },
   {
    "duration": 27,
    "start_time": "2022-09-28T10:05:51.149Z"
   },
   {
    "duration": 6,
    "start_time": "2022-09-28T10:06:07.747Z"
   },
   {
    "duration": 20,
    "start_time": "2022-09-28T10:06:09.856Z"
   },
   {
    "duration": 780,
    "start_time": "2022-09-28T10:06:39.683Z"
   },
   {
    "duration": 36,
    "start_time": "2022-09-28T10:07:20.602Z"
   },
   {
    "duration": 58,
    "start_time": "2022-09-28T10:07:42.384Z"
   },
   {
    "duration": 38,
    "start_time": "2022-09-28T10:08:06.257Z"
   },
   {
    "duration": 5,
    "start_time": "2022-09-28T10:08:09.218Z"
   },
   {
    "duration": 47841,
    "start_time": "2022-09-28T10:08:14.232Z"
   },
   {
    "duration": 37140,
    "start_time": "2022-09-28T10:14:38.128Z"
   },
   {
    "duration": 13,
    "start_time": "2022-09-28T10:16:58.731Z"
   },
   {
    "duration": 86,
    "start_time": "2022-09-28T10:18:01.576Z"
   },
   {
    "duration": 4562,
    "start_time": "2022-09-28T10:19:45.614Z"
   },
   {
    "duration": 1419,
    "start_time": "2022-09-28T10:19:50.180Z"
   },
   {
    "duration": 196,
    "start_time": "2022-09-28T10:19:51.601Z"
   },
   {
    "duration": 72,
    "start_time": "2022-09-28T10:19:51.801Z"
   },
   {
    "duration": 41,
    "start_time": "2022-09-28T10:19:51.875Z"
   },
   {
    "duration": 58,
    "start_time": "2022-09-28T10:19:51.918Z"
   },
   {
    "duration": 41,
    "start_time": "2022-09-28T10:19:51.980Z"
   },
   {
    "duration": 118,
    "start_time": "2022-09-28T10:19:52.023Z"
   },
   {
    "duration": 36,
    "start_time": "2022-09-28T10:19:52.143Z"
   },
   {
    "duration": 27,
    "start_time": "2022-09-28T10:19:52.183Z"
   },
   {
    "duration": 32,
    "start_time": "2022-09-28T10:19:52.212Z"
   },
   {
    "duration": 54,
    "start_time": "2022-09-28T10:19:52.246Z"
   },
   {
    "duration": 43,
    "start_time": "2022-09-28T10:19:52.302Z"
   },
   {
    "duration": 80,
    "start_time": "2022-09-28T10:19:52.347Z"
   },
   {
    "duration": 9,
    "start_time": "2022-09-28T10:19:52.429Z"
   },
   {
    "duration": 13,
    "start_time": "2022-09-28T10:19:52.454Z"
   },
   {
    "duration": 37,
    "start_time": "2022-09-28T10:19:52.481Z"
   },
   {
    "duration": 27,
    "start_time": "2022-09-28T10:19:52.520Z"
   },
   {
    "duration": 6,
    "start_time": "2022-09-28T10:19:52.549Z"
   },
   {
    "duration": 33,
    "start_time": "2022-09-28T10:19:52.561Z"
   },
   {
    "duration": 16,
    "start_time": "2022-09-28T10:19:52.596Z"
   },
   {
    "duration": 23,
    "start_time": "2022-09-28T10:19:52.614Z"
   },
   {
    "duration": 16,
    "start_time": "2022-09-28T10:19:52.639Z"
   },
   {
    "duration": 1171,
    "start_time": "2022-09-28T10:19:52.666Z"
   },
   {
    "duration": 1159,
    "start_time": "2022-09-28T10:19:53.839Z"
   },
   {
    "duration": 5,
    "start_time": "2022-09-28T10:19:55.000Z"
   },
   {
    "duration": 444,
    "start_time": "2022-09-28T10:19:55.006Z"
   },
   {
    "duration": 31,
    "start_time": "2022-09-28T10:19:55.454Z"
   },
   {
    "duration": 21,
    "start_time": "2022-09-28T10:19:55.487Z"
   },
   {
    "duration": 17991,
    "start_time": "2022-09-28T10:19:55.510Z"
   },
   {
    "duration": 15,
    "start_time": "2022-09-28T10:20:13.503Z"
   },
   {
    "duration": 8,
    "start_time": "2022-09-28T10:20:13.520Z"
   },
   {
    "duration": 10,
    "start_time": "2022-09-28T10:20:13.530Z"
   },
   {
    "duration": 22,
    "start_time": "2022-09-28T10:20:13.542Z"
   },
   {
    "duration": 6779,
    "start_time": "2022-09-28T10:20:13.566Z"
   },
   {
    "duration": 147,
    "start_time": "2022-09-28T10:20:20.347Z"
   },
   {
    "duration": 0,
    "start_time": "2022-09-28T10:20:20.496Z"
   },
   {
    "duration": 0,
    "start_time": "2022-09-28T10:20:20.498Z"
   },
   {
    "duration": 0,
    "start_time": "2022-09-28T10:20:20.499Z"
   },
   {
    "duration": 0,
    "start_time": "2022-09-28T10:20:20.501Z"
   },
   {
    "duration": 0,
    "start_time": "2022-09-28T10:20:20.503Z"
   },
   {
    "duration": 0,
    "start_time": "2022-09-28T10:20:20.504Z"
   },
   {
    "duration": 0,
    "start_time": "2022-09-28T10:20:20.505Z"
   },
   {
    "duration": 0,
    "start_time": "2022-09-28T10:20:20.507Z"
   },
   {
    "duration": 0,
    "start_time": "2022-09-28T10:20:20.508Z"
   },
   {
    "duration": 0,
    "start_time": "2022-09-28T10:20:20.509Z"
   },
   {
    "duration": 4,
    "start_time": "2022-09-28T10:22:39.604Z"
   },
   {
    "duration": 64,
    "start_time": "2022-09-28T10:22:41.770Z"
   },
   {
    "duration": 6,
    "start_time": "2022-09-28T10:22:45.002Z"
   },
   {
    "duration": 5849,
    "start_time": "2022-09-28T10:48:08.948Z"
   },
   {
    "duration": 1632,
    "start_time": "2022-09-28T10:48:14.800Z"
   },
   {
    "duration": 171,
    "start_time": "2022-09-28T10:48:16.434Z"
   },
   {
    "duration": 53,
    "start_time": "2022-09-28T10:48:16.608Z"
   },
   {
    "duration": 40,
    "start_time": "2022-09-28T10:48:16.663Z"
   },
   {
    "duration": 54,
    "start_time": "2022-09-28T10:48:16.705Z"
   },
   {
    "duration": 29,
    "start_time": "2022-09-28T10:48:16.760Z"
   },
   {
    "duration": 125,
    "start_time": "2022-09-28T10:48:16.790Z"
   },
   {
    "duration": 6,
    "start_time": "2022-09-28T10:48:16.917Z"
   },
   {
    "duration": 13,
    "start_time": "2022-09-28T10:48:16.925Z"
   },
   {
    "duration": 40,
    "start_time": "2022-09-28T10:48:16.939Z"
   },
   {
    "duration": 23,
    "start_time": "2022-09-28T10:48:16.983Z"
   },
   {
    "duration": 36,
    "start_time": "2022-09-28T10:48:17.008Z"
   },
   {
    "duration": 81,
    "start_time": "2022-09-28T10:48:17.046Z"
   },
   {
    "duration": 10,
    "start_time": "2022-09-28T10:48:17.129Z"
   },
   {
    "duration": 30,
    "start_time": "2022-09-28T10:48:17.140Z"
   },
   {
    "duration": 30,
    "start_time": "2022-09-28T10:48:17.172Z"
   },
   {
    "duration": 28,
    "start_time": "2022-09-28T10:48:17.204Z"
   },
   {
    "duration": 5,
    "start_time": "2022-09-28T10:48:17.234Z"
   },
   {
    "duration": 12,
    "start_time": "2022-09-28T10:48:17.258Z"
   },
   {
    "duration": 29,
    "start_time": "2022-09-28T10:48:17.275Z"
   },
   {
    "duration": 24,
    "start_time": "2022-09-28T10:48:17.306Z"
   },
   {
    "duration": 14,
    "start_time": "2022-09-28T10:48:17.331Z"
   },
   {
    "duration": 1169,
    "start_time": "2022-09-28T10:48:17.347Z"
   },
   {
    "duration": 1162,
    "start_time": "2022-09-28T10:48:18.517Z"
   },
   {
    "duration": 4,
    "start_time": "2022-09-28T10:48:19.681Z"
   },
   {
    "duration": 405,
    "start_time": "2022-09-28T10:48:19.687Z"
   },
   {
    "duration": 9,
    "start_time": "2022-09-28T10:48:20.096Z"
   },
   {
    "duration": 12,
    "start_time": "2022-09-28T10:48:20.107Z"
   },
   {
    "duration": 17477,
    "start_time": "2022-09-28T10:48:20.120Z"
   },
   {
    "duration": 14,
    "start_time": "2022-09-28T10:48:37.599Z"
   },
   {
    "duration": 6,
    "start_time": "2022-09-28T10:48:37.615Z"
   },
   {
    "duration": 11,
    "start_time": "2022-09-28T10:48:37.622Z"
   },
   {
    "duration": 5,
    "start_time": "2022-09-28T10:48:37.635Z"
   },
   {
    "duration": 6437,
    "start_time": "2022-09-28T10:48:37.641Z"
   },
   {
    "duration": 6,
    "start_time": "2022-09-28T10:48:44.084Z"
   },
   {
    "duration": 55,
    "start_time": "2022-09-28T10:48:44.092Z"
   },
   {
    "duration": 8,
    "start_time": "2022-09-28T10:48:44.149Z"
   },
   {
    "duration": 4602,
    "start_time": "2022-09-28T10:50:09.065Z"
   },
   {
    "duration": 1357,
    "start_time": "2022-09-28T10:50:13.670Z"
   },
   {
    "duration": 173,
    "start_time": "2022-09-28T10:50:15.029Z"
   },
   {
    "duration": 59,
    "start_time": "2022-09-28T10:50:15.204Z"
   },
   {
    "duration": 31,
    "start_time": "2022-09-28T10:50:15.266Z"
   },
   {
    "duration": 38,
    "start_time": "2022-09-28T10:50:15.298Z"
   },
   {
    "duration": 43,
    "start_time": "2022-09-28T10:50:15.338Z"
   },
   {
    "duration": 114,
    "start_time": "2022-09-28T10:50:15.382Z"
   },
   {
    "duration": 8,
    "start_time": "2022-09-28T10:50:15.498Z"
   },
   {
    "duration": 16,
    "start_time": "2022-09-28T10:50:15.508Z"
   },
   {
    "duration": 40,
    "start_time": "2022-09-28T10:50:15.525Z"
   },
   {
    "duration": 13,
    "start_time": "2022-09-28T10:50:15.572Z"
   },
   {
    "duration": 38,
    "start_time": "2022-09-28T10:50:15.587Z"
   },
   {
    "duration": 78,
    "start_time": "2022-09-28T10:50:15.628Z"
   },
   {
    "duration": 10,
    "start_time": "2022-09-28T10:50:15.708Z"
   },
   {
    "duration": 7,
    "start_time": "2022-09-28T10:50:15.720Z"
   },
   {
    "duration": 44,
    "start_time": "2022-09-28T10:50:15.728Z"
   },
   {
    "duration": 29,
    "start_time": "2022-09-28T10:50:15.774Z"
   },
   {
    "duration": 6,
    "start_time": "2022-09-28T10:50:15.804Z"
   },
   {
    "duration": 14,
    "start_time": "2022-09-28T10:50:15.812Z"
   },
   {
    "duration": 11,
    "start_time": "2022-09-28T10:50:15.828Z"
   },
   {
    "duration": 32,
    "start_time": "2022-09-28T10:50:15.841Z"
   },
   {
    "duration": 21,
    "start_time": "2022-09-28T10:50:15.875Z"
   },
   {
    "duration": 1095,
    "start_time": "2022-09-28T10:50:15.897Z"
   },
   {
    "duration": 1145,
    "start_time": "2022-09-28T10:50:16.994Z"
   },
   {
    "duration": 4,
    "start_time": "2022-09-28T10:50:18.141Z"
   },
   {
    "duration": 387,
    "start_time": "2022-09-28T10:50:18.160Z"
   },
   {
    "duration": 13,
    "start_time": "2022-09-28T10:50:18.549Z"
   },
   {
    "duration": 20,
    "start_time": "2022-09-28T10:50:18.564Z"
   },
   {
    "duration": 16046,
    "start_time": "2022-09-28T10:50:18.586Z"
   },
   {
    "duration": 13,
    "start_time": "2022-09-28T10:50:34.634Z"
   },
   {
    "duration": 3,
    "start_time": "2022-09-28T10:50:34.649Z"
   },
   {
    "duration": 32,
    "start_time": "2022-09-28T10:50:34.654Z"
   },
   {
    "duration": 4,
    "start_time": "2022-09-28T10:50:34.688Z"
   },
   {
    "duration": 6001,
    "start_time": "2022-09-28T10:50:34.694Z"
   },
   {
    "duration": 5,
    "start_time": "2022-09-28T10:50:40.697Z"
   },
   {
    "duration": 60,
    "start_time": "2022-09-28T10:50:40.704Z"
   },
   {
    "duration": 7,
    "start_time": "2022-09-28T10:50:40.767Z"
   },
   {
    "duration": 3289,
    "start_time": "2022-09-28T10:50:40.775Z"
   },
   {
    "duration": 12,
    "start_time": "2022-09-28T10:50:44.069Z"
   },
   {
    "duration": 4,
    "start_time": "2022-09-28T10:50:44.085Z"
   },
   {
    "duration": 22,
    "start_time": "2022-09-28T10:50:44.090Z"
   },
   {
    "duration": 64,
    "start_time": "2022-09-28T10:50:44.113Z"
   },
   {
    "duration": 53,
    "start_time": "2022-09-28T10:50:44.179Z"
   },
   {
    "duration": 5,
    "start_time": "2022-09-28T11:10:10.676Z"
   },
   {
    "duration": 504,
    "start_time": "2022-09-28T11:10:38.026Z"
   },
   {
    "duration": 154,
    "start_time": "2022-09-28T11:13:34.406Z"
   },
   {
    "duration": 447,
    "start_time": "2022-09-28T11:13:54.645Z"
   },
   {
    "duration": 376,
    "start_time": "2022-09-28T11:14:14.470Z"
   },
   {
    "duration": 450,
    "start_time": "2022-09-28T11:14:25.467Z"
   },
   {
    "duration": 347,
    "start_time": "2022-09-28T11:14:35.996Z"
   },
   {
    "duration": 13,
    "start_time": "2022-09-28T11:26:09.139Z"
   },
   {
    "duration": 25,
    "start_time": "2022-09-28T11:26:18.753Z"
   },
   {
    "duration": 35,
    "start_time": "2022-09-28T11:26:26.050Z"
   },
   {
    "duration": 4896,
    "start_time": "2022-09-28T11:30:19.323Z"
   },
   {
    "duration": 1551,
    "start_time": "2022-09-28T11:30:24.223Z"
   },
   {
    "duration": 154,
    "start_time": "2022-09-28T11:30:25.784Z"
   },
   {
    "duration": 60,
    "start_time": "2022-09-28T11:30:25.940Z"
   },
   {
    "duration": 33,
    "start_time": "2022-09-28T11:30:26.001Z"
   },
   {
    "duration": 76,
    "start_time": "2022-09-28T11:30:26.035Z"
   },
   {
    "duration": 20,
    "start_time": "2022-09-28T11:30:26.113Z"
   },
   {
    "duration": 131,
    "start_time": "2022-09-28T11:30:26.135Z"
   },
   {
    "duration": 12,
    "start_time": "2022-09-28T11:30:26.270Z"
   },
   {
    "duration": 10,
    "start_time": "2022-09-28T11:30:26.286Z"
   },
   {
    "duration": 16,
    "start_time": "2022-09-28T11:30:26.298Z"
   },
   {
    "duration": 10,
    "start_time": "2022-09-28T11:30:26.315Z"
   },
   {
    "duration": 65,
    "start_time": "2022-09-28T11:30:26.327Z"
   },
   {
    "duration": 80,
    "start_time": "2022-09-28T11:30:26.394Z"
   },
   {
    "duration": 14,
    "start_time": "2022-09-28T11:30:26.475Z"
   },
   {
    "duration": 19,
    "start_time": "2022-09-28T11:30:26.490Z"
   },
   {
    "duration": 23,
    "start_time": "2022-09-28T11:30:26.511Z"
   },
   {
    "duration": 48,
    "start_time": "2022-09-28T11:30:26.537Z"
   },
   {
    "duration": 6,
    "start_time": "2022-09-28T11:30:26.588Z"
   },
   {
    "duration": 14,
    "start_time": "2022-09-28T11:30:26.596Z"
   },
   {
    "duration": 24,
    "start_time": "2022-09-28T11:30:26.611Z"
   },
   {
    "duration": 39,
    "start_time": "2022-09-28T11:30:26.637Z"
   },
   {
    "duration": 32,
    "start_time": "2022-09-28T11:30:26.679Z"
   },
   {
    "duration": 1170,
    "start_time": "2022-09-28T11:30:26.713Z"
   },
   {
    "duration": 1192,
    "start_time": "2022-09-28T11:30:27.885Z"
   },
   {
    "duration": 5,
    "start_time": "2022-09-28T11:30:29.080Z"
   },
   {
    "duration": 422,
    "start_time": "2022-09-28T11:30:29.086Z"
   },
   {
    "duration": 8,
    "start_time": "2022-09-28T11:30:29.512Z"
   },
   {
    "duration": 5,
    "start_time": "2022-09-28T11:30:29.522Z"
   },
   {
    "duration": 135394,
    "start_time": "2022-09-28T11:30:29.529Z"
   },
   {
    "duration": 17819,
    "start_time": "2022-09-28T11:32:44.925Z"
   },
   {
    "duration": 19,
    "start_time": "2022-09-28T11:33:02.745Z"
   },
   {
    "duration": 27,
    "start_time": "2022-09-28T11:33:02.767Z"
   },
   {
    "duration": 13,
    "start_time": "2022-09-28T11:33:02.796Z"
   },
   {
    "duration": 8,
    "start_time": "2022-09-28T11:33:02.810Z"
   },
   {
    "duration": 744194,
    "start_time": "2022-09-28T11:33:02.820Z"
   },
   {
    "duration": 6566,
    "start_time": "2022-09-28T11:45:27.016Z"
   },
   {
    "duration": 5,
    "start_time": "2022-09-28T11:45:33.584Z"
   },
   {
    "duration": 60,
    "start_time": "2022-09-28T11:45:33.590Z"
   },
   {
    "duration": 14,
    "start_time": "2022-09-28T11:45:33.652Z"
   },
   {
    "duration": 511600,
    "start_time": "2022-09-28T11:45:33.668Z"
   },
   {
    "duration": 2786,
    "start_time": "2022-09-28T11:54:05.278Z"
   },
   {
    "duration": 13,
    "start_time": "2022-09-28T11:54:08.070Z"
   },
   {
    "duration": 365,
    "start_time": "2022-09-28T11:54:08.084Z"
   },
   {
    "duration": 131,
    "start_time": "2022-09-28T11:54:08.459Z"
   },
   {
    "duration": 0,
    "start_time": "2022-09-28T11:54:08.592Z"
   },
   {
    "duration": 26,
    "start_time": "2022-09-28T11:54:53.820Z"
   },
   {
    "duration": 14,
    "start_time": "2022-09-28T11:56:56.057Z"
   },
   {
    "duration": 12,
    "start_time": "2022-09-28T11:58:08.767Z"
   },
   {
    "duration": 4,
    "start_time": "2022-09-28T12:02:52.571Z"
   },
   {
    "duration": 16,
    "start_time": "2022-09-28T12:02:54.271Z"
   },
   {
    "duration": 12,
    "start_time": "2022-09-28T12:03:30.216Z"
   },
   {
    "duration": 19,
    "start_time": "2022-09-28T12:03:37.866Z"
   },
   {
    "duration": 378,
    "start_time": "2022-09-28T12:03:55.928Z"
   },
   {
    "duration": 128,
    "start_time": "2022-09-28T12:09:44.287Z"
   },
   {
    "duration": 18,
    "start_time": "2022-09-28T12:14:30.119Z"
   },
   {
    "duration": 3,
    "start_time": "2022-09-28T12:14:33.568Z"
   },
   {
    "duration": 21,
    "start_time": "2022-09-28T12:14:35.606Z"
   },
   {
    "duration": 184,
    "start_time": "2022-09-28T12:16:46.396Z"
   },
   {
    "duration": 264,
    "start_time": "2022-09-28T12:16:52.908Z"
   },
   {
    "duration": 382,
    "start_time": "2022-09-28T12:17:25.071Z"
   },
   {
    "duration": 409,
    "start_time": "2022-09-28T12:23:41.466Z"
   },
   {
    "duration": 357,
    "start_time": "2022-09-28T12:23:50.033Z"
   },
   {
    "duration": 479,
    "start_time": "2022-09-28T12:26:12.966Z"
   },
   {
    "duration": 423,
    "start_time": "2022-09-28T12:26:52.340Z"
   },
   {
    "duration": 461,
    "start_time": "2022-09-28T12:27:14.157Z"
   },
   {
    "duration": 416,
    "start_time": "2022-09-28T12:27:32.283Z"
   },
   {
    "duration": 9,
    "start_time": "2022-09-28T12:29:57.192Z"
   },
   {
    "duration": 9,
    "start_time": "2022-09-28T12:31:45.942Z"
   },
   {
    "duration": 34,
    "start_time": "2022-09-28T12:33:27.786Z"
   },
   {
    "duration": 30,
    "start_time": "2022-09-28T12:37:28.053Z"
   },
   {
    "duration": 15,
    "start_time": "2022-09-28T12:41:04.503Z"
   },
   {
    "duration": 17,
    "start_time": "2022-09-28T12:41:51.374Z"
   },
   {
    "duration": 23,
    "start_time": "2022-09-28T12:46:24.481Z"
   },
   {
    "duration": 1246,
    "start_time": "2022-09-28T12:47:54.751Z"
   },
   {
    "duration": 19,
    "start_time": "2022-09-28T12:48:07.372Z"
   },
   {
    "duration": 15,
    "start_time": "2022-09-28T12:51:36.000Z"
   },
   {
    "duration": 19,
    "start_time": "2022-09-28T13:06:24.441Z"
   },
   {
    "duration": 16,
    "start_time": "2022-09-28T13:06:41.833Z"
   },
   {
    "duration": 18,
    "start_time": "2022-09-28T13:07:25.279Z"
   },
   {
    "duration": 14,
    "start_time": "2022-09-28T13:07:36.840Z"
   },
   {
    "duration": 12,
    "start_time": "2022-09-28T13:14:31.166Z"
   },
   {
    "duration": 12,
    "start_time": "2022-09-28T13:14:43.629Z"
   },
   {
    "duration": 5,
    "start_time": "2022-09-28T13:15:06.593Z"
   },
   {
    "duration": 146,
    "start_time": "2022-09-28T13:15:13.612Z"
   },
   {
    "duration": 177,
    "start_time": "2022-09-28T13:15:27.454Z"
   },
   {
    "duration": 1913,
    "start_time": "2022-09-28T13:16:20.659Z"
   },
   {
    "duration": 2794,
    "start_time": "2022-09-28T13:24:07.490Z"
   },
   {
    "duration": 2559,
    "start_time": "2022-09-28T13:25:22.198Z"
   },
   {
    "duration": 4405,
    "start_time": "2022-09-28T13:30:43.294Z"
   },
   {
    "duration": 1340,
    "start_time": "2022-09-28T13:30:47.703Z"
   },
   {
    "duration": 169,
    "start_time": "2022-09-28T13:30:49.045Z"
   },
   {
    "duration": 66,
    "start_time": "2022-09-28T13:30:49.216Z"
   },
   {
    "duration": 33,
    "start_time": "2022-09-28T13:30:49.284Z"
   },
   {
    "duration": 54,
    "start_time": "2022-09-28T13:30:49.318Z"
   },
   {
    "duration": 23,
    "start_time": "2022-09-28T13:30:49.374Z"
   },
   {
    "duration": 123,
    "start_time": "2022-09-28T13:30:49.399Z"
   },
   {
    "duration": 5,
    "start_time": "2022-09-28T13:30:49.524Z"
   },
   {
    "duration": 26,
    "start_time": "2022-09-28T13:30:49.532Z"
   },
   {
    "duration": 9,
    "start_time": "2022-09-28T13:30:49.560Z"
   },
   {
    "duration": 11,
    "start_time": "2022-09-28T13:30:49.571Z"
   },
   {
    "duration": 35,
    "start_time": "2022-09-28T13:30:49.583Z"
   },
   {
    "duration": 110,
    "start_time": "2022-09-28T13:30:49.621Z"
   },
   {
    "duration": 25,
    "start_time": "2022-09-28T13:30:49.733Z"
   },
   {
    "duration": 6,
    "start_time": "2022-09-28T13:30:49.760Z"
   },
   {
    "duration": 27,
    "start_time": "2022-09-28T13:30:49.769Z"
   },
   {
    "duration": 28,
    "start_time": "2022-09-28T13:30:49.798Z"
   },
   {
    "duration": 28,
    "start_time": "2022-09-28T13:30:49.828Z"
   },
   {
    "duration": 9,
    "start_time": "2022-09-28T13:30:49.858Z"
   },
   {
    "duration": 25,
    "start_time": "2022-09-28T13:30:49.869Z"
   },
   {
    "duration": 22,
    "start_time": "2022-09-28T13:30:49.896Z"
   },
   {
    "duration": 21,
    "start_time": "2022-09-28T13:30:49.919Z"
   },
   {
    "duration": 1110,
    "start_time": "2022-09-28T13:30:49.941Z"
   },
   {
    "duration": 1208,
    "start_time": "2022-09-28T13:30:51.054Z"
   },
   {
    "duration": 4,
    "start_time": "2022-09-28T13:30:52.264Z"
   },
   {
    "duration": 401,
    "start_time": "2022-09-28T13:30:52.269Z"
   },
   {
    "duration": 7,
    "start_time": "2022-09-28T13:30:52.674Z"
   },
   {
    "duration": 17,
    "start_time": "2022-09-28T13:30:52.682Z"
   },
   {
    "duration": 135,
    "start_time": "2022-09-28T13:30:52.701Z"
   },
   {
    "duration": 0,
    "start_time": "2022-09-28T13:30:52.839Z"
   },
   {
    "duration": 0,
    "start_time": "2022-09-28T13:30:52.841Z"
   },
   {
    "duration": 0,
    "start_time": "2022-09-28T13:30:52.842Z"
   },
   {
    "duration": 0,
    "start_time": "2022-09-28T13:30:52.855Z"
   },
   {
    "duration": 0,
    "start_time": "2022-09-28T13:30:52.856Z"
   },
   {
    "duration": 0,
    "start_time": "2022-09-28T13:30:52.858Z"
   },
   {
    "duration": 0,
    "start_time": "2022-09-28T13:30:52.860Z"
   },
   {
    "duration": 0,
    "start_time": "2022-09-28T13:30:52.861Z"
   },
   {
    "duration": 1,
    "start_time": "2022-09-28T13:30:52.862Z"
   },
   {
    "duration": 0,
    "start_time": "2022-09-28T13:30:52.865Z"
   },
   {
    "duration": 0,
    "start_time": "2022-09-28T13:30:52.867Z"
   },
   {
    "duration": 0,
    "start_time": "2022-09-28T13:30:52.868Z"
   },
   {
    "duration": 0,
    "start_time": "2022-09-28T13:30:52.870Z"
   },
   {
    "duration": 0,
    "start_time": "2022-09-28T13:30:52.872Z"
   },
   {
    "duration": 0,
    "start_time": "2022-09-28T13:30:52.874Z"
   },
   {
    "duration": 0,
    "start_time": "2022-09-28T13:30:52.875Z"
   },
   {
    "duration": 0,
    "start_time": "2022-09-28T13:30:52.877Z"
   },
   {
    "duration": 0,
    "start_time": "2022-09-28T13:30:52.879Z"
   },
   {
    "duration": 0,
    "start_time": "2022-09-28T13:30:52.880Z"
   },
   {
    "duration": 0,
    "start_time": "2022-09-28T13:30:52.882Z"
   },
   {
    "duration": 0,
    "start_time": "2022-09-28T13:30:52.883Z"
   },
   {
    "duration": 0,
    "start_time": "2022-09-28T13:30:52.884Z"
   },
   {
    "duration": 0,
    "start_time": "2022-09-28T13:30:52.886Z"
   },
   {
    "duration": 4743,
    "start_time": "2022-09-28T13:31:09.794Z"
   },
   {
    "duration": 1507,
    "start_time": "2022-09-28T13:31:14.539Z"
   },
   {
    "duration": 165,
    "start_time": "2022-09-28T13:31:16.052Z"
   },
   {
    "duration": 53,
    "start_time": "2022-09-28T13:31:16.220Z"
   },
   {
    "duration": 46,
    "start_time": "2022-09-28T13:31:16.275Z"
   },
   {
    "duration": 68,
    "start_time": "2022-09-28T13:31:16.324Z"
   },
   {
    "duration": 23,
    "start_time": "2022-09-28T13:31:16.394Z"
   },
   {
    "duration": 145,
    "start_time": "2022-09-28T13:31:16.418Z"
   },
   {
    "duration": 6,
    "start_time": "2022-09-28T13:31:16.565Z"
   },
   {
    "duration": 16,
    "start_time": "2022-09-28T13:31:16.574Z"
   },
   {
    "duration": 12,
    "start_time": "2022-09-28T13:31:16.592Z"
   },
   {
    "duration": 14,
    "start_time": "2022-09-28T13:31:16.606Z"
   },
   {
    "duration": 66,
    "start_time": "2022-09-28T13:31:16.623Z"
   },
   {
    "duration": 89,
    "start_time": "2022-09-28T13:31:16.691Z"
   },
   {
    "duration": 11,
    "start_time": "2022-09-28T13:31:16.782Z"
   },
   {
    "duration": 19,
    "start_time": "2022-09-28T13:31:16.795Z"
   },
   {
    "duration": 22,
    "start_time": "2022-09-28T13:31:16.816Z"
   },
   {
    "duration": 28,
    "start_time": "2022-09-28T13:31:16.853Z"
   },
   {
    "duration": 6,
    "start_time": "2022-09-28T13:31:16.883Z"
   },
   {
    "duration": 8,
    "start_time": "2022-09-28T13:31:16.890Z"
   },
   {
    "duration": 15,
    "start_time": "2022-09-28T13:31:16.900Z"
   },
   {
    "duration": 57,
    "start_time": "2022-09-28T13:31:16.917Z"
   },
   {
    "duration": 53,
    "start_time": "2022-09-28T13:31:16.977Z"
   },
   {
    "duration": 1190,
    "start_time": "2022-09-28T13:31:17.032Z"
   },
   {
    "duration": 1103,
    "start_time": "2022-09-28T13:31:18.225Z"
   },
   {
    "duration": 5,
    "start_time": "2022-09-28T13:31:19.330Z"
   },
   {
    "duration": 420,
    "start_time": "2022-09-28T13:31:19.337Z"
   },
   {
    "duration": 9,
    "start_time": "2022-09-28T13:31:19.761Z"
   },
   {
    "duration": 17,
    "start_time": "2022-09-28T13:31:19.771Z"
   },
   {
    "duration": 129,
    "start_time": "2022-09-28T13:31:19.789Z"
   },
   {
    "duration": 0,
    "start_time": "2022-09-28T13:31:19.919Z"
   },
   {
    "duration": 0,
    "start_time": "2022-09-28T13:31:19.921Z"
   },
   {
    "duration": 0,
    "start_time": "2022-09-28T13:31:19.922Z"
   },
   {
    "duration": 0,
    "start_time": "2022-09-28T13:31:19.923Z"
   },
   {
    "duration": 0,
    "start_time": "2022-09-28T13:31:19.924Z"
   },
   {
    "duration": 0,
    "start_time": "2022-09-28T13:31:19.925Z"
   },
   {
    "duration": 0,
    "start_time": "2022-09-28T13:31:19.926Z"
   },
   {
    "duration": 0,
    "start_time": "2022-09-28T13:31:19.927Z"
   },
   {
    "duration": 0,
    "start_time": "2022-09-28T13:31:19.928Z"
   },
   {
    "duration": 0,
    "start_time": "2022-09-28T13:31:19.929Z"
   },
   {
    "duration": 0,
    "start_time": "2022-09-28T13:31:19.931Z"
   },
   {
    "duration": 0,
    "start_time": "2022-09-28T13:31:19.932Z"
   },
   {
    "duration": 0,
    "start_time": "2022-09-28T13:31:19.954Z"
   },
   {
    "duration": 0,
    "start_time": "2022-09-28T13:31:19.956Z"
   },
   {
    "duration": 0,
    "start_time": "2022-09-28T13:31:19.957Z"
   },
   {
    "duration": 0,
    "start_time": "2022-09-28T13:31:19.959Z"
   },
   {
    "duration": 0,
    "start_time": "2022-09-28T13:31:19.960Z"
   },
   {
    "duration": 0,
    "start_time": "2022-09-28T13:31:19.961Z"
   },
   {
    "duration": 0,
    "start_time": "2022-09-28T13:31:19.963Z"
   },
   {
    "duration": 0,
    "start_time": "2022-09-28T13:31:19.964Z"
   },
   {
    "duration": 0,
    "start_time": "2022-09-28T13:31:19.965Z"
   },
   {
    "duration": 0,
    "start_time": "2022-09-28T13:31:19.966Z"
   },
   {
    "duration": 4560,
    "start_time": "2022-09-28T13:31:37.476Z"
   },
   {
    "duration": 1351,
    "start_time": "2022-09-28T13:31:42.038Z"
   },
   {
    "duration": 183,
    "start_time": "2022-09-28T13:31:43.391Z"
   },
   {
    "duration": 53,
    "start_time": "2022-09-28T13:31:43.575Z"
   },
   {
    "duration": 38,
    "start_time": "2022-09-28T13:31:43.630Z"
   },
   {
    "duration": 40,
    "start_time": "2022-09-28T13:31:43.670Z"
   },
   {
    "duration": 44,
    "start_time": "2022-09-28T13:31:43.711Z"
   },
   {
    "duration": 109,
    "start_time": "2022-09-28T13:31:43.757Z"
   },
   {
    "duration": 6,
    "start_time": "2022-09-28T13:31:43.868Z"
   },
   {
    "duration": 11,
    "start_time": "2022-09-28T13:31:43.876Z"
   },
   {
    "duration": 13,
    "start_time": "2022-09-28T13:31:43.889Z"
   },
   {
    "duration": 10,
    "start_time": "2022-09-28T13:31:43.904Z"
   },
   {
    "duration": 60,
    "start_time": "2022-09-28T13:31:43.916Z"
   },
   {
    "duration": 81,
    "start_time": "2022-09-28T13:31:43.979Z"
   },
   {
    "duration": 10,
    "start_time": "2022-09-28T13:31:44.062Z"
   },
   {
    "duration": 7,
    "start_time": "2022-09-28T13:31:44.074Z"
   },
   {
    "duration": 31,
    "start_time": "2022-09-28T13:31:44.083Z"
   },
   {
    "duration": 47,
    "start_time": "2022-09-28T13:31:44.116Z"
   },
   {
    "duration": 7,
    "start_time": "2022-09-28T13:31:44.164Z"
   },
   {
    "duration": 9,
    "start_time": "2022-09-28T13:31:44.173Z"
   },
   {
    "duration": 17,
    "start_time": "2022-09-28T13:31:44.183Z"
   },
   {
    "duration": 22,
    "start_time": "2022-09-28T13:31:44.202Z"
   },
   {
    "duration": 35,
    "start_time": "2022-09-28T13:31:44.226Z"
   },
   {
    "duration": 1080,
    "start_time": "2022-09-28T13:31:44.264Z"
   },
   {
    "duration": 1063,
    "start_time": "2022-09-28T13:31:45.346Z"
   },
   {
    "duration": 5,
    "start_time": "2022-09-28T13:31:46.411Z"
   },
   {
    "duration": 406,
    "start_time": "2022-09-28T13:31:46.418Z"
   },
   {
    "duration": 8,
    "start_time": "2022-09-28T13:31:46.826Z"
   },
   {
    "duration": 21,
    "start_time": "2022-09-28T13:31:46.836Z"
   },
   {
    "duration": 454,
    "start_time": "2022-09-28T13:31:46.859Z"
   },
   {
    "duration": 25,
    "start_time": "2022-09-28T13:31:47.314Z"
   },
   {
    "duration": 27,
    "start_time": "2022-09-28T13:31:47.341Z"
   },
   {
    "duration": 121,
    "start_time": "2022-09-28T13:31:47.370Z"
   },
   {
    "duration": 23,
    "start_time": "2022-09-28T13:31:47.493Z"
   },
   {
    "duration": 2684,
    "start_time": "2022-09-28T13:31:47.518Z"
   },
   {
    "duration": 10,
    "start_time": "2022-09-28T13:31:50.204Z"
   },
   {
    "duration": 10,
    "start_time": "2022-09-28T13:31:50.215Z"
   },
   {
    "duration": 16002,
    "start_time": "2022-09-28T13:31:50.226Z"
   },
   {
    "duration": 14,
    "start_time": "2022-09-28T13:32:06.230Z"
   },
   {
    "duration": 9,
    "start_time": "2022-09-28T13:32:06.245Z"
   },
   {
    "duration": 20,
    "start_time": "2022-09-28T13:32:06.258Z"
   },
   {
    "duration": 9,
    "start_time": "2022-09-28T13:32:06.280Z"
   },
   {
    "duration": 6355,
    "start_time": "2022-09-28T13:32:06.291Z"
   },
   {
    "duration": 7,
    "start_time": "2022-09-28T13:32:12.649Z"
   },
   {
    "duration": 71,
    "start_time": "2022-09-28T13:32:12.658Z"
   },
   {
    "duration": 6,
    "start_time": "2022-09-28T13:32:12.731Z"
   },
   {
    "duration": 4324,
    "start_time": "2022-09-28T13:33:05.811Z"
   },
   {
    "duration": 1421,
    "start_time": "2022-09-28T13:33:10.139Z"
   },
   {
    "duration": 208,
    "start_time": "2022-09-28T13:33:11.562Z"
   },
   {
    "duration": 60,
    "start_time": "2022-09-28T13:33:11.772Z"
   },
   {
    "duration": 47,
    "start_time": "2022-09-28T13:33:11.834Z"
   },
   {
    "duration": 75,
    "start_time": "2022-09-28T13:33:11.884Z"
   },
   {
    "duration": 23,
    "start_time": "2022-09-28T13:33:11.961Z"
   },
   {
    "duration": 131,
    "start_time": "2022-09-28T13:33:11.986Z"
   },
   {
    "duration": 8,
    "start_time": "2022-09-28T13:33:12.119Z"
   },
   {
    "duration": 29,
    "start_time": "2022-09-28T13:33:12.129Z"
   },
   {
    "duration": 14,
    "start_time": "2022-09-28T13:33:12.161Z"
   },
   {
    "duration": 30,
    "start_time": "2022-09-28T13:33:12.177Z"
   },
   {
    "duration": 65,
    "start_time": "2022-09-28T13:33:12.210Z"
   },
   {
    "duration": 102,
    "start_time": "2022-09-28T13:33:12.277Z"
   },
   {
    "duration": 12,
    "start_time": "2022-09-28T13:33:12.381Z"
   },
   {
    "duration": 15,
    "start_time": "2022-09-28T13:33:12.395Z"
   },
   {
    "duration": 40,
    "start_time": "2022-09-28T13:33:12.411Z"
   },
   {
    "duration": 30,
    "start_time": "2022-09-28T13:33:12.453Z"
   },
   {
    "duration": 7,
    "start_time": "2022-09-28T13:33:12.485Z"
   },
   {
    "duration": 6,
    "start_time": "2022-09-28T13:33:12.494Z"
   },
   {
    "duration": 28,
    "start_time": "2022-09-28T13:33:12.502Z"
   },
   {
    "duration": 50,
    "start_time": "2022-09-28T13:33:12.533Z"
   },
   {
    "duration": 17,
    "start_time": "2022-09-28T13:33:12.586Z"
   },
   {
    "duration": 1299,
    "start_time": "2022-09-28T13:33:12.605Z"
   },
   {
    "duration": 1289,
    "start_time": "2022-09-28T13:33:13.906Z"
   },
   {
    "duration": 5,
    "start_time": "2022-09-28T13:33:15.198Z"
   },
   {
    "duration": 449,
    "start_time": "2022-09-28T13:33:15.206Z"
   },
   {
    "duration": 9,
    "start_time": "2022-09-28T13:33:15.659Z"
   },
   {
    "duration": 10,
    "start_time": "2022-09-28T13:33:15.670Z"
   },
   {
    "duration": 459,
    "start_time": "2022-09-28T13:33:15.682Z"
   },
   {
    "duration": 34,
    "start_time": "2022-09-28T13:33:16.143Z"
   },
   {
    "duration": 20,
    "start_time": "2022-09-28T13:33:16.179Z"
   },
   {
    "duration": 142,
    "start_time": "2022-09-28T13:33:16.202Z"
   },
   {
    "duration": 21,
    "start_time": "2022-09-28T13:33:16.346Z"
   },
   {
    "duration": 2796,
    "start_time": "2022-09-28T13:33:16.368Z"
   },
   {
    "duration": 11,
    "start_time": "2022-09-28T13:33:19.165Z"
   },
   {
    "duration": 15,
    "start_time": "2022-09-28T13:33:19.177Z"
   },
   {
    "duration": 16386,
    "start_time": "2022-09-28T13:33:19.194Z"
   },
   {
    "duration": 17,
    "start_time": "2022-09-28T13:33:35.582Z"
   },
   {
    "duration": 18,
    "start_time": "2022-09-28T13:33:35.603Z"
   },
   {
    "duration": 26,
    "start_time": "2022-09-28T13:33:35.622Z"
   },
   {
    "duration": 8,
    "start_time": "2022-09-28T13:33:35.650Z"
   },
   {
    "duration": 6078,
    "start_time": "2022-09-28T13:33:35.660Z"
   },
   {
    "duration": 6,
    "start_time": "2022-09-28T13:33:41.740Z"
   },
   {
    "duration": 63,
    "start_time": "2022-09-28T13:33:41.749Z"
   },
   {
    "duration": 5,
    "start_time": "2022-09-28T13:33:41.814Z"
   },
   {
    "duration": 61542,
    "start_time": "2022-09-28T13:33:41.821Z"
   },
   {
    "duration": 5,
    "start_time": "2022-09-28T13:34:43.365Z"
   },
   {
    "duration": 29,
    "start_time": "2022-09-28T13:34:43.371Z"
   },
   {
    "duration": 467,
    "start_time": "2022-09-28T13:34:43.402Z"
   },
   {
    "duration": 54,
    "start_time": "2022-09-29T14:28:23.528Z"
   },
   {
    "duration": 9898,
    "start_time": "2022-09-29T14:28:38.532Z"
   },
   {
    "duration": 1466,
    "start_time": "2022-09-29T14:28:48.433Z"
   },
   {
    "duration": 330,
    "start_time": "2022-09-29T14:28:49.902Z"
   },
   {
    "duration": 52,
    "start_time": "2022-09-29T14:28:50.234Z"
   },
   {
    "duration": 31,
    "start_time": "2022-09-29T14:28:50.288Z"
   },
   {
    "duration": 58,
    "start_time": "2022-09-29T14:28:50.320Z"
   },
   {
    "duration": 20,
    "start_time": "2022-09-29T14:28:50.380Z"
   },
   {
    "duration": 124,
    "start_time": "2022-09-29T14:28:50.402Z"
   },
   {
    "duration": 5,
    "start_time": "2022-09-29T14:28:50.528Z"
   },
   {
    "duration": 21,
    "start_time": "2022-09-29T14:28:50.536Z"
   },
   {
    "duration": 18,
    "start_time": "2022-09-29T14:28:50.559Z"
   },
   {
    "duration": 10,
    "start_time": "2022-09-29T14:28:50.579Z"
   },
   {
    "duration": 49,
    "start_time": "2022-09-29T14:28:50.591Z"
   },
   {
    "duration": 86,
    "start_time": "2022-09-29T14:28:50.642Z"
   },
   {
    "duration": 25,
    "start_time": "2022-09-29T14:28:50.730Z"
   },
   {
    "duration": 7,
    "start_time": "2022-09-29T14:28:50.757Z"
   },
   {
    "duration": 48,
    "start_time": "2022-09-29T14:28:50.766Z"
   },
   {
    "duration": 33,
    "start_time": "2022-09-29T14:28:50.816Z"
   },
   {
    "duration": 6,
    "start_time": "2022-09-29T14:28:50.851Z"
   },
   {
    "duration": 25,
    "start_time": "2022-09-29T14:28:50.858Z"
   },
   {
    "duration": 18,
    "start_time": "2022-09-29T14:28:50.885Z"
   },
   {
    "duration": 31,
    "start_time": "2022-09-29T14:28:50.905Z"
   },
   {
    "duration": 16,
    "start_time": "2022-09-29T14:28:50.938Z"
   },
   {
    "duration": 1463,
    "start_time": "2022-09-29T14:28:50.956Z"
   },
   {
    "duration": 1231,
    "start_time": "2022-09-29T14:28:52.421Z"
   },
   {
    "duration": 4,
    "start_time": "2022-09-29T14:28:53.654Z"
   },
   {
    "duration": 500,
    "start_time": "2022-09-29T14:28:53.660Z"
   },
   {
    "duration": 10,
    "start_time": "2022-09-29T14:28:54.164Z"
   },
   {
    "duration": 15,
    "start_time": "2022-09-29T14:28:54.176Z"
   },
   {
    "duration": 422,
    "start_time": "2022-09-29T14:28:54.193Z"
   },
   {
    "duration": 24,
    "start_time": "2022-09-29T14:28:54.617Z"
   },
   {
    "duration": 15,
    "start_time": "2022-09-29T14:28:54.654Z"
   },
   {
    "duration": 111,
    "start_time": "2022-09-29T14:28:54.671Z"
   },
   {
    "duration": 20,
    "start_time": "2022-09-29T14:28:54.784Z"
   },
   {
    "duration": 2430,
    "start_time": "2022-09-29T14:28:54.806Z"
   },
   {
    "duration": 16,
    "start_time": "2022-09-29T14:28:57.238Z"
   },
   {
    "duration": 5,
    "start_time": "2022-09-29T14:28:57.256Z"
   },
   {
    "duration": 15498,
    "start_time": "2022-09-29T14:28:57.263Z"
   },
   {
    "duration": 14,
    "start_time": "2022-09-29T14:29:12.763Z"
   },
   {
    "duration": 3,
    "start_time": "2022-09-29T14:29:12.779Z"
   },
   {
    "duration": 14,
    "start_time": "2022-09-29T14:29:12.784Z"
   },
   {
    "duration": 7,
    "start_time": "2022-09-29T14:29:12.800Z"
   },
   {
    "duration": 6404,
    "start_time": "2022-09-29T14:29:12.809Z"
   },
   {
    "duration": 4,
    "start_time": "2022-09-29T14:29:19.215Z"
   },
   {
    "duration": 182,
    "start_time": "2022-09-29T14:29:19.221Z"
   },
   {
    "duration": 235,
    "start_time": "2022-09-29T14:29:19.405Z"
   },
   {
    "duration": 316,
    "start_time": "2022-09-29T14:29:19.642Z"
   },
   {
    "duration": 4,
    "start_time": "2022-09-29T14:29:19.960Z"
   },
   {
    "duration": 22,
    "start_time": "2022-09-29T14:29:19.966Z"
   },
   {
    "duration": 485,
    "start_time": "2022-09-29T14:29:19.989Z"
   },
   {
    "duration": 2,
    "start_time": "2022-09-29T14:33:59.157Z"
   },
   {
    "duration": 155,
    "start_time": "2022-09-29T14:34:01.547Z"
   },
   {
    "duration": 4229,
    "start_time": "2022-09-29T14:34:15.521Z"
   },
   {
    "duration": 1273,
    "start_time": "2022-09-29T14:34:19.753Z"
   },
   {
    "duration": 181,
    "start_time": "2022-09-29T14:34:21.028Z"
   },
   {
    "duration": 49,
    "start_time": "2022-09-29T14:34:21.211Z"
   },
   {
    "duration": 30,
    "start_time": "2022-09-29T14:34:21.262Z"
   },
   {
    "duration": 63,
    "start_time": "2022-09-29T14:34:21.294Z"
   },
   {
    "duration": 23,
    "start_time": "2022-09-29T14:34:21.359Z"
   },
   {
    "duration": 146,
    "start_time": "2022-09-29T14:34:21.384Z"
   },
   {
    "duration": 23,
    "start_time": "2022-09-29T14:34:21.533Z"
   },
   {
    "duration": 40,
    "start_time": "2022-09-29T14:34:21.558Z"
   },
   {
    "duration": 21,
    "start_time": "2022-09-29T14:34:21.601Z"
   },
   {
    "duration": 26,
    "start_time": "2022-09-29T14:34:21.625Z"
   },
   {
    "duration": 46,
    "start_time": "2022-09-29T14:34:21.652Z"
   },
   {
    "duration": 80,
    "start_time": "2022-09-29T14:34:21.703Z"
   },
   {
    "duration": 11,
    "start_time": "2022-09-29T14:34:21.785Z"
   },
   {
    "duration": 25,
    "start_time": "2022-09-29T14:34:21.797Z"
   },
   {
    "duration": 21,
    "start_time": "2022-09-29T14:34:21.824Z"
   },
   {
    "duration": 27,
    "start_time": "2022-09-29T14:34:21.853Z"
   },
   {
    "duration": 5,
    "start_time": "2022-09-29T14:34:21.882Z"
   },
   {
    "duration": 6,
    "start_time": "2022-09-29T14:34:21.888Z"
   },
   {
    "duration": 18,
    "start_time": "2022-09-29T14:34:21.895Z"
   },
   {
    "duration": 27,
    "start_time": "2022-09-29T14:34:21.915Z"
   },
   {
    "duration": 15,
    "start_time": "2022-09-29T14:34:21.953Z"
   },
   {
    "duration": 1105,
    "start_time": "2022-09-29T14:34:21.969Z"
   },
   {
    "duration": 1033,
    "start_time": "2022-09-29T14:34:23.075Z"
   },
   {
    "duration": 3,
    "start_time": "2022-09-29T14:34:24.110Z"
   },
   {
    "duration": 376,
    "start_time": "2022-09-29T14:34:24.115Z"
   },
   {
    "duration": 7,
    "start_time": "2022-09-29T14:34:24.493Z"
   },
   {
    "duration": 20,
    "start_time": "2022-09-29T14:34:24.502Z"
   },
   {
    "duration": 409,
    "start_time": "2022-09-29T14:34:24.524Z"
   },
   {
    "duration": 29,
    "start_time": "2022-09-29T14:34:24.936Z"
   },
   {
    "duration": 14,
    "start_time": "2022-09-29T14:34:24.967Z"
   },
   {
    "duration": 113,
    "start_time": "2022-09-29T14:34:24.983Z"
   },
   {
    "duration": 125,
    "start_time": "2022-09-29T14:34:25.098Z"
   },
   {
    "duration": 0,
    "start_time": "2022-09-29T14:34:25.225Z"
   },
   {
    "duration": 0,
    "start_time": "2022-09-29T14:34:25.226Z"
   },
   {
    "duration": 0,
    "start_time": "2022-09-29T14:34:25.227Z"
   },
   {
    "duration": 0,
    "start_time": "2022-09-29T14:34:25.228Z"
   },
   {
    "duration": 0,
    "start_time": "2022-09-29T14:34:25.230Z"
   },
   {
    "duration": 0,
    "start_time": "2022-09-29T14:34:25.231Z"
   },
   {
    "duration": 0,
    "start_time": "2022-09-29T14:34:25.232Z"
   },
   {
    "duration": 0,
    "start_time": "2022-09-29T14:34:25.233Z"
   },
   {
    "duration": 0,
    "start_time": "2022-09-29T14:34:25.234Z"
   },
   {
    "duration": 0,
    "start_time": "2022-09-29T14:34:25.235Z"
   },
   {
    "duration": 0,
    "start_time": "2022-09-29T14:34:25.254Z"
   },
   {
    "duration": 0,
    "start_time": "2022-09-29T14:34:25.254Z"
   },
   {
    "duration": 0,
    "start_time": "2022-09-29T14:34:25.255Z"
   },
   {
    "duration": 0,
    "start_time": "2022-09-29T14:34:25.257Z"
   },
   {
    "duration": 0,
    "start_time": "2022-09-29T14:34:25.258Z"
   },
   {
    "duration": 0,
    "start_time": "2022-09-29T14:34:25.259Z"
   },
   {
    "duration": 0,
    "start_time": "2022-09-29T14:34:25.260Z"
   },
   {
    "duration": 14,
    "start_time": "2022-09-29T14:39:49.985Z"
   },
   {
    "duration": 1036,
    "start_time": "2022-09-29T14:39:56.066Z"
   },
   {
    "duration": 1058,
    "start_time": "2022-09-29T14:39:58.151Z"
   },
   {
    "duration": 14,
    "start_time": "2022-09-29T14:40:53.916Z"
   },
   {
    "duration": 2594,
    "start_time": "2022-09-29T14:41:40.485Z"
   },
   {
    "duration": 8,
    "start_time": "2022-09-29T14:43:02.431Z"
   },
   {
    "duration": 5,
    "start_time": "2022-09-29T14:43:52.791Z"
   },
   {
    "duration": 116439,
    "start_time": "2022-09-29T14:44:00.215Z"
   },
   {
    "duration": 74,
    "start_time": "2022-09-29T14:46:46.390Z"
   },
   {
    "duration": 16296,
    "start_time": "2022-09-29T14:49:32.051Z"
   },
   {
    "duration": 14,
    "start_time": "2022-09-29T14:49:51.846Z"
   },
   {
    "duration": 4,
    "start_time": "2022-09-29T14:50:11.745Z"
   },
   {
    "duration": 9,
    "start_time": "2022-09-29T14:50:15.297Z"
   },
   {
    "duration": 5,
    "start_time": "2022-09-29T14:50:18.531Z"
   },
   {
    "duration": 658685,
    "start_time": "2022-09-29T14:50:29.730Z"
   },
   {
    "duration": 6007,
    "start_time": "2022-09-29T15:05:32.091Z"
   },
   {
    "duration": 17,
    "start_time": "2022-09-29T15:06:05.541Z"
   },
   {
    "duration": 5,
    "start_time": "2022-09-29T15:06:18.956Z"
   },
   {
    "duration": 49,
    "start_time": "2022-09-29T15:06:20.852Z"
   },
   {
    "duration": 6,
    "start_time": "2022-09-29T15:06:24.836Z"
   },
   {
    "duration": 50831,
    "start_time": "2022-09-29T15:06:35.132Z"
   },
   {
    "duration": 33,
    "start_time": "2022-09-29T15:09:09.543Z"
   },
   {
    "duration": 746,
    "start_time": "2022-09-29T15:09:25.341Z"
   },
   {
    "duration": 499,
    "start_time": "2022-09-29T15:09:42.782Z"
   },
   {
    "duration": 258,
    "start_time": "2022-09-29T15:09:53.797Z"
   },
   {
    "duration": 4,
    "start_time": "2022-09-29T15:10:00.387Z"
   },
   {
    "duration": 21,
    "start_time": "2022-09-29T15:10:02.734Z"
   },
   {
    "duration": 4585,
    "start_time": "2022-09-29T15:15:01.603Z"
   },
   {
    "duration": 1243,
    "start_time": "2022-09-29T15:15:06.190Z"
   },
   {
    "duration": 137,
    "start_time": "2022-09-29T15:15:07.435Z"
   },
   {
    "duration": 52,
    "start_time": "2022-09-29T15:15:07.574Z"
   },
   {
    "duration": 34,
    "start_time": "2022-09-29T15:15:07.627Z"
   },
   {
    "duration": 40,
    "start_time": "2022-09-29T15:15:07.663Z"
   },
   {
    "duration": 53,
    "start_time": "2022-09-29T15:15:07.704Z"
   },
   {
    "duration": 125,
    "start_time": "2022-09-29T15:15:07.758Z"
   },
   {
    "duration": 7,
    "start_time": "2022-09-29T15:15:07.886Z"
   },
   {
    "duration": 18,
    "start_time": "2022-09-29T15:15:07.896Z"
   },
   {
    "duration": 18,
    "start_time": "2022-09-29T15:15:07.916Z"
   },
   {
    "duration": 28,
    "start_time": "2022-09-29T15:15:07.936Z"
   },
   {
    "duration": 32,
    "start_time": "2022-09-29T15:15:07.966Z"
   },
   {
    "duration": 93,
    "start_time": "2022-09-29T15:15:08.000Z"
   },
   {
    "duration": 10,
    "start_time": "2022-09-29T15:15:08.095Z"
   },
   {
    "duration": 7,
    "start_time": "2022-09-29T15:15:08.107Z"
   },
   {
    "duration": 43,
    "start_time": "2022-09-29T15:15:08.116Z"
   },
   {
    "duration": 28,
    "start_time": "2022-09-29T15:15:08.161Z"
   },
   {
    "duration": 6,
    "start_time": "2022-09-29T15:15:08.191Z"
   },
   {
    "duration": 7,
    "start_time": "2022-09-29T15:15:08.199Z"
   },
   {
    "duration": 5,
    "start_time": "2022-09-29T15:15:08.208Z"
   },
   {
    "duration": 51,
    "start_time": "2022-09-29T15:15:08.215Z"
   },
   {
    "duration": 14,
    "start_time": "2022-09-29T15:15:08.268Z"
   },
   {
    "duration": 1074,
    "start_time": "2022-09-29T15:15:08.284Z"
   },
   {
    "duration": 1028,
    "start_time": "2022-09-29T15:15:09.360Z"
   },
   {
    "duration": 4,
    "start_time": "2022-09-29T15:15:10.390Z"
   },
   {
    "duration": 390,
    "start_time": "2022-09-29T15:15:10.395Z"
   },
   {
    "duration": 8,
    "start_time": "2022-09-29T15:15:10.789Z"
   },
   {
    "duration": 13,
    "start_time": "2022-09-29T15:15:10.798Z"
   },
   {
    "duration": 408,
    "start_time": "2022-09-29T15:15:10.813Z"
   },
   {
    "duration": 22,
    "start_time": "2022-09-29T15:15:11.223Z"
   },
   {
    "duration": 13,
    "start_time": "2022-09-29T15:15:11.254Z"
   },
   {
    "duration": 117,
    "start_time": "2022-09-29T15:15:11.268Z"
   },
   {
    "duration": 2609,
    "start_time": "2022-09-29T15:15:11.387Z"
   },
   {
    "duration": 11,
    "start_time": "2022-09-29T15:15:13.997Z"
   },
   {
    "duration": 6,
    "start_time": "2022-09-29T15:15:14.009Z"
   },
   {
    "duration": 226850,
    "start_time": "2022-09-29T15:15:14.017Z"
   },
   {
    "duration": 16250,
    "start_time": "2022-09-29T15:19:00.869Z"
   },
   {
    "duration": 14,
    "start_time": "2022-09-29T15:19:17.121Z"
   },
   {
    "duration": 17,
    "start_time": "2022-09-29T15:19:17.137Z"
   },
   {
    "duration": 44,
    "start_time": "2022-09-29T15:19:17.156Z"
   },
   {
    "duration": 11,
    "start_time": "2022-09-29T15:19:17.202Z"
   },
   {
    "duration": 632565,
    "start_time": "2022-09-29T15:19:17.215Z"
   },
   {
    "duration": 824,
    "start_time": "2022-09-29T15:29:49.781Z"
   },
   {
    "duration": 5,
    "start_time": "2022-09-29T15:29:50.606Z"
   },
   {
    "duration": 67,
    "start_time": "2022-09-29T15:29:50.612Z"
   },
   {
    "duration": 6,
    "start_time": "2022-09-29T15:29:50.681Z"
   },
   {
    "duration": 276,
    "start_time": "2022-09-29T15:29:50.688Z"
   },
   {
    "duration": 4,
    "start_time": "2022-09-29T15:29:50.966Z"
   },
   {
    "duration": 91,
    "start_time": "2022-09-29T15:29:50.972Z"
   },
   {
    "duration": 398,
    "start_time": "2022-09-29T15:29:51.065Z"
   },
   {
    "duration": 17493,
    "start_time": "2022-09-29T15:29:51.468Z"
   },
   {
    "duration": 47,
    "start_time": "2022-09-29T15:30:08.963Z"
   },
   {
    "duration": 827,
    "start_time": "2022-09-29T15:30:31.468Z"
   },
   {
    "duration": 2985,
    "start_time": "2022-09-29T15:31:06.139Z"
   },
   {
    "duration": 4195,
    "start_time": "2022-09-29T15:39:00.493Z"
   },
   {
    "duration": 1301,
    "start_time": "2022-09-29T15:39:04.690Z"
   },
   {
    "duration": 139,
    "start_time": "2022-09-29T15:39:05.993Z"
   },
   {
    "duration": 50,
    "start_time": "2022-09-29T15:39:06.134Z"
   },
   {
    "duration": 31,
    "start_time": "2022-09-29T15:39:06.186Z"
   },
   {
    "duration": 62,
    "start_time": "2022-09-29T15:39:06.219Z"
   },
   {
    "duration": 22,
    "start_time": "2022-09-29T15:39:06.283Z"
   },
   {
    "duration": 120,
    "start_time": "2022-09-29T15:39:06.306Z"
   },
   {
    "duration": 6,
    "start_time": "2022-09-29T15:39:06.427Z"
   },
   {
    "duration": 26,
    "start_time": "2022-09-29T15:39:06.434Z"
   },
   {
    "duration": 10,
    "start_time": "2022-09-29T15:39:06.461Z"
   },
   {
    "duration": 9,
    "start_time": "2022-09-29T15:39:06.473Z"
   },
   {
    "duration": 30,
    "start_time": "2022-09-29T15:39:06.484Z"
   },
   {
    "duration": 99,
    "start_time": "2022-09-29T15:39:06.518Z"
   },
   {
    "duration": 10,
    "start_time": "2022-09-29T15:39:06.619Z"
   },
   {
    "duration": 24,
    "start_time": "2022-09-29T15:39:06.631Z"
   },
   {
    "duration": 23,
    "start_time": "2022-09-29T15:39:06.657Z"
   },
   {
    "duration": 26,
    "start_time": "2022-09-29T15:39:06.683Z"
   },
   {
    "duration": 5,
    "start_time": "2022-09-29T15:39:06.710Z"
   },
   {
    "duration": 42,
    "start_time": "2022-09-29T15:39:06.717Z"
   },
   {
    "duration": 14,
    "start_time": "2022-09-29T15:39:06.761Z"
   },
   {
    "duration": 1117,
    "start_time": "2022-09-29T15:39:06.777Z"
   },
   {
    "duration": 1058,
    "start_time": "2022-09-29T15:39:07.896Z"
   },
   {
    "duration": 4,
    "start_time": "2022-09-29T15:39:08.956Z"
   },
   {
    "duration": 378,
    "start_time": "2022-09-29T15:39:08.962Z"
   },
   {
    "duration": 13,
    "start_time": "2022-09-29T15:39:09.342Z"
   },
   {
    "duration": 8,
    "start_time": "2022-09-29T15:39:09.357Z"
   },
   {
    "duration": 416,
    "start_time": "2022-09-29T15:39:09.366Z"
   },
   {
    "duration": 22,
    "start_time": "2022-09-29T15:39:09.784Z"
   },
   {
    "duration": 12,
    "start_time": "2022-09-29T15:39:09.808Z"
   },
   {
    "duration": 113,
    "start_time": "2022-09-29T15:39:09.822Z"
   },
   {
    "duration": 2507,
    "start_time": "2022-09-29T15:39:09.937Z"
   },
   {
    "duration": 17,
    "start_time": "2022-09-29T15:39:12.446Z"
   },
   {
    "duration": 20,
    "start_time": "2022-09-29T15:39:12.465Z"
   },
   {
    "duration": 6,
    "start_time": "2022-09-29T15:39:12.486Z"
   },
   {
    "duration": 225604,
    "start_time": "2022-09-29T15:39:12.493Z"
   },
   {
    "duration": 17066,
    "start_time": "2022-09-29T15:42:58.098Z"
   },
   {
    "duration": 13,
    "start_time": "2022-09-29T15:43:15.166Z"
   },
   {
    "duration": 9,
    "start_time": "2022-09-29T15:43:15.181Z"
   },
   {
    "duration": 21,
    "start_time": "2022-09-29T15:43:15.192Z"
   },
   {
    "duration": 4,
    "start_time": "2022-09-29T15:43:15.217Z"
   },
   {
    "duration": 3014,
    "start_time": "2022-09-29T15:43:15.223Z"
   },
   {
    "duration": 4,
    "start_time": "2022-09-29T15:43:18.239Z"
   },
   {
    "duration": 66,
    "start_time": "2022-09-29T15:43:18.245Z"
   },
   {
    "duration": 4,
    "start_time": "2022-09-29T15:43:18.313Z"
   },
   {
    "duration": 338,
    "start_time": "2022-09-29T15:43:18.319Z"
   },
   {
    "duration": 4,
    "start_time": "2022-09-29T15:43:18.659Z"
   },
   {
    "duration": 42,
    "start_time": "2022-09-29T15:43:18.665Z"
   },
   {
    "duration": 349,
    "start_time": "2022-09-29T15:43:18.709Z"
   },
   {
    "duration": 3968,
    "start_time": "2022-09-29T15:52:46.332Z"
   },
   {
    "duration": 1389,
    "start_time": "2022-09-29T15:52:50.303Z"
   },
   {
    "duration": 129,
    "start_time": "2022-09-29T15:52:51.694Z"
   },
   {
    "duration": 66,
    "start_time": "2022-09-29T15:52:51.825Z"
   },
   {
    "duration": 62,
    "start_time": "2022-09-29T15:52:51.893Z"
   },
   {
    "duration": 38,
    "start_time": "2022-09-29T15:52:51.957Z"
   },
   {
    "duration": 23,
    "start_time": "2022-09-29T15:52:51.997Z"
   },
   {
    "duration": 119,
    "start_time": "2022-09-29T15:52:52.021Z"
   },
   {
    "duration": 6,
    "start_time": "2022-09-29T15:52:52.155Z"
   },
   {
    "duration": 30,
    "start_time": "2022-09-29T15:52:52.164Z"
   },
   {
    "duration": 17,
    "start_time": "2022-09-29T15:52:52.196Z"
   },
   {
    "duration": 16,
    "start_time": "2022-09-29T15:52:52.215Z"
   },
   {
    "duration": 32,
    "start_time": "2022-09-29T15:52:52.232Z"
   },
   {
    "duration": 73,
    "start_time": "2022-09-29T15:52:52.266Z"
   },
   {
    "duration": 20,
    "start_time": "2022-09-29T15:52:52.341Z"
   },
   {
    "duration": 12,
    "start_time": "2022-09-29T15:52:52.362Z"
   },
   {
    "duration": 19,
    "start_time": "2022-09-29T15:52:52.375Z"
   },
   {
    "duration": 26,
    "start_time": "2022-09-29T15:52:52.395Z"
   },
   {
    "duration": 5,
    "start_time": "2022-09-29T15:52:52.423Z"
   },
   {
    "duration": 38,
    "start_time": "2022-09-29T15:52:52.429Z"
   },
   {
    "duration": 16,
    "start_time": "2022-09-29T15:52:52.469Z"
   },
   {
    "duration": 1038,
    "start_time": "2022-09-29T15:52:52.487Z"
   },
   {
    "duration": 1000,
    "start_time": "2022-09-29T15:52:53.527Z"
   },
   {
    "duration": 4,
    "start_time": "2022-09-29T15:52:54.529Z"
   },
   {
    "duration": 369,
    "start_time": "2022-09-29T15:52:54.535Z"
   },
   {
    "duration": 8,
    "start_time": "2022-09-29T15:52:54.906Z"
   },
   {
    "duration": 11,
    "start_time": "2022-09-29T15:52:54.916Z"
   },
   {
    "duration": 398,
    "start_time": "2022-09-29T15:52:54.931Z"
   },
   {
    "duration": 28,
    "start_time": "2022-09-29T15:52:55.331Z"
   },
   {
    "duration": 13,
    "start_time": "2022-09-29T15:52:55.360Z"
   },
   {
    "duration": 107,
    "start_time": "2022-09-29T15:52:55.375Z"
   },
   {
    "duration": 2444,
    "start_time": "2022-09-29T15:52:55.484Z"
   },
   {
    "duration": 24,
    "start_time": "2022-09-29T15:52:57.930Z"
   },
   {
    "duration": 35,
    "start_time": "2022-09-29T15:52:57.956Z"
   },
   {
    "duration": 5,
    "start_time": "2022-09-29T15:52:57.993Z"
   },
   {
    "duration": 17410,
    "start_time": "2022-09-29T15:52:58.000Z"
   },
   {
    "duration": 13,
    "start_time": "2022-09-29T15:53:15.413Z"
   },
   {
    "duration": 6,
    "start_time": "2022-09-29T15:53:15.428Z"
   },
   {
    "duration": 11,
    "start_time": "2022-09-29T15:53:15.435Z"
   },
   {
    "duration": 6,
    "start_time": "2022-09-29T15:53:15.448Z"
   },
   {
    "duration": 3265,
    "start_time": "2022-09-29T15:53:15.455Z"
   },
   {
    "duration": 5,
    "start_time": "2022-09-29T15:53:18.722Z"
   },
   {
    "duration": 46,
    "start_time": "2022-09-29T15:53:18.729Z"
   },
   {
    "duration": 5,
    "start_time": "2022-09-29T15:53:18.777Z"
   },
   {
    "duration": 282,
    "start_time": "2022-09-29T15:53:18.784Z"
   },
   {
    "duration": 89,
    "start_time": "2022-09-29T15:53:19.068Z"
   },
   {
    "duration": 33,
    "start_time": "2022-09-29T15:53:19.159Z"
   },
   {
    "duration": 376,
    "start_time": "2022-09-29T15:53:19.194Z"
   },
   {
    "duration": 4337,
    "start_time": "2022-09-29T15:55:11.012Z"
   },
   {
    "duration": 1329,
    "start_time": "2022-09-29T15:55:15.351Z"
   },
   {
    "duration": 133,
    "start_time": "2022-09-29T15:55:16.683Z"
   },
   {
    "duration": 66,
    "start_time": "2022-09-29T15:55:16.818Z"
   },
   {
    "duration": 32,
    "start_time": "2022-09-29T15:55:16.886Z"
   },
   {
    "duration": 64,
    "start_time": "2022-09-29T15:55:16.919Z"
   },
   {
    "duration": 20,
    "start_time": "2022-09-29T15:55:16.985Z"
   },
   {
    "duration": 129,
    "start_time": "2022-09-29T15:55:17.006Z"
   },
   {
    "duration": 19,
    "start_time": "2022-09-29T15:55:17.136Z"
   },
   {
    "duration": 16,
    "start_time": "2022-09-29T15:55:17.158Z"
   },
   {
    "duration": 36,
    "start_time": "2022-09-29T15:55:17.176Z"
   },
   {
    "duration": 61,
    "start_time": "2022-09-29T15:55:17.214Z"
   },
   {
    "duration": 68,
    "start_time": "2022-09-29T15:55:17.276Z"
   },
   {
    "duration": 82,
    "start_time": "2022-09-29T15:55:17.346Z"
   },
   {
    "duration": 10,
    "start_time": "2022-09-29T15:55:17.429Z"
   },
   {
    "duration": 36,
    "start_time": "2022-09-29T15:55:17.440Z"
   },
   {
    "duration": 62,
    "start_time": "2022-09-29T15:55:17.477Z"
   },
   {
    "duration": 34,
    "start_time": "2022-09-29T15:55:17.540Z"
   },
   {
    "duration": 33,
    "start_time": "2022-09-29T15:55:17.576Z"
   },
   {
    "duration": 38,
    "start_time": "2022-09-29T15:55:17.611Z"
   },
   {
    "duration": 44,
    "start_time": "2022-09-29T15:55:17.650Z"
   },
   {
    "duration": 1097,
    "start_time": "2022-09-29T15:55:17.696Z"
   },
   {
    "duration": 1078,
    "start_time": "2022-09-29T15:55:18.794Z"
   },
   {
    "duration": 4,
    "start_time": "2022-09-29T15:55:19.874Z"
   },
   {
    "duration": 420,
    "start_time": "2022-09-29T15:55:19.880Z"
   },
   {
    "duration": 8,
    "start_time": "2022-09-29T15:55:20.302Z"
   },
   {
    "duration": 72,
    "start_time": "2022-09-29T15:55:20.312Z"
   },
   {
    "duration": 542,
    "start_time": "2022-09-29T15:55:20.388Z"
   },
   {
    "duration": 29,
    "start_time": "2022-09-29T15:55:20.932Z"
   },
   {
    "duration": 17,
    "start_time": "2022-09-29T15:55:20.963Z"
   },
   {
    "duration": 125,
    "start_time": "2022-09-29T15:55:20.982Z"
   },
   {
    "duration": 2615,
    "start_time": "2022-09-29T15:55:21.108Z"
   },
   {
    "duration": 15,
    "start_time": "2022-09-29T15:55:23.725Z"
   },
   {
    "duration": 19,
    "start_time": "2022-09-29T15:55:23.741Z"
   },
   {
    "duration": 11,
    "start_time": "2022-09-29T15:55:23.762Z"
   },
   {
    "duration": 17458,
    "start_time": "2022-09-29T15:55:23.775Z"
   },
   {
    "duration": 14,
    "start_time": "2022-09-29T15:55:41.235Z"
   },
   {
    "duration": 3,
    "start_time": "2022-09-29T15:55:41.251Z"
   },
   {
    "duration": 12,
    "start_time": "2022-09-29T15:55:41.256Z"
   },
   {
    "duration": 6,
    "start_time": "2022-09-29T15:55:41.270Z"
   },
   {
    "duration": 3346,
    "start_time": "2022-09-29T15:55:41.278Z"
   },
   {
    "duration": 5,
    "start_time": "2022-09-29T15:55:44.625Z"
   },
   {
    "duration": 63,
    "start_time": "2022-09-29T15:55:44.631Z"
   },
   {
    "duration": 5,
    "start_time": "2022-09-29T15:55:44.696Z"
   },
   {
    "duration": 263,
    "start_time": "2022-09-29T15:55:44.702Z"
   },
   {
    "duration": 4,
    "start_time": "2022-09-29T15:55:44.967Z"
   },
   {
    "duration": 104,
    "start_time": "2022-09-29T15:55:44.972Z"
   },
   {
    "duration": 391,
    "start_time": "2022-09-29T15:55:45.078Z"
   },
   {
    "duration": 4185,
    "start_time": "2022-09-29T15:57:51.006Z"
   },
   {
    "duration": 1274,
    "start_time": "2022-09-29T15:57:55.193Z"
   },
   {
    "duration": 130,
    "start_time": "2022-09-29T15:57:56.469Z"
   },
   {
    "duration": 53,
    "start_time": "2022-09-29T15:57:56.601Z"
   },
   {
    "duration": 35,
    "start_time": "2022-09-29T15:57:56.656Z"
   },
   {
    "duration": 38,
    "start_time": "2022-09-29T15:57:56.692Z"
   },
   {
    "duration": 38,
    "start_time": "2022-09-29T15:57:56.732Z"
   },
   {
    "duration": 115,
    "start_time": "2022-09-29T15:57:56.772Z"
   },
   {
    "duration": 6,
    "start_time": "2022-09-29T15:57:56.889Z"
   },
   {
    "duration": 12,
    "start_time": "2022-09-29T15:57:56.897Z"
   },
   {
    "duration": 27,
    "start_time": "2022-09-29T15:57:56.911Z"
   },
   {
    "duration": 18,
    "start_time": "2022-09-29T15:57:56.940Z"
   },
   {
    "duration": 30,
    "start_time": "2022-09-29T15:57:56.960Z"
   },
   {
    "duration": 96,
    "start_time": "2022-09-29T15:57:56.992Z"
   },
   {
    "duration": 9,
    "start_time": "2022-09-29T15:57:57.089Z"
   },
   {
    "duration": 7,
    "start_time": "2022-09-29T15:57:57.100Z"
   },
   {
    "duration": 18,
    "start_time": "2022-09-29T15:57:57.108Z"
   },
   {
    "duration": 47,
    "start_time": "2022-09-29T15:57:57.128Z"
   },
   {
    "duration": 5,
    "start_time": "2022-09-29T15:57:57.177Z"
   },
   {
    "duration": 22,
    "start_time": "2022-09-29T15:57:57.183Z"
   },
   {
    "duration": 14,
    "start_time": "2022-09-29T15:57:57.207Z"
   },
   {
    "duration": 1104,
    "start_time": "2022-09-29T15:57:57.223Z"
   },
   {
    "duration": 1086,
    "start_time": "2022-09-29T15:57:58.329Z"
   },
   {
    "duration": 4,
    "start_time": "2022-09-29T15:57:59.417Z"
   },
   {
    "duration": 396,
    "start_time": "2022-09-29T15:57:59.423Z"
   },
   {
    "duration": 9,
    "start_time": "2022-09-29T15:57:59.821Z"
   },
   {
    "duration": 27,
    "start_time": "2022-09-29T15:57:59.832Z"
   },
   {
    "duration": 436,
    "start_time": "2022-09-29T15:57:59.862Z"
   },
   {
    "duration": 22,
    "start_time": "2022-09-29T15:58:00.300Z"
   },
   {
    "duration": 31,
    "start_time": "2022-09-29T15:58:00.324Z"
   },
   {
    "duration": 112,
    "start_time": "2022-09-29T15:58:00.357Z"
   },
   {
    "duration": 2602,
    "start_time": "2022-09-29T15:58:00.471Z"
   },
   {
    "duration": 13,
    "start_time": "2022-09-29T15:58:03.074Z"
   },
   {
    "duration": 20,
    "start_time": "2022-09-29T15:58:03.089Z"
   },
   {
    "duration": 18,
    "start_time": "2022-09-29T15:58:03.111Z"
   },
   {
    "duration": 17367,
    "start_time": "2022-09-29T15:58:03.131Z"
   },
   {
    "duration": 12,
    "start_time": "2022-09-29T15:58:20.500Z"
   },
   {
    "duration": 2,
    "start_time": "2022-09-29T15:58:20.514Z"
   },
   {
    "duration": 14,
    "start_time": "2022-09-29T15:58:20.518Z"
   },
   {
    "duration": 7,
    "start_time": "2022-09-29T15:58:20.534Z"
   },
   {
    "duration": 3385,
    "start_time": "2022-09-29T15:58:20.543Z"
   },
   {
    "duration": 5,
    "start_time": "2022-09-29T15:58:23.930Z"
   },
   {
    "duration": 53,
    "start_time": "2022-09-29T15:58:23.937Z"
   },
   {
    "duration": 5,
    "start_time": "2022-09-29T15:58:23.992Z"
   },
   {
    "duration": 359,
    "start_time": "2022-09-29T15:58:23.999Z"
   },
   {
    "duration": 6,
    "start_time": "2022-09-29T15:58:24.360Z"
   },
   {
    "duration": 30,
    "start_time": "2022-09-29T15:58:24.367Z"
   },
   {
    "duration": 371,
    "start_time": "2022-09-29T15:58:24.398Z"
   }
  ],
  "kernelspec": {
   "display_name": "Python 3 (ipykernel)",
   "language": "python",
   "name": "python3"
  },
  "language_info": {
   "codemirror_mode": {
    "name": "ipython",
    "version": 3
   },
   "file_extension": ".py",
   "mimetype": "text/x-python",
   "name": "python",
   "nbconvert_exporter": "python",
   "pygments_lexer": "ipython3",
   "version": "3.9.7"
  },
  "toc": {
   "base_numbering": 1,
   "nav_menu": {},
   "number_sections": true,
   "sideBar": true,
   "skip_h1_title": true,
   "title_cell": "Table of Contents",
   "title_sidebar": "Contents",
   "toc_cell": true,
   "toc_position": {
    "height": "calc(100% - 180px)",
    "left": "10px",
    "top": "150px",
    "width": "198.125px"
   },
   "toc_section_display": true,
   "toc_window_display": true
  }
 },
 "nbformat": 4,
 "nbformat_minor": 5
}
